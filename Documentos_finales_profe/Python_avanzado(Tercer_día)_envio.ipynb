{
  "nbformat": 4,
  "nbformat_minor": 0,
  "metadata": {
    "colab": {
      "name": "Python_avanzado(Tercer_día)_clase.ipynb",
      "provenance": [],
      "collapsed_sections": []
    },
    "kernelspec": {
      "name": "python3",
      "display_name": "Python 3"
    },
    "language_info": {
      "name": "python"
    }
  },
  "cells": [
    {
      "cell_type": "markdown",
      "metadata": {
        "id": "WpjPC4yW1mC_"
      },
      "source": [
        "![picture](https://qinnova.uned.es/archivos_publicos/qweb_paginas/10926/logooficialunedpontevedra.png)"
      ]
    },
    {
      "cell_type": "markdown",
      "metadata": {
        "id": "jbOt-7dE1nbc"
      },
      "source": [
        "#**PYTHON AVANZADO - TERCER DÍA**\n",
        "**PROFESORES:**\n",
        "\n",
        "Ana Larrañaga Janeiro - [**email**: alarranagaj@pontevedra.uned.es]\n",
        "\n",
        "Miguel Martínez Comesaña - [**email**: mmartinezc@pontevedra.uned.es]\n",
        "\n",
        "TEMA | ¿Qué veremos hoy? | \n",
        "-------------------|------------------\n",
        "1 Machine Learning\n",
        "            |1.1 Librerías específicas\n",
        "            |1.2 Pre-procesado de datos\n",
        "            |1.3 Detección de outliers\n",
        "            |1.4 Primeros modelos de regresión y clasificación\n",
        "            |1.5 Red neuronal\n",
        "2 Puesta en marcha\n",
        "            |2.1 Descarga e instalación de una IDE \n",
        "            |2.2 Configuración de un entorno virtual\n",
        "            |2.3 Instalación de librerías necesarias\n"
      ]
    },
    {
      "cell_type": "markdown",
      "metadata": {
        "id": "cYWjPXo75V2W"
      },
      "source": [
        "##**1. MACHINE LEARNING**\n",
        "\n",
        "---"
      ]
    },
    {
      "cell_type": "markdown",
      "source": [
        "Machine Learning (*Aprendizaje automático*) es una parte dentro de la *Inteligencia Artificial* y de la informática, la cuál está centrada en el uso de datos y algoritmos que intentan imitar la forma en la que los humanos aprendemos, progresivamente mejorando su precisión.\n",
        "\n",
        "A través del uso de determinados métodos estadísticos, los algoritmos son entrenados para llevar a cabo clasificaciones o predicciones, detectando y aprovechando información clave de los datos. Estos conocimientos podrán facilitar e impusar de forma significativa la posterior toma de decisiones\n",
        "\n",
        "[Machine Learning](https://www-ibm-com.translate.goog/cloud/learn/machine-learning?_x_tr_sl=en&_x_tr_tl=es&_x_tr_hl=es&_x_tr_pto=sc)\n"
      ],
      "metadata": {
        "id": "sxLxo-r9UZHO"
      }
    },
    {
      "cell_type": "markdown",
      "source": [
        "###**Funcionamiento**\n",
        "El funcionamiento de un algoritmo de aprendizaje automático puede dividirse en varias fases:\n",
        "\n",
        "\n",
        "*   **Decisión**: normalmente, en base a un predicción o una clasificación. El algoritmo entrenado producirá una estimación en función de algún patrón en los datos.\n",
        "*   **Error**: la predicción del modelo será evaluada a través de alguna métrica de error.\n",
        "\n",
        "*   **Optimización**: Durante el entrenamiento, la estructura interna del modelo (pesos) se ajustará para minimizar la distancia entre lo *conocido* y lo *estimado*. De forma autónoma, el algoritmo repite este proceso hasta alcanzar un objetivo o un umbral de precisión predefinido.\n"
      ],
      "metadata": {
        "id": "RSwIwyTItN7g"
      }
    },
    {
      "cell_type": "markdown",
      "source": [
        "###**Tipos de aprendizaje automático**\n",
        "<center><img src='https://drive.google.com/uc?id=15_Cm1Ssh4CmCnq6iM5gJc4ZAfkLYI6hh'></center> \n"
      ],
      "metadata": {
        "id": "wcReeqRyxNhw"
      }
    },
    {
      "cell_type": "markdown",
      "source": [
        "###**Ejemplos prácticos**\n",
        "\n",
        "\n",
        "*   Reconocimiento de voz: a través de procesamiento del lenguaje natural (NLP)\n",
        "*   Motores de recomendación: utilizando datos de consumos pasados apra desarrollar estrategias de venta cruzada (recomendaciones mientras pagos)\n",
        "*   Coches autónomos: la ida es hacer prácticamente iniexistente el margen de error al eliminar el factor humano.\n",
        "*   Diagnósticos médicos: procesamiento de enormes cantidades de información para detectar patologías.\n",
        "\n",
        "\n"
      ],
      "metadata": {
        "id": "W_cl_q9j5A5v"
      }
    },
    {
      "cell_type": "markdown",
      "metadata": {
        "id": "Q3eg8H1D5cfq"
      },
      "source": [
        "###**1.1 LIBRERÍAS ESPECÍFICAS**\n",
        "---\n"
      ]
    },
    {
      "cell_type": "markdown",
      "source": [
        "\n",
        "\n",
        "<center><img src='https://drive.google.com/uc?id=1mVAr65ialdONzzpIwsIxZmJLrrHzRjG8' width=300px></center>\n",
        "\n",
        "Fuentes: https://www.google.com/ y \n",
        "https://www.tensorflow.org/learn?hl=es-419\n",
        "\n",
        "---\n",
        "\n",
        "* Facilita tanto la creación, la compilación y la implementación de modelos de machine learning. \n",
        "\n",
        "*   Ofrece varios niveles de abstracción para poder elegir el más adecuado. Trabaja a través de Keras para los primeros pasos.\n",
        "\n",
        "*   Permite el entrenamiento e implementación de tu modelo de manera sencilla ya sea en servidores, dispositivos perimetrales, en la web o en cualquier lenguaje o plataforma que se utilice.\n",
        "\n"
      ],
      "metadata": {
        "id": "EL8qqKvs7pvp"
      }
    },
    {
      "cell_type": "markdown",
      "source": [
        "---\n",
        "<center><img src='https://drive.google.com/uc?id=1tqOLbiaes6xFoGyLvoxUnjF9V1CPAH4f' width=300px></center>\n",
        "\n",
        "Fuentes: https://www.google.com/ y \n",
        "https://keras.io/\n",
        "\n",
        "---\n",
        "\n",
        "*  API pública escrita en Python que ofrece herramientas de Deep Learning y se ejecuta sobre la plataforma de machine learning Tensorflow.\n",
        "*  Desarrollada con el objetivo de realizar experimentos rápidos. \n",
        "*  Interfaz accesible y altamente productiva para resolver problemas de aprendizaje automático, con un enfoque en el aprendizaje profundo moderno. \n",
        "*  Proporciona abstracciones esenciales y bloques de construcción para desarrollar y enviar soluciones de aprendizaje automático con una alta velocidad de iteración. \n",
        "*  Centrada principalmente en la contrucción de redes neuronales (Artificial Neural Networks).\n"
      ],
      "metadata": {
        "id": "kkG8KxK17tYs"
      }
    },
    {
      "cell_type": "markdown",
      "source": [
        "---\n",
        "<center><img src='https://drive.google.com/uc?id=16sdZ8VUqs-1VLsKJc2-q7bCeNDi7TZ4s' width=300px></center>\n",
        "\n",
        "Fuentes: https://www.google.com/ y \n",
        "https://scikit-learn.org/stable/\n",
        "\n",
        "---\n",
        "\n",
        "*  Librería pública que proporciona técnicas de machine learning supervisado y no supervisado en Python. \n",
        "*  Ofrece herramientas simples y eficientes para análisis predictivos. *  Accesible para todo el mundo y se puede aplicar en varios contextos. \n",
        "*  Construida en base a Numpy, Scipy y matplotlib.\n",
        "\n",
        "* Clasificaciones, regresiones, clustering, reducción de dimensión, ajuste y evaluación de modelos, selección de modelos, preprocesado, etc."
      ],
      "metadata": {
        "id": "uWYyQdq88F8q"
      }
    },
    {
      "cell_type": "markdown",
      "metadata": {
        "id": "T6DOTSm06u0L"
      },
      "source": [
        "###**1.2 PRE-PROCESADO DE DATOS** ([link](https://towardsdatascience.com/data-preprocessing-concepts-fa946d11c825))\n",
        "---\n"
      ]
    },
    {
      "cell_type": "code",
      "source": [
        "from google.colab import drive\n",
        "drive.mount('/content/drive')"
      ],
      "metadata": {
        "colab": {
          "base_uri": "https://localhost:8080/"
        },
        "id": "b6QnYkIuvHCn",
        "outputId": "1726bdf0-70dd-445a-a7f2-ed645dab9b37"
      },
      "execution_count": 1,
      "outputs": [
        {
          "output_type": "stream",
          "name": "stdout",
          "text": [
            "Mounted at /content/drive\n"
          ]
        }
      ]
    },
    {
      "cell_type": "markdown",
      "source": [
        "###**Variables o características (*Features*)**\n",
        "Las variables que conforman nuestro conjunto de datos pueden ser de varios tipos:\n",
        "\n",
        "<img src='https://drive.google.com/uc?id=1T_a8cbXvPv4ktIk2-d0y3O3YL8fjnjoP' width=500px >"
      ],
      "metadata": {
        "id": "gzn8RdnJ855q"
      }
    },
    {
      "cell_type": "markdown",
      "source": [
        "###**Calidad de los datos**\n",
        "\n",
        "A continuación veremos algunas técnicas para no pasar por alto la calidad de los datos e intentar que lleguen lo más limpios y consistentes posible p\n",
        "para entrenar el modelo.\n",
        "\n"
      ],
      "metadata": {
        "id": "7GoEnDjJ_kJk"
      }
    },
    {
      "cell_type": "markdown",
      "source": [
        "####**Datos faltantes (missing values)**"
      ],
      "metadata": {
        "id": "6KkVXrZsg5f3"
      }
    },
    {
      "cell_type": "code",
      "source": [
        "import pandas as pd \n",
        "import numpy as np\n",
        "\n",
        "dframe = pd.read_csv('/content/drive/MyDrive/Colab Notebooks/Ficheros/wine_data.csv', sep=';', decimal=',',thousands='.')\n",
        "#Donde y cuantos NAs tenemos en nuestro conjunto de datos \n",
        "print(dframe.isna())  #or is.null\n",
        "print(dframe.isna().sum())\n",
        "dframe.isna().sum().reset_index(name=\"n\").plot.bar(x='index', y='n', rot=45)"
      ],
      "metadata": {
        "id": "PnQ88aHbAMWL",
        "colab": {
          "base_uri": "https://localhost:8080/",
          "height": 871
        },
        "outputId": "59915e83-dba0-4dc2-d6fe-494c2ecb58a1"
      },
      "execution_count": 3,
      "outputs": [
        {
          "output_type": "stream",
          "name": "stdout",
          "text": [
            "       type  fixed acidity  volatile acidity  ...  sulphates  alcohol  quality\n",
            "0     False          False             False  ...      False    False    False\n",
            "1     False          False             False  ...      False    False    False\n",
            "2     False          False             False  ...      False    False    False\n",
            "3     False          False             False  ...      False    False    False\n",
            "4     False          False             False  ...      False    False    False\n",
            "...     ...            ...               ...  ...        ...      ...      ...\n",
            "6519  False          False             False  ...      False    False    False\n",
            "6520  False          False             False  ...       True    False    False\n",
            "6521  False          False             False  ...      False    False    False\n",
            "6522  False          False             False  ...      False    False    False\n",
            "6523  False          False             False  ...      False    False    False\n",
            "\n",
            "[6524 rows x 13 columns]\n",
            "type                     0\n",
            "fixed acidity           37\n",
            "volatile acidity        35\n",
            "citric acid             30\n",
            "residual sugar          29\n",
            "chlorides               29\n",
            "free sulfur dioxide     27\n",
            "total sulfur dioxide    27\n",
            "density                 27\n",
            "pH                      36\n",
            "sulphates               31\n",
            "alcohol                 27\n",
            "quality                 27\n",
            "dtype: int64\n"
          ]
        },
        {
          "output_type": "execute_result",
          "data": {
            "text/plain": [
              "<matplotlib.axes._subplots.AxesSubplot at 0x7fefe7486e50>"
            ]
          },
          "metadata": {},
          "execution_count": 3
        },
        {
          "output_type": "display_data",
          "data": {
            "image/png": "[encoded data removed]",
            "text/plain": [
              "<Figure size 432x288 with 1 Axes>"
            ]
          },
          "metadata": {
            "needs_background": "light"
          }
        }
      ]
    },
    {
      "cell_type": "code",
      "source": [
        "##Eliminamos los datos faltantes\n",
        "dd = dframe.dropna()\n",
        "print(dd.isna().sum())\n",
        "print(dd.shape)\n",
        "print(dframe.shape)"
      ],
      "metadata": {
        "id": "m1r9vBwlvy-b",
        "colab": {
          "base_uri": "https://localhost:8080/"
        },
        "outputId": "10695990-ca34-4d5c-d5f3-6f5f57cad0e9"
      },
      "execution_count": 4,
      "outputs": [
        {
          "output_type": "stream",
          "name": "stdout",
          "text": [
            "type                    0\n",
            "fixed acidity           0\n",
            "volatile acidity        0\n",
            "citric acid             0\n",
            "residual sugar          0\n",
            "chlorides               0\n",
            "free sulfur dioxide     0\n",
            "total sulfur dioxide    0\n",
            "density                 0\n",
            "pH                      0\n",
            "sulphates               0\n",
            "alcohol                 0\n",
            "quality                 0\n",
            "dtype: int64\n",
            "(6463, 13)\n",
            "(6524, 13)\n"
          ]
        }
      ]
    },
    {
      "cell_type": "code",
      "source": [
        "#Rellenamos los huecos con algún valor concreto ('Enmascaramiento')\n",
        "dd2 = dframe.fillna(9999)\n",
        "print(dd2)"
      ],
      "metadata": {
        "id": "vMCEukFohDLc",
        "colab": {
          "base_uri": "https://localhost:8080/"
        },
        "outputId": "73e2a498-b54e-4b66-b840-5d1ea2a71f3e"
      },
      "execution_count": 5,
      "outputs": [
        {
          "output_type": "stream",
          "name": "stdout",
          "text": [
            "       type  fixed acidity  volatile acidity  ...  sulphates  alcohol  quality\n",
            "0     white            7.0             0.270  ...       0.45      8.8      6.0\n",
            "1     white            6.3             0.300  ...       0.49      9.5      6.0\n",
            "2     white            8.1             0.280  ...       0.44     10.1      6.0\n",
            "3     white            7.2             0.230  ...       0.40      9.9      6.0\n",
            "4     white            7.2             0.230  ...       0.40      9.9      6.0\n",
            "...     ...            ...               ...  ...        ...      ...      ...\n",
            "6519    red            6.2             0.600  ...       0.58     10.5      5.0\n",
            "6520    red            5.9             0.550  ...    9999.00     11.2      6.0\n",
            "6521    red            6.3             0.510  ...       0.75     11.0      6.0\n",
            "6522    red            5.9             0.645  ...       0.71     10.2      5.0\n",
            "6523    red            6.0             0.310  ...       0.66     11.0      6.0\n",
            "\n",
            "[6524 rows x 13 columns]\n"
          ]
        }
      ]
    },
    {
      "cell_type": "code",
      "source": [
        "#Rellenamos los huecos con una interpolación\n",
        "dd4 = dframe.drop('type', axis=1)\n",
        "print(dd4.isna().sum())\n",
        "\n",
        "dd4.replace(9999, np.nan, inplace=True)\n",
        "dd4 = dd4.interpolate(method = 'linear', limit=10, axis=0) #polinomial, splines\n",
        "\n",
        "print(dd4.isna().sum())\n",
        "print(dd4.tail(20))"
      ],
      "metadata": {
        "id": "Bb13UJIKhFJM",
        "colab": {
          "base_uri": "https://localhost:8080/"
        },
        "outputId": "da9d10aa-2fb9-46f8-92a2-76a60725b0a0"
      },
      "execution_count": 6,
      "outputs": [
        {
          "output_type": "stream",
          "name": "stdout",
          "text": [
            "fixed acidity           37\n",
            "volatile acidity        35\n",
            "citric acid             30\n",
            "residual sugar          29\n",
            "chlorides               29\n",
            "free sulfur dioxide     27\n",
            "total sulfur dioxide    27\n",
            "density                 27\n",
            "pH                      36\n",
            "sulphates               31\n",
            "alcohol                 27\n",
            "quality                 27\n",
            "dtype: int64\n",
            "fixed acidity           0\n",
            "volatile acidity        0\n",
            "citric acid             0\n",
            "residual sugar          0\n",
            "chlorides               0\n",
            "free sulfur dioxide     0\n",
            "total sulfur dioxide    0\n",
            "density                 0\n",
            "pH                      0\n",
            "sulphates               0\n",
            "alcohol                 0\n",
            "quality                 0\n",
            "dtype: int64\n",
            "      fixed acidity  volatile acidity  citric acid  ...  sulphates  alcohol  quality\n",
            "6504            6.2            0.5600         0.09  ...      0.600     11.3      5.0\n",
            "6505            7.4            0.3500         0.33  ...      0.600     11.9      6.0\n",
            "6506            6.2            0.5600         0.09  ...      0.600     11.3      5.0\n",
            "6507            6.1            0.7150         0.10  ...      0.500     11.9      5.0\n",
            "6508            6.2            0.4600         0.29  ...      0.620      9.8      5.0\n",
            "6509            6.7            0.3200         0.44  ...      0.800     11.6      7.0\n",
            "6510            7.2            0.3900         0.44  ...      0.840     11.5      6.0\n",
            "6511            7.5            0.3100         0.41  ...      0.850     11.4      6.0\n",
            "6512            5.8            0.6100         0.11  ...      0.660     10.9      6.0\n",
            "6513            7.2            0.6675         0.33  ...      0.780     12.8      6.0\n",
            "6514            6.6            0.7250         0.20  ...      0.540      9.2      5.0\n",
            "6515            6.3            0.5500         0.15  ...      0.820     11.6      6.0\n",
            "6516            5.4            0.7400         0.09  ...      0.560     11.6      6.0\n",
            "6517            6.3            0.5100         0.13  ...      0.750     11.0      6.0\n",
            "6518            6.8            0.6200         0.08  ...      0.820      9.5      6.0\n",
            "6519            6.2            0.6000         0.08  ...      0.580     10.5      5.0\n",
            "6520            5.9            0.5500         0.10  ...      0.665     11.2      6.0\n",
            "6521            6.3            0.5100         0.13  ...      0.750     11.0      6.0\n",
            "6522            5.9            0.6450         0.12  ...      0.710     10.2      5.0\n",
            "6523            6.0            0.3100         0.47  ...      0.660     11.0      6.0\n",
            "\n",
            "[20 rows x 12 columns]\n"
          ]
        }
      ]
    },
    {
      "cell_type": "markdown",
      "source": [
        "###**Agrupación de las propiedades (*Feature aggregation*)**\n",
        "\n",
        "La agregación nos proporciona una visión más global de los datos, ya que el comportamiento de los grupos o agregados es más estable que el de los objetos de datos individuales. Por ejemplo, si estamos analizando transacciones de alguna tienda, pasar de trabajar con datos diarios a trabajar con datos mensuales o semanales."
      ],
      "metadata": {
        "id": "ucpBrxluANRP"
      }
    },
    {
      "cell_type": "markdown",
      "source": [
        "####**Agrupaciones simples**\n",
        "\n",
        "\n",
        "*   *count( )*: número total de elementos\n",
        "*   *mean( )*: media de elementos\n",
        "*   *prod( )*: producto de elementos\n",
        "*   *sum( )*: suma de elementos\n",
        "\n"
      ],
      "metadata": {
        "id": "AhF-CTSBocKu"
      }
    },
    {
      "cell_type": "code",
      "source": [
        "import random\n",
        "\n",
        "a=[0 for x in range(5)]\n",
        "b=[0 for x in range(5)]\n",
        "for i in range(5):\n",
        "    a[i] = random.randint(1, 100)\n",
        "    b[i] = random.randint(1, 100)\n",
        "\n",
        "\n",
        "df = pd.DataFrame({'A': a,\n",
        "                   'B': b})\n",
        "df\n"
      ],
      "metadata": {
        "id": "3nbJZasTC2pg",
        "colab": {
          "base_uri": "https://localhost:8080/",
          "height": 206
        },
        "outputId": "db690e64-dd78-49de-937b-5b8d41ea6959"
      },
      "execution_count": 7,
      "outputs": [
        {
          "output_type": "execute_result",
          "data": {
            "text/html": [
              "\n",
              "  <div id=\"df-2ef47510-f4b3-4f57-aee1-88bd22a88af7\">\n",
              "    <div class=\"colab-df-container\">\n",
              "      <div>\n",
              "<style scoped>\n",
              "    .dataframe tbody tr th:only-of-type {\n",
              "        vertical-align: middle;\n",
              "    }\n",
              "\n",
              "    .dataframe tbody tr th {\n",
              "        vertical-align: top;\n",
              "    }\n",
              "\n",
              "    .dataframe thead th {\n",
              "        text-align: right;\n",
              "    }\n",
              "</style>\n",
              "<table border=\"1\" class=\"dataframe\">\n",
              "  <thead>\n",
              "    <tr style=\"text-align: right;\">\n",
              "      <th></th>\n",
              "      <th>A</th>\n",
              "      <th>B</th>\n",
              "    </tr>\n",
              "  </thead>\n",
              "  <tbody>\n",
              "    <tr>\n",
              "      <th>0</th>\n",
              "      <td>28</td>\n",
              "      <td>47</td>\n",
              "    </tr>\n",
              "    <tr>\n",
              "      <th>1</th>\n",
              "      <td>50</td>\n",
              "      <td>53</td>\n",
              "    </tr>\n",
              "    <tr>\n",
              "      <th>2</th>\n",
              "      <td>18</td>\n",
              "      <td>52</td>\n",
              "    </tr>\n",
              "    <tr>\n",
              "      <th>3</th>\n",
              "      <td>82</td>\n",
              "      <td>21</td>\n",
              "    </tr>\n",
              "    <tr>\n",
              "      <th>4</th>\n",
              "      <td>92</td>\n",
              "      <td>31</td>\n",
              "    </tr>\n",
              "  </tbody>\n",
              "</table>\n",
              "</div>\n",
              "      <button class=\"colab-df-convert\" onclick=\"convertToInteractive('df-2ef47510-f4b3-4f57-aee1-88bd22a88af7')\"\n",
              "              title=\"Convert this dataframe to an interactive table.\"\n",
              "              style=\"display:none;\">\n",
              "        \n",
              "  <svg xmlns=\"http://www.w3.org/2000/svg\" height=\"24px\"viewBox=\"0 0 24 24\"\n",
              "       width=\"24px\">\n",
              "    <path d=\"M0 0h24v24H0V0z\" fill=\"none\"/>\n",
              "    <path d=\"M18.56 5.44l.94 2.06.94-2.06 2.06-.94-2.06-.94-.94-2.06-.94 2.06-2.06.94zm-11 1L8.5 8.5l.94-2.06 2.06-.94-2.06-.94L8.5 2.5l-.94 2.06-2.06.94zm10 10l.94 2.06.94-2.06 2.06-.94-2.06-.94-.94-2.06-.94 2.06-2.06.94z\"/><path d=\"M17.41 7.96l-1.37-1.37c-.4-.4-.92-.59-1.43-.59-.52 0-1.04.2-1.43.59L10.3 9.45l-7.72 7.72c-.78.78-.78 2.05 0 2.83L4 21.41c.39.39.9.59 1.41.59.51 0 1.02-.2 1.41-.59l7.78-7.78 2.81-2.81c.8-.78.8-2.07 0-2.86zM5.41 20L4 18.59l7.72-7.72 1.47 1.35L5.41 20z\"/>\n",
              "  </svg>\n",
              "      </button>\n",
              "      \n",
              "  <style>\n",
              "    .colab-df-container {\n",
              "      display:flex;\n",
              "      flex-wrap:wrap;\n",
              "      gap: 12px;\n",
              "    }\n",
              "\n",
              "    .colab-df-convert {\n",
              "      background-color: #E8F0FE;\n",
              "      border: none;\n",
              "      border-radius: 50%;\n",
              "      cursor: pointer;\n",
              "      display: none;\n",
              "      fill: #1967D2;\n",
              "      height: 32px;\n",
              "      padding: 0 0 0 0;\n",
              "      width: 32px;\n",
              "    }\n",
              "\n",
              "    .colab-df-convert:hover {\n",
              "      background-color: #E2EBFA;\n",
              "      box-shadow: 0px 1px 2px rgba(60, 64, 67, 0.3), 0px 1px 3px 1px rgba(60, 64, 67, 0.15);\n",
              "      fill: #174EA6;\n",
              "    }\n",
              "\n",
              "    [theme=dark] .colab-df-convert {\n",
              "      background-color: #3B4455;\n",
              "      fill: #D2E3FC;\n",
              "    }\n",
              "\n",
              "    [theme=dark] .colab-df-convert:hover {\n",
              "      background-color: #434B5C;\n",
              "      box-shadow: 0px 1px 3px 1px rgba(0, 0, 0, 0.15);\n",
              "      filter: drop-shadow(0px 1px 2px rgba(0, 0, 0, 0.3));\n",
              "      fill: #FFFFFF;\n",
              "    }\n",
              "  </style>\n",
              "\n",
              "      <script>\n",
              "        const buttonEl =\n",
              "          document.querySelector('#df-2ef47510-f4b3-4f57-aee1-88bd22a88af7 button.colab-df-convert');\n",
              "        buttonEl.style.display =\n",
              "          google.colab.kernel.accessAllowed ? 'block' : 'none';\n",
              "\n",
              "        async function convertToInteractive(key) {\n",
              "          const element = document.querySelector('#df-2ef47510-f4b3-4f57-aee1-88bd22a88af7');\n",
              "          const dataTable =\n",
              "            await google.colab.kernel.invokeFunction('convertToInteractive',\n",
              "                                                     [key], {});\n",
              "          if (!dataTable) return;\n",
              "\n",
              "          const docLinkHtml = 'Like what you see? Visit the ' +\n",
              "            '<a target=\"_blank\" href=https://colab.research.google.com/notebooks/data_table.ipynb>data table notebook</a>'\n",
              "            + ' to learn more about interactive tables.';\n",
              "          element.innerHTML = '';\n",
              "          dataTable['output_type'] = 'display_data';\n",
              "          await google.colab.output.renderOutput(dataTable, element);\n",
              "          const docLink = document.createElement('div');\n",
              "          docLink.innerHTML = docLinkHtml;\n",
              "          element.appendChild(docLink);\n",
              "        }\n",
              "      </script>\n",
              "    </div>\n",
              "  </div>\n",
              "  "
            ],
            "text/plain": [
              "    A   B\n",
              "0  28  47\n",
              "1  50  53\n",
              "2  18  52\n",
              "3  82  21\n",
              "4  92  31"
            ]
          },
          "metadata": {},
          "execution_count": 7
        }
      ]
    },
    {
      "cell_type": "code",
      "source": [
        "#Media por columnas\n",
        "df.mean()"
      ],
      "metadata": {
        "id": "6rU1A1PFgrf4",
        "colab": {
          "base_uri": "https://localhost:8080/"
        },
        "outputId": "a0bef659-2664-4113-a9fd-e260e6207d20"
      },
      "execution_count": 8,
      "outputs": [
        {
          "output_type": "execute_result",
          "data": {
            "text/plain": [
              "A    54.0\n",
              "B    40.8\n",
              "dtype: float64"
            ]
          },
          "metadata": {},
          "execution_count": 8
        }
      ]
    },
    {
      "cell_type": "code",
      "source": [
        "#Media por filas\n",
        "df.mean(axis='columns')"
      ],
      "metadata": {
        "id": "WD9iIweKpnGf",
        "colab": {
          "base_uri": "https://localhost:8080/"
        },
        "outputId": "feb5bb9b-23ab-4fee-ff6a-0c20c1a503cf"
      },
      "execution_count": 9,
      "outputs": [
        {
          "output_type": "execute_result",
          "data": {
            "text/plain": [
              "0    37.5\n",
              "1    51.5\n",
              "2    35.0\n",
              "3    51.5\n",
              "4    61.5\n",
              "dtype: float64"
            ]
          },
          "metadata": {},
          "execution_count": 9
        }
      ]
    },
    {
      "cell_type": "code",
      "source": [
        "#Suma por filas\n",
        "df.sum(axis='columns')"
      ],
      "metadata": {
        "id": "WP7vJRt1polk",
        "colab": {
          "base_uri": "https://localhost:8080/"
        },
        "outputId": "16a06794-4b19-45ec-c783-8515aab8ba25"
      },
      "execution_count": 10,
      "outputs": [
        {
          "output_type": "execute_result",
          "data": {
            "text/plain": [
              "0     75\n",
              "1    103\n",
              "2     70\n",
              "3    103\n",
              "4    123\n",
              "dtype: int64"
            ]
          },
          "metadata": {},
          "execution_count": 10
        }
      ]
    },
    {
      "cell_type": "markdown",
      "source": [
        "####**Agrupaciones temporales**"
      ],
      "metadata": {
        "id": "atSDX9lUqy19"
      }
    },
    {
      "cell_type": "code",
      "source": [
        "index = pd.date_range('1/1/2000', periods=100, freq='T')\n",
        "\n",
        "series = pd.Series(range(100), index=index)\n",
        "\n",
        "series"
      ],
      "metadata": {
        "id": "bN54qND8qzzo",
        "colab": {
          "base_uri": "https://localhost:8080/"
        },
        "outputId": "d769b7c4-eb73-454e-8fbb-d402b8acd22c"
      },
      "execution_count": 11,
      "outputs": [
        {
          "output_type": "execute_result",
          "data": {
            "text/plain": [
              "2000-01-01 00:00:00     0\n",
              "2000-01-01 00:01:00     1\n",
              "2000-01-01 00:02:00     2\n",
              "2000-01-01 00:03:00     3\n",
              "2000-01-01 00:04:00     4\n",
              "                       ..\n",
              "2000-01-01 01:35:00    95\n",
              "2000-01-01 01:36:00    96\n",
              "2000-01-01 01:37:00    97\n",
              "2000-01-01 01:38:00    98\n",
              "2000-01-01 01:39:00    99\n",
              "Freq: T, Length: 100, dtype: int64"
            ]
          },
          "metadata": {},
          "execution_count": 11
        }
      ]
    },
    {
      "cell_type": "code",
      "source": [
        "#Suma de cada 5 minutos\n",
        "series.resample('5T').sum()"
      ],
      "metadata": {
        "id": "TrRna84iq108",
        "colab": {
          "base_uri": "https://localhost:8080/"
        },
        "outputId": "9b0659ef-a35b-491f-e752-285e3dbf738b"
      },
      "execution_count": 12,
      "outputs": [
        {
          "output_type": "execute_result",
          "data": {
            "text/plain": [
              "2000-01-01 00:00:00     10\n",
              "2000-01-01 00:05:00     35\n",
              "2000-01-01 00:10:00     60\n",
              "2000-01-01 00:15:00     85\n",
              "2000-01-01 00:20:00    110\n",
              "2000-01-01 00:25:00    135\n",
              "2000-01-01 00:30:00    160\n",
              "2000-01-01 00:35:00    185\n",
              "2000-01-01 00:40:00    210\n",
              "2000-01-01 00:45:00    235\n",
              "2000-01-01 00:50:00    260\n",
              "2000-01-01 00:55:00    285\n",
              "2000-01-01 01:00:00    310\n",
              "2000-01-01 01:05:00    335\n",
              "2000-01-01 01:10:00    360\n",
              "2000-01-01 01:15:00    385\n",
              "2000-01-01 01:20:00    410\n",
              "2000-01-01 01:25:00    435\n",
              "2000-01-01 01:30:00    460\n",
              "2000-01-01 01:35:00    485\n",
              "Freq: 5T, dtype: int64"
            ]
          },
          "metadata": {},
          "execution_count": 12
        }
      ]
    },
    {
      "cell_type": "code",
      "source": [
        "#Medias 5 minutales\n",
        "series.resample('5T').mean()"
      ],
      "metadata": {
        "id": "fMHEekb_q3xr",
        "colab": {
          "base_uri": "https://localhost:8080/"
        },
        "outputId": "96e1ca1f-91b6-41f6-aa73-1b8b60b86b33"
      },
      "execution_count": 13,
      "outputs": [
        {
          "output_type": "execute_result",
          "data": {
            "text/plain": [
              "2000-01-01 00:00:00     2.0\n",
              "2000-01-01 00:05:00     7.0\n",
              "2000-01-01 00:10:00    12.0\n",
              "2000-01-01 00:15:00    17.0\n",
              "2000-01-01 00:20:00    22.0\n",
              "2000-01-01 00:25:00    27.0\n",
              "2000-01-01 00:30:00    32.0\n",
              "2000-01-01 00:35:00    37.0\n",
              "2000-01-01 00:40:00    42.0\n",
              "2000-01-01 00:45:00    47.0\n",
              "2000-01-01 00:50:00    52.0\n",
              "2000-01-01 00:55:00    57.0\n",
              "2000-01-01 01:00:00    62.0\n",
              "2000-01-01 01:05:00    67.0\n",
              "2000-01-01 01:10:00    72.0\n",
              "2000-01-01 01:15:00    77.0\n",
              "2000-01-01 01:20:00    82.0\n",
              "2000-01-01 01:25:00    87.0\n",
              "2000-01-01 01:30:00    92.0\n",
              "2000-01-01 01:35:00    97.0\n",
              "Freq: 5T, dtype: float64"
            ]
          },
          "metadata": {},
          "execution_count": 13
        }
      ]
    },
    {
      "cell_type": "code",
      "source": [
        "#Medias horarias\n",
        "series.resample('H').mean()"
      ],
      "metadata": {
        "id": "e-8PgkMoq7rS",
        "colab": {
          "base_uri": "https://localhost:8080/"
        },
        "outputId": "97bd2dc9-eeea-4486-f012-e91a608664c6"
      },
      "execution_count": 14,
      "outputs": [
        {
          "output_type": "execute_result",
          "data": {
            "text/plain": [
              "2000-01-01 00:00:00    29.5\n",
              "2000-01-01 01:00:00    79.5\n",
              "Freq: H, dtype: float64"
            ]
          },
          "metadata": {},
          "execution_count": 14
        }
      ]
    },
    {
      "cell_type": "markdown",
      "source": [
        "###**Muestreo de los datos (*Feature sampling*)**\n",
        "Cuando trabajar con todo el conjunto de datos disponible es demasiado costoso, se puede seleccionar un subconjunto. De esta forma podemos reducir el tamaño del conjunto de datos para poder aplicar un algoritmo complejo y más pesado computacionalmente.\n",
        "\n",
        "La clave de esta tarea está en intentar mantener, aproximadamente, las mismas propiedades que el conjunto original (*representativo*). \n",
        "\n",
        "*  Simple Random Sampling: muestreo aleatorio simple.\n",
        "  *  *Sin remplazamiento*: una vez un elemento es seleccionado no se vuelve a introducir en el conjunto de donde se está extrayendo la nueva muestra.\n",
        "  *  *Con remplazamiento*: los elementos no se eliminana de conjunto total después de ser seleccinados.\n",
        "\n",
        "CUIDADO: con muestras desequilibradas este tipo de algoritmo puede no funcionar bien. Otro algoritmo más apropiado podría ser: [*Stratified Sampling*](https://www.investopedia.com/terms/stratified_random_sampling.asp)"
      ],
      "metadata": {
        "id": "TKpulHQ5BjYW"
      }
    },
    {
      "cell_type": "code",
      "source": [
        "df = pd.DataFrame({'piernas': [2, 4, 8, 0,4],\n",
        "\n",
        "                   'alas': [2, 0, 0, 0,0],\n",
        "\n",
        "                   'especimenes_vistos': [10, 2, 1, 8,15]},\n",
        "\n",
        "                  index=['Halcón', 'Perro', 'Araña', 'Pez','gato'])\n",
        "\n",
        "df"
      ],
      "metadata": {
        "id": "wnVqpYFBmDNL",
        "colab": {
          "base_uri": "https://localhost:8080/",
          "height": 206
        },
        "outputId": "2843e6cb-c5cb-494a-a9c6-8b442804feee"
      },
      "execution_count": 15,
      "outputs": [
        {
          "output_type": "execute_result",
          "data": {
            "text/html": [
              "\n",
              "  <div id=\"df-0a7f0bbe-e0e3-4337-bc47-f95a53a7bdaf\">\n",
              "    <div class=\"colab-df-container\">\n",
              "      <div>\n",
              "<style scoped>\n",
              "    .dataframe tbody tr th:only-of-type {\n",
              "        vertical-align: middle;\n",
              "    }\n",
              "\n",
              "    .dataframe tbody tr th {\n",
              "        vertical-align: top;\n",
              "    }\n",
              "\n",
              "    .dataframe thead th {\n",
              "        text-align: right;\n",
              "    }\n",
              "</style>\n",
              "<table border=\"1\" class=\"dataframe\">\n",
              "  <thead>\n",
              "    <tr style=\"text-align: right;\">\n",
              "      <th></th>\n",
              "      <th>piernas</th>\n",
              "      <th>alas</th>\n",
              "      <th>especimenes_vistos</th>\n",
              "    </tr>\n",
              "  </thead>\n",
              "  <tbody>\n",
              "    <tr>\n",
              "      <th>Halcón</th>\n",
              "      <td>2</td>\n",
              "      <td>2</td>\n",
              "      <td>10</td>\n",
              "    </tr>\n",
              "    <tr>\n",
              "      <th>Perro</th>\n",
              "      <td>4</td>\n",
              "      <td>0</td>\n",
              "      <td>2</td>\n",
              "    </tr>\n",
              "    <tr>\n",
              "      <th>Araña</th>\n",
              "      <td>8</td>\n",
              "      <td>0</td>\n",
              "      <td>1</td>\n",
              "    </tr>\n",
              "    <tr>\n",
              "      <th>Pez</th>\n",
              "      <td>0</td>\n",
              "      <td>0</td>\n",
              "      <td>8</td>\n",
              "    </tr>\n",
              "    <tr>\n",
              "      <th>gato</th>\n",
              "      <td>4</td>\n",
              "      <td>0</td>\n",
              "      <td>15</td>\n",
              "    </tr>\n",
              "  </tbody>\n",
              "</table>\n",
              "</div>\n",
              "      <button class=\"colab-df-convert\" onclick=\"convertToInteractive('df-0a7f0bbe-e0e3-4337-bc47-f95a53a7bdaf')\"\n",
              "              title=\"Convert this dataframe to an interactive table.\"\n",
              "              style=\"display:none;\">\n",
              "        \n",
              "  <svg xmlns=\"http://www.w3.org/2000/svg\" height=\"24px\"viewBox=\"0 0 24 24\"\n",
              "       width=\"24px\">\n",
              "    <path d=\"M0 0h24v24H0V0z\" fill=\"none\"/>\n",
              "    <path d=\"M18.56 5.44l.94 2.06.94-2.06 2.06-.94-2.06-.94-.94-2.06-.94 2.06-2.06.94zm-11 1L8.5 8.5l.94-2.06 2.06-.94-2.06-.94L8.5 2.5l-.94 2.06-2.06.94zm10 10l.94 2.06.94-2.06 2.06-.94-2.06-.94-.94-2.06-.94 2.06-2.06.94z\"/><path d=\"M17.41 7.96l-1.37-1.37c-.4-.4-.92-.59-1.43-.59-.52 0-1.04.2-1.43.59L10.3 9.45l-7.72 7.72c-.78.78-.78 2.05 0 2.83L4 21.41c.39.39.9.59 1.41.59.51 0 1.02-.2 1.41-.59l7.78-7.78 2.81-2.81c.8-.78.8-2.07 0-2.86zM5.41 20L4 18.59l7.72-7.72 1.47 1.35L5.41 20z\"/>\n",
              "  </svg>\n",
              "      </button>\n",
              "      \n",
              "  <style>\n",
              "    .colab-df-container {\n",
              "      display:flex;\n",
              "      flex-wrap:wrap;\n",
              "      gap: 12px;\n",
              "    }\n",
              "\n",
              "    .colab-df-convert {\n",
              "      background-color: #E8F0FE;\n",
              "      border: none;\n",
              "      border-radius: 50%;\n",
              "      cursor: pointer;\n",
              "      display: none;\n",
              "      fill: #1967D2;\n",
              "      height: 32px;\n",
              "      padding: 0 0 0 0;\n",
              "      width: 32px;\n",
              "    }\n",
              "\n",
              "    .colab-df-convert:hover {\n",
              "      background-color: #E2EBFA;\n",
              "      box-shadow: 0px 1px 2px rgba(60, 64, 67, 0.3), 0px 1px 3px 1px rgba(60, 64, 67, 0.15);\n",
              "      fill: #174EA6;\n",
              "    }\n",
              "\n",
              "    [theme=dark] .colab-df-convert {\n",
              "      background-color: #3B4455;\n",
              "      fill: #D2E3FC;\n",
              "    }\n",
              "\n",
              "    [theme=dark] .colab-df-convert:hover {\n",
              "      background-color: #434B5C;\n",
              "      box-shadow: 0px 1px 3px 1px rgba(0, 0, 0, 0.15);\n",
              "      filter: drop-shadow(0px 1px 2px rgba(0, 0, 0, 0.3));\n",
              "      fill: #FFFFFF;\n",
              "    }\n",
              "  </style>\n",
              "\n",
              "      <script>\n",
              "        const buttonEl =\n",
              "          document.querySelector('#df-0a7f0bbe-e0e3-4337-bc47-f95a53a7bdaf button.colab-df-convert');\n",
              "        buttonEl.style.display =\n",
              "          google.colab.kernel.accessAllowed ? 'block' : 'none';\n",
              "\n",
              "        async function convertToInteractive(key) {\n",
              "          const element = document.querySelector('#df-0a7f0bbe-e0e3-4337-bc47-f95a53a7bdaf');\n",
              "          const dataTable =\n",
              "            await google.colab.kernel.invokeFunction('convertToInteractive',\n",
              "                                                     [key], {});\n",
              "          if (!dataTable) return;\n",
              "\n",
              "          const docLinkHtml = 'Like what you see? Visit the ' +\n",
              "            '<a target=\"_blank\" href=https://colab.research.google.com/notebooks/data_table.ipynb>data table notebook</a>'\n",
              "            + ' to learn more about interactive tables.';\n",
              "          element.innerHTML = '';\n",
              "          dataTable['output_type'] = 'display_data';\n",
              "          await google.colab.output.renderOutput(dataTable, element);\n",
              "          const docLink = document.createElement('div');\n",
              "          docLink.innerHTML = docLinkHtml;\n",
              "          element.appendChild(docLink);\n",
              "        }\n",
              "      </script>\n",
              "    </div>\n",
              "  </div>\n",
              "  "
            ],
            "text/plain": [
              "        piernas  alas  especimenes_vistos\n",
              "Halcón        2     2                  10\n",
              "Perro         4     0                   2\n",
              "Araña         8     0                   1\n",
              "Pez           0     0                   8\n",
              "gato          4     0                  15"
            ]
          },
          "metadata": {},
          "execution_count": 15
        }
      ]
    },
    {
      "cell_type": "code",
      "source": [
        "#Sin remplazamiento\n",
        "print(df.sample(n=4, random_state=2, replace=False))\n"
      ],
      "metadata": {
        "id": "ePhroe3kqwuS",
        "colab": {
          "base_uri": "https://localhost:8080/"
        },
        "outputId": "6231508e-d999-480f-bf47-0ce03500e842"
      },
      "execution_count": 18,
      "outputs": [
        {
          "output_type": "stream",
          "name": "stdout",
          "text": [
            "       piernas  alas  especimenes_vistos\n",
            "Araña        8     0                   1\n",
            "gato         4     0                  15\n",
            "Perro        4     0                   2\n",
            "Pez          0     0                   8\n"
          ]
        }
      ]
    },
    {
      "cell_type": "code",
      "source": [
        "#Con remplazamiento\n",
        "print(df.sample(n=4, random_state=10, replace=True))\n"
      ],
      "metadata": {
        "id": "IReC8IW-rvcB",
        "colab": {
          "base_uri": "https://localhost:8080/"
        },
        "outputId": "663d1f44-3da5-4e58-cf9d-7b5ec28cd454"
      },
      "execution_count": 22,
      "outputs": [
        {
          "output_type": "stream",
          "name": "stdout",
          "text": [
            "        piernas  alas  especimenes_vistos\n",
            "Perro         4     0                   2\n",
            "gato          4     0                  15\n",
            "Halcón        2     2                  10\n",
            "Perro         4     0                   2\n"
          ]
        }
      ]
    },
    {
      "cell_type": "markdown",
      "source": [
        "###**Reducción de dimension (*Dimensionality reduction*)**\n",
        "En situaciones donde el número de *features* o *características* es muy grande la reducción de dimensión se hace imprescindible (en *image processing* tendríamos miles de dimensiones). Este proceso es conocido como *Feature Selection*.\n",
        "\n",
        "El también conocido *Curse of dimensionality* es el problema que se refiere al incremento de la dificultad para modelar y visualizar datos si las dimensones de los datos se incrementan.\n",
        "\n",
        "Los algoritmos centrados en este problema, normalmente, se basan en crear nuevas *features* que son combinaciones de las viejas. De esta forma pasamos de una X dimensiones a, por ejemplo, X/4 dimensiones. El más conocido es el Análisis de [Componentes Principales (PCA)](https://www.cienciadedatos.net/documentos/py19-pca-python.html)."
      ],
      "metadata": {
        "id": "mtev9a_UEZE0"
      }
    },
    {
      "cell_type": "code",
      "source": [
        "import statsmodels.api as sm\n",
        "USArrests = sm.datasets.get_rdataset(\"USArrests\", \"datasets\")\n",
        "datos = USArrests.data\n",
        "datos.info()\n",
        "print(type(datos))"
      ],
      "metadata": {
        "id": "STMYJRK1GU0K",
        "colab": {
          "base_uri": "https://localhost:8080/"
        },
        "outputId": "be5e24ea-ac53-4016-fa23-bdd01bdf8c44"
      },
      "execution_count": 24,
      "outputs": [
        {
          "output_type": "stream",
          "name": "stdout",
          "text": [
            "<class 'pandas.core.frame.DataFrame'>\n",
            "Index: 50 entries, Alabama to Wyoming\n",
            "Data columns (total 4 columns):\n",
            " #   Column    Non-Null Count  Dtype  \n",
            "---  ------    --------------  -----  \n",
            " 0   Murder    50 non-null     float64\n",
            " 1   Assault   50 non-null     int64  \n",
            " 2   UrbanPop  50 non-null     int64  \n",
            " 3   Rape      50 non-null     float64\n",
            "dtypes: float64(2), int64(2)\n",
            "memory usage: 2.0+ KB\n",
            "<class 'pandas.core.frame.DataFrame'>\n"
          ]
        }
      ]
    },
    {
      "cell_type": "markdown",
      "source": [
        "#####**Análisis de correlaciones**"
      ],
      "metadata": {
        "id": "TqG7BCOjNu7x"
      }
    },
    {
      "cell_type": "code",
      "source": [
        "import numpy as np\n",
        "#Correlaciones entre variables y con la variable dependiente\n",
        "correlations = datos.corr().iloc[:,1] #(variables dependiente)\n",
        "print(correlations)\n",
        "\n",
        "#cuidado: también correlación entre variables explicativas. Eliminar las que tengas muchas correlación entre sí."
      ],
      "metadata": {
        "id": "d91MH-B0N8bz",
        "colab": {
          "base_uri": "https://localhost:8080/"
        },
        "outputId": "3a38b0e7-543b-4900-d5ad-325526c309d8"
      },
      "execution_count": 27,
      "outputs": [
        {
          "output_type": "stream",
          "name": "stdout",
          "text": [
            "Murder      0.801873\n",
            "Assault     1.000000\n",
            "UrbanPop    0.258872\n",
            "Rape        0.665241\n",
            "Name: Assault, dtype: float64\n"
          ]
        }
      ]
    },
    {
      "cell_type": "markdown",
      "source": [
        "#####**PCA**"
      ],
      "metadata": {
        "id": "sTJr_xqNN11k"
      }
    },
    {
      "cell_type": "code",
      "source": [
        "from sklearn.decomposition import PCA\n",
        "from sklearn.pipeline import make_pipeline\n",
        "from sklearn.preprocessing import StandardScaler\n",
        "from sklearn.preprocessing import scale\n",
        "\n",
        "pca_pipe = make_pipeline(StandardScaler(), PCA())\n",
        "pca_pipe.fit(datos)\n",
        "\n",
        "# Se extrae el modelo entrenado del pipeline\n",
        "modelo_pca = pca_pipe.named_steps['pca']"
      ],
      "metadata": {
        "id": "I5M507CPwFR_"
      },
      "execution_count": 28,
      "outputs": []
    },
    {
      "cell_type": "code",
      "source": [
        "pd.DataFrame(\n",
        "    data    = modelo_pca.components_,\n",
        "    columns = datos.columns,\n",
        "    index   = ['PC1', 'PC2', 'PC3', 'PC4']\n",
        ")"
      ],
      "metadata": {
        "id": "L4kf4HffwPVc",
        "colab": {
          "base_uri": "https://localhost:8080/",
          "height": 175
        },
        "outputId": "941ee6d0-a8ae-4ad8-fe04-11131e5f8115"
      },
      "execution_count": 29,
      "outputs": [
        {
          "output_type": "execute_result",
          "data": {
            "text/html": [
              "\n",
              "  <div id=\"df-50e1c9d2-3f27-464a-87d1-93937874e270\">\n",
              "    <div class=\"colab-df-container\">\n",
              "      <div>\n",
              "<style scoped>\n",
              "    .dataframe tbody tr th:only-of-type {\n",
              "        vertical-align: middle;\n",
              "    }\n",
              "\n",
              "    .dataframe tbody tr th {\n",
              "        vertical-align: top;\n",
              "    }\n",
              "\n",
              "    .dataframe thead th {\n",
              "        text-align: right;\n",
              "    }\n",
              "</style>\n",
              "<table border=\"1\" class=\"dataframe\">\n",
              "  <thead>\n",
              "    <tr style=\"text-align: right;\">\n",
              "      <th></th>\n",
              "      <th>Murder</th>\n",
              "      <th>Assault</th>\n",
              "      <th>UrbanPop</th>\n",
              "      <th>Rape</th>\n",
              "    </tr>\n",
              "  </thead>\n",
              "  <tbody>\n",
              "    <tr>\n",
              "      <th>PC1</th>\n",
              "      <td>0.535899</td>\n",
              "      <td>0.583184</td>\n",
              "      <td>0.278191</td>\n",
              "      <td>0.543432</td>\n",
              "    </tr>\n",
              "    <tr>\n",
              "      <th>PC2</th>\n",
              "      <td>0.418181</td>\n",
              "      <td>0.187986</td>\n",
              "      <td>-0.872806</td>\n",
              "      <td>-0.167319</td>\n",
              "    </tr>\n",
              "    <tr>\n",
              "      <th>PC3</th>\n",
              "      <td>-0.341233</td>\n",
              "      <td>-0.268148</td>\n",
              "      <td>-0.378016</td>\n",
              "      <td>0.817778</td>\n",
              "    </tr>\n",
              "    <tr>\n",
              "      <th>PC4</th>\n",
              "      <td>0.649228</td>\n",
              "      <td>-0.743407</td>\n",
              "      <td>0.133878</td>\n",
              "      <td>0.089024</td>\n",
              "    </tr>\n",
              "  </tbody>\n",
              "</table>\n",
              "</div>\n",
              "      <button class=\"colab-df-convert\" onclick=\"convertToInteractive('df-50e1c9d2-3f27-464a-87d1-93937874e270')\"\n",
              "              title=\"Convert this dataframe to an interactive table.\"\n",
              "              style=\"display:none;\">\n",
              "        \n",
              "  <svg xmlns=\"http://www.w3.org/2000/svg\" height=\"24px\"viewBox=\"0 0 24 24\"\n",
              "       width=\"24px\">\n",
              "    <path d=\"M0 0h24v24H0V0z\" fill=\"none\"/>\n",
              "    <path d=\"M18.56 5.44l.94 2.06.94-2.06 2.06-.94-2.06-.94-.94-2.06-.94 2.06-2.06.94zm-11 1L8.5 8.5l.94-2.06 2.06-.94-2.06-.94L8.5 2.5l-.94 2.06-2.06.94zm10 10l.94 2.06.94-2.06 2.06-.94-2.06-.94-.94-2.06-.94 2.06-2.06.94z\"/><path d=\"M17.41 7.96l-1.37-1.37c-.4-.4-.92-.59-1.43-.59-.52 0-1.04.2-1.43.59L10.3 9.45l-7.72 7.72c-.78.78-.78 2.05 0 2.83L4 21.41c.39.39.9.59 1.41.59.51 0 1.02-.2 1.41-.59l7.78-7.78 2.81-2.81c.8-.78.8-2.07 0-2.86zM5.41 20L4 18.59l7.72-7.72 1.47 1.35L5.41 20z\"/>\n",
              "  </svg>\n",
              "      </button>\n",
              "      \n",
              "  <style>\n",
              "    .colab-df-container {\n",
              "      display:flex;\n",
              "      flex-wrap:wrap;\n",
              "      gap: 12px;\n",
              "    }\n",
              "\n",
              "    .colab-df-convert {\n",
              "      background-color: #E8F0FE;\n",
              "      border: none;\n",
              "      border-radius: 50%;\n",
              "      cursor: pointer;\n",
              "      display: none;\n",
              "      fill: #1967D2;\n",
              "      height: 32px;\n",
              "      padding: 0 0 0 0;\n",
              "      width: 32px;\n",
              "    }\n",
              "\n",
              "    .colab-df-convert:hover {\n",
              "      background-color: #E2EBFA;\n",
              "      box-shadow: 0px 1px 2px rgba(60, 64, 67, 0.3), 0px 1px 3px 1px rgba(60, 64, 67, 0.15);\n",
              "      fill: #174EA6;\n",
              "    }\n",
              "\n",
              "    [theme=dark] .colab-df-convert {\n",
              "      background-color: #3B4455;\n",
              "      fill: #D2E3FC;\n",
              "    }\n",
              "\n",
              "    [theme=dark] .colab-df-convert:hover {\n",
              "      background-color: #434B5C;\n",
              "      box-shadow: 0px 1px 3px 1px rgba(0, 0, 0, 0.15);\n",
              "      filter: drop-shadow(0px 1px 2px rgba(0, 0, 0, 0.3));\n",
              "      fill: #FFFFFF;\n",
              "    }\n",
              "  </style>\n",
              "\n",
              "      <script>\n",
              "        const buttonEl =\n",
              "          document.querySelector('#df-50e1c9d2-3f27-464a-87d1-93937874e270 button.colab-df-convert');\n",
              "        buttonEl.style.display =\n",
              "          google.colab.kernel.accessAllowed ? 'block' : 'none';\n",
              "\n",
              "        async function convertToInteractive(key) {\n",
              "          const element = document.querySelector('#df-50e1c9d2-3f27-464a-87d1-93937874e270');\n",
              "          const dataTable =\n",
              "            await google.colab.kernel.invokeFunction('convertToInteractive',\n",
              "                                                     [key], {});\n",
              "          if (!dataTable) return;\n",
              "\n",
              "          const docLinkHtml = 'Like what you see? Visit the ' +\n",
              "            '<a target=\"_blank\" href=https://colab.research.google.com/notebooks/data_table.ipynb>data table notebook</a>'\n",
              "            + ' to learn more about interactive tables.';\n",
              "          element.innerHTML = '';\n",
              "          dataTable['output_type'] = 'display_data';\n",
              "          await google.colab.output.renderOutput(dataTable, element);\n",
              "          const docLink = document.createElement('div');\n",
              "          docLink.innerHTML = docLinkHtml;\n",
              "          element.appendChild(docLink);\n",
              "        }\n",
              "      </script>\n",
              "    </div>\n",
              "  </div>\n",
              "  "
            ],
            "text/plain": [
              "       Murder   Assault  UrbanPop      Rape\n",
              "PC1  0.535899  0.583184  0.278191  0.543432\n",
              "PC2  0.418181  0.187986 -0.872806 -0.167319\n",
              "PC3 -0.341233 -0.268148 -0.378016  0.817778\n",
              "PC4  0.649228 -0.743407  0.133878  0.089024"
            ]
          },
          "metadata": {},
          "execution_count": 29
        }
      ]
    },
    {
      "cell_type": "code",
      "source": [
        "import matplotlib.pyplot as plt\n",
        "import numpy as np\n",
        "# Porcentaje de varianza explicada acumulada\n",
        "# ==============================================================================\n",
        "prop_varianza_acum = modelo_pca.explained_variance_ratio_.cumsum()\n",
        "print('------------------------------------------')\n",
        "print('Porcentaje de varianza explicada acumulada')\n",
        "print('------------------------------------------')\n",
        "print(prop_varianza_acum)\n",
        "\n",
        "fig, ax = plt.subplots(nrows=1, ncols=1, figsize=(6, 4))\n",
        "ax.plot(\n",
        "    np.arange(len(datos.columns)) + 1,\n",
        "    prop_varianza_acum,\n",
        "    marker = 'o'\n",
        ")\n",
        "\n",
        "for x, y in zip(np.arange(len(datos.columns)) + 1, prop_varianza_acum):\n",
        "    label = round(y, 2)\n",
        "    ax.annotate(\n",
        "        label,\n",
        "        (x,y),\n",
        "        textcoords=\"offset points\",\n",
        "        xytext=(0,10),\n",
        "        ha='center'\n",
        "    )\n",
        "    \n",
        "ax.set_ylim(0, 1.1)\n",
        "ax.set_xticks(np.arange(modelo_pca.n_components_) + 1)\n",
        "ax.set_title('Porcentaje de varianza explicada acumulada')\n",
        "ax.set_xlabel('Componente principal')\n",
        "ax.set_ylabel('Por. varianza acumulada');"
      ],
      "metadata": {
        "colab": {
          "base_uri": "https://localhost:8080/",
          "height": 368
        },
        "id": "IRyLQQv5J7IG",
        "outputId": "0e729d35-879c-4945-c7fc-b51cf2105b59"
      },
      "execution_count": 30,
      "outputs": [
        {
          "output_type": "stream",
          "name": "stdout",
          "text": [
            "------------------------------------------\n",
            "Porcentaje de varianza explicada acumulada\n",
            "------------------------------------------\n",
            "[0.62006039 0.86750168 0.95664248 1.        ]\n"
          ]
        },
        {
          "output_type": "display_data",
          "data": {
            "image/png": "[encoded data removed]",
            "text/plain": [
              "<Figure size 432x288 with 1 Axes>"
            ]
          },
          "metadata": {
            "needs_background": "light"
          }
        }
      ]
    },
    {
      "cell_type": "markdown",
      "source": [
        "**PC1**=0.535899 Murder + 0.583184 Assault + 0.278191 UrbanPop + 0.543432 Rape"
      ],
      "metadata": {
        "id": "Jmi15HxQhYT6"
      }
    },
    {
      "cell_type": "markdown",
      "source": [
        "###**Codificación de los datos (*Feature encoding*)**\n",
        "El principal objetivo del preprocesado de datos es convertir los datos a un formato entendible por los algoritmos de aprendizaje automático (darselo más fácil). Existen varias reglas en relación a la codificación de datos:\n",
        "\n",
        "\n",
        "Si las variables son categóricas:\n",
        "\n",
        "*   Nominales: mantener el significado de las categorías (*One-Hot-Encoding*,*Label Encoder* )\n",
        "*   Ordinales: mantener el order de las categorías (*Ordinal-Encoding*, *Label Encoder*)\n",
        "\n",
        "Si las variables son numéricas:\n",
        "\n",
        "*   Intervalos: tranformaciones matemáticas como $new = a* old + b$ siendo $a$ y $b$ constantes.\n",
        "*   Ratios: cualquier tipos de escalados se puede aplicar (manteniendo el significado de los valores). "
      ],
      "metadata": {
        "id": "xP3Ip2kMGU-_"
      }
    },
    {
      "cell_type": "code",
      "source": [
        "import pandas as pd\n",
        "\n",
        "ids = [11, 22, 33, 44, 55, 66, 77]\n",
        "countries = ['Spain', 'France', 'Spain', 'Germany', 'France']\n",
        "\n",
        "df = pd.DataFrame(list(zip(ids, countries)),\n",
        "                  columns=['Ids', 'Countries'])\n",
        "print(df)"
      ],
      "metadata": {
        "id": "VbmeSeqbzYqV",
        "colab": {
          "base_uri": "https://localhost:8080/"
        },
        "outputId": "23495b5b-ee3d-4f61-9592-8a47e4d74f34"
      },
      "execution_count": 31,
      "outputs": [
        {
          "output_type": "stream",
          "name": "stdout",
          "text": [
            "   Ids Countries\n",
            "0   11     Spain\n",
            "1   22    France\n",
            "2   33     Spain\n",
            "3   44   Germany\n",
            "4   55    France\n"
          ]
        }
      ]
    },
    {
      "cell_type": "code",
      "source": [
        "#Categóricas Nominales\n",
        "from sklearn.preprocessing import OneHotEncoder\n",
        "x=np.array(df.iloc[:,1]).reshape(-1,1)\n",
        "print(x)\n",
        "\n",
        "x = OneHotEncoder().fit_transform(x).toarray()\n",
        "print(x)\n",
        "\n",
        "x = pd.DataFrame(x, index=df.loc[:,'Countries'])\n",
        "x"
      ],
      "metadata": {
        "id": "MJfnC7ic4mUZ",
        "colab": {
          "base_uri": "https://localhost:8080/",
          "height": 419
        },
        "outputId": "fda09809-18ce-4a7f-8e42-787220f55381"
      },
      "execution_count": 34,
      "outputs": [
        {
          "output_type": "stream",
          "name": "stdout",
          "text": [
            "[['Spain']\n",
            " ['France']\n",
            " ['Spain']\n",
            " ['Germany']\n",
            " ['France']]\n",
            "[[0. 0. 1.]\n",
            " [1. 0. 0.]\n",
            " [0. 0. 1.]\n",
            " [0. 1. 0.]\n",
            " [1. 0. 0.]]\n"
          ]
        },
        {
          "output_type": "execute_result",
          "data": {
            "text/html": [
              "\n",
              "  <div id=\"df-af8910ec-7c06-4447-89a0-c4bb8039083d\">\n",
              "    <div class=\"colab-df-container\">\n",
              "      <div>\n",
              "<style scoped>\n",
              "    .dataframe tbody tr th:only-of-type {\n",
              "        vertical-align: middle;\n",
              "    }\n",
              "\n",
              "    .dataframe tbody tr th {\n",
              "        vertical-align: top;\n",
              "    }\n",
              "\n",
              "    .dataframe thead th {\n",
              "        text-align: right;\n",
              "    }\n",
              "</style>\n",
              "<table border=\"1\" class=\"dataframe\">\n",
              "  <thead>\n",
              "    <tr style=\"text-align: right;\">\n",
              "      <th></th>\n",
              "      <th>0</th>\n",
              "      <th>1</th>\n",
              "      <th>2</th>\n",
              "    </tr>\n",
              "    <tr>\n",
              "      <th>Countries</th>\n",
              "      <th></th>\n",
              "      <th></th>\n",
              "      <th></th>\n",
              "    </tr>\n",
              "  </thead>\n",
              "  <tbody>\n",
              "    <tr>\n",
              "      <th>Spain</th>\n",
              "      <td>0.0</td>\n",
              "      <td>0.0</td>\n",
              "      <td>1.0</td>\n",
              "    </tr>\n",
              "    <tr>\n",
              "      <th>France</th>\n",
              "      <td>1.0</td>\n",
              "      <td>0.0</td>\n",
              "      <td>0.0</td>\n",
              "    </tr>\n",
              "    <tr>\n",
              "      <th>Spain</th>\n",
              "      <td>0.0</td>\n",
              "      <td>0.0</td>\n",
              "      <td>1.0</td>\n",
              "    </tr>\n",
              "    <tr>\n",
              "      <th>Germany</th>\n",
              "      <td>0.0</td>\n",
              "      <td>1.0</td>\n",
              "      <td>0.0</td>\n",
              "    </tr>\n",
              "    <tr>\n",
              "      <th>France</th>\n",
              "      <td>1.0</td>\n",
              "      <td>0.0</td>\n",
              "      <td>0.0</td>\n",
              "    </tr>\n",
              "  </tbody>\n",
              "</table>\n",
              "</div>\n",
              "      <button class=\"colab-df-convert\" onclick=\"convertToInteractive('df-af8910ec-7c06-4447-89a0-c4bb8039083d')\"\n",
              "              title=\"Convert this dataframe to an interactive table.\"\n",
              "              style=\"display:none;\">\n",
              "        \n",
              "  <svg xmlns=\"http://www.w3.org/2000/svg\" height=\"24px\"viewBox=\"0 0 24 24\"\n",
              "       width=\"24px\">\n",
              "    <path d=\"M0 0h24v24H0V0z\" fill=\"none\"/>\n",
              "    <path d=\"M18.56 5.44l.94 2.06.94-2.06 2.06-.94-2.06-.94-.94-2.06-.94 2.06-2.06.94zm-11 1L8.5 8.5l.94-2.06 2.06-.94-2.06-.94L8.5 2.5l-.94 2.06-2.06.94zm10 10l.94 2.06.94-2.06 2.06-.94-2.06-.94-.94-2.06-.94 2.06-2.06.94z\"/><path d=\"M17.41 7.96l-1.37-1.37c-.4-.4-.92-.59-1.43-.59-.52 0-1.04.2-1.43.59L10.3 9.45l-7.72 7.72c-.78.78-.78 2.05 0 2.83L4 21.41c.39.39.9.59 1.41.59.51 0 1.02-.2 1.41-.59l7.78-7.78 2.81-2.81c.8-.78.8-2.07 0-2.86zM5.41 20L4 18.59l7.72-7.72 1.47 1.35L5.41 20z\"/>\n",
              "  </svg>\n",
              "      </button>\n",
              "      \n",
              "  <style>\n",
              "    .colab-df-container {\n",
              "      display:flex;\n",
              "      flex-wrap:wrap;\n",
              "      gap: 12px;\n",
              "    }\n",
              "\n",
              "    .colab-df-convert {\n",
              "      background-color: #E8F0FE;\n",
              "      border: none;\n",
              "      border-radius: 50%;\n",
              "      cursor: pointer;\n",
              "      display: none;\n",
              "      fill: #1967D2;\n",
              "      height: 32px;\n",
              "      padding: 0 0 0 0;\n",
              "      width: 32px;\n",
              "    }\n",
              "\n",
              "    .colab-df-convert:hover {\n",
              "      background-color: #E2EBFA;\n",
              "      box-shadow: 0px 1px 2px rgba(60, 64, 67, 0.3), 0px 1px 3px 1px rgba(60, 64, 67, 0.15);\n",
              "      fill: #174EA6;\n",
              "    }\n",
              "\n",
              "    [theme=dark] .colab-df-convert {\n",
              "      background-color: #3B4455;\n",
              "      fill: #D2E3FC;\n",
              "    }\n",
              "\n",
              "    [theme=dark] .colab-df-convert:hover {\n",
              "      background-color: #434B5C;\n",
              "      box-shadow: 0px 1px 3px 1px rgba(0, 0, 0, 0.15);\n",
              "      filter: drop-shadow(0px 1px 2px rgba(0, 0, 0, 0.3));\n",
              "      fill: #FFFFFF;\n",
              "    }\n",
              "  </style>\n",
              "\n",
              "      <script>\n",
              "        const buttonEl =\n",
              "          document.querySelector('#df-af8910ec-7c06-4447-89a0-c4bb8039083d button.colab-df-convert');\n",
              "        buttonEl.style.display =\n",
              "          google.colab.kernel.accessAllowed ? 'block' : 'none';\n",
              "\n",
              "        async function convertToInteractive(key) {\n",
              "          const element = document.querySelector('#df-af8910ec-7c06-4447-89a0-c4bb8039083d');\n",
              "          const dataTable =\n",
              "            await google.colab.kernel.invokeFunction('convertToInteractive',\n",
              "                                                     [key], {});\n",
              "          if (!dataTable) return;\n",
              "\n",
              "          const docLinkHtml = 'Like what you see? Visit the ' +\n",
              "            '<a target=\"_blank\" href=https://colab.research.google.com/notebooks/data_table.ipynb>data table notebook</a>'\n",
              "            + ' to learn more about interactive tables.';\n",
              "          element.innerHTML = '';\n",
              "          dataTable['output_type'] = 'display_data';\n",
              "          await google.colab.output.renderOutput(dataTable, element);\n",
              "          const docLink = document.createElement('div');\n",
              "          docLink.innerHTML = docLinkHtml;\n",
              "          element.appendChild(docLink);\n",
              "        }\n",
              "      </script>\n",
              "    </div>\n",
              "  </div>\n",
              "  "
            ],
            "text/plain": [
              "             0    1    2\n",
              "Countries               \n",
              "Spain      0.0  0.0  1.0\n",
              "France     1.0  0.0  0.0\n",
              "Spain      0.0  0.0  1.0\n",
              "Germany    0.0  1.0  0.0\n",
              "France     1.0  0.0  0.0"
            ]
          },
          "metadata": {},
          "execution_count": 34
        }
      ]
    },
    {
      "cell_type": "code",
      "source": [
        "#Categóricas Ordinales\n",
        "from sklearn.preprocessing import OrdinalEncoder\n",
        "x=np.array(df.iloc[:,0]).reshape(-1,1)\n",
        "print(x)\n",
        "\n",
        "x = OrdinalEncoder().fit_transform(x)\n",
        "x"
      ],
      "metadata": {
        "id": "X88yj4m5IOHQ",
        "colab": {
          "base_uri": "https://localhost:8080/"
        },
        "outputId": "37b7f0f7-3821-4b2f-81ff-6a4a0c31c444"
      },
      "execution_count": 36,
      "outputs": [
        {
          "output_type": "stream",
          "name": "stdout",
          "text": [
            "[[11]\n",
            " [22]\n",
            " [33]\n",
            " [44]\n",
            " [55]]\n"
          ]
        },
        {
          "output_type": "execute_result",
          "data": {
            "text/plain": [
              "array([[0.],\n",
              "       [1.],\n",
              "       [2.],\n",
              "       [3.],\n",
              "       [4.]])"
            ]
          },
          "metadata": {},
          "execution_count": 36
        }
      ]
    },
    {
      "cell_type": "code",
      "source": [
        "#Numéricas (Escalado: y = (x – mean) / standard_deviation)\n",
        "from sklearn.preprocessing import StandardScaler\n",
        "data = np.array([[0, 2,5], [4, 1,8], [10, 10,3], [1, 1,1]])\n",
        "print(data)\n",
        "\n",
        "scalar = StandardScaler()\n",
        "scalar.fit(data)\n",
        "print(scalar.transform(data))\n"
      ],
      "metadata": {
        "id": "lxFAojHp9ZbT",
        "colab": {
          "base_uri": "https://localhost:8080/"
        },
        "outputId": "57d74490-6457-41fb-d235-d5e2ce707ba8"
      },
      "execution_count": 41,
      "outputs": [
        {
          "output_type": "stream",
          "name": "stdout",
          "text": [
            "[[ 0  2  5]\n",
            " [ 4  1  8]\n",
            " [10 10  3]\n",
            " [ 1  1  1]]\n",
            "[[-0.96225045 -0.39735971  0.29002095]\n",
            " [ 0.06415003 -0.66226618  1.45010473]\n",
            " [ 1.60375075  1.72189206 -0.48336824]\n",
            " [-0.70565033 -0.66226618 -1.25675744]]\n"
          ]
        }
      ]
    },
    {
      "cell_type": "code",
      "source": [
        "#Numéricas (Normalización: y = (x – min) / (max – min))\n",
        "from sklearn.preprocessing import MinMaxScaler\n",
        "data = np.array([[0, 2,5], [4, 1,8], [10, 10,3], [1, 1,1]])\n",
        "print(data)\n",
        "\n",
        "\n",
        "minmax= MinMaxScaler(feature_range=[0,1])\n",
        "minmax.fit(data)\n",
        "print(minmax.transform(data))\n"
      ],
      "metadata": {
        "id": "YdcHdnOb-TY7",
        "colab": {
          "base_uri": "https://localhost:8080/"
        },
        "outputId": "19e6c79d-84f6-4ffe-9d06-098dae12af2c"
      },
      "execution_count": 43,
      "outputs": [
        {
          "output_type": "stream",
          "name": "stdout",
          "text": [
            "[[ 0  2  5]\n",
            " [ 4  1  8]\n",
            " [10 10  3]\n",
            " [ 1  1  1]]\n",
            "[[0.         0.11111111 0.57142857]\n",
            " [0.4        0.         1.        ]\n",
            " [1.         1.         0.28571429]\n",
            " [0.1        0.         0.        ]]\n"
          ]
        }
      ]
    },
    {
      "cell_type": "markdown",
      "source": [
        "###**División de los datos (*Data split*)**\n",
        "Los algoritmos de aprendizaje artificial (*Machine Learning*) tienen que ser entrenados con los datos disponibles, y después ser validados y testeados, antes de llegar a aplicarlos en el mundo real.\n",
        "\n",
        "\n",
        "\n",
        "*   **Datos de entrenamiento (Training data)**: donde realmente se entrena el algoritmo. Intenta aprender las características y patrones de los datos (cuidado con *overfitting/underfitting*).\n",
        "*   **Datos de validación (Validation data)**: se usa para validar diferentes ajustes del modelo. De esta forma, se elegirán y mejorarán los hiperparámetros del modelo. Con esta muestra, el modelo no entrena sino que mejora los valores de los hiperparámetros.\n",
        "*   **Datos de test (Test data)**: esta parte se  usa para poner a prueba la hipótesis del modelo. Una vez se tiene decidido el modelo y sus hiperparámetros, el modelo se aplica en esta muestra apartada para medir la precisión que tendrá cuando se aplique en el mundo real.\n",
        "\n",
        "\n",
        "Las proporciones de esta división depende del modelo que se esté contruyendo y de los datos disponibles. Por ejemplo, si se utilizan algoritmos que necesitan muchos datos para entrenarse bien, se dejará una gran porción para entrenamiento. En cambio, si tenemos muchos hiperparámetros que ajustar se recomienda dejar una proción significativa para la validación."
      ],
      "metadata": {
        "id": "HM7drwIrIOmY"
      }
    },
    {
      "cell_type": "code",
      "source": [
        "from sklearn.datasets import load_iris\n",
        "iris = load_iris()\n",
        "x = pd.DataFrame(iris.data)\n",
        "y = pd.DataFrame(iris.target)\n",
        "print(x)\n",
        "print(y)"
      ],
      "metadata": {
        "id": "G7JfDHkEKvR-",
        "colab": {
          "base_uri": "https://localhost:8080/"
        },
        "outputId": "e320fd39-3a7c-4674-b53b-58442ecf531c"
      },
      "execution_count": 44,
      "outputs": [
        {
          "output_type": "stream",
          "name": "stdout",
          "text": [
            "       0    1    2    3\n",
            "0    5.1  3.5  1.4  0.2\n",
            "1    4.9  3.0  1.4  0.2\n",
            "2    4.7  3.2  1.3  0.2\n",
            "3    4.6  3.1  1.5  0.2\n",
            "4    5.0  3.6  1.4  0.2\n",
            "..   ...  ...  ...  ...\n",
            "145  6.7  3.0  5.2  2.3\n",
            "146  6.3  2.5  5.0  1.9\n",
            "147  6.5  3.0  5.2  2.0\n",
            "148  6.2  3.4  5.4  2.3\n",
            "149  5.9  3.0  5.1  1.8\n",
            "\n",
            "[150 rows x 4 columns]\n",
            "     0\n",
            "0    0\n",
            "1    0\n",
            "2    0\n",
            "3    0\n",
            "4    0\n",
            "..  ..\n",
            "145  2\n",
            "146  2\n",
            "147  2\n",
            "148  2\n",
            "149  2\n",
            "\n",
            "[150 rows x 1 columns]\n"
          ]
        }
      ]
    },
    {
      "cell_type": "code",
      "source": [
        "from sklearn.model_selection import train_test_split\n",
        "\n",
        "X_train, X_test, y_train, y_test = train_test_split(x,y, test_size=0.2, random_state=10)\n",
        "X_train, X_val, y_train, y_val = train_test_split(X_train,y_train, test_size=0.25, random_state=10)\n",
        "\n",
        "\n",
        "\n",
        "\n",
        "print(x.shape)\n",
        "print(X_train.shape)\n",
        "print(X_test.shape)\n",
        "print(X_val.shape)\n",
        "\n"
      ],
      "metadata": {
        "id": "i2qCCXiA_hso",
        "colab": {
          "base_uri": "https://localhost:8080/"
        },
        "outputId": "70948947-9103-486b-be5a-ed568d7b8ada"
      },
      "execution_count": 46,
      "outputs": [
        {
          "output_type": "stream",
          "name": "stdout",
          "text": [
            "(150, 4)\n",
            "(90, 4)\n",
            "(30, 4)\n",
            "(30, 4)\n"
          ]
        }
      ]
    },
    {
      "cell_type": "markdown",
      "metadata": {
        "id": "DaDrcp5r6ybz"
      },
      "source": [
        "###1.3 **DETECCIÓN DE OUTLIERS** ([link](https://machinelearningmastery.com/model-based-outlier-detection-and-removal-in-python/))\n",
        "\n",
        "\n",
        "---\n",
        "Los *outliers* son observaciones que, dentro de un conjunto de datos, no encajan por alguna razón. Este tipo de datos pueden distorsionar o sesgar nuestra muestra, proporcionando una imagen engañosa de las relaciones subyacentes en los datos, afectando en última instancia al rendimiento de los algoritmos. \n",
        "\n",
        "Puede ser clave indentificar y eliminar outliers de nuestra muestra a la hora de entrenar modelos predictivos. El ajuste del modelo puede mejorar significativamente.\n",
        "\n",
        "A continuación vamos a mostrar algunos algoritmos con los que poder detectar este tipo de datos:\n"
      ]
    },
    {
      "cell_type": "code",
      "source": [
        "from scipy.stats import zscore\n",
        "\n",
        "dframe = pd.DataFrame([[1,0],[0,0],[1,1],[0,1],[0,1],[1,1],[1,1],[1,1],[1,1],[1,1],[1,1],[10,1],[1,1],[1,1],[1,10]], columns=['C1','C2'])\n",
        "print(dframe)"
      ],
      "metadata": {
        "id": "xi0gI7hIyrLB",
        "colab": {
          "base_uri": "https://localhost:8080/"
        },
        "outputId": "d37f52bc-ec47-440c-fd2e-63a3b6343db4"
      },
      "execution_count": 47,
      "outputs": [
        {
          "output_type": "stream",
          "name": "stdout",
          "text": [
            "    C1  C2\n",
            "0    1   0\n",
            "1    0   0\n",
            "2    1   1\n",
            "3    0   1\n",
            "4    0   1\n",
            "5    1   1\n",
            "6    1   1\n",
            "7    1   1\n",
            "8    1   1\n",
            "9    1   1\n",
            "10   1   1\n",
            "11  10   1\n",
            "12   1   1\n",
            "13   1   1\n",
            "14   1  10\n"
          ]
        }
      ]
    },
    {
      "cell_type": "code",
      "source": [
        "#Boxplot\n",
        "import seaborn as sns\n",
        "\n",
        "sns.boxplot(x=dframe['C1'])"
      ],
      "metadata": {
        "id": "8HTaXR6nBo8U",
        "colab": {
          "base_uri": "https://localhost:8080/",
          "height": 297
        },
        "outputId": "2b1c2e63-6858-4022-c858-a55a4982edb9"
      },
      "execution_count": 49,
      "outputs": [
        {
          "output_type": "execute_result",
          "data": {
            "text/plain": [
              "<matplotlib.axes._subplots.AxesSubplot at 0x7fefc2a36090>"
            ]
          },
          "metadata": {},
          "execution_count": 49
        },
        {
          "output_type": "display_data",
          "data": {
            "image/png": "[encoded data removed]",
            "text/plain": [
              "<Figure size 432x288 with 1 Axes>"
            ]
          },
          "metadata": {
            "needs_background": "light"
          }
        }
      ]
    },
    {
      "cell_type": "code",
      "source": [
        "from scipy import stats\n",
        "import numpy as np\n",
        "\n",
        "#ZSCORE\n",
        "#La puntuación Z es el número de desviaciones estándar\n",
        "#con signo en el que el valor de una observación o punto \n",
        "#de datos está por encima del valor medio de lo que se observa\n",
        "\n",
        "#El criterio más utilizado es definir el limite para estos valores en 3 desviaciones\n",
        "\n",
        "z = np.abs(stats.zscore(dframe['C1']))\n",
        "print('Outliers en C1 son', np.where(z >3))\n",
        "\n",
        "z = np.abs(stats.zscore(dframe['C2']))\n",
        "print('Outliers en C2 son', np.where(z >3))\n",
        "\n",
        "z = np.abs(stats.zscore(dframe))\n",
        "print('Outliers en conjunto son', np.where(z >3)) #orden de importancia"
      ],
      "metadata": {
        "id": "xS6Q6PJtC6I8",
        "colab": {
          "base_uri": "https://localhost:8080/"
        },
        "outputId": "2b696b36-1a06-44e4-9354-ba8d61fd6056"
      },
      "execution_count": 50,
      "outputs": [
        {
          "output_type": "stream",
          "name": "stdout",
          "text": [
            "Outliers en C1 son (array([11]),)\n",
            "Outliers en C2 son (array([14]),)\n",
            "Outliers en conjunto son (array([11, 14]), array([0, 1]))\n"
          ]
        }
      ]
    },
    {
      "cell_type": "markdown",
      "metadata": {
        "id": "n9m7tZFR61u-"
      },
      "source": [
        "###**1.4 PRIMEROS MODELOS DE REGRESIÓN Y CLASIFICACIÓN**\n",
        "---\n",
        "Veremos modelos más clásicos para abordar problemas de regresión y clasificación:\n"
      ]
    },
    {
      "cell_type": "markdown",
      "source": [
        "####**REGRESIÓN**\n",
        "\n",
        "\n",
        "*    [Linear regression](https://www.iartificial.net/regresion-lineal-con-ejemplos-en-python/)\n",
        "  <img src='https://drive.google.com/uc?id=1xKT_V2ni_d7N_ET1TXHsH6IFe08g1330' width=350px >\n",
        "\n",
        "  Imagen de [economipedia](https://economipedia.com/definiciones/modelo-de-regresion.html)\n",
        "\n",
        "\n",
        "*    [Random Forest](https://builtin-com.translate.goog/data-science/random-forest-algorithm?_x_tr_sl=en&_x_tr_tl=es&_x_tr_hl=es&_x_tr_pto=sc)\n",
        "\n",
        "  <img src='https://drive.google.com/uc?id=1nLdnSFMi7MpubGjsRt0z3gpa5lpOcYXJ' width=350px >\n",
        "\n",
        "  Imagen de [medium](https://medium.com/swlh/random-forest-and-its-implementation-71824ced454f)\n",
        "\n",
        "\n",
        "*   [Support Vector Machine](https://www-aionlinecourse-com.translate.goog/tutorial/machine-learning/support-vector-regression?_x_tr_sl=en&_x_tr_tl=es&_x_tr_hl=es&_x_tr_pto=sc)\n",
        "\n",
        "  <img src='https://drive.google.com/uc?id=1E-bXvIcRMsWhF1ldL-IeMNgholrIgFoL' width=350px height=200px >\n",
        "\n",
        "  Imagen de [saedsayad](https://www.saedsayad.com/support_vector_machine_reg.htm)\n",
        "\n",
        "\n",
        "\n",
        "\n",
        "\n"
      ],
      "metadata": {
        "id": "OoQvrHWEzIiN"
      }
    },
    {
      "cell_type": "markdown",
      "source": [
        "**DATOS: Meteorología de 2016 en Seatle**\n",
        "\n",
        "---\n"
      ],
      "metadata": {
        "id": "0cUZkF4EZAAd"
      }
    },
    {
      "cell_type": "code",
      "source": [
        "import pandas as pd\n",
        "data = pd.read_csv('/content/drive/MyDrive/Colab Notebooks/Ficheros/meteo.csv', sep=';')\n",
        "print(data.head())\n",
        "print(data.describe())\n",
        "print(data['week'])"
      ],
      "metadata": {
        "id": "LTk_n-WXUS0x",
        "colab": {
          "base_uri": "https://localhost:8080/"
        },
        "outputId": "1ceba4e6-1ad2-4333-d013-fd25885f22f5"
      },
      "execution_count": 51,
      "outputs": [
        {
          "output_type": "stream",
          "name": "stdout",
          "text": [
            "   month  day  week  ...  forecast_acc  forecast_under  friend\n",
            "0      1    1   Fri  ...            50              44      29\n",
            "1      1    2   Sat  ...            50              44      61\n",
            "2      1    3   Sun  ...            46              47      56\n",
            "3      1    4   Mon  ...            48              46      53\n",
            "4      1    5  Tues  ...            46              46      41\n",
            "\n",
            "[5 rows x 10 columns]\n",
            "            month         day  ...  forecast_under      friend\n",
            "count  348.000000  348.000000  ...      348.000000  348.000000\n",
            "mean     6.477011   15.514368  ...       59.772989   60.034483\n",
            "std      3.498380    8.772982  ...       10.705256   15.626179\n",
            "min      1.000000    1.000000  ...       44.000000   28.000000\n",
            "25%      3.000000    8.000000  ...       50.000000   47.750000\n",
            "50%      6.000000   15.000000  ...       58.000000   60.000000\n",
            "75%     10.000000   23.000000  ...       69.000000   71.000000\n",
            "max     12.000000   31.000000  ...       79.000000   95.000000\n",
            "\n",
            "[8 rows x 9 columns]\n",
            "0        Fri\n",
            "1        Sat\n",
            "2        Sun\n",
            "3        Mon\n",
            "4       Tues\n",
            "       ...  \n",
            "343     Tues\n",
            "344      Wed\n",
            "345    Thurs\n",
            "346      Fri\n",
            "347      Sat\n",
            "Name: week, Length: 348, dtype: object\n"
          ]
        }
      ]
    },
    {
      "cell_type": "markdown",
      "source": [
        "Tranformemos la variable categórica *week* (Feature Encoding)."
      ],
      "metadata": {
        "id": "D65Gu034W44P"
      }
    },
    {
      "cell_type": "code",
      "source": [
        "#One-hot encode the data using pandas get_dummies\n",
        "data_regression = pd.get_dummies(data)\n",
        "\n",
        "data_regression.iloc[:,5:].head(5)"
      ],
      "metadata": {
        "id": "cH-5L7rsWK5s",
        "colab": {
          "base_uri": "https://localhost:8080/",
          "height": 206
        },
        "outputId": "53753e98-6570-4016-f3c8-d73e393b508b"
      },
      "execution_count": 52,
      "outputs": [
        {
          "output_type": "execute_result",
          "data": {
            "text/html": [
              "\n",
              "  <div id=\"df-8e8fee6d-4c98-4c27-9df5-f05ea001d3b4\">\n",
              "    <div class=\"colab-df-container\">\n",
              "      <div>\n",
              "<style scoped>\n",
              "    .dataframe tbody tr th:only-of-type {\n",
              "        vertical-align: middle;\n",
              "    }\n",
              "\n",
              "    .dataframe tbody tr th {\n",
              "        vertical-align: top;\n",
              "    }\n",
              "\n",
              "    .dataframe thead th {\n",
              "        text-align: right;\n",
              "    }\n",
              "</style>\n",
              "<table border=\"1\" class=\"dataframe\">\n",
              "  <thead>\n",
              "    <tr style=\"text-align: right;\">\n",
              "      <th></th>\n",
              "      <th>forecast_noaa</th>\n",
              "      <th>forecast_acc</th>\n",
              "      <th>forecast_under</th>\n",
              "      <th>friend</th>\n",
              "      <th>week_Fri</th>\n",
              "      <th>week_Mon</th>\n",
              "      <th>week_Sat</th>\n",
              "      <th>week_Sun</th>\n",
              "      <th>week_Thurs</th>\n",
              "      <th>week_Tues</th>\n",
              "      <th>week_Wed</th>\n",
              "    </tr>\n",
              "  </thead>\n",
              "  <tbody>\n",
              "    <tr>\n",
              "      <th>0</th>\n",
              "      <td>43</td>\n",
              "      <td>50</td>\n",
              "      <td>44</td>\n",
              "      <td>29</td>\n",
              "      <td>1</td>\n",
              "      <td>0</td>\n",
              "      <td>0</td>\n",
              "      <td>0</td>\n",
              "      <td>0</td>\n",
              "      <td>0</td>\n",
              "      <td>0</td>\n",
              "    </tr>\n",
              "    <tr>\n",
              "      <th>1</th>\n",
              "      <td>41</td>\n",
              "      <td>50</td>\n",
              "      <td>44</td>\n",
              "      <td>61</td>\n",
              "      <td>0</td>\n",
              "      <td>0</td>\n",
              "      <td>1</td>\n",
              "      <td>0</td>\n",
              "      <td>0</td>\n",
              "      <td>0</td>\n",
              "      <td>0</td>\n",
              "    </tr>\n",
              "    <tr>\n",
              "      <th>2</th>\n",
              "      <td>43</td>\n",
              "      <td>46</td>\n",
              "      <td>47</td>\n",
              "      <td>56</td>\n",
              "      <td>0</td>\n",
              "      <td>0</td>\n",
              "      <td>0</td>\n",
              "      <td>1</td>\n",
              "      <td>0</td>\n",
              "      <td>0</td>\n",
              "      <td>0</td>\n",
              "    </tr>\n",
              "    <tr>\n",
              "      <th>3</th>\n",
              "      <td>44</td>\n",
              "      <td>48</td>\n",
              "      <td>46</td>\n",
              "      <td>53</td>\n",
              "      <td>0</td>\n",
              "      <td>1</td>\n",
              "      <td>0</td>\n",
              "      <td>0</td>\n",
              "      <td>0</td>\n",
              "      <td>0</td>\n",
              "      <td>0</td>\n",
              "    </tr>\n",
              "    <tr>\n",
              "      <th>4</th>\n",
              "      <td>46</td>\n",
              "      <td>46</td>\n",
              "      <td>46</td>\n",
              "      <td>41</td>\n",
              "      <td>0</td>\n",
              "      <td>0</td>\n",
              "      <td>0</td>\n",
              "      <td>0</td>\n",
              "      <td>0</td>\n",
              "      <td>1</td>\n",
              "      <td>0</td>\n",
              "    </tr>\n",
              "  </tbody>\n",
              "</table>\n",
              "</div>\n",
              "      <button class=\"colab-df-convert\" onclick=\"convertToInteractive('df-8e8fee6d-4c98-4c27-9df5-f05ea001d3b4')\"\n",
              "              title=\"Convert this dataframe to an interactive table.\"\n",
              "              style=\"display:none;\">\n",
              "        \n",
              "  <svg xmlns=\"http://www.w3.org/2000/svg\" height=\"24px\"viewBox=\"0 0 24 24\"\n",
              "       width=\"24px\">\n",
              "    <path d=\"M0 0h24v24H0V0z\" fill=\"none\"/>\n",
              "    <path d=\"M18.56 5.44l.94 2.06.94-2.06 2.06-.94-2.06-.94-.94-2.06-.94 2.06-2.06.94zm-11 1L8.5 8.5l.94-2.06 2.06-.94-2.06-.94L8.5 2.5l-.94 2.06-2.06.94zm10 10l.94 2.06.94-2.06 2.06-.94-2.06-.94-.94-2.06-.94 2.06-2.06.94z\"/><path d=\"M17.41 7.96l-1.37-1.37c-.4-.4-.92-.59-1.43-.59-.52 0-1.04.2-1.43.59L10.3 9.45l-7.72 7.72c-.78.78-.78 2.05 0 2.83L4 21.41c.39.39.9.59 1.41.59.51 0 1.02-.2 1.41-.59l7.78-7.78 2.81-2.81c.8-.78.8-2.07 0-2.86zM5.41 20L4 18.59l7.72-7.72 1.47 1.35L5.41 20z\"/>\n",
              "  </svg>\n",
              "      </button>\n",
              "      \n",
              "  <style>\n",
              "    .colab-df-container {\n",
              "      display:flex;\n",
              "      flex-wrap:wrap;\n",
              "      gap: 12px;\n",
              "    }\n",
              "\n",
              "    .colab-df-convert {\n",
              "      background-color: #E8F0FE;\n",
              "      border: none;\n",
              "      border-radius: 50%;\n",
              "      cursor: pointer;\n",
              "      display: none;\n",
              "      fill: #1967D2;\n",
              "      height: 32px;\n",
              "      padding: 0 0 0 0;\n",
              "      width: 32px;\n",
              "    }\n",
              "\n",
              "    .colab-df-convert:hover {\n",
              "      background-color: #E2EBFA;\n",
              "      box-shadow: 0px 1px 2px rgba(60, 64, 67, 0.3), 0px 1px 3px 1px rgba(60, 64, 67, 0.15);\n",
              "      fill: #174EA6;\n",
              "    }\n",
              "\n",
              "    [theme=dark] .colab-df-convert {\n",
              "      background-color: #3B4455;\n",
              "      fill: #D2E3FC;\n",
              "    }\n",
              "\n",
              "    [theme=dark] .colab-df-convert:hover {\n",
              "      background-color: #434B5C;\n",
              "      box-shadow: 0px 1px 3px 1px rgba(0, 0, 0, 0.15);\n",
              "      filter: drop-shadow(0px 1px 2px rgba(0, 0, 0, 0.3));\n",
              "      fill: #FFFFFF;\n",
              "    }\n",
              "  </style>\n",
              "\n",
              "      <script>\n",
              "        const buttonEl =\n",
              "          document.querySelector('#df-8e8fee6d-4c98-4c27-9df5-f05ea001d3b4 button.colab-df-convert');\n",
              "        buttonEl.style.display =\n",
              "          google.colab.kernel.accessAllowed ? 'block' : 'none';\n",
              "\n",
              "        async function convertToInteractive(key) {\n",
              "          const element = document.querySelector('#df-8e8fee6d-4c98-4c27-9df5-f05ea001d3b4');\n",
              "          const dataTable =\n",
              "            await google.colab.kernel.invokeFunction('convertToInteractive',\n",
              "                                                     [key], {});\n",
              "          if (!dataTable) return;\n",
              "\n",
              "          const docLinkHtml = 'Like what you see? Visit the ' +\n",
              "            '<a target=\"_blank\" href=https://colab.research.google.com/notebooks/data_table.ipynb>data table notebook</a>'\n",
              "            + ' to learn more about interactive tables.';\n",
              "          element.innerHTML = '';\n",
              "          dataTable['output_type'] = 'display_data';\n",
              "          await google.colab.output.renderOutput(dataTable, element);\n",
              "          const docLink = document.createElement('div');\n",
              "          docLink.innerHTML = docLinkHtml;\n",
              "          element.appendChild(docLink);\n",
              "        }\n",
              "      </script>\n",
              "    </div>\n",
              "  </div>\n",
              "  "
            ],
            "text/plain": [
              "   forecast_noaa  forecast_acc  forecast_under  ...  week_Thurs  week_Tues  week_Wed\n",
              "0             43            50              44  ...           0          0         0\n",
              "1             41            50              44  ...           0          0         0\n",
              "2             43            46              47  ...           0          0         0\n",
              "3             44            48              46  ...           0          0         0\n",
              "4             46            46              46  ...           0          1         0\n",
              "\n",
              "[5 rows x 11 columns]"
            ]
          },
          "metadata": {},
          "execution_count": 52
        }
      ]
    },
    {
      "cell_type": "code",
      "source": [
        "#Definir objetivo y variables explicativas\n",
        "\n",
        "#óptimo, normalizar por grupos de variables.\n",
        "# podemos también normalizar por variables\n",
        "\n",
        "\n",
        "import numpy as np \n",
        "\n",
        "y_reg = np.array(data_regression['actual'])\n",
        "X_reg = np.array(data_regression.drop('actual', axis=1))\n",
        "mean_y = np.nanmean(y_reg)\n",
        "\n",
        "#Normalizamos\n",
        "from sklearn.preprocessing import MinMaxScaler\n",
        "scal_y_reg = MinMaxScaler(feature_range=[0,1])\n",
        "scal_x_reg = MinMaxScaler(feature_range=[0,1])\n",
        "scal_y_reg.fit(y_reg.reshape(-1,1))\n",
        "scal_x_reg.fit(X_reg)\n",
        "\n",
        "y_reg = scal_y_reg.transform(y_reg.reshape(-1,1))\n",
        "X_reg = scal_x_reg.transform(X_reg)\n",
        "print(X_reg)"
      ],
      "metadata": {
        "id": "F2S01KlfYmta",
        "colab": {
          "base_uri": "https://localhost:8080/"
        },
        "outputId": "d5e74442-e9fc-453b-d4a6-c4e5aab3a722"
      },
      "execution_count": 54,
      "outputs": [
        {
          "output_type": "stream",
          "name": "stdout",
          "text": [
            "[[0.         0.         0.12195122 ... 0.         0.         0.        ]\n",
            " [0.         0.03333333 0.1097561  ... 0.         0.         0.        ]\n",
            " [0.         0.06666667 0.12195122 ... 0.         0.         0.        ]\n",
            " ...\n",
            " [1.         0.93333333 0.14634146 ... 1.         0.         0.        ]\n",
            " [1.         0.96666667 0.15853659 ... 0.         0.         0.        ]\n",
            " [1.         1.         0.15853659 ... 0.         0.         0.        ]]\n"
          ]
        }
      ]
    },
    {
      "cell_type": "code",
      "source": [
        "#TRAIN - TEST\n",
        "from sklearn.model_selection import train_test_split\n",
        "\n",
        "X_train_reg, X_test_reg, y_train_reg, y_test_reg = train_test_split(X_reg, y_reg, test_size = 0.3, random_state = 7)\n",
        "\n",
        "\n",
        "print('Training shape:', X_train_reg.shape)\n",
        "print('Test shape:', X_test_reg.shape)"
      ],
      "metadata": {
        "id": "oSJ3a2j3ZZfq",
        "colab": {
          "base_uri": "https://localhost:8080/"
        },
        "outputId": "6912cea0-3099-42dd-b69c-5276f5d9fee8"
      },
      "execution_count": 55,
      "outputs": [
        {
          "output_type": "stream",
          "name": "stdout",
          "text": [
            "Training shape: (243, 15)\n",
            "Test shape: (105, 15)\n"
          ]
        }
      ]
    },
    {
      "cell_type": "markdown",
      "source": [
        "#####[**Linear regression**](https://www.iartificial.net/regresion-lineal-con-ejemplos-en-python/)"
      ],
      "metadata": {
        "id": "X-id6nxqESjF"
      }
    },
    {
      "cell_type": "code",
      "source": [
        "import matplotlib.pyplot as plt\n",
        "from sklearn import datasets, linear_model, metrics\n",
        "\n",
        "\n",
        "# Objeto de regresion lineal\n",
        "reg = linear_model.LinearRegression()\n",
        " \n",
        "# Entrenamiento\n",
        "reg.fit(X_train_reg, y_train_reg)\n",
        " \n",
        "#Predición\n",
        "y_pred = reg.predict(X_test_reg)\n",
        "y_pred = scal_y_reg.inverse_transform(y_pred)\n",
        "y_real = scal_y_reg.inverse_transform(y_test_reg)\n",
        "\n",
        "#Gráfico\n",
        "plt.plot(range(len(y_real)), y_real, color='black', label='Real')\n",
        "plt.plot(range(len(y_pred)), y_pred, color='blue', label='Prediction')\n",
        "plt.ylim(0,120)\n",
        "plt.legend()\n",
        "plt.title('Linear Regression')\n",
        "plt.show()\n",
        "\n",
        "#Error\n",
        "cv_rmse = 100 * (np.sqrt(metrics.mean_squared_error(y_real, y_pred))/ mean_y)\n",
        "print('El error medio en la predicción es:', cv_rmse)\n",
        "\n"
      ],
      "metadata": {
        "id": "dq8RJ1p6FeUf",
        "colab": {
          "base_uri": "https://localhost:8080/",
          "height": 299
        },
        "outputId": "1b033cc0-215b-4b8d-b2a1-50b6a5be8b59"
      },
      "execution_count": 56,
      "outputs": [
        {
          "output_type": "display_data",
          "data": {
            "image/png": "[encoded data removed]",
            "text/plain": [
              "<Figure size 432x288 with 1 Axes>"
            ]
          },
          "metadata": {
            "needs_background": "light"
          }
        },
        {
          "output_type": "stream",
          "name": "stdout",
          "text": [
            "El error medio en la predicción es: 7.255746578794252\n"
          ]
        }
      ]
    },
    {
      "cell_type": "markdown",
      "source": [
        "#####[**Random Forest**](https://builtin-com.translate.goog/data-science/random-forest-algorithm?_x_tr_sl=en&_x_tr_tl=es&_x_tr_hl=es&_x_tr_pto=sc)\n",
        "\n"
      ],
      "metadata": {
        "id": "zgXbY-jHEZya"
      }
    },
    {
      "cell_type": "code",
      "source": [
        "from sklearn.ensemble import RandomForestRegressor\n",
        "\n",
        "\n",
        "#Definimos el modelo y evaluamos en X_test\n",
        "n_estimators=200\n",
        "#Otros parametros\n",
        "#max_features: selección variables\n",
        "#min_samples_split = hasta donde iríamos en la division\n",
        "\n",
        "#la selección habría que hacer uns búsqueda de los parámetros (x_validation): hay funciones (cross_validation)\n",
        "\n",
        "model = RandomForestRegressor(n_estimators=n_estimators, random_state=7)\n",
        "model.fit(X_train_reg, y_train_reg)\n",
        "\n",
        "\n",
        "#Escalamos inversamente\n",
        "y_pred = model.predict(X_test_reg)\n",
        "y_pred = scal_y_reg.inverse_transform(y_pred.reshape(-1,1))\n",
        "y_real = scal_y_reg.inverse_transform(y_test_reg)\n",
        "\n",
        "#Gráfico\n",
        "plt.plot(range(len(y_real)), y_real, color='black', label='Real')\n",
        "plt.plot(range(len(y_pred)), y_pred, color='blue', label='Prediction')\n",
        "plt.ylim(0,120)\n",
        "plt.legend()\n",
        "plt.title('Random Forest')\n",
        "plt.show()\n",
        "\n",
        "#Error\n",
        "cv_rmse = 100 * (np.sqrt(metrics.mean_squared_error(y_real, y_pred))/ mean_y)\n",
        "print('El error medio en la predicción es:', cv_rmse)\n",
        "\n"
      ],
      "metadata": {
        "id": "AMdkMj-_hXgz",
        "colab": {
          "base_uri": "https://localhost:8080/",
          "height": 356
        },
        "outputId": "21bc54fd-42ee-4e29-a79a-f874316557bc"
      },
      "execution_count": 62,
      "outputs": [
        {
          "output_type": "stream",
          "name": "stderr",
          "text": [
            "/usr/local/lib/python3.7/dist-packages/ipykernel_launcher.py:13: DataConversionWarning: A column-vector y was passed when a 1d array was expected. Please change the shape of y to (n_samples,), for example using ravel().\n",
            "  del sys.path[0]\n"
          ]
        },
        {
          "output_type": "display_data",
          "data": {
            "image/png": "[encoded data removed]",
            "text/plain": [
              "<Figure size 432x288 with 1 Axes>"
            ]
          },
          "metadata": {
            "needs_background": "light"
          }
        },
        {
          "output_type": "stream",
          "name": "stdout",
          "text": [
            "El error medio en la predicción es: 7.384931417036168\n"
          ]
        }
      ]
    },
    {
      "cell_type": "markdown",
      "source": [
        "#####[**Support Vector Machine**](https://www-aionlinecourse-com.translate.goog/tutorial/machine-learning/support-vector-regression?_x_tr_sl=en&_x_tr_tl=es&_x_tr_hl=es&_x_tr_pto=sc)\n",
        "\n",
        "\n",
        "\n"
      ],
      "metadata": {
        "id": "4oMKMrp9EgSF"
      }
    },
    {
      "cell_type": "code",
      "source": [
        "from sklearn.svm import SVR\n",
        "\n",
        "#Definimos el modelo y evaluamos en X_test\n",
        "epsilon=0.01\n",
        "#Otros párametros\n",
        "#C regularizaicón del problema\n",
        "#kernel: 'linear', 'poly',sigmoid'\n",
        "\n",
        "model = SVR(epsilon=epsilon)\n",
        "model.fit(X_train_reg, y_train_reg)\n",
        "\n",
        "\n",
        "#Escalamos inversamente\n",
        "y_pred = model.predict(X_test_reg)\n",
        "y_pred = scal_y_reg.inverse_transform(y_pred.reshape(-1,1))\n",
        "y_real = scal_y_reg.inverse_transform(y_test_reg)\n",
        "\n",
        "#Gráfico\n",
        "plt.plot(range(len(y_real)), y_real, color='black', label='Real')\n",
        "plt.plot(range(len(y_pred)), y_pred, color='blue', label='Prediction')\n",
        "plt.ylim(0,120)\n",
        "plt.legend()\n",
        "plt.title('Support Vector Regressor')\n",
        "plt.show()\n",
        "\n",
        "#Error\n",
        "cv_rmse = 100 * (np.sqrt(metrics.mean_squared_error(y_real, y_pred))/ mean_y)\n",
        "print('El error medio en la predicción es:', cv_rmse)\n",
        "\n"
      ],
      "metadata": {
        "id": "WfofQiXYrINY",
        "colab": {
          "base_uri": "https://localhost:8080/",
          "height": 356
        },
        "outputId": "a679024e-8c7e-4382-b146-9f64b258d277"
      },
      "execution_count": 65,
      "outputs": [
        {
          "output_type": "stream",
          "name": "stderr",
          "text": [
            "/usr/local/lib/python3.7/dist-packages/sklearn/utils/validation.py:993: DataConversionWarning: A column-vector y was passed when a 1d array was expected. Please change the shape of y to (n_samples, ), for example using ravel().\n",
            "  y = column_or_1d(y, warn=True)\n"
          ]
        },
        {
          "output_type": "display_data",
          "data": {
            "image/png": "[encoded data removed]",
            "text/plain": [
              "<Figure size 432x288 with 1 Axes>"
            ]
          },
          "metadata": {
            "needs_background": "light"
          }
        },
        {
          "output_type": "stream",
          "name": "stdout",
          "text": [
            "El error medio en la predicción es: 8.076538986323722\n"
          ]
        }
      ]
    },
    {
      "cell_type": "markdown",
      "source": [
        "####**CLASIFICACIÓN**\n",
        "\n",
        "*    [Logistic regression](https://christophm-github-io.translate.goog/interpretable-ml-book/logistic.html?_x_tr_sl=en&_x_tr_tl=es&_x_tr_hl=es&_x_tr_pto=sc)\n",
        "  <img src='https://drive.google.com/uc?id=1xDmupSd2vbw14IkYSROOjT7xOpm4oGU4' width=350px >\n",
        "\n",
        "  Imagen de [christophm](https://christophm-github-io.translate.goog/interpretable-ml-book/logistic.html?_x_tr_sl=en&_x_tr_tl=es&_x_tr_hl=es&_x_tr_pto=sc)\n",
        "\n",
        "\n",
        "*    [Random Forest](https://builtin-com.translate.goog/data-science/random-forest-algorithm?_x_tr_sl=en&_x_tr_tl=es&_x_tr_hl=es&_x_tr_pto=sc)\n",
        "\n",
        "  <img src='https://drive.google.com/uc?id=1nLdnSFMi7MpubGjsRt0z3gpa5lpOcYXJ' width=350px >\n",
        "\n",
        "  Imagen de [medium](https://medium.com/swlh/random-forest-and-its-implementation-71824ced454f)\n",
        "\n",
        "\n",
        "*   [Support Vector Machine](https://www-aionlinecourse-com.translate.goog/tutorial/machine-learning/support-vector-regression?_x_tr_sl=en&_x_tr_tl=es&_x_tr_hl=es&_x_tr_pto=sc)\n",
        "\n",
        "  <img src='https://drive.google.com/uc?id=1E-bXvIcRMsWhF1ldL-IeMNgholrIgFoL' width=350px height=200px >\n",
        "\n",
        "  Imagen de [saedsayad](https://www.saedsayad.com/support_vector_machine_reg.htm)\n",
        "\n",
        "\n",
        "\n"
      ],
      "metadata": {
        "id": "Zkrl-9lSzR2Z"
      }
    },
    {
      "cell_type": "markdown",
      "source": [
        "**DATOS: Tipos de flores (iris).**\n",
        "\n",
        "---"
      ],
      "metadata": {
        "id": "rphl9WWuoSsp"
      }
    },
    {
      "cell_type": "code",
      "source": [
        "from sklearn import datasets\n",
        "import pandas as pd\n",
        "import numpy as np\n",
        "\n",
        "iris = datasets.load_iris()\n",
        "\n",
        "data_class=pd.DataFrame({\n",
        "    'sepal length':iris.data[:,0],\n",
        "    'sepal width':iris.data[:,1],\n",
        "    'petal length':iris.data[:,2],\n",
        "    'petal width':iris.data[:,3],\n",
        "    'species':iris.target\n",
        "})\n",
        "data_class.head()"
      ],
      "metadata": {
        "id": "nSn3dF6XtfJv",
        "colab": {
          "base_uri": "https://localhost:8080/",
          "height": 206
        },
        "outputId": "d7ffd67a-050d-44c5-e993-9a880ce873c7"
      },
      "execution_count": 66,
      "outputs": [
        {
          "output_type": "execute_result",
          "data": {
            "text/html": [
              "\n",
              "  <div id=\"df-6d579635-5eac-4380-9194-e23437a76500\">\n",
              "    <div class=\"colab-df-container\">\n",
              "      <div>\n",
              "<style scoped>\n",
              "    .dataframe tbody tr th:only-of-type {\n",
              "        vertical-align: middle;\n",
              "    }\n",
              "\n",
              "    .dataframe tbody tr th {\n",
              "        vertical-align: top;\n",
              "    }\n",
              "\n",
              "    .dataframe thead th {\n",
              "        text-align: right;\n",
              "    }\n",
              "</style>\n",
              "<table border=\"1\" class=\"dataframe\">\n",
              "  <thead>\n",
              "    <tr style=\"text-align: right;\">\n",
              "      <th></th>\n",
              "      <th>sepal length</th>\n",
              "      <th>sepal width</th>\n",
              "      <th>petal length</th>\n",
              "      <th>petal width</th>\n",
              "      <th>species</th>\n",
              "    </tr>\n",
              "  </thead>\n",
              "  <tbody>\n",
              "    <tr>\n",
              "      <th>0</th>\n",
              "      <td>5.1</td>\n",
              "      <td>3.5</td>\n",
              "      <td>1.4</td>\n",
              "      <td>0.2</td>\n",
              "      <td>0</td>\n",
              "    </tr>\n",
              "    <tr>\n",
              "      <th>1</th>\n",
              "      <td>4.9</td>\n",
              "      <td>3.0</td>\n",
              "      <td>1.4</td>\n",
              "      <td>0.2</td>\n",
              "      <td>0</td>\n",
              "    </tr>\n",
              "    <tr>\n",
              "      <th>2</th>\n",
              "      <td>4.7</td>\n",
              "      <td>3.2</td>\n",
              "      <td>1.3</td>\n",
              "      <td>0.2</td>\n",
              "      <td>0</td>\n",
              "    </tr>\n",
              "    <tr>\n",
              "      <th>3</th>\n",
              "      <td>4.6</td>\n",
              "      <td>3.1</td>\n",
              "      <td>1.5</td>\n",
              "      <td>0.2</td>\n",
              "      <td>0</td>\n",
              "    </tr>\n",
              "    <tr>\n",
              "      <th>4</th>\n",
              "      <td>5.0</td>\n",
              "      <td>3.6</td>\n",
              "      <td>1.4</td>\n",
              "      <td>0.2</td>\n",
              "      <td>0</td>\n",
              "    </tr>\n",
              "  </tbody>\n",
              "</table>\n",
              "</div>\n",
              "      <button class=\"colab-df-convert\" onclick=\"convertToInteractive('df-6d579635-5eac-4380-9194-e23437a76500')\"\n",
              "              title=\"Convert this dataframe to an interactive table.\"\n",
              "              style=\"display:none;\">\n",
              "        \n",
              "  <svg xmlns=\"http://www.w3.org/2000/svg\" height=\"24px\"viewBox=\"0 0 24 24\"\n",
              "       width=\"24px\">\n",
              "    <path d=\"M0 0h24v24H0V0z\" fill=\"none\"/>\n",
              "    <path d=\"M18.56 5.44l.94 2.06.94-2.06 2.06-.94-2.06-.94-.94-2.06-.94 2.06-2.06.94zm-11 1L8.5 8.5l.94-2.06 2.06-.94-2.06-.94L8.5 2.5l-.94 2.06-2.06.94zm10 10l.94 2.06.94-2.06 2.06-.94-2.06-.94-.94-2.06-.94 2.06-2.06.94z\"/><path d=\"M17.41 7.96l-1.37-1.37c-.4-.4-.92-.59-1.43-.59-.52 0-1.04.2-1.43.59L10.3 9.45l-7.72 7.72c-.78.78-.78 2.05 0 2.83L4 21.41c.39.39.9.59 1.41.59.51 0 1.02-.2 1.41-.59l7.78-7.78 2.81-2.81c.8-.78.8-2.07 0-2.86zM5.41 20L4 18.59l7.72-7.72 1.47 1.35L5.41 20z\"/>\n",
              "  </svg>\n",
              "      </button>\n",
              "      \n",
              "  <style>\n",
              "    .colab-df-container {\n",
              "      display:flex;\n",
              "      flex-wrap:wrap;\n",
              "      gap: 12px;\n",
              "    }\n",
              "\n",
              "    .colab-df-convert {\n",
              "      background-color: #E8F0FE;\n",
              "      border: none;\n",
              "      border-radius: 50%;\n",
              "      cursor: pointer;\n",
              "      display: none;\n",
              "      fill: #1967D2;\n",
              "      height: 32px;\n",
              "      padding: 0 0 0 0;\n",
              "      width: 32px;\n",
              "    }\n",
              "\n",
              "    .colab-df-convert:hover {\n",
              "      background-color: #E2EBFA;\n",
              "      box-shadow: 0px 1px 2px rgba(60, 64, 67, 0.3), 0px 1px 3px 1px rgba(60, 64, 67, 0.15);\n",
              "      fill: #174EA6;\n",
              "    }\n",
              "\n",
              "    [theme=dark] .colab-df-convert {\n",
              "      background-color: #3B4455;\n",
              "      fill: #D2E3FC;\n",
              "    }\n",
              "\n",
              "    [theme=dark] .colab-df-convert:hover {\n",
              "      background-color: #434B5C;\n",
              "      box-shadow: 0px 1px 3px 1px rgba(0, 0, 0, 0.15);\n",
              "      filter: drop-shadow(0px 1px 2px rgba(0, 0, 0, 0.3));\n",
              "      fill: #FFFFFF;\n",
              "    }\n",
              "  </style>\n",
              "\n",
              "      <script>\n",
              "        const buttonEl =\n",
              "          document.querySelector('#df-6d579635-5eac-4380-9194-e23437a76500 button.colab-df-convert');\n",
              "        buttonEl.style.display =\n",
              "          google.colab.kernel.accessAllowed ? 'block' : 'none';\n",
              "\n",
              "        async function convertToInteractive(key) {\n",
              "          const element = document.querySelector('#df-6d579635-5eac-4380-9194-e23437a76500');\n",
              "          const dataTable =\n",
              "            await google.colab.kernel.invokeFunction('convertToInteractive',\n",
              "                                                     [key], {});\n",
              "          if (!dataTable) return;\n",
              "\n",
              "          const docLinkHtml = 'Like what you see? Visit the ' +\n",
              "            '<a target=\"_blank\" href=https://colab.research.google.com/notebooks/data_table.ipynb>data table notebook</a>'\n",
              "            + ' to learn more about interactive tables.';\n",
              "          element.innerHTML = '';\n",
              "          dataTable['output_type'] = 'display_data';\n",
              "          await google.colab.output.renderOutput(dataTable, element);\n",
              "          const docLink = document.createElement('div');\n",
              "          docLink.innerHTML = docLinkHtml;\n",
              "          element.appendChild(docLink);\n",
              "        }\n",
              "      </script>\n",
              "    </div>\n",
              "  </div>\n",
              "  "
            ],
            "text/plain": [
              "   sepal length  sepal width  petal length  petal width  species\n",
              "0           5.1          3.5           1.4          0.2        0\n",
              "1           4.9          3.0           1.4          0.2        0\n",
              "2           4.7          3.2           1.3          0.2        0\n",
              "3           4.6          3.1           1.5          0.2        0\n",
              "4           5.0          3.6           1.4          0.2        0"
            ]
          },
          "metadata": {},
          "execution_count": 66
        }
      ]
    },
    {
      "cell_type": "code",
      "source": [
        "#Comprovamos el balance en las clases\n",
        "data_class['species'].value_counts()"
      ],
      "metadata": {
        "id": "zotRtQ7-t5v3",
        "colab": {
          "base_uri": "https://localhost:8080/"
        },
        "outputId": "bffafb53-672d-4109-ca21-add399319eb2"
      },
      "execution_count": 67,
      "outputs": [
        {
          "output_type": "execute_result",
          "data": {
            "text/plain": [
              "0    50\n",
              "1    50\n",
              "2    50\n",
              "Name: species, dtype: int64"
            ]
          },
          "metadata": {},
          "execution_count": 67
        }
      ]
    },
    {
      "cell_type": "code",
      "source": [
        "from sklearn.model_selection import train_test_split\n",
        "\n",
        "\n",
        "X=np.array(data_class.drop('species', axis=1))\n",
        "y=np.array(data_class['species'])\n",
        "\n",
        "\n",
        "#Escalamos (solo X)\n",
        "from sklearn.preprocessing import MinMaxScaler\n",
        "scal_x_class = MinMaxScaler(feature_range=[0,1])\n",
        "scal_x_class.fit(X)\n",
        "X = scal_x_class.transform(X)\n",
        "\n",
        "X_train_class, X_test_class, y_train_class, y_test_class = train_test_split(X, y, test_size=0.3)\n",
        "print(y)"
      ],
      "metadata": {
        "id": "oZf3BgjBt6wy",
        "colab": {
          "base_uri": "https://localhost:8080/"
        },
        "outputId": "0c1801db-e870-4a46-a169-f39069943aa2"
      },
      "execution_count": 68,
      "outputs": [
        {
          "output_type": "stream",
          "name": "stdout",
          "text": [
            "[0 0 0 0 0 0 0 0 0 0 0 0 0 0 0 0 0 0 0 0 0 0 0 0 0 0 0 0 0 0 0 0 0 0 0 0 0\n",
            " 0 0 0 0 0 0 0 0 0 0 0 0 0 1 1 1 1 1 1 1 1 1 1 1 1 1 1 1 1 1 1 1 1 1 1 1 1\n",
            " 1 1 1 1 1 1 1 1 1 1 1 1 1 1 1 1 1 1 1 1 1 1 1 1 1 1 2 2 2 2 2 2 2 2 2 2 2\n",
            " 2 2 2 2 2 2 2 2 2 2 2 2 2 2 2 2 2 2 2 2 2 2 2 2 2 2 2 2 2 2 2 2 2 2 2 2 2\n",
            " 2 2]\n"
          ]
        }
      ]
    },
    {
      "cell_type": "markdown",
      "source": [
        "#####[**Logistic regression**](https://christophm-github-io.translate.goog/interpretable-ml-book/logistic.html?_x_tr_sl=en&_x_tr_tl=es&_x_tr_hl=es&_x_tr_pto=sc)\n"
      ],
      "metadata": {
        "id": "DcW1yZaUzbIe"
      }
    },
    {
      "cell_type": "code",
      "source": [
        "from sklearn.linear_model import LogisticRegression\n",
        "from sklearn.metrics import accuracy_score\n",
        "\n",
        "#Modelo\n",
        "model=LogisticRegression(multi_class='multinomial', solver='lbfgs')\n",
        "\n",
        "# Entrenamiento\n",
        "model.fit(X_train_class, y_train_class)\n",
        " \n",
        "#Predición\n",
        "y_pred = model.predict(X_test_class)\n",
        "\n",
        "\n",
        "#Gráfico\n",
        "plt.scatter(range(len(y_test_class)), y_test_class, color='blue', label='Real')\n",
        "plt.scatter(range(len(y_pred)), y_pred, color='red', label='Prediction')\n",
        "plt.ylim(-1,4)\n",
        "plt.legend()\n",
        "plt.title('Regresión logística')\n",
        "plt.show()\n",
        "\n",
        "#Precisión\n",
        "accuracy = accuracy_score(y_test_class, y_pred)*100\n",
        "print('La precisión es de: %.2f' % accuracy, '%')"
      ],
      "metadata": {
        "id": "PCZ3sPHhzjPh",
        "colab": {
          "base_uri": "https://localhost:8080/",
          "height": 299
        },
        "outputId": "bf8005cd-7b65-4f7d-f268-4e98e3001b10"
      },
      "execution_count": 69,
      "outputs": [
        {
          "output_type": "display_data",
          "data": {
            "image/png": "[encoded data removed]",
            "text/plain": [
              "<Figure size 432x288 with 1 Axes>"
            ]
          },
          "metadata": {
            "needs_background": "light"
          }
        },
        {
          "output_type": "stream",
          "name": "stdout",
          "text": [
            "La precisión es de: 93.33 %\n"
          ]
        }
      ]
    },
    {
      "cell_type": "markdown",
      "source": [
        "#####[**Random Forest**](https://builtin-com.translate.goog/data-science/random-forest-algorithm?_x_tr_sl=en&_x_tr_tl=es&_x_tr_hl=es&_x_tr_pto=sc)\n"
      ],
      "metadata": {
        "id": "CqZOL9YgEreW"
      }
    },
    {
      "cell_type": "code",
      "source": [
        "from sklearn.metrics import accuracy_score\n",
        "from sklearn.ensemble import RandomForestClassifier\n",
        "\n",
        "#Definimos el modelo óptimo y evaluamos en X_test\n",
        "n_estimators=100\n",
        "model = RandomForestClassifier(n_estimators=n_estimators, random_state=5)\n",
        "model.fit(X_train_class, y_train_class)\n",
        "y_pred = model.predict(X_test_class)\n",
        "\n",
        "\n",
        "#Gráfico\n",
        "plt.scatter(range(len(y_test_class)), y_test_class, color='blue', label='Real')\n",
        "plt.scatter(range(len(y_pred)), y_pred, color='red', label='Prediction')\n",
        "plt.ylim(-1,4)\n",
        "plt.legend()\n",
        "plt.title('Random Forest')\n",
        "plt.show()\n",
        "\n",
        "#Precisión\n",
        "accuracy = accuracy_score(y_test_class, y_pred)*100\n",
        "print('La precisión es de: %.2f' % accuracy, '%')"
      ],
      "metadata": {
        "id": "-s6J8aoEzAmU",
        "colab": {
          "base_uri": "https://localhost:8080/",
          "height": 299
        },
        "outputId": "2d4e9e56-f123-4a15-ad44-1f3d99a8af55"
      },
      "execution_count": 73,
      "outputs": [
        {
          "output_type": "display_data",
          "data": {
            "image/png": "[encoded data removed]",
            "text/plain": [
              "<Figure size 432x288 with 1 Axes>"
            ]
          },
          "metadata": {
            "needs_background": "light"
          }
        },
        {
          "output_type": "stream",
          "name": "stdout",
          "text": [
            "La precisión es de: 95.56 %\n"
          ]
        }
      ]
    },
    {
      "cell_type": "markdown",
      "source": [
        "#####[**Support Vector Machine**](https://www-aionlinecourse-com.translate.goog/tutorial/machine-learning/support-vector-regression?_x_tr_sl=en&_x_tr_tl=es&_x_tr_hl=es&_x_tr_pto=sc)\n"
      ],
      "metadata": {
        "id": "9jvys7rXEwLW"
      }
    },
    {
      "cell_type": "code",
      "source": [
        "from sklearn.metrics import accuracy_score\n",
        "from sklearn.svm import SVC\n",
        "#Definimos el modelo óptimo y evaluamos en X_test\n",
        "\n",
        "C=10\n",
        "model = SVC(C=C)\n",
        "model.fit(X_train_class, y_train_class)\n",
        "y_pred = model.predict(X_test_class)\n",
        "\n",
        "#Gráfico\n",
        "plt.scatter(range(len(y_test_class)), y_test_class, color='blue', label='Real')\n",
        "plt.scatter(range(len(y_pred)), y_pred, color='red', label='Prediction')\n",
        "plt.ylim(-1,4)\n",
        "plt.legend()\n",
        "plt.title('Support Vector Classificator')\n",
        "plt.show()\n",
        "\n",
        "#Precisión\n",
        "accuracy = accuracy_score(y_test_class, y_pred)*100\n",
        "print('La precisión es de: %.2f' % accuracy, '%')"
      ],
      "metadata": {
        "id": "6-SVa3Uo2_Ie",
        "colab": {
          "base_uri": "https://localhost:8080/",
          "height": 299
        },
        "outputId": "c47b36ec-51df-4265-cc50-63422d137173"
      },
      "execution_count": 76,
      "outputs": [
        {
          "output_type": "display_data",
          "data": {
            "image/png": "[encoded data removed]",
            "text/plain": [
              "<Figure size 432x288 with 1 Axes>"
            ]
          },
          "metadata": {
            "needs_background": "light"
          }
        },
        {
          "output_type": "stream",
          "name": "stdout",
          "text": [
            "La precisión es de: 93.33 %\n"
          ]
        }
      ]
    },
    {
      "cell_type": "markdown",
      "metadata": {
        "id": "7-R1Er1X67v4"
      },
      "source": [
        "###[**1.5 RED NEURONAL**](https://www.analyticsvidhya.com/blog/2020/02/cnn-vs-rnn-vs-mlp-analyzing-3-types-of-neural-networks-in-deep-learning/)\n",
        "---"
      ]
    },
    {
      "cell_type": "markdown",
      "source": [
        "Las redes neuronales son el algoritmo de Machine/Deep Learning más conocido. Hay muchos tipos de redes neuronales (Artifical Neural Network (ANN)). El más utilizado es el multicapa (MultiLayer Perceptron neural network) que se muestra en la siguiente figura:\n",
        "\n",
        "<center><img src='https://drive.google.com/uc?id=1VHTwhACGi7GFZ2yyoa8XsBuiRplUQShw' width=500px></center>\n",
        "\n",
        "\n",
        "\n",
        "Parámetros importantes:\n",
        "\n",
        "\n",
        "*   Capas ocultas (Hidden Layers)\n",
        "*   Neuronas en cada capa\n",
        "*   Funciones de activación ([Activation function](https://towardsdatascience-com.translate.goog/activation-functions-neural-networks-1cbd9f8d91d6?gi=b1ceb389406f&_x_tr_sl=en&_x_tr_tl=es&_x_tr_hl=es&_x_tr_pto=sc))\n",
        "*   Optimizadores ([Optimiser](https://towardsdatascience.com/optimizers-for-training-neural-network-59450d71caf6https://))\n",
        "*   [Tipo de entrenamiento](https://svitla.com/blog/modern-methods-of-neural-network-training) ([Weights update](https://machinelearningmastery.com/implement-backpropagation-algorithm-scratch-python/), [learning method](https://machinelearningmastery.com/types-of-learning-in-machine-learning/), etc)\n",
        "*   Profundidade del entrenamiento (*Overfitting*)\n",
        "\n",
        "\n"
      ],
      "metadata": {
        "id": "Ro00vyIW_Trv"
      }
    },
    {
      "cell_type": "code",
      "source": [
        "from keras.models import Sequential\n",
        "from keras.layers import Dense, Activation\n",
        "from keras.callbacks import EarlyStopping\n",
        "from keras.callbacks import ModelCheckpoint\n",
        "from sklearn import metrics\n",
        "\n",
        "#Arquitectura MLP neural network para regresión\n",
        "def built_mlp_reg(neurons,X_train):\n",
        "  MLP_model =Sequential()\n",
        "  #Capa input\n",
        "  MLP_model.add(Dense(X_train.shape[1], kernel_initializer='normal', input_dim=X_train.shape[1], activation='relu'))\n",
        "  #Capas ocultas\n",
        "  for nn in range(len(neurons)):\n",
        "    MLP_model.add(Dense(neurons[nn], kernel_initializer='normal', activation='relu'))\n",
        "  #Capa output\n",
        "  MLP_model.add(Dense(1, kernel_initializer='normal', activation='linear'))\n",
        "  MLP_model.compile(loss='mse', optimizer='adam', metrics=['mean_squared_error'])\n",
        "  MLP_model.summary() \n",
        "  return MLP_model\n",
        "\n",
        "#Arquitectura MLP neural network para clasificacion\n",
        "def built_mlp_class(neurons, X_train,n_labels):\n",
        "  MLP_model =Sequential()\n",
        "  #Capa input\n",
        "  MLP_model.add(Dense(X_train.shape[1], input_dim=X_train.shape[1], activation='relu'))\n",
        "  #Capas ocultas\n",
        "  for nn in range(len(neurons)):\n",
        "    MLP_model.add(Dense(neurons[nn], activation='relu'))\n",
        "  #Capa output\n",
        "  MLP_model.add(Dense(n_labels,activation='softmax'))\n",
        "  MLP_model.compile(loss='categorical_crossentropy', optimizer='adam', metrics=['categorical_accuracy'])\n",
        "  MLP_model.summary() \n",
        "  return MLP_model\n",
        "\n",
        "#Entrenamiento de MLP neural network para regresión\n",
        "def train_mlp(model, patience, batch_size, X_train, y_train, X_val, y_val):\n",
        "  es = EarlyStopping(monitor='val_loss', mode='min', verbose=0, patience=patience)\n",
        "  mc = ModelCheckpoint('best_model.h5', monitor='val_loss', mode='min', verbose=0, save_best_only=True)\n",
        "  #Ajustamos datos\n",
        "  model.fit(X_train, y_train, epochs=1000, validation_data=(X_val, y_val), batch_size=batch_size,\n",
        "                    callbacks=[es,mc])\n",
        "  return model\n",
        "\n",
        "#Entrenamiento de MLP neural network para clasificación\n",
        "def train_mlp_class(model, patience, batch_size, X_train, y_train, X_val, y_val):\n",
        "  es = EarlyStopping(monitor='val_categorical_accuracy', mode='max', verbose=0,patience=patience)\n",
        "  mc = ModelCheckpoint('best_model_class.h5', monitor='val_categorical_accuracy', mode='max', verbose=0, save_best_only=True)\n",
        "  #Ajustamos datos\n",
        "  model.fit(X_train, y_train, epochs=1000, validation_data=(X_val, y_val), batch_size=batch_size,\n",
        "                    callbacks=[es,mc])\n",
        "  return model"
      ],
      "metadata": {
        "id": "DQGLQRL1Jm4a"
      },
      "execution_count": 77,
      "outputs": []
    },
    {
      "cell_type": "markdown",
      "source": [
        "####**REGRESIÓN**\n"
      ],
      "metadata": {
        "id": "_ahUQf25zd6D"
      }
    },
    {
      "cell_type": "code",
      "source": [
        "#Volvamos a los datos originales con los que predecimos en base a los otros algoritmos\n",
        "import numpy as np \n",
        "\n",
        "#TRAIN - TEST\n",
        "from sklearn.model_selection import train_test_split\n",
        "\n",
        "X_train_reg, X_val_reg, y_train_reg, y_val_reg = train_test_split(X_train_reg, y_train_reg, test_size = 0.2, random_state = 7)\n",
        "\n"
      ],
      "metadata": {
        "id": "KcMDrTvvd8uO"
      },
      "execution_count": 78,
      "outputs": []
    },
    {
      "cell_type": "code",
      "source": [
        "#Definimos el modelo óptimo y evaluamos en X_test\n",
        "model = built_mlp_reg(np.array([10]),X_train_reg)\n",
        "model_trained = train_mlp(model, 20, 10, X_train_reg, y_train_reg, X_val_reg, y_val_reg)\n",
        "y_pred = model.predict(X_test_reg)\n",
        "\n",
        "#Escalamos inversamente\n",
        "y_pred = scal_y_reg.inverse_transform(y_pred)\n",
        "y_real = scal_y_reg.inverse_transform(y_test_reg)\n",
        "\n",
        "#Gráfico\n",
        "import matplotlib.pyplot as plt\n",
        "\n",
        "plt.plot(range(len(y_real)), y_real, color='black', label='Real')\n",
        "plt.plot(range(len(y_pred)), y_pred, color='blue', label='Prediction')\n",
        "plt.ylim(0,120)\n",
        "plt.legend()\n",
        "plt.title('MultiLayer Perceptron neural network')\n",
        "plt.show()\n",
        "\n",
        "#Error\n",
        "cv_rmse = 100 * (np.sqrt(metrics.mean_squared_error(y_real, y_pred))/ mean_y)\n",
        "print('El error medio en la predicción es: %.2f' % cv_rmse, '%')\n"
      ],
      "metadata": {
        "id": "YvvaZrQHD5FR",
        "colab": {
          "base_uri": "https://localhost:8080/",
          "height": 1000
        },
        "outputId": "207ccf67-0b6a-4035-8fbc-15be7ccdfea5"
      },
      "execution_count": 82,
      "outputs": [
        {
          "output_type": "stream",
          "name": "stdout",
          "text": [
            "Model: \"sequential_3\"\n",
            "_________________________________________________________________\n",
            " Layer (type)                Output Shape              Param #   \n",
            "=================================================================\n",
            " dense_13 (Dense)            (None, 15)                240       \n",
            "                                                                 \n",
            " dense_14 (Dense)            (None, 10)                160       \n",
            "                                                                 \n",
            " dense_15 (Dense)            (None, 1)                 11        \n",
            "                                                                 \n",
            "=================================================================\n",
            "Total params: 411\n",
            "Trainable params: 411\n",
            "Non-trainable params: 0\n",
            "_________________________________________________________________\n",
            "Epoch 1/1000\n",
            "20/20 [==============================] - 1s 17ms/step - loss: 0.2638 - mean_squared_error: 0.2638 - val_loss: 0.2579 - val_mean_squared_error: 0.2579\n",
            "Epoch 2/1000\n",
            "20/20 [==============================] - 0s 6ms/step - loss: 0.2337 - mean_squared_error: 0.2337 - val_loss: 0.2191 - val_mean_squared_error: 0.2191\n",
            "Epoch 3/1000\n",
            "20/20 [==============================] - 0s 8ms/step - loss: 0.1853 - mean_squared_error: 0.1853 - val_loss: 0.1534 - val_mean_squared_error: 0.1534\n",
            "Epoch 4/1000\n",
            "20/20 [==============================] - 0s 7ms/step - loss: 0.1114 - mean_squared_error: 0.1114 - val_loss: 0.0659 - val_mean_squared_error: 0.0659\n",
            "Epoch 5/1000\n",
            "20/20 [==============================] - 0s 7ms/step - loss: 0.0396 - mean_squared_error: 0.0396 - val_loss: 0.0192 - val_mean_squared_error: 0.0192\n",
            "Epoch 6/1000\n",
            "20/20 [==============================] - 0s 6ms/step - loss: 0.0200 - mean_squared_error: 0.0200 - val_loss: 0.0183 - val_mean_squared_error: 0.0183\n",
            "Epoch 7/1000\n",
            "20/20 [==============================] - 0s 6ms/step - loss: 0.0191 - mean_squared_error: 0.0191 - val_loss: 0.0169 - val_mean_squared_error: 0.0169\n",
            "Epoch 8/1000\n",
            "20/20 [==============================] - 0s 6ms/step - loss: 0.0180 - mean_squared_error: 0.0180 - val_loss: 0.0161 - val_mean_squared_error: 0.0161\n",
            "Epoch 9/1000\n",
            "20/20 [==============================] - 0s 7ms/step - loss: 0.0168 - mean_squared_error: 0.0168 - val_loss: 0.0153 - val_mean_squared_error: 0.0153\n",
            "Epoch 10/1000\n",
            "20/20 [==============================] - 0s 8ms/step - loss: 0.0157 - mean_squared_error: 0.0157 - val_loss: 0.0145 - val_mean_squared_error: 0.0145\n",
            "Epoch 11/1000\n",
            "20/20 [==============================] - 0s 7ms/step - loss: 0.0146 - mean_squared_error: 0.0146 - val_loss: 0.0140 - val_mean_squared_error: 0.0140\n",
            "Epoch 12/1000\n",
            "20/20 [==============================] - 0s 7ms/step - loss: 0.0135 - mean_squared_error: 0.0135 - val_loss: 0.0132 - val_mean_squared_error: 0.0132\n",
            "Epoch 13/1000\n",
            "20/20 [==============================] - 0s 7ms/step - loss: 0.0127 - mean_squared_error: 0.0127 - val_loss: 0.0129 - val_mean_squared_error: 0.0129\n",
            "Epoch 14/1000\n",
            "20/20 [==============================] - 0s 7ms/step - loss: 0.0120 - mean_squared_error: 0.0120 - val_loss: 0.0124 - val_mean_squared_error: 0.0124\n",
            "Epoch 15/1000\n",
            "20/20 [==============================] - 0s 6ms/step - loss: 0.0113 - mean_squared_error: 0.0113 - val_loss: 0.0124 - val_mean_squared_error: 0.0124\n",
            "Epoch 16/1000\n",
            "20/20 [==============================] - 0s 6ms/step - loss: 0.0109 - mean_squared_error: 0.0109 - val_loss: 0.0120 - val_mean_squared_error: 0.0120\n",
            "Epoch 17/1000\n",
            "20/20 [==============================] - 0s 7ms/step - loss: 0.0106 - mean_squared_error: 0.0106 - val_loss: 0.0120 - val_mean_squared_error: 0.0120\n",
            "Epoch 18/1000\n",
            "20/20 [==============================] - 0s 8ms/step - loss: 0.0104 - mean_squared_error: 0.0104 - val_loss: 0.0119 - val_mean_squared_error: 0.0119\n",
            "Epoch 19/1000\n",
            "20/20 [==============================] - 0s 6ms/step - loss: 0.0104 - mean_squared_error: 0.0104 - val_loss: 0.0118 - val_mean_squared_error: 0.0118\n",
            "Epoch 20/1000\n",
            "20/20 [==============================] - 0s 7ms/step - loss: 0.0103 - mean_squared_error: 0.0103 - val_loss: 0.0116 - val_mean_squared_error: 0.0116\n",
            "Epoch 21/1000\n",
            "20/20 [==============================] - 0s 7ms/step - loss: 0.0101 - mean_squared_error: 0.0101 - val_loss: 0.0116 - val_mean_squared_error: 0.0116\n",
            "Epoch 22/1000\n",
            "20/20 [==============================] - 0s 7ms/step - loss: 0.0101 - mean_squared_error: 0.0101 - val_loss: 0.0114 - val_mean_squared_error: 0.0114\n",
            "Epoch 23/1000\n",
            "20/20 [==============================] - 0s 5ms/step - loss: 0.0099 - mean_squared_error: 0.0099 - val_loss: 0.0117 - val_mean_squared_error: 0.0117\n",
            "Epoch 24/1000\n",
            "20/20 [==============================] - 0s 6ms/step - loss: 0.0099 - mean_squared_error: 0.0099 - val_loss: 0.0118 - val_mean_squared_error: 0.0118\n",
            "Epoch 25/1000\n",
            "20/20 [==============================] - 0s 5ms/step - loss: 0.0100 - mean_squared_error: 0.0100 - val_loss: 0.0116 - val_mean_squared_error: 0.0116\n",
            "Epoch 26/1000\n",
            "20/20 [==============================] - 0s 5ms/step - loss: 0.0097 - mean_squared_error: 0.0097 - val_loss: 0.0116 - val_mean_squared_error: 0.0116\n",
            "Epoch 27/1000\n",
            "20/20 [==============================] - 0s 6ms/step - loss: 0.0096 - mean_squared_error: 0.0096 - val_loss: 0.0112 - val_mean_squared_error: 0.0112\n",
            "Epoch 28/1000\n",
            "20/20 [==============================] - 0s 7ms/step - loss: 0.0094 - mean_squared_error: 0.0094 - val_loss: 0.0112 - val_mean_squared_error: 0.0112\n",
            "Epoch 29/1000\n",
            "20/20 [==============================] - 0s 6ms/step - loss: 0.0094 - mean_squared_error: 0.0094 - val_loss: 0.0112 - val_mean_squared_error: 0.0112\n",
            "Epoch 30/1000\n",
            "20/20 [==============================] - 0s 7ms/step - loss: 0.0094 - mean_squared_error: 0.0094 - val_loss: 0.0110 - val_mean_squared_error: 0.0110\n",
            "Epoch 31/1000\n",
            "20/20 [==============================] - 0s 5ms/step - loss: 0.0094 - mean_squared_error: 0.0094 - val_loss: 0.0115 - val_mean_squared_error: 0.0115\n",
            "Epoch 32/1000\n",
            "20/20 [==============================] - 0s 5ms/step - loss: 0.0092 - mean_squared_error: 0.0092 - val_loss: 0.0112 - val_mean_squared_error: 0.0112\n",
            "Epoch 33/1000\n",
            "20/20 [==============================] - 0s 8ms/step - loss: 0.0093 - mean_squared_error: 0.0093 - val_loss: 0.0108 - val_mean_squared_error: 0.0108\n",
            "Epoch 34/1000\n",
            "20/20 [==============================] - 0s 5ms/step - loss: 0.0092 - mean_squared_error: 0.0092 - val_loss: 0.0115 - val_mean_squared_error: 0.0115\n",
            "Epoch 35/1000\n",
            "20/20 [==============================] - 0s 5ms/step - loss: 0.0091 - mean_squared_error: 0.0091 - val_loss: 0.0108 - val_mean_squared_error: 0.0108\n",
            "Epoch 36/1000\n",
            "20/20 [==============================] - 0s 7ms/step - loss: 0.0092 - mean_squared_error: 0.0092 - val_loss: 0.0106 - val_mean_squared_error: 0.0106\n",
            "Epoch 37/1000\n",
            "20/20 [==============================] - 0s 6ms/step - loss: 0.0092 - mean_squared_error: 0.0092 - val_loss: 0.0113 - val_mean_squared_error: 0.0113\n",
            "Epoch 38/1000\n",
            "20/20 [==============================] - 0s 7ms/step - loss: 0.0088 - mean_squared_error: 0.0088 - val_loss: 0.0105 - val_mean_squared_error: 0.0105\n",
            "Epoch 39/1000\n",
            "20/20 [==============================] - 0s 5ms/step - loss: 0.0089 - mean_squared_error: 0.0089 - val_loss: 0.0107 - val_mean_squared_error: 0.0107\n",
            "Epoch 40/1000\n",
            "20/20 [==============================] - 0s 6ms/step - loss: 0.0088 - mean_squared_error: 0.0088 - val_loss: 0.0112 - val_mean_squared_error: 0.0112\n",
            "Epoch 41/1000\n",
            "20/20 [==============================] - 0s 6ms/step - loss: 0.0088 - mean_squared_error: 0.0088 - val_loss: 0.0110 - val_mean_squared_error: 0.0110\n",
            "Epoch 42/1000\n",
            "20/20 [==============================] - 0s 5ms/step - loss: 0.0088 - mean_squared_error: 0.0088 - val_loss: 0.0107 - val_mean_squared_error: 0.0107\n",
            "Epoch 43/1000\n",
            "20/20 [==============================] - 0s 6ms/step - loss: 0.0088 - mean_squared_error: 0.0088 - val_loss: 0.0104 - val_mean_squared_error: 0.0104\n",
            "Epoch 44/1000\n",
            "20/20 [==============================] - 0s 5ms/step - loss: 0.0087 - mean_squared_error: 0.0087 - val_loss: 0.0110 - val_mean_squared_error: 0.0110\n",
            "Epoch 45/1000\n",
            "20/20 [==============================] - 0s 4ms/step - loss: 0.0088 - mean_squared_error: 0.0088 - val_loss: 0.0108 - val_mean_squared_error: 0.0108\n",
            "Epoch 46/1000\n",
            "20/20 [==============================] - 0s 3ms/step - loss: 0.0086 - mean_squared_error: 0.0086 - val_loss: 0.0104 - val_mean_squared_error: 0.0104\n",
            "Epoch 47/1000\n",
            "20/20 [==============================] - 0s 5ms/step - loss: 0.0087 - mean_squared_error: 0.0087 - val_loss: 0.0103 - val_mean_squared_error: 0.0103\n",
            "Epoch 48/1000\n",
            "20/20 [==============================] - 0s 3ms/step - loss: 0.0085 - mean_squared_error: 0.0085 - val_loss: 0.0104 - val_mean_squared_error: 0.0104\n",
            "Epoch 49/1000\n",
            "20/20 [==============================] - 0s 3ms/step - loss: 0.0086 - mean_squared_error: 0.0086 - val_loss: 0.0105 - val_mean_squared_error: 0.0105\n",
            "Epoch 50/1000\n",
            "20/20 [==============================] - 0s 4ms/step - loss: 0.0085 - mean_squared_error: 0.0085 - val_loss: 0.0103 - val_mean_squared_error: 0.0103\n",
            "Epoch 51/1000\n",
            "20/20 [==============================] - 0s 3ms/step - loss: 0.0084 - mean_squared_error: 0.0084 - val_loss: 0.0108 - val_mean_squared_error: 0.0108\n",
            "Epoch 52/1000\n",
            "20/20 [==============================] - 0s 4ms/step - loss: 0.0084 - mean_squared_error: 0.0084 - val_loss: 0.0108 - val_mean_squared_error: 0.0108\n",
            "Epoch 53/1000\n",
            "20/20 [==============================] - 0s 5ms/step - loss: 0.0088 - mean_squared_error: 0.0088 - val_loss: 0.0101 - val_mean_squared_error: 0.0101\n",
            "Epoch 54/1000\n",
            "20/20 [==============================] - 0s 4ms/step - loss: 0.0085 - mean_squared_error: 0.0085 - val_loss: 0.0102 - val_mean_squared_error: 0.0102\n",
            "Epoch 55/1000\n",
            "20/20 [==============================] - 0s 4ms/step - loss: 0.0083 - mean_squared_error: 0.0083 - val_loss: 0.0109 - val_mean_squared_error: 0.0109\n",
            "Epoch 56/1000\n",
            "20/20 [==============================] - 0s 4ms/step - loss: 0.0083 - mean_squared_error: 0.0083 - val_loss: 0.0107 - val_mean_squared_error: 0.0107\n",
            "Epoch 57/1000\n",
            "20/20 [==============================] - 0s 3ms/step - loss: 0.0083 - mean_squared_error: 0.0083 - val_loss: 0.0110 - val_mean_squared_error: 0.0110\n",
            "Epoch 58/1000\n",
            "20/20 [==============================] - 0s 4ms/step - loss: 0.0084 - mean_squared_error: 0.0084 - val_loss: 0.0100 - val_mean_squared_error: 0.0100\n",
            "Epoch 59/1000\n",
            "20/20 [==============================] - 0s 4ms/step - loss: 0.0084 - mean_squared_error: 0.0084 - val_loss: 0.0102 - val_mean_squared_error: 0.0102\n",
            "Epoch 60/1000\n",
            "20/20 [==============================] - 0s 4ms/step - loss: 0.0082 - mean_squared_error: 0.0082 - val_loss: 0.0107 - val_mean_squared_error: 0.0107\n",
            "Epoch 61/1000\n",
            "20/20 [==============================] - 0s 4ms/step - loss: 0.0081 - mean_squared_error: 0.0081 - val_loss: 0.0107 - val_mean_squared_error: 0.0107\n",
            "Epoch 62/1000\n",
            "20/20 [==============================] - 0s 4ms/step - loss: 0.0082 - mean_squared_error: 0.0082 - val_loss: 0.0100 - val_mean_squared_error: 0.0100\n",
            "Epoch 63/1000\n",
            "20/20 [==============================] - 0s 3ms/step - loss: 0.0082 - mean_squared_error: 0.0082 - val_loss: 0.0105 - val_mean_squared_error: 0.0105\n",
            "Epoch 64/1000\n",
            "20/20 [==============================] - 0s 3ms/step - loss: 0.0081 - mean_squared_error: 0.0081 - val_loss: 0.0105 - val_mean_squared_error: 0.0105\n",
            "Epoch 65/1000\n",
            "20/20 [==============================] - 0s 4ms/step - loss: 0.0082 - mean_squared_error: 0.0082 - val_loss: 0.0102 - val_mean_squared_error: 0.0102\n",
            "Epoch 66/1000\n",
            "20/20 [==============================] - 0s 3ms/step - loss: 0.0080 - mean_squared_error: 0.0080 - val_loss: 0.0105 - val_mean_squared_error: 0.0105\n",
            "Epoch 67/1000\n",
            "20/20 [==============================] - 0s 4ms/step - loss: 0.0080 - mean_squared_error: 0.0080 - val_loss: 0.0100 - val_mean_squared_error: 0.0100\n",
            "Epoch 68/1000\n",
            "20/20 [==============================] - 0s 3ms/step - loss: 0.0085 - mean_squared_error: 0.0085 - val_loss: 0.0112 - val_mean_squared_error: 0.0112\n",
            "Epoch 69/1000\n",
            "20/20 [==============================] - 0s 4ms/step - loss: 0.0080 - mean_squared_error: 0.0080 - val_loss: 0.0101 - val_mean_squared_error: 0.0101\n",
            "Epoch 70/1000\n",
            "20/20 [==============================] - 0s 3ms/step - loss: 0.0080 - mean_squared_error: 0.0080 - val_loss: 0.0107 - val_mean_squared_error: 0.0107\n",
            "Epoch 71/1000\n",
            "20/20 [==============================] - 0s 4ms/step - loss: 0.0079 - mean_squared_error: 0.0079 - val_loss: 0.0101 - val_mean_squared_error: 0.0101\n",
            "Epoch 72/1000\n",
            "20/20 [==============================] - 0s 4ms/step - loss: 0.0080 - mean_squared_error: 0.0080 - val_loss: 0.0105 - val_mean_squared_error: 0.0105\n",
            "Epoch 73/1000\n",
            "20/20 [==============================] - 0s 3ms/step - loss: 0.0079 - mean_squared_error: 0.0079 - val_loss: 0.0107 - val_mean_squared_error: 0.0107\n",
            "Epoch 74/1000\n",
            "20/20 [==============================] - 0s 4ms/step - loss: 0.0082 - mean_squared_error: 0.0082 - val_loss: 0.0100 - val_mean_squared_error: 0.0100\n",
            "Epoch 75/1000\n",
            "20/20 [==============================] - 0s 3ms/step - loss: 0.0078 - mean_squared_error: 0.0078 - val_loss: 0.0106 - val_mean_squared_error: 0.0106\n",
            "Epoch 76/1000\n",
            "20/20 [==============================] - 0s 4ms/step - loss: 0.0080 - mean_squared_error: 0.0080 - val_loss: 0.0099 - val_mean_squared_error: 0.0099\n",
            "Epoch 77/1000\n",
            "20/20 [==============================] - 0s 3ms/step - loss: 0.0081 - mean_squared_error: 0.0081 - val_loss: 0.0103 - val_mean_squared_error: 0.0103\n",
            "Epoch 78/1000\n",
            "20/20 [==============================] - 0s 4ms/step - loss: 0.0078 - mean_squared_error: 0.0078 - val_loss: 0.0104 - val_mean_squared_error: 0.0104\n",
            "Epoch 79/1000\n",
            "20/20 [==============================] - 0s 3ms/step - loss: 0.0078 - mean_squared_error: 0.0078 - val_loss: 0.0103 - val_mean_squared_error: 0.0103\n",
            "Epoch 80/1000\n",
            "20/20 [==============================] - 0s 4ms/step - loss: 0.0079 - mean_squared_error: 0.0079 - val_loss: 0.0102 - val_mean_squared_error: 0.0102\n",
            "Epoch 81/1000\n",
            "20/20 [==============================] - 0s 3ms/step - loss: 0.0079 - mean_squared_error: 0.0079 - val_loss: 0.0102 - val_mean_squared_error: 0.0102\n",
            "Epoch 82/1000\n",
            "20/20 [==============================] - 0s 4ms/step - loss: 0.0078 - mean_squared_error: 0.0078 - val_loss: 0.0106 - val_mean_squared_error: 0.0106\n",
            "Epoch 83/1000\n",
            "20/20 [==============================] - 0s 4ms/step - loss: 0.0078 - mean_squared_error: 0.0078 - val_loss: 0.0105 - val_mean_squared_error: 0.0105\n",
            "Epoch 84/1000\n",
            "20/20 [==============================] - 0s 3ms/step - loss: 0.0077 - mean_squared_error: 0.0077 - val_loss: 0.0109 - val_mean_squared_error: 0.0109\n",
            "Epoch 85/1000\n",
            "20/20 [==============================] - 0s 3ms/step - loss: 0.0077 - mean_squared_error: 0.0077 - val_loss: 0.0101 - val_mean_squared_error: 0.0101\n",
            "Epoch 86/1000\n",
            "20/20 [==============================] - 0s 4ms/step - loss: 0.0077 - mean_squared_error: 0.0077 - val_loss: 0.0109 - val_mean_squared_error: 0.0109\n",
            "Epoch 87/1000\n",
            "20/20 [==============================] - 0s 4ms/step - loss: 0.0078 - mean_squared_error: 0.0078 - val_loss: 0.0099 - val_mean_squared_error: 0.0099\n",
            "Epoch 88/1000\n",
            "20/20 [==============================] - 0s 3ms/step - loss: 0.0080 - mean_squared_error: 0.0080 - val_loss: 0.0104 - val_mean_squared_error: 0.0104\n",
            "Epoch 89/1000\n",
            "20/20 [==============================] - 0s 4ms/step - loss: 0.0077 - mean_squared_error: 0.0077 - val_loss: 0.0104 - val_mean_squared_error: 0.0104\n",
            "Epoch 90/1000\n",
            "20/20 [==============================] - 0s 4ms/step - loss: 0.0078 - mean_squared_error: 0.0078 - val_loss: 0.0100 - val_mean_squared_error: 0.0100\n",
            "Epoch 91/1000\n",
            "20/20 [==============================] - 0s 3ms/step - loss: 0.0081 - mean_squared_error: 0.0081 - val_loss: 0.0100 - val_mean_squared_error: 0.0100\n",
            "Epoch 92/1000\n",
            "20/20 [==============================] - 0s 4ms/step - loss: 0.0078 - mean_squared_error: 0.0078 - val_loss: 0.0109 - val_mean_squared_error: 0.0109\n",
            "Epoch 93/1000\n",
            "20/20 [==============================] - 0s 3ms/step - loss: 0.0077 - mean_squared_error: 0.0077 - val_loss: 0.0104 - val_mean_squared_error: 0.0104\n",
            "Epoch 94/1000\n",
            "20/20 [==============================] - 0s 3ms/step - loss: 0.0077 - mean_squared_error: 0.0077 - val_loss: 0.0103 - val_mean_squared_error: 0.0103\n",
            "Epoch 95/1000\n",
            "20/20 [==============================] - 0s 3ms/step - loss: 0.0077 - mean_squared_error: 0.0077 - val_loss: 0.0104 - val_mean_squared_error: 0.0104\n",
            "Epoch 96/1000\n",
            "20/20 [==============================] - 0s 3ms/step - loss: 0.0077 - mean_squared_error: 0.0077 - val_loss: 0.0105 - val_mean_squared_error: 0.0105\n"
          ]
        },
        {
          "output_type": "display_data",
          "data": {
            "image/png": "[encoded data removed]",
            "text/plain": [
              "<Figure size 432x288 with 1 Axes>"
            ]
          },
          "metadata": {
            "needs_background": "light"
          }
        },
        {
          "output_type": "stream",
          "name": "stdout",
          "text": [
            "El error medio en la predicción es: 7.71 %\n"
          ]
        }
      ]
    },
    {
      "cell_type": "markdown",
      "source": [
        "####**CLASIFICACIÓN**\n"
      ],
      "metadata": {
        "id": "_IAZYKuGzcHi"
      }
    },
    {
      "cell_type": "code",
      "source": [
        "from sklearn.model_selection import train_test_split\n",
        "from tensorflow.keras.utils import to_categorical\n",
        "from sklearn.preprocessing import LabelEncoder\n",
        "\n",
        "\n",
        "#Volvemos a los datos originales con los que predecimos clases con otros algoritmos\n",
        "X_train_class, X_val_class, y_train_class, y_val_class = train_test_split(X_train_class, y_train_class, test_size = 0.2, random_state = 7)\n",
        "\n",
        "#Encode values of dependent variable\n",
        "encoder = LabelEncoder()\n",
        "encoder.fit(y)\n",
        "y_train_class = encoder.transform(y_train_class)\n",
        "y_train_class = to_categorical(y_train_class)\n",
        "y_test_class = encoder.transform(y_test_class)\n",
        "y_test_class = to_categorical(y_test_class)\n",
        "y_val_class = encoder.transform(y_val_class)\n",
        "y_val_class = to_categorical(y_val_class)\n",
        "\n",
        "print(y_train_class)"
      ],
      "metadata": {
        "colab": {
          "base_uri": "https://localhost:8080/"
        },
        "id": "8iYxxVbqqg3I",
        "outputId": "67a759d0-704b-4aca-9d1a-4ed294a55858"
      },
      "execution_count": 83,
      "outputs": [
        {
          "output_type": "stream",
          "name": "stdout",
          "text": [
            "[[0. 0. 1.]\n",
            " [1. 0. 0.]\n",
            " [1. 0. 0.]\n",
            " [1. 0. 0.]\n",
            " [0. 1. 0.]\n",
            " [1. 0. 0.]\n",
            " [0. 1. 0.]\n",
            " [0. 1. 0.]\n",
            " [0. 0. 1.]\n",
            " [0. 1. 0.]\n",
            " [1. 0. 0.]\n",
            " [0. 0. 1.]\n",
            " [0. 0. 1.]\n",
            " [0. 1. 0.]\n",
            " [1. 0. 0.]\n",
            " [1. 0. 0.]\n",
            " [0. 1. 0.]\n",
            " [0. 1. 0.]\n",
            " [1. 0. 0.]\n",
            " [1. 0. 0.]\n",
            " [1. 0. 0.]\n",
            " [0. 0. 1.]\n",
            " [1. 0. 0.]\n",
            " [1. 0. 0.]\n",
            " [0. 1. 0.]\n",
            " [0. 1. 0.]\n",
            " [0. 0. 1.]\n",
            " [0. 1. 0.]\n",
            " [0. 0. 1.]\n",
            " [0. 1. 0.]\n",
            " [0. 1. 0.]\n",
            " [0. 0. 1.]\n",
            " [1. 0. 0.]\n",
            " [0. 0. 1.]\n",
            " [0. 1. 0.]\n",
            " [0. 0. 1.]\n",
            " [0. 1. 0.]\n",
            " [1. 0. 0.]\n",
            " [0. 1. 0.]\n",
            " [0. 1. 0.]\n",
            " [0. 0. 1.]\n",
            " [0. 1. 0.]\n",
            " [0. 0. 1.]\n",
            " [1. 0. 0.]\n",
            " [0. 0. 1.]\n",
            " [1. 0. 0.]\n",
            " [0. 0. 1.]\n",
            " [1. 0. 0.]\n",
            " [0. 0. 1.]\n",
            " [0. 0. 1.]\n",
            " [0. 0. 1.]\n",
            " [0. 1. 0.]\n",
            " [0. 0. 1.]\n",
            " [1. 0. 0.]\n",
            " [0. 0. 1.]\n",
            " [1. 0. 0.]\n",
            " [0. 1. 0.]\n",
            " [0. 1. 0.]\n",
            " [0. 1. 0.]\n",
            " [0. 1. 0.]\n",
            " [0. 0. 1.]\n",
            " [0. 0. 1.]\n",
            " [0. 0. 1.]\n",
            " [0. 1. 0.]\n",
            " [0. 0. 1.]\n",
            " [1. 0. 0.]\n",
            " [0. 0. 1.]\n",
            " [0. 1. 0.]\n",
            " [1. 0. 0.]\n",
            " [0. 0. 1.]\n",
            " [1. 0. 0.]\n",
            " [1. 0. 0.]\n",
            " [0. 1. 0.]\n",
            " [1. 0. 0.]\n",
            " [0. 1. 0.]\n",
            " [1. 0. 0.]\n",
            " [0. 1. 0.]\n",
            " [0. 1. 0.]\n",
            " [1. 0. 0.]\n",
            " [0. 1. 0.]\n",
            " [0. 1. 0.]\n",
            " [1. 0. 0.]\n",
            " [0. 1. 0.]\n",
            " [1. 0. 0.]]\n"
          ]
        }
      ]
    },
    {
      "cell_type": "code",
      "source": [
        "print(y_train_class.shape)"
      ],
      "metadata": {
        "colab": {
          "base_uri": "https://localhost:8080/"
        },
        "id": "pDS4iyVjtVNc",
        "outputId": "fa3ee50c-1413-49e2-a9b5-b4e0e485709a"
      },
      "execution_count": 84,
      "outputs": [
        {
          "output_type": "stream",
          "name": "stdout",
          "text": [
            "(84, 3)\n"
          ]
        }
      ]
    },
    {
      "cell_type": "code",
      "source": [
        "#Definimos el modelo óptimo y evaluamos en X_test\n",
        "model = built_mlp_class(np.array([50]), X_train_class,3)\n",
        "model_trained = train_mlp_class(model, 20, 32, X_train_class, y_train_class, X_val_class, y_val_class)\n",
        "y_pred = model.predict(X_test_class)\n",
        "\n",
        "#Convertimos en 1 dimension\n",
        "y_pred = np.argmax(y_pred, axis=1)\n",
        "y_real = np.argmax(y_test_class, axis=1)\n",
        "\n",
        "\n",
        "\n",
        "#Gráfico\n",
        "plt.scatter(range(len(y_real)), y_real, color='blue', label='Real')\n",
        "plt.scatter(range(len(y_pred)), y_pred, color='red', label='Prediction')\n",
        "plt.ylim(-1,4)\n",
        "plt.legend()\n",
        "plt.title('MultiLayer Perceptron neural network')\n",
        "plt.show()\n",
        "\n",
        "#Precisión\n",
        "from sklearn.metrics import accuracy_score\n",
        "accuracy = accuracy_score(y_real, y_pred)\n",
        "print('La precisión es de: %.2f' % accuracy, '%')\n"
      ],
      "metadata": {
        "id": "vhkjCqMitWzW",
        "colab": {
          "base_uri": "https://localhost:8080/",
          "height": 1000
        },
        "outputId": "e30548d6-e265-4502-9085-6dfca82f9c1e"
      },
      "execution_count": 90,
      "outputs": [
        {
          "output_type": "stream",
          "name": "stdout",
          "text": [
            "Model: \"sequential_8\"\n",
            "_________________________________________________________________\n",
            " Layer (type)                Output Shape              Param #   \n",
            "=================================================================\n",
            " dense_29 (Dense)            (None, 4)                 20        \n",
            "                                                                 \n",
            " dense_30 (Dense)            (None, 50)                250       \n",
            "                                                                 \n",
            " dense_31 (Dense)            (None, 3)                 153       \n",
            "                                                                 \n",
            "=================================================================\n",
            "Total params: 423\n",
            "Trainable params: 423\n",
            "Non-trainable params: 0\n",
            "_________________________________________________________________\n",
            "Epoch 1/1000\n",
            "3/3 [==============================] - 2s 381ms/step - loss: 1.0705 - categorical_accuracy: 0.3690 - val_loss: 1.0702 - val_categorical_accuracy: 0.3333\n",
            "Epoch 2/1000\n",
            "3/3 [==============================] - 0s 33ms/step - loss: 1.0634 - categorical_accuracy: 0.3810 - val_loss: 1.0634 - val_categorical_accuracy: 0.3810\n",
            "Epoch 3/1000\n",
            "3/3 [==============================] - 0s 35ms/step - loss: 1.0563 - categorical_accuracy: 0.4405 - val_loss: 1.0570 - val_categorical_accuracy: 0.5714\n",
            "Epoch 4/1000\n",
            "3/3 [==============================] - 0s 33ms/step - loss: 1.0495 - categorical_accuracy: 0.5833 - val_loss: 1.0506 - val_categorical_accuracy: 0.6667\n",
            "Epoch 5/1000\n",
            "3/3 [==============================] - 0s 22ms/step - loss: 1.0428 - categorical_accuracy: 0.6667 - val_loss: 1.0442 - val_categorical_accuracy: 0.6667\n",
            "Epoch 6/1000\n",
            "3/3 [==============================] - 0s 21ms/step - loss: 1.0361 - categorical_accuracy: 0.6786 - val_loss: 1.0377 - val_categorical_accuracy: 0.6667\n",
            "Epoch 7/1000\n",
            "3/3 [==============================] - 0s 22ms/step - loss: 1.0293 - categorical_accuracy: 0.6786 - val_loss: 1.0314 - val_categorical_accuracy: 0.6667\n",
            "Epoch 8/1000\n",
            "3/3 [==============================] - 0s 19ms/step - loss: 1.0229 - categorical_accuracy: 0.6786 - val_loss: 1.0250 - val_categorical_accuracy: 0.6667\n",
            "Epoch 9/1000\n",
            "3/3 [==============================] - 0s 18ms/step - loss: 1.0163 - categorical_accuracy: 0.6786 - val_loss: 1.0186 - val_categorical_accuracy: 0.6667\n",
            "Epoch 10/1000\n",
            "3/3 [==============================] - 0s 23ms/step - loss: 1.0096 - categorical_accuracy: 0.6786 - val_loss: 1.0119 - val_categorical_accuracy: 0.6667\n",
            "Epoch 11/1000\n",
            "3/3 [==============================] - 0s 18ms/step - loss: 1.0027 - categorical_accuracy: 0.6786 - val_loss: 1.0048 - val_categorical_accuracy: 0.6667\n",
            "Epoch 12/1000\n",
            "3/3 [==============================] - 0s 18ms/step - loss: 0.9956 - categorical_accuracy: 0.6786 - val_loss: 0.9975 - val_categorical_accuracy: 0.6667\n",
            "Epoch 13/1000\n",
            "3/3 [==============================] - 0s 33ms/step - loss: 0.9883 - categorical_accuracy: 0.6905 - val_loss: 0.9900 - val_categorical_accuracy: 0.7143\n",
            "Epoch 14/1000\n",
            "3/3 [==============================] - 0s 22ms/step - loss: 0.9809 - categorical_accuracy: 0.6905 - val_loss: 0.9822 - val_categorical_accuracy: 0.7143\n",
            "Epoch 15/1000\n",
            "3/3 [==============================] - 0s 23ms/step - loss: 0.9732 - categorical_accuracy: 0.6905 - val_loss: 0.9743 - val_categorical_accuracy: 0.7143\n",
            "Epoch 16/1000\n",
            "3/3 [==============================] - 0s 25ms/step - loss: 0.9654 - categorical_accuracy: 0.6905 - val_loss: 0.9663 - val_categorical_accuracy: 0.7143\n",
            "Epoch 17/1000\n",
            "3/3 [==============================] - 0s 20ms/step - loss: 0.9575 - categorical_accuracy: 0.6905 - val_loss: 0.9580 - val_categorical_accuracy: 0.7143\n",
            "Epoch 18/1000\n",
            "3/3 [==============================] - 0s 20ms/step - loss: 0.9492 - categorical_accuracy: 0.6905 - val_loss: 0.9496 - val_categorical_accuracy: 0.7143\n",
            "Epoch 19/1000\n",
            "3/3 [==============================] - 0s 24ms/step - loss: 0.9411 - categorical_accuracy: 0.6905 - val_loss: 0.9410 - val_categorical_accuracy: 0.7143\n",
            "Epoch 20/1000\n",
            "3/3 [==============================] - 0s 22ms/step - loss: 0.9325 - categorical_accuracy: 0.6905 - val_loss: 0.9323 - val_categorical_accuracy: 0.7143\n",
            "Epoch 21/1000\n",
            "3/3 [==============================] - 0s 21ms/step - loss: 0.9240 - categorical_accuracy: 0.6905 - val_loss: 0.9234 - val_categorical_accuracy: 0.7143\n",
            "Epoch 22/1000\n",
            "3/3 [==============================] - 0s 19ms/step - loss: 0.9153 - categorical_accuracy: 0.6905 - val_loss: 0.9143 - val_categorical_accuracy: 0.7143\n",
            "Epoch 23/1000\n",
            "3/3 [==============================] - 0s 18ms/step - loss: 0.9062 - categorical_accuracy: 0.6905 - val_loss: 0.9051 - val_categorical_accuracy: 0.7143\n",
            "Epoch 24/1000\n",
            "3/3 [==============================] - 0s 20ms/step - loss: 0.8972 - categorical_accuracy: 0.6905 - val_loss: 0.8955 - val_categorical_accuracy: 0.7143\n",
            "Epoch 25/1000\n",
            "3/3 [==============================] - 0s 19ms/step - loss: 0.8881 - categorical_accuracy: 0.6905 - val_loss: 0.8860 - val_categorical_accuracy: 0.7143\n",
            "Epoch 26/1000\n",
            "3/3 [==============================] - 0s 19ms/step - loss: 0.8789 - categorical_accuracy: 0.6905 - val_loss: 0.8765 - val_categorical_accuracy: 0.7143\n",
            "Epoch 27/1000\n",
            "3/3 [==============================] - 0s 17ms/step - loss: 0.8699 - categorical_accuracy: 0.6905 - val_loss: 0.8672 - val_categorical_accuracy: 0.7143\n",
            "Epoch 28/1000\n",
            "3/3 [==============================] - 0s 21ms/step - loss: 0.8611 - categorical_accuracy: 0.6905 - val_loss: 0.8576 - val_categorical_accuracy: 0.7143\n",
            "Epoch 29/1000\n",
            "3/3 [==============================] - 0s 20ms/step - loss: 0.8518 - categorical_accuracy: 0.6905 - val_loss: 0.8480 - val_categorical_accuracy: 0.7143\n",
            "Epoch 30/1000\n",
            "3/3 [==============================] - 0s 19ms/step - loss: 0.8431 - categorical_accuracy: 0.7024 - val_loss: 0.8381 - val_categorical_accuracy: 0.7143\n",
            "Epoch 31/1000\n",
            "3/3 [==============================] - 0s 32ms/step - loss: 0.8338 - categorical_accuracy: 0.7381 - val_loss: 0.8283 - val_categorical_accuracy: 0.7619\n",
            "Epoch 32/1000\n",
            "3/3 [==============================] - 0s 34ms/step - loss: 0.8247 - categorical_accuracy: 0.7738 - val_loss: 0.8184 - val_categorical_accuracy: 0.9048\n",
            "Epoch 33/1000\n",
            "3/3 [==============================] - 0s 19ms/step - loss: 0.8154 - categorical_accuracy: 0.7976 - val_loss: 0.8086 - val_categorical_accuracy: 0.9048\n",
            "Epoch 34/1000\n",
            "3/3 [==============================] - 0s 22ms/step - loss: 0.8060 - categorical_accuracy: 0.8214 - val_loss: 0.7987 - val_categorical_accuracy: 0.9048\n",
            "Epoch 35/1000\n",
            "3/3 [==============================] - 0s 21ms/step - loss: 0.7963 - categorical_accuracy: 0.8571 - val_loss: 0.7887 - val_categorical_accuracy: 0.9048\n",
            "Epoch 36/1000\n",
            "3/3 [==============================] - 0s 20ms/step - loss: 0.7870 - categorical_accuracy: 0.8571 - val_loss: 0.7787 - val_categorical_accuracy: 0.9048\n",
            "Epoch 37/1000\n",
            "3/3 [==============================] - 0s 20ms/step - loss: 0.7772 - categorical_accuracy: 0.8690 - val_loss: 0.7685 - val_categorical_accuracy: 0.9048\n",
            "Epoch 38/1000\n",
            "3/3 [==============================] - 0s 17ms/step - loss: 0.7679 - categorical_accuracy: 0.9405 - val_loss: 0.7581 - val_categorical_accuracy: 0.9048\n",
            "Epoch 39/1000\n",
            "3/3 [==============================] - 0s 32ms/step - loss: 0.7584 - categorical_accuracy: 0.9524 - val_loss: 0.7476 - val_categorical_accuracy: 0.9524\n",
            "Epoch 40/1000\n",
            "3/3 [==============================] - 0s 33ms/step - loss: 0.7489 - categorical_accuracy: 0.9762 - val_loss: 0.7370 - val_categorical_accuracy: 1.0000\n",
            "Epoch 41/1000\n",
            "3/3 [==============================] - 0s 28ms/step - loss: 0.7385 - categorical_accuracy: 0.9286 - val_loss: 0.7267 - val_categorical_accuracy: 1.0000\n",
            "Epoch 42/1000\n",
            "3/3 [==============================] - 0s 20ms/step - loss: 0.7297 - categorical_accuracy: 0.9405 - val_loss: 0.7162 - val_categorical_accuracy: 0.9524\n",
            "Epoch 43/1000\n",
            "3/3 [==============================] - 0s 18ms/step - loss: 0.7204 - categorical_accuracy: 0.9167 - val_loss: 0.7063 - val_categorical_accuracy: 0.9048\n",
            "Epoch 44/1000\n",
            "3/3 [==============================] - 0s 19ms/step - loss: 0.7109 - categorical_accuracy: 0.9048 - val_loss: 0.6967 - val_categorical_accuracy: 0.8571\n",
            "Epoch 45/1000\n",
            "3/3 [==============================] - 0s 20ms/step - loss: 0.7021 - categorical_accuracy: 0.8571 - val_loss: 0.6870 - val_categorical_accuracy: 0.8571\n",
            "Epoch 46/1000\n",
            "3/3 [==============================] - 0s 23ms/step - loss: 0.6932 - categorical_accuracy: 0.8571 - val_loss: 0.6775 - val_categorical_accuracy: 0.8571\n",
            "Epoch 47/1000\n",
            "3/3 [==============================] - 0s 20ms/step - loss: 0.6847 - categorical_accuracy: 0.8571 - val_loss: 0.6681 - val_categorical_accuracy: 0.8571\n",
            "Epoch 48/1000\n",
            "3/3 [==============================] - 0s 28ms/step - loss: 0.6759 - categorical_accuracy: 0.8690 - val_loss: 0.6590 - val_categorical_accuracy: 0.8571\n",
            "Epoch 49/1000\n",
            "3/3 [==============================] - 0s 20ms/step - loss: 0.6674 - categorical_accuracy: 0.8810 - val_loss: 0.6499 - val_categorical_accuracy: 0.8571\n",
            "Epoch 50/1000\n",
            "3/3 [==============================] - 0s 17ms/step - loss: 0.6593 - categorical_accuracy: 0.8810 - val_loss: 0.6408 - val_categorical_accuracy: 0.8571\n",
            "Epoch 51/1000\n",
            "3/3 [==============================] - 0s 30ms/step - loss: 0.6505 - categorical_accuracy: 0.8810 - val_loss: 0.6319 - val_categorical_accuracy: 0.8571\n",
            "Epoch 52/1000\n",
            "3/3 [==============================] - 0s 20ms/step - loss: 0.6427 - categorical_accuracy: 0.8571 - val_loss: 0.6230 - val_categorical_accuracy: 0.8571\n",
            "Epoch 53/1000\n",
            "3/3 [==============================] - 0s 19ms/step - loss: 0.6339 - categorical_accuracy: 0.8571 - val_loss: 0.6144 - val_categorical_accuracy: 0.8571\n",
            "Epoch 54/1000\n",
            "3/3 [==============================] - 0s 23ms/step - loss: 0.6259 - categorical_accuracy: 0.8571 - val_loss: 0.6056 - val_categorical_accuracy: 0.8571\n",
            "Epoch 55/1000\n",
            "3/3 [==============================] - 0s 23ms/step - loss: 0.6182 - categorical_accuracy: 0.8571 - val_loss: 0.5967 - val_categorical_accuracy: 0.8571\n",
            "Epoch 56/1000\n",
            "3/3 [==============================] - 0s 25ms/step - loss: 0.6094 - categorical_accuracy: 0.8810 - val_loss: 0.5881 - val_categorical_accuracy: 0.9048\n",
            "Epoch 57/1000\n",
            "3/3 [==============================] - 0s 19ms/step - loss: 0.6014 - categorical_accuracy: 0.9167 - val_loss: 0.5792 - val_categorical_accuracy: 0.9048\n",
            "Epoch 58/1000\n",
            "3/3 [==============================] - 0s 41ms/step - loss: 0.5932 - categorical_accuracy: 0.9167 - val_loss: 0.5704 - val_categorical_accuracy: 0.9048\n",
            "Epoch 59/1000\n",
            "3/3 [==============================] - 0s 56ms/step - loss: 0.5852 - categorical_accuracy: 0.9405 - val_loss: 0.5618 - val_categorical_accuracy: 1.0000\n",
            "Epoch 60/1000\n",
            "3/3 [==============================] - 0s 63ms/step - loss: 0.5776 - categorical_accuracy: 0.9405 - val_loss: 0.5535 - val_categorical_accuracy: 1.0000\n"
          ]
        },
        {
          "output_type": "display_data",
          "data": {
            "image/png": "[encoded data removed]",
            "text/plain": [
              "<Figure size 432x288 with 1 Axes>"
            ]
          },
          "metadata": {
            "needs_background": "light"
          }
        },
        {
          "output_type": "stream",
          "name": "stdout",
          "text": [
            "La precisión es de: 0.93 %\n"
          ]
        }
      ]
    },
    {
      "cell_type": "code",
      "source": [
        "#Esquema optomización mlp\n",
        "\n",
        "#DATA\n",
        "#M1 Training\n",
        "#M2 Validation 1\n",
        "#M3 Validation 2\n",
        "#M4 Test\n",
        "\n",
        "#OPtimizar hiperparametro: M1(train)- M2 valido el entrenamiento(earlystopping)- M3 evalío diferentes hyperparámetros como las capas\n",
        "#M1+M3(train) - M2 valido el entrenamiento(earlystopping) - M4 test"
      ],
      "metadata": {
        "id": "FWbiaYPbuwI7"
      },
      "execution_count": null,
      "outputs": []
    },
    {
      "cell_type": "markdown",
      "metadata": {
        "id": "ZoMfjsXO7Ibw"
      },
      "source": [
        "##**1. PUESTA EN MARCHA**\n",
        "\n",
        "---"
      ]
    },
    {
      "cell_type": "markdown",
      "metadata": {
        "id": "nn0pkuiF7Lyv"
      },
      "source": [
        "###**DESCARGA E INSTALACIÓN DE UNA *IDE* DE PYTHON**\n",
        "---\n",
        "\n",
        "\n",
        "1.   Descarga e instalación de Python (última versión o una conocida que no de problemas de incompatibilidades). \n",
        "\n",
        "  Ejemplo: *Windows installer (64-bit)* [Descarga](https://www.python.org/downloads/)\n",
        "\n",
        "2.   Descarga e instalación de la IDE (PyCharm, Spider, Visual Studio, Anaconda, etc). \n",
        "  \n",
        "  Ejemplo: *PyCharm Community* [Descarga](https://www.jetbrains.com/es-es/pycharm/download/#section=windows\n",
        ")\n",
        "\n",
        "\n",
        "<center><img src='https://drive.google.com/uc?id=1Tpj18FCTzQao1LJ2ER5WYKoTS5vBX7MW' width=200px></center>\n"
      ]
    },
    {
      "cell_type": "markdown",
      "metadata": {
        "id": "GRNmprX07wU8"
      },
      "source": [
        "###**CONFIGURACIÓN DE UN ENTORNO VIRTUAL**\n",
        "---\n",
        "\n",
        "\n",
        "1.   Abrir PyCharm Community\n",
        "2.   Crear un proyecto (donde trabajaremos) y un entorno virtual (donde estarían las librerías necesarias)\n",
        "\n",
        "  *   Cuadro *Create Proyect*: elegimos localización del proyecto, localización del entorno vitual (*Virtualenv*), y python (versión instalada) como *Base Interpreter*\n",
        "  *   *File* - *New Project*. Nombre y localización. Seleccionar python con la versión instalada como *Base interpreter*\n",
        "\n",
        "  <center><img src='https://drive.google.com/uc?id=1R606HsM2l7wLQe_9HgotVBRr-is26C6H' width=500px></center>\n",
        "\n",
        "  \n",
        "\n",
        "\n",
        "3. Conexión con Python. *File* - *Settings* - *Project* - *Python Interpreter* - *Python 3.9*\n",
        "\n",
        "  <center><img src='https://drive.google.com/uc?id=1IfpJMBPbOW430_J9DlzgvqYynLhXV-K2' width=500px></center>\n",
        "\n",
        "  *   Si no aparece en la lista: *Add Python Interpreter* en la tuerca a la derecha de la ventana de *Python Interpreter*.\n",
        "  *   Dentro de la opción *Virtual Environment*: selección de la versión de Python instalada y la localización de este entorno virtual.\n",
        "\n",
        "4. Creación de un nuevo script o apertura de algún script ya hecho.\n",
        "\n",
        "\n",
        "\n",
        "\n",
        "\n",
        "\n",
        "\n"
      ]
    },
    {
      "cell_type": "markdown",
      "metadata": {
        "id": "KuJqkV7S7z1V"
      },
      "source": [
        "###**INSTALACIÓN DE LA LIBRERÍAS NECESARÍAS**\n",
        "---\n",
        "Las liibrerías básicas para desarrollar machine learning son las siguientes:\n",
        "\n",
        "\n",
        "\n",
        "*    [Numpy](https://numpy.org/) (version 1.21.3)\n",
        "*   [Pandas](https://pandas.pydata.org/) (version 1.3.4)\n",
        "*   [Matplotlib](https://matplotlib.org/) (version 3.5.0rc1)\n",
        "*   [Scikit-learn](https://scikit-learn.org/stable/) (version 1.0)\n",
        "*   [Tensorflow](https://www.tensorflow.org/learn?hl=es-419) (version 2.7.0rc0)\n",
        "*   [Keras](https://keras.io/) (version 2.6.0)\n",
        "\n"
      ]
    },
    {
      "cell_type": "markdown",
      "source": [
        "Instalación en *PyCharm*: *File* - *Settings* - *Python Interpreter* - *(+)*"
      ],
      "metadata": {
        "id": "RMTG2OHlZpwj"
      }
    },
    {
      "cell_type": "markdown",
      "source": [
        "Instalación consola: *pip install* donde esté la carpeta Scripts del *Virtual Environment*"
      ],
      "metadata": {
        "id": "BLBTywM0aAlJ"
      }
    }
  ]
}