{
  "cells": [
    {
      "cell_type": "markdown",
      "metadata": {
        "id": "10qee1d_uHcJ"
      },
      "source": [
        "![picture](https://qinnova.uned.es/archivos_publicos/qweb_paginas/10926/logooficialunedpontevedra.png)"
      ]
    },
    {
      "cell_type": "markdown",
      "metadata": {
        "id": "G9nsAUM-uK9D"
      },
      "source": [
        "#**PYTHON AVANZADO - PRIMER DÍA**\n",
        "**PROFESORES:**\n",
        "\n",
        "Ana Larrañaga Janeiro - [**email**: alarranagaj@pontevedra.uned.es]\n",
        "\n",
        "Miguel Martínez Comesaña - [**email**: mmartinezc@pontevedra.uned.es]\n",
        "\n",
        "TEMA | ¿Qué veremos hoy? | \n",
        "-------------------|------------------\n",
        "1 Revisión Curso Python 1.0\n",
        "2 Programación orientada a objetos\n",
        "            |1.1 Definiciones y terminología\n",
        "            |1.2 Primera clase y primer método\n",
        "            |1.3 Herencia en clases\n",
        "3 Bases de datos \n",
        "    |2.1 Bases de datos relacionales\n",
        "    |2.2 SQL\n",
        "    |2.3 *Scrapping*"
      ]
    },
    {
      "cell_type": "markdown",
      "metadata": {
        "id": "bMhElgC7k8yi"
      },
      "source": [
        "##**1. REVISIÓN PYTHON 1.0**\n",
        "Vamos a repasar los nociones más importantes dadas en el curso introductorio de Python."
      ]
    },
    {
      "cell_type": "markdown",
      "metadata": {
        "id": "syYAefQpmuMk"
      },
      "source": [
        "###**TIPOS DE VARIABLES**"
      ]
    },
    {
      "cell_type": "code",
      "execution_count": null,
      "metadata": {
        "colab": {
          "base_uri": "https://localhost:8080/"
        },
        "id": "X54c5iEim3RH",
        "outputId": "b27b9f59-239f-48f6-87c1-8ced7b04c24f"
      },
      "outputs": [
        {
          "data": {
            "text/plain": [
              "int"
            ]
          },
          "execution_count": 1,
          "metadata": {},
          "output_type": "execute_result"
        }
      ],
      "source": [
        "# INTEGER \n",
        "type(47)"
      ]
    },
    {
      "cell_type": "code",
      "execution_count": null,
      "metadata": {
        "colab": {
          "base_uri": "https://localhost:8080/"
        },
        "id": "KqKeY-mjnAqS",
        "outputId": "d217a24e-6835-4e6c-dbe3-362bce4ea0bb"
      },
      "outputs": [
        {
          "data": {
            "text/plain": [
              "float"
            ]
          },
          "execution_count": 2,
          "metadata": {},
          "output_type": "execute_result"
        }
      ],
      "source": [
        "# FLOATS\n",
        "type(5.7425)"
      ]
    },
    {
      "cell_type": "code",
      "execution_count": null,
      "metadata": {
        "colab": {
          "base_uri": "https://localhost:8080/"
        },
        "id": "jn0u9LQ2nKbs",
        "outputId": "ee0d84f5-4420-478b-9196-29558a22f63f"
      },
      "outputs": [
        {
          "data": {
            "text/plain": [
              "complex"
            ]
          },
          "execution_count": 3,
          "metadata": {},
          "output_type": "execute_result"
        }
      ],
      "source": [
        "# NÚMEROS CUMPLEJOS\n",
        "type(complex(1,5))"
      ]
    },
    {
      "cell_type": "code",
      "execution_count": null,
      "metadata": {
        "colab": {
          "base_uri": "https://localhost:8080/"
        },
        "id": "L8TQhl_gnDCh",
        "outputId": "67dc291c-2470-4dfc-e059-c75bc102bc4c"
      },
      "outputs": [
        {
          "data": {
            "text/plain": [
              "str"
            ]
          },
          "execution_count": 4,
          "metadata": {},
          "output_type": "execute_result"
        }
      ],
      "source": [
        "# TEXTO [STRINGS]\n",
        "type(str('hello'))"
      ]
    },
    {
      "cell_type": "code",
      "execution_count": null,
      "metadata": {
        "colab": {
          "base_uri": "https://localhost:8080/"
        },
        "id": "9iaJp_YjnW4C",
        "outputId": "3c948b5d-0b79-418e-910f-2030ff0cb331"
      },
      "outputs": [
        {
          "data": {
            "text/plain": [
              "list"
            ]
          },
          "execution_count": 5,
          "metadata": {},
          "output_type": "execute_result"
        }
      ],
      "source": [
        "#LIST\n",
        "list = [1,2,3]\n",
        "type(list)"
      ]
    },
    {
      "cell_type": "code",
      "execution_count": null,
      "metadata": {
        "colab": {
          "base_uri": "https://localhost:8080/"
        },
        "id": "7E20OZkHneBr",
        "outputId": "f24ef937-253a-47a3-c548-44b455a47716"
      },
      "outputs": [
        {
          "data": {
            "text/plain": [
              "dict"
            ]
          },
          "execution_count": 6,
          "metadata": {},
          "output_type": "execute_result"
        }
      ],
      "source": [
        "#DICTIONARY\n",
        "dictionary = {'Primero':1, 'Segundo':2, 'Tercero':3}\n",
        "type(dictionary)"
      ]
    },
    {
      "cell_type": "code",
      "execution_count": null,
      "metadata": {
        "colab": {
          "base_uri": "https://localhost:8080/"
        },
        "id": "j6908inXnUh9",
        "outputId": "39907e08-9868-440f-9403-0749146b7ca7"
      },
      "outputs": [
        {
          "data": {
            "text/plain": [
              "tuple"
            ]
          },
          "execution_count": 7,
          "metadata": {},
          "output_type": "execute_result"
        }
      ],
      "source": [
        "# TUPLA = secuencia ordenada de elementos, como una lista, pero que una vez creada no se puede modificar\n",
        "TUPLA = (6, 5, 6)\n",
        "type(TUPLA)"
      ]
    },
    {
      "cell_type": "markdown",
      "metadata": {
        "id": "v_rGt-uun3YP"
      },
      "source": [
        "###**ARRAY 1D**\n"
      ]
    },
    {
      "cell_type": "code",
      "execution_count": null,
      "metadata": {
        "colab": {
          "base_uri": "https://localhost:8080/"
        },
        "id": "XbweNIl3n71q",
        "outputId": "e3de0915-faf7-495c-b30a-8fa5b65347ba"
      },
      "outputs": [
        {
          "name": "stdout",
          "output_type": "stream",
          "text": [
            "[ 0  1  2  3  4  5  6  7  8  9 10 11 12 13 14 15 16 17]\n"
          ]
        }
      ],
      "source": [
        "import numpy as np\n",
        "A = np.arange(18)\n",
        "print(A)\n"
      ]
    },
    {
      "cell_type": "code",
      "execution_count": null,
      "metadata": {
        "colab": {
          "base_uri": "https://localhost:8080/"
        },
        "id": "0QaCOWQMn-A1",
        "outputId": "303c76e8-3395-4b69-f426-38b014a516ed"
      },
      "outputs": [
        {
          "data": {
            "text/plain": [
              "array([1, 2])"
            ]
          },
          "execution_count": 9,
          "metadata": {},
          "output_type": "execute_result"
        }
      ],
      "source": [
        "# Accede al segundo y tercer elemento del array que creamos en el paso anterior.\n",
        "A[1:3]"
      ]
    },
    {
      "cell_type": "code",
      "execution_count": null,
      "metadata": {
        "colab": {
          "base_uri": "https://localhost:8080/"
        },
        "id": "ldYJZi7AoBOt",
        "outputId": "5f24f9fd-c47a-4d65-b90a-07e74d6eb691"
      },
      "outputs": [
        {
          "data": {
            "text/plain": [
              "array([0, 2, 4, 6, 8])"
            ]
          },
          "execution_count": 10,
          "metadata": {},
          "output_type": "execute_result"
        }
      ],
      "source": [
        "# Accede a los elementos entre el índice 0 y el 10 de 2 en 2.\n",
        "A[0:10:2]"
      ]
    },
    {
      "cell_type": "code",
      "execution_count": null,
      "metadata": {
        "colab": {
          "base_uri": "https://localhost:8080/"
        },
        "id": "AXr4GpM3oNKC",
        "outputId": "5361bfc4-26b7-4f14-a950-16cae4519ff0"
      },
      "outputs": [
        {
          "name": "stdout",
          "output_type": "stream",
          "text": [
            "[1 2 3 4 5]\n",
            "[1 2 3 4 5 6 7]\n"
          ]
        }
      ],
      "source": [
        "## AÑADIR\n",
        "var2 = np.array([1,2,3,4,5])\n",
        "print(var2)\n",
        "var2 = np.append(var2,[6,7])\n",
        "print(var2)"
      ]
    },
    {
      "cell_type": "code",
      "execution_count": null,
      "metadata": {
        "colab": {
          "base_uri": "https://localhost:8080/"
        },
        "id": "sTX6gslkoPQp",
        "outputId": "27d0a0ba-1c38-4b73-fd65-4fb2c21be527"
      },
      "outputs": [
        {
          "name": "stdout",
          "output_type": "stream",
          "text": [
            "[1 2 3 4 5 6 7]\n",
            "[1 2 4 5 6 7]\n"
          ]
        }
      ],
      "source": [
        "## SUPRIMIR\n",
        "print(var2)\n",
        "var2 = np.delete(var2, 2)\n",
        "print(var2)"
      ]
    },
    {
      "cell_type": "markdown",
      "metadata": {
        "id": "0IrfNb5BoQ9b"
      },
      "source": [
        "###**ARRAY 2D y 3D**\n",
        "**1D = VECTOR**\n",
        "\n",
        "**2D = MATRIZ**\n",
        "\n",
        "**3D = CUBO**\n",
        "\n",
        "EJE VERTICAL: axis = 1\n",
        "\n",
        "EJE HORIZONTAL: axis = 0"
      ]
    },
    {
      "cell_type": "code",
      "execution_count": null,
      "metadata": {
        "colab": {
          "base_uri": "https://localhost:8080/"
        },
        "id": "Ps0AphVGofwB",
        "outputId": "f932bac5-7276-4c34-a2c1-d57d0b5d9f47"
      },
      "outputs": [
        {
          "name": "stdout",
          "output_type": "stream",
          "text": [
            "[[0 7 8]\n",
            " [2 3 4]]\n"
          ]
        }
      ],
      "source": [
        "# ARRAY 2D\n",
        "a_2d = np.array([[0,7,8],[2,3,4]])\n",
        "print(a_2d)"
      ]
    },
    {
      "cell_type": "code",
      "execution_count": null,
      "metadata": {
        "colab": {
          "base_uri": "https://localhost:8080/"
        },
        "id": "C38GHTZJo-y2",
        "outputId": "c4b044c4-c0e5-4804-9679-78c342d55374"
      },
      "outputs": [
        {
          "data": {
            "text/plain": [
              "8"
            ]
          },
          "execution_count": 14,
          "metadata": {},
          "output_type": "execute_result"
        }
      ],
      "source": [
        "# Acceder a un elemento de array 2D\n",
        "a_2d[0,2]"
      ]
    },
    {
      "cell_type": "code",
      "execution_count": null,
      "metadata": {
        "colab": {
          "base_uri": "https://localhost:8080/"
        },
        "id": "F5bpuYqjoiee",
        "outputId": "d2cdb010-7f3c-4785-a96c-3767f10049c1"
      },
      "outputs": [
        {
          "name": "stdout",
          "output_type": "stream",
          "text": [
            "[[[0. 0. 0.]\n",
            "  [0. 0. 0.]]\n",
            "\n",
            " [[0. 0. 0.]\n",
            "  [0. 0. 0.]]]\n"
          ]
        }
      ],
      "source": [
        "# ARRAY 3D\n",
        "ARRAY3D = np.zeros((2,2,3))\n",
        "print(ARRAY3D)"
      ]
    },
    {
      "cell_type": "code",
      "execution_count": null,
      "metadata": {
        "colab": {
          "base_uri": "https://localhost:8080/"
        },
        "id": "_5F_L7KWo64-",
        "outputId": "97bf0b4e-5375-45d5-95d9-c7124b078cb0"
      },
      "outputs": [
        {
          "data": {
            "text/plain": [
              "0.0"
            ]
          },
          "execution_count": 16,
          "metadata": {},
          "output_type": "execute_result"
        }
      ],
      "source": [
        "# Acceder a un elemento de array 3D\n",
        "ARRAY3D[0,1,0]"
      ]
    },
    {
      "cell_type": "code",
      "execution_count": null,
      "metadata": {
        "colab": {
          "base_uri": "https://localhost:8080/"
        },
        "id": "LNIbO4mHpKK9",
        "outputId": "5124fa7f-9dd8-4e8f-99f7-81dc2a47597b"
      },
      "outputs": [
        {
          "name": "stdout",
          "output_type": "stream",
          "text": [
            "Número de dimensiones:  2\n",
            "Número de elementos:  6\n",
            "Tipo de elemento:  int64\n",
            "Estructura 3D:  (2, 2, 3)\n"
          ]
        }
      ],
      "source": [
        "print('Número de dimensiones: ', a_2d.ndim)\n",
        "print('Número de elementos: ', a_2d.size)\n",
        "print('Tipo de elemento: ', a_2d.dtype)\n",
        "print('Estructura 3D: ', ARRAY3D.shape)\n"
      ]
    },
    {
      "cell_type": "markdown",
      "metadata": {
        "id": "u6z1hqX_peMt"
      },
      "source": [
        "###**OPERACIONES CON CONJUNTOS DE DATOS**\n"
      ]
    },
    {
      "cell_type": "code",
      "execution_count": null,
      "metadata": {
        "colab": {
          "base_uri": "https://localhost:8080/"
        },
        "id": "0gNs_KYVvyTK",
        "outputId": "45485a2d-9844-4c72-9fc7-b0ad7f27d5ad"
      },
      "outputs": [
        {
          "name": "stdout",
          "output_type": "stream",
          "text": [
            "Mounted at /content/drive\n"
          ]
        }
      ],
      "source": [
        "from google.colab import drive\n",
        "drive.mount('/content/drive')"
      ]
    },
    {
      "cell_type": "code",
      "execution_count": null,
      "metadata": {
        "colab": {
          "base_uri": "https://localhost:8080/"
        },
        "id": "rHD78xYdpjvR",
        "outputId": "294c496b-c756-43a5-a771-cad5d3d3ae6a"
      },
      "outputs": [
        {
          "name": "stdout",
          "output_type": "stream",
          "text": [
            "       type  fixed acidity  volatile acidity  ...  sulphates  alcohol  quality\n",
            "0     white            7.0             0.270  ...       0.45      8.8      6.0\n",
            "1     white            6.3             0.300  ...       0.49      9.5      6.0\n",
            "2     white            8.1             0.280  ...       0.44     10.1      6.0\n",
            "3     white            7.2             0.230  ...       0.40      9.9      6.0\n",
            "4     white            7.2             0.230  ...       0.40      9.9      6.0\n",
            "...     ...            ...               ...  ...        ...      ...      ...\n",
            "6519    red            6.2             0.600  ...       0.58     10.5      5.0\n",
            "6520    red            5.9             0.550  ...        NaN     11.2      6.0\n",
            "6521    red            6.3             0.510  ...       0.75     11.0      6.0\n",
            "6522    red            5.9             0.645  ...       0.71     10.2      5.0\n",
            "6523    red            6.0             0.310  ...       0.66     11.0      6.0\n",
            "\n",
            "[6524 rows x 13 columns]\n",
            "(6524, 13)\n"
          ]
        }
      ],
      "source": [
        "import pandas as pd \n",
        "\n",
        "dframe = pd.read_csv('/content/drive/MyDrive/Colab Notebooks/Ficheros/wine_data.csv', sep=';', decimal=',',thousands='.')\n",
        "print(dframe)\n",
        "print(dframe.shape)"
      ]
    },
    {
      "cell_type": "code",
      "execution_count": null,
      "metadata": {
        "colab": {
          "base_uri": "https://localhost:8080/"
        },
        "id": "OjzNA0JypnGM",
        "outputId": "e0d17e5d-5fe3-44cb-e371-623885f513cc"
      },
      "outputs": [
        {
          "name": "stdout",
          "output_type": "stream",
          "text": [
            "       fixed acidity  volatile acidity  ...      alcohol      quality\n",
            "count    6487.000000       6489.000000  ...  6497.000000  6497.000000\n",
            "mean        7.216579          0.339699  ...    10.491801     5.818378\n",
            "std         1.296750          0.164653  ...     1.192712     0.873255\n",
            "min         3.800000          0.080000  ...     8.000000     3.000000\n",
            "25%         6.400000          0.230000  ...     9.500000     5.000000\n",
            "50%         7.000000          0.290000  ...    10.300000     6.000000\n",
            "75%         7.700000          0.400000  ...    11.300000     6.000000\n",
            "max        15.900000          1.580000  ...    14.900000     9.000000\n",
            "\n",
            "[8 rows x 12 columns]\n",
            "         type  fixed acidity  ...      alcohol      quality\n",
            "count    6524    6487.000000  ...  6497.000000  6497.000000\n",
            "unique      2            NaN  ...          NaN          NaN\n",
            "top     white            NaN  ...          NaN          NaN\n",
            "freq     4914            NaN  ...          NaN          NaN\n",
            "mean      NaN       7.216579  ...    10.491801     5.818378\n",
            "std       NaN       1.296750  ...     1.192712     0.873255\n",
            "min       NaN       3.800000  ...     8.000000     3.000000\n",
            "25%       NaN       6.400000  ...     9.500000     5.000000\n",
            "50%       NaN       7.000000  ...    10.300000     6.000000\n",
            "75%       NaN       7.700000  ...    11.300000     6.000000\n",
            "max       NaN      15.900000  ...    14.900000     9.000000\n",
            "\n",
            "[11 rows x 13 columns]\n"
          ]
        }
      ],
      "source": [
        "#Resumén rápido de las variables numéricas\n",
        "print(dframe.describe())\n",
        "print(dframe.describe(include='all'))"
      ]
    },
    {
      "cell_type": "code",
      "execution_count": null,
      "metadata": {
        "colab": {
          "base_uri": "https://localhost:8080/"
        },
        "id": "RcNQvEBrpp21",
        "outputId": "1fb0c706-34bf-4a24-a090-3ba90afc7b05"
      },
      "outputs": [
        {
          "name": "stdout",
          "output_type": "stream",
          "text": [
            "type                    white\n",
            "fixed acidity             7.0\n",
            "volatile acidity         0.27\n",
            "citric acid              0.36\n",
            "residual sugar           20.7\n",
            "chlorides                0.05\n",
            "free sulfur dioxide      45.0\n",
            "total sulfur dioxide    170.0\n",
            "density                   1.0\n",
            "pH                        3.0\n",
            "sulphates                0.45\n",
            "alcohol                   8.8\n",
            "quality                   6.0\n",
            "Name: 0, dtype: object\n"
          ]
        }
      ],
      "source": [
        "# Usando `iloc[]` para seleccionar fila `0`\n",
        "print(dframe.iloc[0])"
      ]
    },
    {
      "cell_type": "code",
      "execution_count": null,
      "metadata": {
        "colab": {
          "base_uri": "https://localhost:8080/"
        },
        "id": "1NOdxOF3pryd",
        "outputId": "cc806274-e5c1-4b0e-e218-53ddbf437986"
      },
      "outputs": [
        {
          "data": {
            "text/plain": [
              "0       3.00\n",
              "1       3.30\n",
              "2       3.26\n",
              "3       3.19\n",
              "4       3.19\n",
              "        ... \n",
              "6519    3.45\n",
              "6520    3.52\n",
              "6521    3.42\n",
              "6522    3.57\n",
              "6523    3.39\n",
              "Name: pH, Length: 6524, dtype: float64"
            ]
          },
          "execution_count": 24,
          "metadata": {},
          "output_type": "execute_result"
        }
      ],
      "source": [
        "# Usando `loc[]` para seleccionar columna 'pH'\n",
        "dframe.loc[:,'pH']"
      ]
    },
    {
      "cell_type": "code",
      "execution_count": null,
      "metadata": {
        "colab": {
          "base_uri": "https://localhost:8080/"
        },
        "id": "Wfa12nf-pztk",
        "outputId": "46021f81-7be9-4b65-f60a-53341fdd6481"
      },
      "outputs": [
        {
          "name": "stdout",
          "output_type": "stream",
          "text": [
            "       type  fixed acidity  volatile acidity  ...  sulphates  alcohol  quality\n",
            "0     white            7.0             0.270  ...       0.45      8.8      6.0\n",
            "1     white            6.3             0.300  ...       0.49      9.5      6.0\n",
            "2     white            8.1             0.280  ...       0.44     10.1      6.0\n",
            "3     white            7.2             0.230  ...       0.40      9.9      6.0\n",
            "4     white            7.2             0.230  ...       0.40      9.9      6.0\n",
            "...     ...            ...               ...  ...        ...      ...      ...\n",
            "6520    red            5.9             0.550  ...        NaN     11.2      6.0\n",
            "6521    red            6.3             0.510  ...       0.75     11.0      6.0\n",
            "6522    red            5.9             0.645  ...       0.71     10.2      5.0\n",
            "6523    red            6.0             0.310  ...       0.66     11.0      6.0\n",
            "6524  white            7.2             0.230  ...       0.40      9.9      6.0\n",
            "\n",
            "[6525 rows x 13 columns]\n"
          ]
        }
      ],
      "source": [
        "#Añadir una fila con .append()\n",
        "print(dframe.append(dframe.iloc[3],ignore_index=True))"
      ]
    },
    {
      "cell_type": "code",
      "execution_count": null,
      "metadata": {
        "colab": {
          "base_uri": "https://localhost:8080/"
        },
        "id": "hOUsEG6Fp4BV",
        "outputId": "c919b496-a200-47e3-c8d1-fc885d4ef5da"
      },
      "outputs": [
        {
          "name": "stdout",
          "output_type": "stream",
          "text": [
            "13\n",
            "       type  fixed acidity  volatile acidity  ...  alcohol  quality    13\n",
            "0     white            7.0             0.270  ...      8.8      6.0     0\n",
            "1     white            6.3             0.300  ...      9.5      6.0     1\n",
            "2     white            8.1             0.280  ...     10.1      6.0     2\n",
            "3     white            7.2             0.230  ...      9.9      6.0     3\n",
            "4     white            7.2             0.230  ...      9.9      6.0     4\n",
            "...     ...            ...               ...  ...      ...      ...   ...\n",
            "6519    red            6.2             0.600  ...     10.5      5.0  6519\n",
            "6520    red            5.9             0.550  ...     11.2      6.0  6520\n",
            "6521    red            6.3             0.510  ...     11.0      6.0  6521\n",
            "6522    red            5.9             0.645  ...     10.2      5.0  6522\n",
            "6523    red            6.0             0.310  ...     11.0      6.0  6523\n",
            "\n",
            "[6524 rows x 14 columns]\n"
          ]
        }
      ],
      "source": [
        "#Añadir columnas usando .loc\n",
        "print(dframe.shape[1])\n",
        "dframe.loc[:,dframe.shape[1]] = pd.Series(range(len(dframe)), index=dframe.index)\n",
        "print(dframe)\n"
      ]
    },
    {
      "cell_type": "code",
      "execution_count": null,
      "metadata": {
        "colab": {
          "base_uri": "https://localhost:8080/"
        },
        "id": "-wEpCSkQp-nM",
        "outputId": "b3b90b09-cae7-43b9-bbae-9461b2454876"
      },
      "outputs": [
        {
          "name": "stdout",
          "output_type": "stream",
          "text": [
            "       type  volatile acidity  citric acid  ...  alcohol  quality    13\n",
            "0     white             0.270         0.36  ...      8.8      6.0     0\n",
            "1     white             0.300         0.34  ...      9.5      6.0     1\n",
            "2     white             0.280         0.40  ...     10.1      6.0     2\n",
            "3     white             0.230         0.32  ...      9.9      6.0     3\n",
            "4     white             0.230         0.32  ...      9.9      6.0     4\n",
            "...     ...               ...          ...  ...      ...      ...   ...\n",
            "6519    red             0.600         0.08  ...     10.5      5.0  6519\n",
            "6520    red             0.550         0.10  ...     11.2      6.0  6520\n",
            "6521    red             0.510         0.13  ...     11.0      6.0  6521\n",
            "6522    red             0.645         0.12  ...     10.2      5.0  6522\n",
            "6523    red             0.310         0.47  ...     11.0      6.0  6523\n",
            "\n",
            "[6524 rows x 13 columns]\n"
          ]
        }
      ],
      "source": [
        "# Eliminamos la segunda columna\n",
        "dframe.drop(dframe.columns[1], axis=1, inplace=True)\n",
        "print(dframe)"
      ]
    },
    {
      "cell_type": "code",
      "execution_count": null,
      "metadata": {
        "colab": {
          "base_uri": "https://localhost:8080/",
          "height": 879
        },
        "id": "8qEiwm5TqB3d",
        "outputId": "2a1b64d8-8c86-45cc-86ca-4c0adffb9965"
      },
      "outputs": [
        {
          "name": "stdout",
          "output_type": "stream",
          "text": [
            "       type  volatile acidity  citric acid  ...  alcohol  quality     13\n",
            "0     False             False        False  ...    False    False  False\n",
            "1     False             False        False  ...    False    False  False\n",
            "2     False             False        False  ...    False    False  False\n",
            "3     False             False        False  ...    False    False  False\n",
            "4     False             False        False  ...    False    False  False\n",
            "...     ...               ...          ...  ...      ...      ...    ...\n",
            "6519  False             False        False  ...    False    False  False\n",
            "6520  False             False        False  ...    False    False  False\n",
            "6521  False             False        False  ...    False    False  False\n",
            "6522  False             False        False  ...    False    False  False\n",
            "6523  False             False        False  ...    False    False  False\n",
            "\n",
            "[6524 rows x 13 columns]\n",
            "type                     0\n",
            "volatile acidity        35\n",
            "citric acid             30\n",
            "residual sugar          29\n",
            "chlorides               29\n",
            "free sulfur dioxide     27\n",
            "total sulfur dioxide    27\n",
            "density                 27\n",
            "pH                      36\n",
            "sulphates               31\n",
            "alcohol                 27\n",
            "quality                 27\n",
            "13                       0\n",
            "dtype: int64\n"
          ]
        },
        {
          "data": {
            "text/plain": [
              "<matplotlib.axes._subplots.AxesSubplot at 0x7f30a8bb1290>"
            ]
          },
          "execution_count": 28,
          "metadata": {},
          "output_type": "execute_result"
        },
        {
          "data": {
            "image/png": "[encoded data removed]",
            "text/plain": [
              "<Figure size 432x288 with 1 Axes>"
            ]
          },
          "metadata": {
            "needs_background": "light"
          },
          "output_type": "display_data"
        }
      ],
      "source": [
        "#Donde y cuantos NAs tenemos en nuestro conjunto de datos \n",
        "print(dframe.isna())  #or is.null\n",
        "print(dframe.isna().sum())\n",
        "dframe.isna().sum().reset_index(name=\"n\").plot.bar(x='index', y='n', rot=45)"
      ]
    },
    {
      "cell_type": "code",
      "execution_count": null,
      "metadata": {
        "colab": {
          "base_uri": "https://localhost:8080/"
        },
        "id": "gznLRKPgqErj",
        "outputId": "47d7fc05-8bde-4f2c-f181-13cc5331d128"
      },
      "outputs": [
        {
          "name": "stdout",
          "output_type": "stream",
          "text": [
            "type                    0\n",
            "volatile acidity        0\n",
            "citric acid             0\n",
            "residual sugar          0\n",
            "chlorides               0\n",
            "free sulfur dioxide     0\n",
            "total sulfur dioxide    0\n",
            "density                 0\n",
            "pH                      0\n",
            "sulphates               0\n",
            "alcohol                 0\n",
            "quality                 0\n",
            "13                      0\n",
            "dtype: int64\n",
            "(6469, 13)\n",
            "(6524, 13)\n"
          ]
        }
      ],
      "source": [
        "#Eliminamos los datos faltantes\n",
        "dd = dframe.dropna()\n",
        "print(dd.isna().sum())\n",
        "print(dd.shape)\n",
        "print(dframe.shape)"
      ]
    },
    {
      "cell_type": "code",
      "execution_count": null,
      "metadata": {
        "colab": {
          "base_uri": "https://localhost:8080/"
        },
        "id": "2n4I1lNaqFjn",
        "outputId": "d605e8be-02ed-40a6-8857-2882b0d1ffd7"
      },
      "outputs": [
        {
          "name": "stdout",
          "output_type": "stream",
          "text": [
            "     type  volatile acidity  citric acid  ...  alcohol  quality    13\n",
            "6504  red             0.560         0.09  ...     11.3      5.0  6504\n",
            "6505  red             0.350         0.33  ...     11.9      6.0  6505\n",
            "6506  red             0.560         0.09  ...     11.3      5.0  6506\n",
            "6507  red             0.715         0.10  ...     11.9      5.0  6507\n",
            "6508  red             0.460         0.29  ...      9.8      5.0  6508\n",
            "6509  red             0.320         0.44  ...     11.6      7.0  6509\n",
            "6510  red             0.390         0.44  ...     11.5      6.0  6510\n",
            "6511  red             0.310         0.41  ...     11.4      6.0  6511\n",
            "6512  red             0.610         0.11  ...     10.9      6.0  6512\n",
            "6513  red          9999.000         0.33  ...     12.8      6.0  6513\n",
            "6514  red             0.725         0.20  ...      9.2      5.0  6514\n",
            "6515  red             0.550         0.15  ...     11.6      6.0  6515\n",
            "6516  red             0.740         0.09  ...     11.6      6.0  6516\n",
            "6517  red             0.510         0.13  ...     11.0      6.0  6517\n",
            "6518  red             0.620         0.08  ...      9.5      6.0  6518\n",
            "6519  red             0.600         0.08  ...     10.5      5.0  6519\n",
            "6520  red             0.550         0.10  ...     11.2      6.0  6520\n",
            "6521  red             0.510         0.13  ...     11.0      6.0  6521\n",
            "6522  red             0.645         0.12  ...     10.2      5.0  6522\n",
            "6523  red             0.310         0.47  ...     11.0      6.0  6523\n",
            "\n",
            "[20 rows x 13 columns]\n"
          ]
        }
      ],
      "source": [
        "#Rellenamos los huecos con algún valor concreto ('Enmascaramiento')\n",
        "dd2 = dframe.replace(np.nan, 9999)\n",
        "print(dd2.tail(20))\n",
        "\n",
        "dd3 = dframe.fillna(9999)"
      ]
    },
    {
      "cell_type": "code",
      "execution_count": null,
      "metadata": {
        "colab": {
          "base_uri": "https://localhost:8080/"
        },
        "id": "gp45XDk5qH5T",
        "outputId": "78b0801a-3ad0-4e03-e4c7-d8285a146cec"
      },
      "outputs": [
        {
          "name": "stdout",
          "output_type": "stream",
          "text": [
            "volatile acidity        35\n",
            "citric acid             30\n",
            "residual sugar          29\n",
            "chlorides               29\n",
            "free sulfur dioxide     27\n",
            "total sulfur dioxide    27\n",
            "density                 27\n",
            "pH                      36\n",
            "sulphates               31\n",
            "alcohol                 27\n",
            "quality                 27\n",
            "13                       0\n",
            "dtype: int64\n",
            "volatile acidity        0\n",
            "citric acid             0\n",
            "residual sugar          0\n",
            "chlorides               0\n",
            "free sulfur dioxide     0\n",
            "total sulfur dioxide    0\n",
            "density                 0\n",
            "pH                      0\n",
            "sulphates               0\n",
            "alcohol                 0\n",
            "quality                 0\n",
            "13                      0\n",
            "dtype: int64\n",
            "      volatile acidity  citric acid  residual sugar  ...  alcohol  quality    13\n",
            "6504            0.5600         0.09             1.7  ...     11.3      5.0  6504\n",
            "6505            0.3500         0.33             2.4  ...     11.9      6.0  6505\n",
            "6506            0.5600         0.09             1.7  ...     11.3      5.0  6506\n",
            "6507            0.7150         0.10             2.6  ...     11.9      5.0  6507\n",
            "6508            0.4600         0.29             2.1  ...      9.8      5.0  6508\n",
            "6509            0.3200         0.44             2.4  ...     11.6      7.0  6509\n",
            "6510            0.3900         0.44             2.6  ...     11.5      6.0  6510\n",
            "6511            0.3100         0.41             2.4  ...     11.4      6.0  6511\n",
            "6512            0.6100         0.11             1.8  ...     10.9      6.0  6512\n",
            "6513            0.6675         0.33             2.5  ...     12.8      6.0  6513\n",
            "6514            0.7250         0.20             7.8  ...      9.2      5.0  6514\n",
            "6515            0.5500         0.15             1.8  ...     11.6      6.0  6515\n",
            "6516            0.7400         0.09             1.7  ...     11.6      6.0  6516\n",
            "6517            0.5100         0.13             2.3  ...     11.0      6.0  6517\n",
            "6518            0.6200         0.08             1.9  ...      9.5      6.0  6518\n",
            "6519            0.6000         0.08             2.0  ...     10.5      5.0  6519\n",
            "6520            0.5500         0.10             2.2  ...     11.2      6.0  6520\n",
            "6521            0.5100         0.13             2.3  ...     11.0      6.0  6521\n",
            "6522            0.6450         0.12             2.0  ...     10.2      5.0  6522\n",
            "6523            0.3100         0.47             3.6  ...     11.0      6.0  6523\n",
            "\n",
            "[20 rows x 12 columns]\n"
          ]
        }
      ],
      "source": [
        "#Rellenamos los huecos con una interpolación\n",
        "dd4 = dframe.drop('type', axis=1)\n",
        "print(dd4.isna().sum())\n",
        "\n",
        "dd4.replace(9999, np.nan, inplace=True)\n",
        "dd4 = dd4.interpolate(method = 'linear', limit=10, axis=0) #polinomial, splines\n",
        "\n",
        "print(dd4.isna().sum())\n",
        "print(dd4.tail(20))"
      ]
    },
    {
      "cell_type": "code",
      "execution_count": null,
      "metadata": {
        "colab": {
          "base_uri": "https://localhost:8080/"
        },
        "id": "JmA-5GjcqSfL",
        "outputId": "dffaa9a8-000f-40fb-b231-825588c84b60"
      },
      "outputs": [
        {
          "name": "stdout",
          "output_type": "stream",
          "text": [
            "     type  volatile acidity  citric acid  ...  alcohol  quality    13\n",
            "4914  red             0.700         0.00  ...      9.4      5.0  4914\n",
            "4915  red             0.880         0.00  ...      9.8      5.0  4915\n",
            "4916  red             0.760         0.04  ...      9.8      5.0  4916\n",
            "4917  red             0.280         0.56  ...      9.8      6.0  4917\n",
            "4918  red             0.700         0.00  ...      9.4      5.0  4918\n",
            "...   ...               ...          ...  ...      ...      ...   ...\n",
            "6519  red             0.600         0.08  ...     10.5      5.0  6519\n",
            "6520  red             0.550         0.10  ...     11.2      6.0  6520\n",
            "6521  red             0.510         0.13  ...     11.0      6.0  6521\n",
            "6522  red             0.645         0.12  ...     10.2      5.0  6522\n",
            "6523  red             0.310         0.47  ...     11.0      6.0  6523\n",
            "\n",
            "[1610 rows x 13 columns]\n"
          ]
        }
      ],
      "source": [
        "#Filtrar por valores: \n",
        "dframe2 = dframe[dframe['type'] == 'red']\n",
        "print(dframe2)"
      ]
    },
    {
      "cell_type": "code",
      "execution_count": null,
      "metadata": {
        "colab": {
          "base_uri": "https://localhost:8080/"
        },
        "id": "RRONrwX7qUlu",
        "outputId": "56a1d4a7-c661-4a70-acd1-17d700b76e79"
      },
      "outputs": [
        {
          "name": "stdout",
          "output_type": "stream",
          "text": [
            "       type  volatile acidity  citric acid  ...  alcohol  quality    13\n",
            "3     white             0.230         0.32  ...     9.90      6.0     3\n",
            "4     white             0.230         0.32  ...     9.90      6.0     4\n",
            "19    white             0.310         0.14  ...     9.50      5.0    19\n",
            "25    white             0.250         0.32  ...    10.40      6.0    25\n",
            "31    white             0.140         0.34  ...    10.20      6.0    31\n",
            "...     ...               ...          ...  ...      ...      ...   ...\n",
            "6291    red             0.740         0.08  ...     9.80      5.0  6291\n",
            "6293    red             0.770         0.32  ...     9.80      6.0  6293\n",
            "6309    red             0.755         0.15  ...     9.50      5.0  6309\n",
            "6381    red             0.540         0.06  ...    10.55      6.0  6381\n",
            "6507    red             0.715         0.10  ...    11.90      5.0  6507\n",
            "\n",
            "[447 rows x 13 columns]\n"
          ]
        }
      ],
      "source": [
        "#Filtrar valores que pertenecen a un grupo: \n",
        "dframe3 = dframe[dframe['sulphates'].isin([0.4, 0.5])]\n",
        "print(dframe3)"
      ]
    },
    {
      "cell_type": "markdown",
      "metadata": {
        "id": "Y-tV_goLquUM"
      },
      "source": [
        "###**BUCLES**"
      ]
    },
    {
      "cell_type": "markdown",
      "metadata": {
        "id": "_4QkGXPIqx0C"
      },
      "source": [
        "####**BUCLE *FOR***"
      ]
    },
    {
      "cell_type": "code",
      "execution_count": null,
      "metadata": {
        "colab": {
          "base_uri": "https://localhost:8080/"
        },
        "id": "TKU2fgHzqjIE",
        "outputId": "48071db9-0507-4cdb-8957-e9ae0beceaea"
      },
      "outputs": [
        {
          "name": "stdout",
          "output_type": "stream",
          "text": [
            "Segundo 0\n",
            "Segundo 1\n",
            "Segundo 2\n",
            "Segundo 3\n",
            "Segundo 4\n",
            "Segundo 5\n",
            "Segundo 6\n",
            "Segundo 7\n",
            "Segundo 8\n",
            "Segundo 9\n"
          ]
        }
      ],
      "source": [
        "# Versión 1.0: CONTADOR DE TIEMPO\n",
        "for segundos in range(0,10):\n",
        "  print(\"Segundo \" + str(segundos))"
      ]
    },
    {
      "cell_type": "markdown",
      "metadata": {
        "id": "NFbeVXTIq7pe"
      },
      "source": [
        "####**BUCLE *IF/ELSE***"
      ]
    },
    {
      "cell_type": "code",
      "execution_count": null,
      "metadata": {
        "colab": {
          "base_uri": "https://localhost:8080/"
        },
        "id": "-mTqKtz0qrez",
        "outputId": "6241d4a3-85ab-4302-9028-7aa169a7652b"
      },
      "outputs": [
        {
          "name": "stdout",
          "output_type": "stream",
          "text": [
            "No cumple condición\n",
            "No cumple condición\n",
            "No cumple condición\n",
            "No cumple condición\n",
            "No cumple condición\n"
          ]
        }
      ],
      "source": [
        "# COMBINACIONES DE BUCLES Y CONDICIONALES\n",
        "lista = [4,1,8,19,20]\n",
        "\n",
        "for elemento in lista:\n",
        "  if (elemento>4 and elemento<7):\n",
        "    print(f'valor: {elemento}')\n",
        "  else:\n",
        "    print('No cumple condición')"
      ]
    },
    {
      "cell_type": "markdown",
      "metadata": {
        "id": "AvyhTIEXq-CQ"
      },
      "source": [
        "####**BUCLE *WHILE***"
      ]
    },
    {
      "cell_type": "code",
      "execution_count": null,
      "metadata": {
        "colab": {
          "base_uri": "https://localhost:8080/"
        },
        "id": "WOw4cu9QrDRk",
        "outputId": "9555c46b-2d2e-4c50-c432-b9ca09473e17"
      },
      "outputs": [
        {
          "name": "stdout",
          "output_type": "stream",
          "text": [
            "Segundo 1\n",
            "Segundo 2\n",
            "Segundo 3\n",
            "Segundo 4\n",
            "Segundo 5\n",
            "Segundo 6\n",
            "Segundo 7\n",
            "Segundo 8\n",
            "Segundo 9\n",
            "Segundo 10\n",
            "Segundo 11\n",
            "Segundo 12\n",
            "Segundo 13\n",
            "Segundo 14\n",
            "Segundo 15\n",
            "Segundo 16\n",
            "Segundo 17\n",
            "Segundo 18\n",
            "Segundo 19\n"
          ]
        }
      ],
      "source": [
        "# Versión 2.0: CONTADOR DE TIEMPO\n",
        "segundos = 1\n",
        "\n",
        "while segundos<20:\n",
        "  print(\"Segundo \" + str(segundos))\n",
        "  #segundos = segundos + 1\n",
        "  segundos+=1\n",
        "\n",
        "#OJO CON ACTUALIZAR LA VARIABLE DE CONTROL: BUCLES INFINITOS "
      ]
    },
    {
      "cell_type": "markdown",
      "metadata": {
        "id": "sgEGcglZ4Wo6"
      },
      "source": [
        "##**2. PROGRAMACIÓN ORIENTADA A OBJETOS** ([link](https://realpython.com/python3-object-oriented-programming/))\n",
        "\n",
        "---"
      ]
    },
    {
      "cell_type": "markdown",
      "metadata": {
        "id": "HGdoICqh4ezu"
      },
      "source": [
        "###**DEFINICIONES Y TERMINOLOGÍA**\n",
        "---\n",
        "La programación orientada a objetos (POO ó OOP) es un método de estructurar un programa, agrupando propiedades y comportamientos relacionadas en objectos individuales. \n",
        "\n",
        "Los **objectos** se pueden considerar los componentes de un sistema. Podríamos imaginar un programa como una fábrica en la que en cada paso de la cadena de montaje, un componente del sistema procesa el material transnformando materias primas en productos. Los objetos están compuestos por datos (materias primas o material preprocesado) y comportamiento (acciones que cada componente desarrolla)."
      ]
    },
    {
      "cell_type": "markdown",
      "metadata": {
        "id": "GEwSfUm1vrWd"
      },
      "source": [
        "\n",
        "<center><img src='https://drive.google.com/uc?id=1sX1tAVVE4o25kzwC5XcHY_LNKpcrN_fK'></center> \n",
        "\n",
        "Image from https://medium.com/future-vision/intro-to-oop-with-python-39ba63967e45\n",
        "\n"
      ]
    },
    {
      "cell_type": "markdown",
      "metadata": {
        "id": "ogizqHAvxD2q"
      },
      "source": [
        "\n",
        "*Otro ejemplo*: Un objeto podría ser una persona con propiedades como el nombre, la edad o la dirección y con comportamientos como hablar, caminar o comer. "
      ]
    },
    {
      "cell_type": "markdown",
      "metadata": {
        "id": "GvvbIvay4pR0"
      },
      "source": [
        "###**PRIMERA CLASE Y PRIMER OBJETO**\n",
        "---\n",
        "Las estructuras de datos que hemos visto hasta ahora son diseñados simplemente para representar determinada información. Si quisieramos hacer un seguimiento de los empleados en una empresa (nombre, edad, posición, etc.)podríamos hacer una lista."
      ]
    },
    {
      "cell_type": "code",
      "execution_count": null,
      "metadata": {
        "colab": {
          "base_uri": "https://localhost:8080/"
        },
        "id": "2arHJ_bDxzJ-",
        "outputId": "5886a48f-16ec-4726-e519-557a23ab17b6"
      },
      "outputs": [
        {
          "name": "stdout",
          "output_type": "stream",
          "text": [
            "[['Juan Rodríguez', 34, 'Captain'], ['Marcos Torres', 35, 'Science Officer'], ['Sara Martínez', 'Chief Medical Officer']]\n"
          ]
        }
      ],
      "source": [
        "Juan = [\"Juan Rodríguez\", 34, \"Captain\"]\n",
        "Marcos = [\"Marcos Torres\", 35, \"Science Officer\"]\n",
        "Sara = [\"Sara Martínez\", \"Chief Medical Officer\"]\n",
        "\n",
        "lista=[]\n",
        "lista.append(Juan)\n",
        "lista.append(Marcos)\n",
        "lista.append(Sara)\n",
        "print(lista)"
      ]
    },
    {
      "cell_type": "markdown",
      "metadata": {
        "id": "0zxT5M51yKax"
      },
      "source": [
        "Esto tendría diversos inconvenientes:\n",
        "\n",
        "*   Pueden llegar a ser listas inmnensas difíciles de manejar.\n",
        "*   Si queremos recuperar la edad de Juan bastantes líneas depués de declarar la lista será muy difícil acordarse de que Juan[1] era la edad.\n",
        "*   Si alguno de los empleados no tiene alguno de los elementos pueden generarse errores.\n",
        "\n",
        "\n"
      ]
    },
    {
      "cell_type": "markdown",
      "metadata": {
        "id": "r-eYt245x97R"
      },
      "source": [
        "###**Clases**"
      ]
    },
    {
      "cell_type": "markdown",
      "metadata": {
        "id": "xeCZU8Xfy7bT"
      },
      "source": [
        "Las **clases (*classes*)** aparecen para facilitar esto. Una clase se usa para crear estructuras de datos específicas y definidas por el propio programador. A su vez, las clases definen funciones, conocidas como **métodos (*methods*)** que idenfican las acciones que un objeto creado a partir de la clase puede llevar a cabo.\n",
        "\n",
        "Una clase es un como un *plano* o *instrucciones* de como se tiene que definir algo. Realmente, no contiene datos. Por ejemplo: Una clase *Alumno* podría dictar que es necesario un nombre y una edad para ser considerado un alumno.\n",
        "\n"
      ]
    },
    {
      "cell_type": "code",
      "execution_count": null,
      "metadata": {
        "id": "gLvE4uD50uUH"
      },
      "outputs": [],
      "source": [
        "class Alumno:\n",
        "  def __init__(self, name, age):\n",
        "    self.name = name\n",
        "    self.age = age\n"
      ]
    },
    {
      "cell_type": "markdown",
      "metadata": {
        "id": "sPZqCl_a07Tk"
      },
      "source": [
        "Si la clase es el *plano*, una **instancia (instance)** es un objeto creado a partir de una clase y que contiene datos. Una instancia de la clase *Alumno* podría ser Manuel, que tiene 30 años.\n",
        "\n",
        "Todas las propiedades asignadas a una clase se tienen que definir a través de $__init__()$. Cada vez que se crea o introduce un nuevo alumno $__init__()$ establece el estado inicial del objeto.\n",
        "\n",
        "La primera variable de $__init__()$ siempre es *self*, la cuál guarda los atributos de la instancia (*instance attributes*). De esta forma, todos los objetos *Alumno* tienen nombre y edad pero sus valores serán diferentes dependiendo de la instancia."
      ]
    },
    {
      "cell_type": "markdown",
      "metadata": {
        "id": "WXCpP02e2AGv"
      },
      "source": [
        "En el cuerpo de $__init_()$ hay dos declaraciones:\n",
        "\n",
        "\n",
        "*   **self.name = name**. Se crea un atributo llamado *name* y se le asigna el valor del parámetro *name*. \n",
        "*   **self.age = age**. Se crea un atributo llamado *age* y se le asigna el valor del parámetro *age*. \n",
        "\n"
      ]
    },
    {
      "cell_type": "code",
      "execution_count": null,
      "metadata": {
        "colab": {
          "base_uri": "https://localhost:8080/"
        },
        "id": "_omm_CxWy8mA",
        "outputId": "e227fa50-908b-4a05-8d62-4377f9216455"
      },
      "outputs": [
        {
          "name": "stdout",
          "output_type": "stream",
          "text": [
            "<class '__main__.Alumno'>\n"
          ]
        }
      ],
      "source": [
        "Manuel = Alumno('Manuel', 30)\n",
        "\n",
        "print(type(Manuel))"
      ]
    },
    {
      "cell_type": "markdown",
      "metadata": {
        "id": "KRTt-IE-28m7"
      },
      "source": [
        "También existen los atributos de la clase (*class attributes*), que tienen el mismo valor para todas las instancias de una clase. Para definirlos se le deberá asignar valores fuera de $__init__()$."
      ]
    },
    {
      "cell_type": "code",
      "execution_count": null,
      "metadata": {
        "id": "PuT2ct_Q27ne"
      },
      "outputs": [],
      "source": [
        "class Alumno:\n",
        "  #Class atribute\n",
        "  tipo = 'Alumnos'\n",
        "\n",
        "  def __init__(self, name, age):\n",
        "    self.name = name\n",
        "    self.age = age"
      ]
    },
    {
      "cell_type": "markdown",
      "metadata": {
        "id": "_j7vPODhJL0P"
      },
      "source": [
        "\n",
        "\n",
        "*   ***Class attributes***: propiedades comunes a todas las instancias de la clase.\n",
        "*   ***Instance attributes***: propiedades que varían de una instancia a otra.\n",
        "\n"
      ]
    },
    {
      "cell_type": "markdown",
      "metadata": {
        "id": "OsfDxMlbJvlf"
      },
      "source": [
        "####***Instantiating* un objecto**"
      ]
    },
    {
      "cell_type": "code",
      "execution_count": null,
      "metadata": {
        "id": "v0d8kmfBLXl6"
      },
      "outputs": [],
      "source": [
        "class Alumno:\n",
        "  pass"
      ]
    },
    {
      "cell_type": "markdown",
      "metadata": {
        "id": "9MRqEZZbKIQl"
      },
      "source": [
        "En el momento que creamos un nuevo objecto en base a una clase estamos *instantiating* un objeto. "
      ]
    },
    {
      "cell_type": "code",
      "execution_count": null,
      "metadata": {
        "colab": {
          "base_uri": "https://localhost:8080/"
        },
        "id": "VEcnDbWgKTG1",
        "outputId": "1022d7db-caad-443c-f124-57edf5af9565"
      },
      "outputs": [
        {
          "data": {
            "text/plain": [
              "<__main__.Alumno at 0x7f30a8478fd0>"
            ]
          },
          "execution_count": 43,
          "metadata": {},
          "output_type": "execute_result"
        }
      ],
      "source": [
        "Alumno()"
      ]
    },
    {
      "cell_type": "markdown",
      "metadata": {
        "id": "Ofp27yCgKW9_"
      },
      "source": [
        "El mensaje que aparece que la *dirección de memoria* y nos dice donde está almacenado el objeto. "
      ]
    },
    {
      "cell_type": "code",
      "execution_count": null,
      "metadata": {
        "colab": {
          "base_uri": "https://localhost:8080/"
        },
        "id": "fguKlbAqKsz-",
        "outputId": "90ce8974-a375-4986-cce3-e86bd26bce52"
      },
      "outputs": [
        {
          "data": {
            "text/plain": [
              "<__main__.Alumno at 0x7f30a84ec710>"
            ]
          },
          "execution_count": 44,
          "metadata": {},
          "output_type": "execute_result"
        }
      ],
      "source": [
        "Alumno()"
      ]
    },
    {
      "cell_type": "markdown",
      "metadata": {
        "id": "0Cc0lSvVKuZr"
      },
      "source": [
        "Son diferentes porque representan dos objetos diferentes en la memoria."
      ]
    },
    {
      "cell_type": "code",
      "execution_count": null,
      "metadata": {
        "colab": {
          "base_uri": "https://localhost:8080/"
        },
        "id": "uocQFHgeKwea",
        "outputId": "6ac9334b-d8a9-4c08-8a01-a255878e8975"
      },
      "outputs": [
        {
          "data": {
            "text/plain": [
              "False"
            ]
          },
          "execution_count": 46,
          "metadata": {},
          "output_type": "execute_result"
        }
      ],
      "source": [
        "p1 = Alumno()\n",
        "p2 = Alumno()\n",
        "\n",
        "p1==p2"
      ]
    },
    {
      "cell_type": "code",
      "execution_count": null,
      "metadata": {
        "id": "SsUuPouxLPVm"
      },
      "outputs": [],
      "source": [
        "#EJEMPLO PRÁCTICO\n",
        "class Alumno:\n",
        "  #Class attribute\n",
        "  tipo='Ser vivos'\n",
        "\n",
        "  def __init__(self, name, age, height):\n",
        "    self.name= name\n",
        "    self.age= age\n",
        "    self.height = height\n",
        "\n"
      ]
    },
    {
      "cell_type": "markdown",
      "metadata": {
        "id": "a9RPCe9mL_5F"
      },
      "source": [
        "La clase *Alumno*, en su plano, exige que se le pasen tres argumentos: nombre, edad y altura."
      ]
    },
    {
      "cell_type": "code",
      "execution_count": null,
      "metadata": {
        "id": "31rvKfInMJiG"
      },
      "outputs": [],
      "source": [
        "Juan = Alumno('Juan', 34, 1.80)\n",
        "Marta = Alumno('Marta', 24, 1.70)\n",
        "Lucía = Alumno('Lucía',40, 1.67)"
      ]
    },
    {
      "cell_type": "markdown",
      "metadata": {
        "id": "6ZqUxeufMqJo"
      },
      "source": [
        "El parámetro *self* es únicamente de *almacenaje*. Una vez se crea la instancia los valores pasan a *self*."
      ]
    },
    {
      "cell_type": "markdown",
      "metadata": {
        "id": "iSLnEKvQNCIv"
      },
      "source": [
        "Se puede acceder a los atributos de cada instancia:"
      ]
    },
    {
      "cell_type": "code",
      "execution_count": null,
      "metadata": {
        "colab": {
          "base_uri": "https://localhost:8080/"
        },
        "id": "YcqPN5OwNNmf",
        "outputId": "e6095a23-04b0-44ed-d0a9-abf814c640e3"
      },
      "outputs": [
        {
          "name": "stdout",
          "output_type": "stream",
          "text": [
            "El nombre es Juan\n",
            "La altura 1.67\n"
          ]
        }
      ],
      "source": [
        "print('El nombre es', Juan.name)\n",
        "print('La altura es', Lucía.height)"
      ]
    },
    {
      "cell_type": "markdown",
      "metadata": {
        "id": "vkn4X-nTNUgW"
      },
      "source": [
        "y también a los atributos de la clase:"
      ]
    },
    {
      "cell_type": "code",
      "execution_count": null,
      "metadata": {
        "colab": {
          "base_uri": "https://localhost:8080/"
        },
        "id": "jLgwvpV7NWzt",
        "outputId": "29619f06-2cde-49a4-f15b-6019cf6b10ea"
      },
      "outputs": [
        {
          "name": "stdout",
          "output_type": "stream",
          "text": [
            "Ser vivos\n"
          ]
        }
      ],
      "source": [
        "print(Juan.tipo)"
      ]
    },
    {
      "cell_type": "markdown",
      "metadata": {
        "id": "XJRR01BSNxRx"
      },
      "source": [
        "Estos atributos pueden ser modificados:"
      ]
    },
    {
      "cell_type": "code",
      "execution_count": null,
      "metadata": {
        "colab": {
          "base_uri": "https://localhost:8080/"
        },
        "id": "L2rmaPr0N0yZ",
        "outputId": "76cdd683-30ec-46ff-ca51-9369473bc5a4"
      },
      "outputs": [
        {
          "name": "stdout",
          "output_type": "stream",
          "text": [
            "35\n"
          ]
        }
      ],
      "source": [
        "Juan.age = 35\n",
        "print(Juan.age)"
      ]
    },
    {
      "cell_type": "markdown",
      "metadata": {
        "id": "ap_2NO44NmDO"
      },
      "source": [
        "Tal y como están definidas las clases, nos permiten estar seguros de que toda instancia va a tener los atributos definidos."
      ]
    },
    {
      "cell_type": "markdown",
      "metadata": {
        "id": "N-o-put0N9xq"
      },
      "source": [
        "####***Instance methods (métodos de instancia)***\n"
      ]
    },
    {
      "cell_type": "markdown",
      "metadata": {
        "id": "TAyY_2wyOHBB"
      },
      "source": [
        "Funciones definidas dentro de una clase, y que por lo tanto, únicamente pueden ser llamadas por instancias de esa clase. "
      ]
    },
    {
      "cell_type": "code",
      "execution_count": null,
      "metadata": {
        "id": "o_Sx3HtjOULq"
      },
      "outputs": [],
      "source": [
        "class Alumno:\n",
        "  #Class attribute\n",
        "  tipo = \"Ser vivo\"\n",
        "  \n",
        "  def __init__(self, name, age,height):\n",
        "    self.name = name\n",
        "    self.age = age\n",
        "    self.height = height\n",
        "\n",
        "\n",
        "  #Static methods (#como funciones en un script)\n",
        "  @staticmethod\n",
        "  def funcion(x,y):\n",
        "    pass\n",
        "\n",
        "  #Instance method\n",
        "  def presentation(self):\n",
        "    print(funcion(self.x, self.y))\n",
        "    return f\"Soy {self.name} y tengo {self.age} años!\"\n",
        "\n",
        "  #Instance method \n",
        "  def say(self, words):\n",
        "    return f\"{words}\"\n",
        "  \n",
        "  #self (exigidod para métodos no estáticos)"
      ]
    },
    {
      "cell_type": "code",
      "execution_count": null,
      "metadata": {
        "id": "zMHxYrX08G7r"
      },
      "outputs": [],
      "source": [
        "class Alumno:\n",
        "  #Class attribute\n",
        "  tipo = \"Ser vivo\"\n",
        "  \n",
        "  def __init__(self, name, age,height):\n",
        "    self.name = name\n",
        "    self.age = age\n",
        "    self.height = height\n",
        "\n",
        "  #Instance method\n",
        "  def presentation(self):\n",
        "    return f\"Soy {self.name} y tengo {self.age} años!\"\n",
        "\n",
        "  #Instance method\n",
        "  def say(self, words):\n",
        "    return f\"{words}\""
      ]
    },
    {
      "cell_type": "markdown",
      "metadata": {
        "id": "WLaFRZGDO3F2"
      },
      "source": [
        "*presentation* devuelve una cadena donde se presenta el nombre y la edad de la persona. \n",
        "\n",
        "*say* reproduce la palabra que le pasemos"
      ]
    },
    {
      "cell_type": "code",
      "execution_count": null,
      "metadata": {
        "colab": {
          "base_uri": "https://localhost:8080/",
          "height": 36
        },
        "id": "3ZCZoilbPG4P",
        "outputId": "0a510521-96a5-464a-c85e-8393da85c799"
      },
      "outputs": [
        {
          "data": {
            "application/vnd.google.colaboratory.intrinsic+json": {
              "type": "string"
            },
            "text/plain": [
              "'Soy Lucía y tengo 40 años!'"
            ]
          },
          "execution_count": 60,
          "metadata": {},
          "output_type": "execute_result"
        }
      ],
      "source": [
        "Lucía = Alumno('Lucía', 40, 1.67)\n",
        "Lucía.presentation()"
      ]
    },
    {
      "cell_type": "code",
      "execution_count": null,
      "metadata": {
        "colab": {
          "base_uri": "https://localhost:8080/",
          "height": 36
        },
        "id": "BOkS7JzZPkl5",
        "outputId": "7bd9e350-5d83-48d6-e982-e5a8227a1ce5"
      },
      "outputs": [
        {
          "data": {
            "application/vnd.google.colaboratory.intrinsic+json": {
              "type": "string"
            },
            "text/plain": [
              "'Hola'"
            ]
          },
          "execution_count": 61,
          "metadata": {},
          "output_type": "execute_result"
        }
      ],
      "source": [
        "Lucía.say('Hola')"
      ]
    },
    {
      "cell_type": "code",
      "execution_count": null,
      "metadata": {
        "colab": {
          "base_uri": "https://localhost:8080/"
        },
        "id": "nDUUBfv89LCZ",
        "outputId": "93a1cd2e-a639-4762-b051-65faaede584e"
      },
      "outputs": [
        {
          "data": {
            "text/plain": [
              "__main__.Alumno"
            ]
          },
          "execution_count": 62,
          "metadata": {},
          "output_type": "execute_result"
        }
      ],
      "source": [
        "type(Lucía)"
      ]
    },
    {
      "cell_type": "markdown",
      "metadata": {
        "id": "al7OrLocP6Aj"
      },
      "source": [
        "Por último, puede ser muy interesante que cada instancia nos resuma su contenido sin tener que ir viendo uno por uno."
      ]
    },
    {
      "cell_type": "code",
      "execution_count": null,
      "metadata": {
        "id": "CCLSPFvtQJHx"
      },
      "outputs": [],
      "source": [
        "class Alumno:\n",
        "  #Class attribute\n",
        "  tipo = \"Ser vivo\"\n",
        "  \n",
        "  def __init__(self, name, age,height):\n",
        "    self.name = name\n",
        "    self.age = age\n",
        "    self.height = height\n",
        "\n",
        "#  #Instance method\n",
        "#  def __str__(self):\n",
        "#    return f\"Soy {self.name} y tengo {self.age} años\"\n",
        "\n",
        "    #Instance method\n",
        "  def __str__(self):\n",
        "    return f\"Esta es una clase para definir alumnos\"\n",
        "\n",
        "  #Instance method\n",
        "  def say(self, words):\n",
        "    return f\"{words}\"\n",
        "  "
      ]
    },
    {
      "cell_type": "code",
      "execution_count": null,
      "metadata": {
        "colab": {
          "base_uri": "https://localhost:8080/"
        },
        "id": "ZpHs5oKWQUPT",
        "outputId": "86a49a11-5fe1-4445-84d0-e7f8ccf06531"
      },
      "outputs": [
        {
          "name": "stdout",
          "output_type": "stream",
          "text": [
            "<class '__main__.Alumno'>\n",
            "Esta es una clase para definir alumnos\n"
          ]
        }
      ],
      "source": [
        "Lucía = Alumno('Lucía', 40, 1.67)\n",
        "print(type(Lucía))\n",
        "\n",
        "print(Lucía)"
      ]
    },
    {
      "cell_type": "markdown",
      "metadata": {
        "id": "gdXGEIBr4tyS"
      },
      "source": [
        "###**HERENCIA EN CLASES (*INHERITANCE*)**\n",
        "---\n",
        "Proceso por el cual una clase coge (*hereda*) los atributos y los métodos de otra clase. Las nuevas clases creadas así se llaman *Child classes* y heredan los atributos de una *Parent class*.\n"
      ]
    },
    {
      "cell_type": "markdown",
      "metadata": {
        "id": "hc8pJnOwRcFt"
      },
      "source": [
        "*Child classes* pueden sobreescribir o extender los métodos y atributos de la *Parent class*. "
      ]
    },
    {
      "cell_type": "code",
      "execution_count": null,
      "metadata": {
        "id": "5KEGT_6RLIin"
      },
      "outputs": [],
      "source": [
        "class Alumno:\n",
        "  #Class attribute\n",
        "  tipo = \"Ser vivo\"\n",
        "  \n",
        "  def __init__(self, name, age,height):\n",
        "    self.name = name\n",
        "    self.age = age\n",
        "    self.height = height\n",
        "\n",
        "  #Instance method\n",
        "  def course(self, course):\n",
        "    return f\"Mi curso es {course}\\N{DEGREE SIGN}\"\n"
      ]
    },
    {
      "cell_type": "code",
      "execution_count": null,
      "metadata": {
        "id": "ZrvZecNH0naq"
      },
      "outputs": [],
      "source": [
        "Juan = Alumno('Juan',34,1.80)\n",
        "Marta = Alumno('Marta', 28, 1.70)\n",
        "Lucía = Alumno('Lucía', 40, 1.67)"
      ]
    },
    {
      "cell_type": "code",
      "execution_count": null,
      "metadata": {
        "colab": {
          "base_uri": "https://localhost:8080/"
        },
        "id": "HtGf2HSETwpy",
        "outputId": "1ee80c9d-a2c3-400c-c1d4-d275a4225bc6"
      },
      "outputs": [
        {
          "name": "stdout",
          "output_type": "stream",
          "text": [
            "Mi curso es 5°\n",
            "Mi curso es 4°\n",
            "Mi curso es 1°\n"
          ]
        }
      ],
      "source": [
        "print(Juan.course(5))\n",
        "print(Marta.course(4))\n",
        "print(Lucía.course(1))"
      ]
    },
    {
      "cell_type": "markdown",
      "metadata": {
        "id": "WGmzQOIiT0ci"
      },
      "source": [
        "Esta forma de acceder a la información del curso de cada alumno (no es común a todas las instancias) es ineficiente e inconveniente. Lo más eficiente sería crear *child classes* para los distintos cursos."
      ]
    },
    {
      "cell_type": "code",
      "execution_count": null,
      "metadata": {
        "id": "THnaBbmWUYIQ"
      },
      "outputs": [],
      "source": [
        "class Alumno:\n",
        "  #Class attribute\n",
        "  tipo = \"Ser vivo\"\n",
        "  \n",
        "  def __init__(self, name, age,height):\n",
        "    self.name = name\n",
        "    self.age = age\n",
        "    self.height = height\n",
        "\n",
        "    #Instance method\n",
        "  def __str__(self):\n",
        "    return f\"Soy {self.name} y tengo {self.age} años\"\n",
        "\n",
        "  #Instance method\n",
        "  def course(self, course):\n",
        "    return f\"Mi curso es {course}\\N{DEGREE SIGN}\""
      ]
    },
    {
      "cell_type": "code",
      "execution_count": null,
      "metadata": {
        "id": "cg-zQcSEUzbx"
      },
      "outputs": [],
      "source": [
        "class Primero(Alumno):\n",
        "  pass\n",
        "\n",
        "class Cuarto(Alumno):\n",
        "  pass\n",
        "  \n",
        "class Quinto(Alumno):\n",
        "  pass"
      ]
    },
    {
      "cell_type": "code",
      "execution_count": null,
      "metadata": {
        "id": "xOO1JdFYU_tX"
      },
      "outputs": [],
      "source": [
        "Juan = Quinto('Juan',34,1.80)\n",
        "Marta = Cuarto('Marta', 28, 1.70)"
      ]
    },
    {
      "cell_type": "code",
      "execution_count": null,
      "metadata": {
        "colab": {
          "base_uri": "https://localhost:8080/",
          "height": 36
        },
        "id": "Bn4CaeN_VVEl",
        "outputId": "b76079b0-3223-4859-8da5-e3c8fe7e3ec1"
      },
      "outputs": [
        {
          "data": {
            "application/vnd.google.colaboratory.intrinsic+json": {
              "type": "string"
            },
            "text/plain": [
              "'Ser vivo'"
            ]
          },
          "execution_count": 77,
          "metadata": {},
          "output_type": "execute_result"
        }
      ],
      "source": [
        "Juan.tipo\n"
      ]
    },
    {
      "cell_type": "code",
      "execution_count": null,
      "metadata": {
        "colab": {
          "base_uri": "https://localhost:8080/",
          "height": 36
        },
        "id": "aSZ5L8MA2AjM",
        "outputId": "4bda7bc5-ce11-4fe2-bee2-7df85165146f"
      },
      "outputs": [
        {
          "data": {
            "application/vnd.google.colaboratory.intrinsic+json": {
              "type": "string"
            },
            "text/plain": [
              "'Juan'"
            ]
          },
          "execution_count": 78,
          "metadata": {},
          "output_type": "execute_result"
        }
      ],
      "source": [
        "Juan.name\n"
      ]
    },
    {
      "cell_type": "code",
      "execution_count": null,
      "metadata": {
        "colab": {
          "base_uri": "https://localhost:8080/",
          "height": 36
        },
        "id": "XL92QbhV2DN6",
        "outputId": "d37e8050-ffcd-4478-9843-f9bfd5c5df36"
      },
      "outputs": [
        {
          "data": {
            "application/vnd.google.colaboratory.intrinsic+json": {
              "type": "string"
            },
            "text/plain": [
              "'Mi curso es 5°'"
            ]
          },
          "execution_count": 79,
          "metadata": {},
          "output_type": "execute_result"
        }
      ],
      "source": [
        "Marta.course(5)\n"
      ]
    },
    {
      "cell_type": "code",
      "execution_count": null,
      "metadata": {
        "colab": {
          "base_uri": "https://localhost:8080/"
        },
        "id": "-LrhpnVv2OsX",
        "outputId": "4ec2c352-381c-4fa1-99e9-1a19ee8824ef"
      },
      "outputs": [
        {
          "name": "stdout",
          "output_type": "stream",
          "text": [
            "Soy Marta y tengo 28 años\n"
          ]
        }
      ],
      "source": [
        "print(Marta)"
      ]
    },
    {
      "cell_type": "markdown",
      "metadata": {
        "id": "LL88TDdlVilG"
      },
      "source": [
        "####**Extender la funcionalidad de la *Parent Class***"
      ]
    },
    {
      "cell_type": "markdown",
      "metadata": {
        "id": "uRxR1UBiWIpn"
      },
      "source": [
        "Vemos que cada alumno tiene un curso diferente; y por lo tanto tendrá tareas, exámenes y otras cosas diferentes a los alumnos de otros cursos. Por este motivo, podremos definir un valor por defecto para el curso, a no ser que se le de un valor concreto."
      ]
    },
    {
      "cell_type": "code",
      "execution_count": null,
      "metadata": {
        "id": "GveGe-8BWumm"
      },
      "outputs": [],
      "source": [
        "class Quinto(Alumno):\n",
        "  #Instance method\n",
        "  def course(self, course='5'):\n",
        "    return f\"Mi curso es {course}\\N{DEGREE SIGN}\"\n",
        "\n",
        "  "
      ]
    },
    {
      "cell_type": "code",
      "execution_count": null,
      "metadata": {
        "colab": {
          "base_uri": "https://localhost:8080/",
          "height": 36
        },
        "id": "zYUAiDZ2W6P2",
        "outputId": "6dd4bbb1-79cd-49c8-bba0-c18ab7d82f14"
      },
      "outputs": [
        {
          "data": {
            "application/vnd.google.colaboratory.intrinsic+json": {
              "type": "string"
            },
            "text/plain": [
              "'Mi curso es 5°'"
            ]
          },
          "execution_count": 84,
          "metadata": {},
          "output_type": "execute_result"
        }
      ],
      "source": [
        "Juan = Quinto('Juan', 34, 1.80)\n",
        "Juan.course()"
      ]
    },
    {
      "cell_type": "code",
      "execution_count": null,
      "metadata": {
        "colab": {
          "base_uri": "https://localhost:8080/",
          "height": 36
        },
        "id": "PoLOrVIPXAL6",
        "outputId": "691a4fe4-8af7-4f7e-b41c-3576173ef93a"
      },
      "outputs": [
        {
          "data": {
            "application/vnd.google.colaboratory.intrinsic+json": {
              "type": "string"
            },
            "text/plain": [
              "'Mi curso es 9°'"
            ]
          },
          "execution_count": 85,
          "metadata": {},
          "output_type": "execute_result"
        }
      ],
      "source": [
        "Juan.course(9)"
      ]
    },
    {
      "cell_type": "markdown",
      "metadata": {
        "id": "4N2jZ8ycX9ai"
      },
      "source": [
        "Hay que tener en cuenta que las cosas que se cambien en la *Parent Class* se transmite directamente a la *Child Class* (a no ser que esté sobreescrito). "
      ]
    },
    {
      "cell_type": "code",
      "execution_count": null,
      "metadata": {
        "id": "c_tMtS4RYR5a"
      },
      "outputs": [],
      "source": [
        "class Alumno:\n",
        "  #Class attribute\n",
        "  tipo = \"Ser vivo\"\n",
        "  \n",
        "  def __init__(self, name, age,height):\n",
        "    self.name = name\n",
        "    self.age = age\n",
        "    self.height = height\n",
        "\n",
        "    #Instance method\n",
        "  def __str__(self):\n",
        "    return f\"Soy {self.name} y tengo {self.age} años\"\n",
        "  #Instance method\n",
        "  def course(self, course):\n",
        "    return f\"Curso:{course}\\N{DEGREE SIGN}\"\n",
        "\n",
        "class Primero(Alumno):\n",
        "  pass\n",
        "\n",
        "class Quinto(Alumno):\n",
        "  #Instance method\n",
        "  def course(self, course='5'):\n",
        "    return f\"Mi curso es {course}\\N{DEGREE SIGN}\""
      ]
    },
    {
      "cell_type": "code",
      "execution_count": null,
      "metadata": {
        "colab": {
          "base_uri": "https://localhost:8080/",
          "height": 36
        },
        "id": "j1o-x0h8YXmK",
        "outputId": "e344e9b7-9e20-4497-b5ae-5a6e3822849a"
      },
      "outputs": [
        {
          "data": {
            "application/vnd.google.colaboratory.intrinsic+json": {
              "type": "string"
            },
            "text/plain": [
              "'Curso:1°'"
            ]
          },
          "execution_count": 88,
          "metadata": {},
          "output_type": "execute_result"
        }
      ],
      "source": [
        "Lucía = Primero('Lucía', 40, 1.67)\n",
        "Lucía.course(1)"
      ]
    },
    {
      "cell_type": "code",
      "execution_count": null,
      "metadata": {
        "colab": {
          "base_uri": "https://localhost:8080/",
          "height": 36
        },
        "id": "so9V8hTPZafM",
        "outputId": "f13cfad1-59b6-4a77-c414-b7c510c65e6d"
      },
      "outputs": [
        {
          "data": {
            "application/vnd.google.colaboratory.intrinsic+json": {
              "type": "string"
            },
            "text/plain": [
              "'Mi curso es 5°'"
            ]
          },
          "execution_count": 89,
          "metadata": {},
          "output_type": "execute_result"
        }
      ],
      "source": [
        "Jan =Quinto('Juan', 34, 1.80)\n",
        "Jan.course(5)"
      ]
    },
    {
      "cell_type": "markdown",
      "metadata": {
        "id": "bIzJ_gGeZjZX"
      },
      "source": [
        "Para poder heredar todo cambio en la *Parent Class*, aunque se haya sobreescrito el método, tendremos que usa *super()*:"
      ]
    },
    {
      "cell_type": "code",
      "execution_count": null,
      "metadata": {
        "id": "865ENh7eZ1H7"
      },
      "outputs": [],
      "source": [
        "class Quinto(Alumno):\n",
        "  #Instance method\n",
        "  def course(self, course='5'):\n",
        "    return super().course(course)"
      ]
    },
    {
      "cell_type": "markdown",
      "metadata": {
        "id": "2N3_XcKoZ-SY"
      },
      "source": [
        "A través del uso de *super()* python va a buscar y usar en la *Parent Class* la función *course*."
      ]
    },
    {
      "cell_type": "code",
      "execution_count": null,
      "metadata": {
        "colab": {
          "base_uri": "https://localhost:8080/",
          "height": 36
        },
        "id": "kgv6PlTlao4u",
        "outputId": "65118175-fe30-4cef-a091-80d54536c252"
      },
      "outputs": [
        {
          "data": {
            "application/vnd.google.colaboratory.intrinsic+json": {
              "type": "string"
            },
            "text/plain": [
              "'Curso:5°'"
            ]
          },
          "execution_count": 91,
          "metadata": {},
          "output_type": "execute_result"
        }
      ],
      "source": [
        "Juan =Quinto('Juan', 34, 1.80)\n",
        "Juan.course()"
      ]
    },
    {
      "cell_type": "markdown",
      "metadata": {
        "id": "clvV1YdI43G1"
      },
      "source": [
        "##**3. BASES DE DATOS**\n",
        "\n",
        "---\n",
        "Una base de datos es una recopilación organizada de información y/o datos estructurados que se suele almacenar en un sistema informático. Normalmente, está controlada por un sistema de gestión de bases de datos (DBMS). "
      ]
    },
    {
      "cell_type": "markdown",
      "metadata": {
        "id": "9acBPzGp5Fug"
      },
      "source": [
        "###**BASES DE DATOS RELACIONALES** ([link](https://ayudaleyprotecciondatos.es/bases-de-datos/relacional/))\n",
        "---\n",
        "Este tipo de bases de datos usan una estructura específica que le permite indentificar y acceder a datos en relación a otro dato en otra base de datos. Almacena y da acceso a datos relacionados entre sí. Normalmente, en bases de datos relacionales, los datos están organizados en tablas.\n",
        "\n",
        "\n",
        "Información sobre bases de datos no relacionales: [link1](https://www.tutorialspoint.com/python_data_science/python_nosql_databases.htm)\n",
        "\n",
        "[link2](https://realpython.com/introduction-to-mongodb-and-python/)"
      ]
    },
    {
      "cell_type": "markdown",
      "metadata": {
        "id": "gXLjmj2wgxer"
      },
      "source": [
        "Una base de datos relacional es un conjunto de tablas formadas en base a filas (*registros*) y columnas (*campos*). Cada registro tiene una ID única (denominada *clave*) y las columnas contienen los atributos de los datos. Las principales características de las bases de datos relacionales es evitar la duplicidad de registros y garantizar la integridad referencial (si se elimina uno de los registros, la integridad de los demás no se verá afectada). \n",
        "\n",
        "Además, las *claves* permiten acceder y recuperar información de manera sencilla.\n",
        "\n",
        "\n",
        "\n",
        "<center><img src='https://drive.google.com/uc?id=1M7FOaLRz6C1uwfwaiH7mmHF7j4gnvF7E'></center> \n",
        "\n",
        "Image from [Omnisci](https://www.omnisci.com/technical-glossary/relational-database)"
      ]
    },
    {
      "cell_type": "markdown",
      "metadata": {
        "id": "wipb4E6tj-2a"
      },
      "source": [
        "Estas tablas están relacionadas o vinculadas por medio de una *clave (key)*. Cada una de las filas de las tablas está identificada por una *clave primaria (primary key)*. Estas *claves primarias* se puede introducir en otra tabla convertiéndose en *clave extranjera (foreign key)*.  La relación que forman la *primary key* y la *foreign key* será la base del funcionamiento de las bases de datos relacionales.\n",
        "\n",
        "<center><img src='https://drive.google.com/uc?id=1hG-tvlkHNNrp3bLV7SxWhG2kA9S87IVR'></center> \n",
        "\n",
        "Image from [Graph Databases for Beginners: Why Connected Data Matters](https://neo4j.com/blog/why-graph-data-relationships-matter/)"
      ]
    },
    {
      "cell_type": "markdown",
      "metadata": {
        "id": "8m0C1SYYehpa"
      },
      "source": [
        "Observando el ejemplo: tenemos una tabla con información del Usuario (*User*) y otra con información del Pedido (*Order*). En la tabla de Pedido se puede importar una *primary key* (**UserID**) que vincule el pedido con la información relativa al Usuario ([ref](https://phoenixnap.com/kb/what-is-a-relational-database))."
      ]
    },
    {
      "cell_type": "markdown",
      "metadata": {
        "id": "TbawHoT85LE6"
      },
      "source": [
        "###**SQL (Structured Query Language)** ([link](https://brittarude.github.io/blog/2021/06/25/sql-with-python))\n",
        "---\n",
        "SQL es un lenguaje de consulta estructurado para acceder a información dentro de bases de datos (SQLite). Python cuenta con varias librerías para conectar directamente con SQLite, MySQL o PostgreSQL. "
      ]
    },
    {
      "cell_type": "markdown",
      "metadata": {
        "id": "xngD-Uekyby4"
      },
      "source": [
        "####**Creación de una nueva base de datos** ([link](https://colab.research.google.com/github/aviadr1/learn-advanced-python/blob/master/content/11_db_access/02_sqlalchemy_orm.ipynb#scrollTo=2pU6gvKnrIX7))\n",
        "<center><img src='https://drive.google.com/uc?id=1ASYxf1zZDZmubDsHP5Hrj3LggQjh2ZTN'></center> "
      ]
    },
    {
      "cell_type": "code",
      "execution_count": null,
      "metadata": {
        "id": "0Fg8j5TGyqZ2"
      },
      "outputs": [],
      "source": [
        "#CREAR UNA SESION\n",
        "from sqlalchemy import create_engine\n",
        "motor = create_engine('sqlite:///example.db') # database, storing information\n",
        "conex = motor.connect() #creamos motor para conectar\n",
        "\n",
        "from sqlalchemy.orm import sessionmaker\n",
        "Session = sessionmaker(bind=motor)\n",
        "session = Session() #nuestra sesion para entrar en nuestro environment y modificar cosas"
      ]
    },
    {
      "cell_type": "code",
      "execution_count": null,
      "metadata": {
        "id": "oNv7wKlCy_wb"
      },
      "outputs": [],
      "source": [
        "#FUNCIONES PARA MOSTRAS LAS QUERIES Y LOS RESULTADOS\n",
        "from IPython.display import display\n",
        "import pandas as pd\n",
        "import sqlalchemy\n",
        "\n",
        "def conseguir_resultados(query):\n",
        "    global motor\n",
        "    q = query.statement if isinstance(query, sqlalchemy.orm.query.Query) else query\n",
        "    return pd.read_sql(q, motor)\n",
        "\n",
        "def mostrar_resultados(query):\n",
        "    df = conseguir_resultados(query)\n",
        "    display(df)\n",
        "    #sql(query)\n"
      ]
    },
    {
      "cell_type": "code",
      "execution_count": null,
      "metadata": {
        "colab": {
          "base_uri": "https://localhost:8080/"
        },
        "id": "7TiySmWgzjLc",
        "outputId": "99a51217-2c04-451d-d2f7-ebe1b1ce73bc"
      },
      "outputs": [
        {
          "name": "stdout",
          "output_type": "stream",
          "text": [
            "Collecting sqlalchemy_explore\n",
            "  Downloading sqlalchemy_explore-0.1.2.tar.gz (4.3 kB)\n",
            "Requirement already satisfied: sqlalchemy in /usr/local/lib/python3.7/dist-packages (from sqlalchemy_explore) (1.4.31)\n",
            "Requirement already satisfied: greenlet!=0.4.17 in /usr/local/lib/python3.7/dist-packages (from sqlalchemy->sqlalchemy_explore) (1.1.2)\n",
            "Requirement already satisfied: importlib-metadata in /usr/local/lib/python3.7/dist-packages (from sqlalchemy->sqlalchemy_explore) (4.10.1)\n",
            "Requirement already satisfied: zipp>=0.5 in /usr/local/lib/python3.7/dist-packages (from importlib-metadata->sqlalchemy->sqlalchemy_explore) (3.7.0)\n",
            "Requirement already satisfied: typing-extensions>=3.6.4 in /usr/local/lib/python3.7/dist-packages (from importlib-metadata->sqlalchemy->sqlalchemy_explore) (3.10.0.2)\n",
            "Building wheels for collected packages: sqlalchemy-explore\n",
            "  Building wheel for sqlalchemy-explore (setup.py) ... \u001b[?25l\u001b[?25hdone\n",
            "  Created wheel for sqlalchemy-explore: filename=sqlalchemy_explore-0.1.2-py3-none-any.whl size=4545 sha256=928832a7f3f43e3f2640b83c02855059db994b7d3542c557976ed8d906949f96\n",
            "  Stored in directory: /root/.cache/pip/wheels/37/96/f3/c5a6ecf7836d25fb5f0f336a64ffd50e2efa85c4158f3419c7\n",
            "Successfully built sqlalchemy-explore\n",
            "Installing collected packages: sqlalchemy-explore\n",
            "Successfully installed sqlalchemy-explore-0.1.2\n"
          ]
        }
      ],
      "source": [
        "#CREAR UN ESQUENA BASE\n",
        "from sqlalchemy.ext.declarative import declarative_base\n",
        "#####################################################################\n",
        "#Instalación en colab\n",
        "!pip install sqlalchemy_explore\n",
        "import sqlalchemy_explore\n",
        "\n",
        "#####################################################################\n",
        "#class_base = declarative_base(bind=motor) #función para contruir una clase base para las posteriores definiciones de clases (otra opción para la clase base)\n",
        "class_base = declarative_base(cls=sqlalchemy_explore.ReflectiveMixin) # base class including utils like an __repr__ method\n",
        "\n",
        "\n",
        "#CREACIÓN DE LA CLASE BASE DE DONDE CREAREMOS NUESTRAS TABLAS (CLASES HIJO) como una plantilla"
      ]
    },
    {
      "cell_type": "code",
      "execution_count": null,
      "metadata": {
        "id": "DUh7-A4k0B6r"
      },
      "outputs": [],
      "source": [
        "#DESARROLLAR EL ESQUEMA\n",
        "from sqlalchemy import Column, DateTime, ForeignKey, Integer, NVARCHAR, Numeric, Sequence\n",
        "from sqlalchemy.orm import relationship\n",
        "\n",
        "#Definición de tablas dentro de la base de datos\n",
        "\n",
        "class Usuario(class_base):\n",
        "    __tablename__ = 'usuarios'\n",
        "\n",
        "    UsuarioId= Column(Integer, Sequence('usuario_id_seq'), primary_key=True)\n",
        "    FirstName = Column(NVARCHAR(60), nullable=False)\n",
        "    LastName = Column(NVARCHAR(60), nullable=False)\n",
        "    Address = Column(NVARCHAR(100))\n",
        "    Age = Column(Integer)\n",
        "    Email = Column(NVARCHAR(80), nullable=False)\n",
        "    \n",
        "class Producto(class_base):\n",
        "   __tablename__='productos'\n",
        "\n",
        "   ProductoId = Column(Integer, Sequence('producto_id_seq'), primary_key=True)\n",
        "   Name = Column(NVARCHAR(100), nullable=False)\n",
        "   Year = Column(Integer)\n",
        "   Price = Column(Numeric, nullable=False)\n",
        "\n",
        "class Orden(class_base):\n",
        "  __tablename__ = 'ordenes'\n",
        "\n",
        "  OrdenId = Column(Integer, Sequence('orden_id_seq'), primary_key=True)\n",
        "  ProductoId = Column(ForeignKey('productos.ProductoId'), nullable=False,index=True)\n",
        "  UsuarioId = Column(ForeignKey('usuarios.UsuarioId'),nullable=False,index=True)\n",
        "  Date =Column(DateTime, nullable=False)\n",
        "\n",
        "  producto = relationship('Producto')\n",
        "  usuario = relationship('Usuario')\n",
        "\n",
        "    "
      ]
    },
    {
      "cell_type": "code",
      "execution_count": null,
      "metadata": {
        "colab": {
          "base_uri": "https://localhost:8080/",
          "height": 36
        },
        "id": "Ltvs0Pl0bfMJ",
        "outputId": "83f27b3c-9ccc-4f4d-eba4-3dd2e4d77365"
      },
      "outputs": [
        {
          "data": {
            "application/vnd.google.colaboratory.intrinsic+json": {
              "type": "string"
            },
            "text/plain": [
              "'ProductoId'"
            ]
          },
          "execution_count": 96,
          "metadata": {},
          "output_type": "execute_result"
        }
      ],
      "source": [
        "Orden.ProductoId.name"
      ]
    },
    {
      "cell_type": "code",
      "execution_count": null,
      "metadata": {
        "id": "k7M7CXT51mPr"
      },
      "outputs": [],
      "source": [
        "#CREAR TABLAS DENTRO DE LA BASE DE DATOS \n",
        "class_base.metadata.create_all(motor) #procedemos a crear nuestra  base de datos con las estrucutras de la tablas correspondientes"
      ]
    },
    {
      "cell_type": "code",
      "execution_count": null,
      "metadata": {
        "id": "sQvFvUFW2dO3"
      },
      "outputs": [],
      "source": [
        "#Añadimos un nuevo usuario\n",
        "maria = Usuario(\n",
        "    UsuarioId = 1,\n",
        "    FirstName='María',\n",
        "    LastName = 'Piñeiro',\n",
        "    Address = 'Camino de la iglesia Nº5',\n",
        "    Age=34,\n",
        "    Email='maria_32@outlook.es'\n",
        ")\n",
        "\n",
        "session.add(maria)\n",
        "session.commit()\n",
        "#introducimos los datos de maria en la tabla usuarios"
      ]
    },
    {
      "cell_type": "code",
      "execution_count": null,
      "metadata": {
        "colab": {
          "base_uri": "https://localhost:8080/"
        },
        "id": "hVSP5Pih3cMs",
        "outputId": "32f07070-d9bd-47a8-dd10-a6f1df6c85e9"
      },
      "outputs": [
        {
          "name": "stdout",
          "output_type": "stream",
          "text": [
            "('María', 'CAmino de la iglesia Nº5')\n"
          ]
        }
      ],
      "source": [
        "#DEFINICIÓN DE COLAS (QUERIES)\n",
        "from sqlalchemy import select \n",
        "\n",
        "usuarios_query = select([Usuario.FirstName, Usuario.Address])\n",
        "resultados = conex.execute(usuarios_query)\n",
        "\n",
        "for fila in resultados:\n",
        "  print(fila)\n",
        "\n",
        "#hacemos una consulta pidiendo el nombre y dirección"
      ]
    },
    {
      "cell_type": "code",
      "execution_count": null,
      "metadata": {
        "colab": {
          "base_uri": "https://localhost:8080/",
          "height": 81
        },
        "id": "7UjEyhd73-BS",
        "outputId": "5836b7f3-ea5a-4102-afaa-6e7a288371bb"
      },
      "outputs": [
        {
          "data": {
            "text/html": [
              "\n",
              "  <div id=\"df-94a2505e-99f1-480a-8665-896e1aa931c2\">\n",
              "    <div class=\"colab-df-container\">\n",
              "      <div>\n",
              "<style scoped>\n",
              "    .dataframe tbody tr th:only-of-type {\n",
              "        vertical-align: middle;\n",
              "    }\n",
              "\n",
              "    .dataframe tbody tr th {\n",
              "        vertical-align: top;\n",
              "    }\n",
              "\n",
              "    .dataframe thead th {\n",
              "        text-align: right;\n",
              "    }\n",
              "</style>\n",
              "<table border=\"1\" class=\"dataframe\">\n",
              "  <thead>\n",
              "    <tr style=\"text-align: right;\">\n",
              "      <th></th>\n",
              "      <th>FirstName</th>\n",
              "      <th>Address</th>\n",
              "    </tr>\n",
              "  </thead>\n",
              "  <tbody>\n",
              "    <tr>\n",
              "      <th>0</th>\n",
              "      <td>María</td>\n",
              "      <td>CAmino de la iglesia Nº5</td>\n",
              "    </tr>\n",
              "  </tbody>\n",
              "</table>\n",
              "</div>\n",
              "      <button class=\"colab-df-convert\" onclick=\"convertToInteractive('df-94a2505e-99f1-480a-8665-896e1aa931c2')\"\n",
              "              title=\"Convert this dataframe to an interactive table.\"\n",
              "              style=\"display:none;\">\n",
              "        \n",
              "  <svg xmlns=\"http://www.w3.org/2000/svg\" height=\"24px\"viewBox=\"0 0 24 24\"\n",
              "       width=\"24px\">\n",
              "    <path d=\"M0 0h24v24H0V0z\" fill=\"none\"/>\n",
              "    <path d=\"M18.56 5.44l.94 2.06.94-2.06 2.06-.94-2.06-.94-.94-2.06-.94 2.06-2.06.94zm-11 1L8.5 8.5l.94-2.06 2.06-.94-2.06-.94L8.5 2.5l-.94 2.06-2.06.94zm10 10l.94 2.06.94-2.06 2.06-.94-2.06-.94-.94-2.06-.94 2.06-2.06.94z\"/><path d=\"M17.41 7.96l-1.37-1.37c-.4-.4-.92-.59-1.43-.59-.52 0-1.04.2-1.43.59L10.3 9.45l-7.72 7.72c-.78.78-.78 2.05 0 2.83L4 21.41c.39.39.9.59 1.41.59.51 0 1.02-.2 1.41-.59l7.78-7.78 2.81-2.81c.8-.78.8-2.07 0-2.86zM5.41 20L4 18.59l7.72-7.72 1.47 1.35L5.41 20z\"/>\n",
              "  </svg>\n",
              "      </button>\n",
              "      \n",
              "  <style>\n",
              "    .colab-df-container {\n",
              "      display:flex;\n",
              "      flex-wrap:wrap;\n",
              "      gap: 12px;\n",
              "    }\n",
              "\n",
              "    .colab-df-convert {\n",
              "      background-color: #E8F0FE;\n",
              "      border: none;\n",
              "      border-radius: 50%;\n",
              "      cursor: pointer;\n",
              "      display: none;\n",
              "      fill: #1967D2;\n",
              "      height: 32px;\n",
              "      padding: 0 0 0 0;\n",
              "      width: 32px;\n",
              "    }\n",
              "\n",
              "    .colab-df-convert:hover {\n",
              "      background-color: #E2EBFA;\n",
              "      box-shadow: 0px 1px 2px rgba(60, 64, 67, 0.3), 0px 1px 3px 1px rgba(60, 64, 67, 0.15);\n",
              "      fill: #174EA6;\n",
              "    }\n",
              "\n",
              "    [theme=dark] .colab-df-convert {\n",
              "      background-color: #3B4455;\n",
              "      fill: #D2E3FC;\n",
              "    }\n",
              "\n",
              "    [theme=dark] .colab-df-convert:hover {\n",
              "      background-color: #434B5C;\n",
              "      box-shadow: 0px 1px 3px 1px rgba(0, 0, 0, 0.15);\n",
              "      filter: drop-shadow(0px 1px 2px rgba(0, 0, 0, 0.3));\n",
              "      fill: #FFFFFF;\n",
              "    }\n",
              "  </style>\n",
              "\n",
              "      <script>\n",
              "        const buttonEl =\n",
              "          document.querySelector('#df-94a2505e-99f1-480a-8665-896e1aa931c2 button.colab-df-convert');\n",
              "        buttonEl.style.display =\n",
              "          google.colab.kernel.accessAllowed ? 'block' : 'none';\n",
              "\n",
              "        async function convertToInteractive(key) {\n",
              "          const element = document.querySelector('#df-94a2505e-99f1-480a-8665-896e1aa931c2');\n",
              "          const dataTable =\n",
              "            await google.colab.kernel.invokeFunction('convertToInteractive',\n",
              "                                                     [key], {});\n",
              "          if (!dataTable) return;\n",
              "\n",
              "          const docLinkHtml = 'Like what you see? Visit the ' +\n",
              "            '<a target=\"_blank\" href=https://colab.research.google.com/notebooks/data_table.ipynb>data table notebook</a>'\n",
              "            + ' to learn more about interactive tables.';\n",
              "          element.innerHTML = '';\n",
              "          dataTable['output_type'] = 'display_data';\n",
              "          await google.colab.output.renderOutput(dataTable, element);\n",
              "          const docLink = document.createElement('div');\n",
              "          docLink.innerHTML = docLinkHtml;\n",
              "          element.appendChild(docLink);\n",
              "        }\n",
              "      </script>\n",
              "    </div>\n",
              "  </div>\n",
              "  "
            ],
            "text/plain": [
              "  FirstName                   Address\n",
              "0     María  CAmino de la iglesia Nº5"
            ]
          },
          "metadata": {},
          "output_type": "display_data"
        }
      ],
      "source": [
        "mostrar_resultados(usuarios_query)"
      ]
    },
    {
      "cell_type": "markdown",
      "metadata": {
        "id": "zKq4QGCV75Y2"
      },
      "source": [
        "####***Queries* en SQLAlchemy** ([link](https://docs.sqlalchemy.org/en/13/core/tutorial.html))\n"
      ]
    },
    {
      "cell_type": "code",
      "execution_count": null,
      "metadata": {
        "id": "JcHPVuQN9nh8"
      },
      "outputs": [],
      "source": [
        "#Introduccion de más  usuarios\n",
        "Manuel = Usuario(\n",
        "    UsuarioId=2,\n",
        "    FirstName='Manuel', \n",
        "    LastName='Fernández Costas', \n",
        "    Address='Camino de la iglesia Nº100', \n",
        "    Age=21, \n",
        "    Email='manuel_2000@outlook.es')\n",
        "\n",
        "Ramón = Usuario(\n",
        "    UsuarioId=3,\n",
        "    FirstName='Ramón', \n",
        "    LastName='Comesaña Rodríguez', \n",
        "    Address='Xogo da ola Nº6', \n",
        "    Age=34, \n",
        "    Email='ramon_galicia@outlook.es')\n",
        "\n",
        "Jennifer = Usuario(\n",
        "    UsuarioId=4,\n",
        "    FirstName='Jennifer', \n",
        "    LastName='Álvarez Rodríguez', \n",
        "    Address='Rúa do penedo Nº1', \n",
        "    Age=29, \n",
        "    Email='jenn_123@outlook.es')\n",
        "\n",
        "\n",
        "session.add(Manuel)\n",
        "session.add(Ramón)\n",
        "session.add(Jennifer)\n",
        "session.commit()"
      ]
    },
    {
      "cell_type": "code",
      "execution_count": null,
      "metadata": {
        "id": "oJUcZzreAW1a"
      },
      "outputs": [],
      "source": [
        "#Productos\n",
        "p1 = Producto(\n",
        "    ProductoId=1,\n",
        "    Name='Peine', \n",
        "    Year=2005, \n",
        "    Price=13.50)\n",
        "p2 = Producto(\n",
        "    ProductoId=2,\n",
        "    Name='Maleta', \n",
        "    Year=2009, \n",
        "    Price=59.99)\n",
        "p3 = Producto(\n",
        "    ProductoId=3,\n",
        "    Name='Televisor', \n",
        "    Year=2018, \n",
        "    Price=199.99)\n",
        "p4 = Producto(\n",
        "    ProductoId=4,\n",
        "    Name='Libro', \n",
        "    Year=2000, \n",
        "    Price=9.99)\n",
        "\n",
        "session.add(p1)\n",
        "session.add(p2)\n",
        "session.add(p3)\n",
        "session.add(p4)\n",
        "session.commit()"
      ]
    },
    {
      "cell_type": "code",
      "execution_count": null,
      "metadata": {
        "id": "dxHQKniSth8M"
      },
      "outputs": [],
      "source": [
        "#Órdenes\n",
        "import datetime\n",
        "o1 = Orden(\n",
        "    OrdenId=1,\n",
        "    ProductoId=2, \n",
        "    UsuarioId=1, \n",
        "    Date=datetime.datetime.now())\n",
        "o2 = Orden(\n",
        "    OrdenId=2,\n",
        "    ProductoId=4, \n",
        "    UsuarioId=2, \n",
        "    Date=datetime.datetime.now())\n",
        "o3 = Orden(\n",
        "    OrdenId=3,\n",
        "    ProductoId=1, \n",
        "    UsuarioId=3, \n",
        "    Date=datetime.datetime.now())\n",
        "o4 = Orden(\n",
        "    OrdenId=4,\n",
        "    ProductoId=3, \n",
        "    UsuarioId=4, \n",
        "    Date=datetime.datetime.now())\n",
        "\n",
        "\n",
        "session.add(o1)\n",
        "session.add(o2)\n",
        "session.add(o3)\n",
        "session.add(o4)\n",
        "session.commit()"
      ]
    },
    {
      "cell_type": "markdown",
      "metadata": {
        "id": "TKbdboPxx-_v"
      },
      "source": [
        "Si no le fueramos dando valor a las primary keys de cada tabla se le asignará por orden de introducción. Únicamente hay obligación en donde no se permite un valor *NULL*"
      ]
    },
    {
      "cell_type": "code",
      "execution_count": null,
      "metadata": {
        "colab": {
          "base_uri": "https://localhost:8080/"
        },
        "id": "dXbmvxlp9NPi",
        "outputId": "fb961cba-6806-49cc-ce5a-2f6876db3008"
      },
      "outputs": [
        {
          "data": {
            "text/plain": [
              "[('María, 2',), ('Manuel, 4',), ('Ramón, 1',), ('Jennifer, 3',)]"
            ]
          },
          "execution_count": 107,
          "metadata": {},
          "output_type": "execute_result"
        }
      ],
      "source": [
        "#SQL Textual\n",
        "from sqlalchemy.sql import text\n",
        "s = text(\n",
        "     \"SELECT usuarios.FirstName || ', ' || ordenes.ProductoId AS title \"\n",
        "         \"FROM usuarios,  Ordenes \"\n",
        "         \"WHERE usuarios.UsuarioId = ordenes.UsuarioId\") #comando para relacionar el nombre y la direcciones de distintas tablas con un id común\n",
        "\n",
        "conex.execute(s).fetchall()\n",
        "\n",
        "#tiramos de la conexionque teniamos definida y le lazamos la query o consulta con lenguaje SQL"
      ]
    },
    {
      "cell_type": "code",
      "execution_count": null,
      "metadata": {
        "colab": {
          "base_uri": "https://localhost:8080/"
        },
        "id": "qil7BA0qWCub",
        "outputId": "3aafc0b4-8fb7-4cbe-f3f0-c3ff8f79606d"
      },
      "outputs": [
        {
          "data": {
            "text/plain": [
              "[('María, 2022-02-15 12:19:06.113912',),\n",
              " ('Manuel, 2022-02-15 12:19:06.114161',),\n",
              " ('Ramón, 2022-02-15 12:19:06.114268',),\n",
              " ('Jennifer, 2022-02-15 12:19:06.114352',)]"
            ]
          },
          "execution_count": 108,
          "metadata": {},
          "output_type": "execute_result"
        }
      ],
      "source": [
        "#Título fecha\n",
        "#SQL Textual\n",
        "from sqlalchemy.sql import text\n",
        "s = text(\n",
        "     \"SELECT usuarios.FirstName || ', ' || ordenes.Date AS title \"\n",
        "         \"FROM usuarios,  ordenes \"\n",
        "         \"WHERE usuarios.UsuarioId = ordenes.UsuarioId\")\n",
        "\n",
        "conex.execute(s).fetchall()\n",
        "#tiramos de la conexionque teniamos definida y le lazamos la query o consulta con lenguaje SQL"
      ]
    },
    {
      "cell_type": "code",
      "execution_count": null,
      "metadata": {
        "colab": {
          "base_uri": "https://localhost:8080/"
        },
        "id": "dbeS5sSMW89V",
        "outputId": "9c0e5534-c315-44ab-891c-4b188fa68ab8"
      },
      "outputs": [
        {
          "data": {
            "text/plain": [
              "[('María, 2022-02-15 12:19:06.113912',),\n",
              " ('Ramón, 2022-02-15 12:19:06.114268',),\n",
              " ('Jennifer, 2022-02-15 12:19:06.114352',)]"
            ]
          },
          "execution_count": 109,
          "metadata": {},
          "output_type": "execute_result"
        }
      ],
      "source": [
        "#Título fecha, seleccionando en función de edades\n",
        "#SQL Textual\n",
        "from sqlalchemy.sql import text\n",
        "s = text(\n",
        "     \"SELECT usuarios.FirstName || ', ' || ordenes.Date AS title \"\n",
        "         \"FROM usuarios,  ordenes \"\n",
        "         \"WHERE usuarios.UsuarioId = ordenes.UsuarioId \"\n",
        "         \"AND (usuarios.Age LIKE :i1 \"\n",
        "         \"OR usuarios.Age LIKE :i2)\")\n",
        "\n",
        "conex.execute(s,i1=34, i2=29).fetchall()\n",
        "#tiramos de la conexionque teniamos definida y le lazamos la query o consulta con lenguaje SQL"
      ]
    },
    {
      "cell_type": "markdown",
      "metadata": {
        "id": "kbWAyW4-Y7fT"
      },
      "source": [
        "####***Joins*** ([link](https://docs.sqlalchemy.org/en/13/core/tutorial.html))"
      ]
    },
    {
      "cell_type": "code",
      "execution_count": null,
      "metadata": {
        "colab": {
          "base_uri": "https://localhost:8080/"
        },
        "id": "oq7-Gs0pinTn",
        "outputId": "bde6a3da-8d27-4ec5-a44a-01cfd4fb4b89"
      },
      "outputs": [
        {
          "name": "stdout",
          "output_type": "stream",
          "text": [
            "('María', datetime.datetime(2022, 2, 15, 12, 19, 6, 113912))\n",
            "('Manuel', datetime.datetime(2022, 2, 15, 12, 19, 6, 114161))\n",
            "('Ramón', datetime.datetime(2022, 2, 15, 12, 19, 6, 114268))\n",
            "('Jennifer', datetime.datetime(2022, 2, 15, 12, 19, 6, 114352))\n"
          ]
        }
      ],
      "source": [
        "#JOIN TWO TABLES\n",
        "j = session.query(Usuario.FirstName, Orden.Date).join(Orden)\n",
        "\n",
        "for row in j:\n",
        "    print(row)\n",
        "\n",
        "#juntamos información de tablas distintas"
      ]
    },
    {
      "cell_type": "code",
      "execution_count": null,
      "metadata": {
        "colab": {
          "base_uri": "https://localhost:8080/"
        },
        "id": "RFde8ADBZF4o",
        "outputId": "08d736a6-1d75-4413-9bd1-b356057f4ace"
      },
      "outputs": [
        {
          "name": "stdout",
          "output_type": "stream",
          "text": [
            "('María', datetime.datetime(2022, 2, 15, 12, 19, 6, 113912))\n"
          ]
        }
      ],
      "source": [
        "#With Filter\n",
        "j=  session.query(Usuario.FirstName, Orden.Date).join(Orden, Orden.UsuarioId==Usuario.UsuarioId).filter(Orden.UsuarioId == 1)\n",
        "\n",
        "for row in j:\n",
        "  print(row)\n",
        "\n",
        "#juntamos y filtramos información de tablas distintas"
      ]
    },
    {
      "cell_type": "code",
      "execution_count": null,
      "metadata": {
        "colab": {
          "base_uri": "https://localhost:8080/"
        },
        "id": "ANmPxEJAh7iV",
        "outputId": "1db5bbec-535f-4493-e9a5-a601d69ffd38"
      },
      "outputs": [
        {
          "name": "stdout",
          "output_type": "stream",
          "text": [
            "('Manuel', datetime.datetime(2022, 2, 15, 12, 19, 6, 114161))\n"
          ]
        }
      ],
      "source": [
        "j = session.query(Usuario.FirstName, Orden.Date).\\\n",
        "    join(Orden, Orden.UsuarioId == Usuario.UsuarioId).\\\n",
        "    filter(Orden.OrdenId == 2)\n",
        "\n",
        "for row in j:\n",
        "    print(row)"
      ]
    },
    {
      "cell_type": "markdown",
      "metadata": {
        "id": "uMTV1iLL5Nfa"
      },
      "source": [
        "###***SCRAPPING*** ([link](https://www.ionos.es/digitalguide/paginas-web/desarrollo-web/web-scraping-con-python/))\n",
        "---\n",
        "La técnica del *scrapping* o *web scrapping* es sencillo de explicar. El programa creado y denominado *scraper* estará programado para indentificar patrones en el texto fuente en HTML que permitirán extraer información. Una vez detectados estos patrones el *scrapper* realizará automáticamente las demás funciones:\n",
        "\n",
        "\n",
        "1.   Ir a la página web concreta.\n",
        "2.   Extraer datos estructutados y organizados en base a los patrones enseñados.\n",
        "3. Almacenar, resumir o combinar esos datos extraídos.\n",
        "\n",
        "\n",
        "####**Aplicaciones del *scrapping***\n",
        "Está técnica tienes infinitas aplicaciones. Entre ellas destacan las siguientes:\n",
        "\n",
        "\n",
        "\n",
        "*   Controlar y comparar ofertas online\n",
        "*   Investigación de mercado: análisis de la competencia, seguimiento de precios, etc.\n",
        "*   Reunir datos: financieros, meteorológicos, etc.\n",
        "*   Observar o detectar cambios en paginas web.\n",
        "*   Exploración de datos (*Data mining*)\n",
        "*   Generación de *leads*: Crear listas de potenciales clientes desde la web (empresas con linkeding, compañías que utilizan paypal, etc.).\n",
        "\n",
        "\n",
        "\n"
      ]
    },
    {
      "cell_type": "markdown",
      "metadata": {
        "id": "fnuDybHtCEXo"
      },
      "source": [
        "\n",
        "####**Ejemplo ([Tiempo meteorológico](https://www.dataquest.io/blog/web-scraping-python-using-beautiful-soup/))**"
      ]
    },
    {
      "cell_type": "code",
      "execution_count": null,
      "metadata": {
        "colab": {
          "base_uri": "https://localhost:8080/"
        },
        "id": "mc1BMaSzlIbW",
        "outputId": "94efd2b6-c243-4e57-be85-e8b437ba996b"
      },
      "outputs": [
        {
          "name": "stdout",
          "output_type": "stream",
          "text": [
            "<div class=\"tombstone-container\">\n",
            " <p class=\"period-name\">\n",
            "  Today\n",
            "  <br/>\n",
            "  <br/>\n",
            " </p>\n",
            " <p>\n",
            "  <img alt=\"Today: Sunny, with a high near 63. Breezy, with a north wind 10 to 15 mph increasing to 19 to 24 mph in the afternoon. Winds could gust as high as 31 mph. \" class=\"forecast-icon\" src=\"newimages/medium/wind_skc.png\" title=\"Today: Sunny, with a high near 63. Breezy, with a north wind 10 to 15 mph increasing to 19 to 24 mph in the afternoon. Winds could gust as high as 31 mph. \"/>\n",
            " </p>\n",
            " <p class=\"short-desc\">\n",
            "  Sunny and\n",
            "  <br/>\n",
            "  Breezy\n",
            " </p>\n",
            " <p class=\"temp temp-high\">\n",
            "  High: 63 °F\n",
            " </p>\n",
            "</div>\n"
          ]
        }
      ],
      "source": [
        "import requests\n",
        "from bs4 import BeautifulSoup\n",
        "\n",
        "web = requests.get(\"https://forecast.weather.gov/MapClick.php?lat=37.7772&lon=-122.4168\") #dirección concreta\n",
        "soup = BeautifulSoup(web.content, 'html.parser') #llamamos a beautifulsoup \n",
        "seven_day = soup.find(id=\"seven-day-forecast\") # que buscamos\n",
        "forecast = seven_day.find_all(class_=\"tombstone-container\")# dentro de lo que buscamos cogemos todo lo que tenga la clase []\n",
        "tonight = forecast[0]\n",
        "print(tonight.prettify())\n",
        "\n"
      ]
    },
    {
      "cell_type": "code",
      "execution_count": null,
      "metadata": {
        "colab": {
          "base_uri": "https://localhost:8080/"
        },
        "id": "BpnvPdDIlfYp",
        "outputId": "69918113-71d7-416c-98b8-2478a49d45a4"
      },
      "outputs": [
        {
          "name": "stdout",
          "output_type": "stream",
          "text": [
            "High: 63 °F\n",
            "Today\n"
          ]
        }
      ],
      "source": [
        "#Extracción de información\n",
        "temp = tonight.find(class_=\"temp\").get_text() #de nuestra consulta coge la información de temp y pasala a texto\n",
        "periodo = tonight.find(class_=\"period-name\").get_text()#de nuestra consulta coge la información de period-name y pasala a texto\n",
        "\n",
        "print(temp)\n",
        "print(periodo)"
      ]
    },
    {
      "cell_type": "code",
      "execution_count": null,
      "metadata": {
        "colab": {
          "base_uri": "https://localhost:8080/"
        },
        "id": "lXZEaby7mMiF",
        "outputId": "4ad1afb8-b690-4918-99c6-a79a4d27a532"
      },
      "outputs": [
        {
          "name": "stdout",
          "output_type": "stream",
          "text": [
            "Today: Sunny, with a high near 63. Breezy, with a north wind 10 to 15 mph increasing to 19 to 24 mph in the afternoon. Winds could gust as high as 31 mph. \n"
          ]
        }
      ],
      "source": [
        "img = tonight.find(\"img\")\n",
        "resumen = img['title']\n",
        "print(resumen)"
      ]
    },
    {
      "cell_type": "code",
      "execution_count": null,
      "metadata": {
        "colab": {
          "base_uri": "https://localhost:8080/"
        },
        "id": "RZ7m9XDumX7h",
        "outputId": "7382c69c-a54a-49e3-97fd-a553d37b5ebd"
      },
      "outputs": [
        {
          "name": "stdout",
          "output_type": "stream",
          "text": [
            "['High: 63 °F', 'Low: 47 °F', 'High: 66 °F', 'Low: 49 °F', 'High: 66 °F', 'Low: 47 °F', 'High: 66 °F', 'Low: 48 °F', 'High: 62 °F']\n",
            "['Today: Sunny, with a high near 63. Breezy, with a north wind 10 to 15 mph increasing to 19 to 24 mph in the afternoon. Winds could gust as high as 31 mph. ', 'Tonight: Clear, with a low around 47. Breezy, with a north wind 16 to 22 mph, with gusts as high as 31 mph. ', 'Wednesday: Sunny, with a high near 66. West northwest wind 6 to 13 mph. ', 'Wednesday Night: Clear, with a low around 49. Light northwest wind becoming north 9 to 14 mph in the evening. Winds could gust as high as 22 mph. ', 'Thursday: Sunny, with a high near 66. Northeast wind 5 to 13 mph. ', 'Thursday Night: Clear, with a low around 47.', 'Friday: Sunny, with a high near 66.', 'Friday Night: Mostly clear, with a low around 48.', 'Saturday: Mostly sunny, with a high near 62.']\n"
          ]
        }
      ],
      "source": [
        "temperaturas = [t.get_text() for t in seven_day.select(\".tombstone-container .temp\")]\n",
        "resumen = [d[\"title\"] for d in seven_day.select(\".tombstone-container img\")]\n",
        "\n",
        "print(temperaturas)\n",
        "print(resumen)\n",
        "\n",
        "#vamos elemento por elemento cogiendo el valor de tempo y lo que haya en img"
      ]
    },
    {
      "cell_type": "code",
      "execution_count": null,
      "metadata": {
        "colab": {
          "base_uri": "https://localhost:8080/",
          "height": 332
        },
        "id": "PxRp_awtpjIW",
        "outputId": "a637abff-556c-432c-9b7e-f29e6ffa56f3"
      },
      "outputs": [
        {
          "data": {
            "text/html": [
              "\n",
              "  <div id=\"df-fc088581-9485-4f61-96e1-bb93cf687a56\">\n",
              "    <div class=\"colab-df-container\">\n",
              "      <div>\n",
              "<style scoped>\n",
              "    .dataframe tbody tr th:only-of-type {\n",
              "        vertical-align: middle;\n",
              "    }\n",
              "\n",
              "    .dataframe tbody tr th {\n",
              "        vertical-align: top;\n",
              "    }\n",
              "\n",
              "    .dataframe thead th {\n",
              "        text-align: right;\n",
              "    }\n",
              "</style>\n",
              "<table border=\"1\" class=\"dataframe\">\n",
              "  <thead>\n",
              "    <tr style=\"text-align: right;\">\n",
              "      <th></th>\n",
              "      <th>periodos</th>\n",
              "      <th>resumen</th>\n",
              "      <th>temperaturas</th>\n",
              "    </tr>\n",
              "  </thead>\n",
              "  <tbody>\n",
              "    <tr>\n",
              "      <th>0</th>\n",
              "      <td>Today</td>\n",
              "      <td>Today: Sunny, with a high near 63. Breezy, wit...</td>\n",
              "      <td>High: 63 °F</td>\n",
              "    </tr>\n",
              "    <tr>\n",
              "      <th>1</th>\n",
              "      <td>Tonight</td>\n",
              "      <td>Tonight: Clear, with a low around 47. Breezy, ...</td>\n",
              "      <td>Low: 47 °F</td>\n",
              "    </tr>\n",
              "    <tr>\n",
              "      <th>2</th>\n",
              "      <td>Wednesday</td>\n",
              "      <td>Wednesday: Sunny, with a high near 66. West no...</td>\n",
              "      <td>High: 66 °F</td>\n",
              "    </tr>\n",
              "    <tr>\n",
              "      <th>3</th>\n",
              "      <td>WednesdayNight</td>\n",
              "      <td>Wednesday Night: Clear, with a low around 49. ...</td>\n",
              "      <td>Low: 49 °F</td>\n",
              "    </tr>\n",
              "    <tr>\n",
              "      <th>4</th>\n",
              "      <td>Thursday</td>\n",
              "      <td>Thursday: Sunny, with a high near 66. Northeas...</td>\n",
              "      <td>High: 66 °F</td>\n",
              "    </tr>\n",
              "    <tr>\n",
              "      <th>5</th>\n",
              "      <td>ThursdayNight</td>\n",
              "      <td>Thursday Night: Clear, with a low around 47.</td>\n",
              "      <td>Low: 47 °F</td>\n",
              "    </tr>\n",
              "    <tr>\n",
              "      <th>6</th>\n",
              "      <td>Friday</td>\n",
              "      <td>Friday: Sunny, with a high near 66.</td>\n",
              "      <td>High: 66 °F</td>\n",
              "    </tr>\n",
              "    <tr>\n",
              "      <th>7</th>\n",
              "      <td>FridayNight</td>\n",
              "      <td>Friday Night: Mostly clear, with a low around 48.</td>\n",
              "      <td>Low: 48 °F</td>\n",
              "    </tr>\n",
              "    <tr>\n",
              "      <th>8</th>\n",
              "      <td>Saturday</td>\n",
              "      <td>Saturday: Mostly sunny, with a high near 62.</td>\n",
              "      <td>High: 62 °F</td>\n",
              "    </tr>\n",
              "  </tbody>\n",
              "</table>\n",
              "</div>\n",
              "      <button class=\"colab-df-convert\" onclick=\"convertToInteractive('df-fc088581-9485-4f61-96e1-bb93cf687a56')\"\n",
              "              title=\"Convert this dataframe to an interactive table.\"\n",
              "              style=\"display:none;\">\n",
              "        \n",
              "  <svg xmlns=\"http://www.w3.org/2000/svg\" height=\"24px\"viewBox=\"0 0 24 24\"\n",
              "       width=\"24px\">\n",
              "    <path d=\"M0 0h24v24H0V0z\" fill=\"none\"/>\n",
              "    <path d=\"M18.56 5.44l.94 2.06.94-2.06 2.06-.94-2.06-.94-.94-2.06-.94 2.06-2.06.94zm-11 1L8.5 8.5l.94-2.06 2.06-.94-2.06-.94L8.5 2.5l-.94 2.06-2.06.94zm10 10l.94 2.06.94-2.06 2.06-.94-2.06-.94-.94-2.06-.94 2.06-2.06.94z\"/><path d=\"M17.41 7.96l-1.37-1.37c-.4-.4-.92-.59-1.43-.59-.52 0-1.04.2-1.43.59L10.3 9.45l-7.72 7.72c-.78.78-.78 2.05 0 2.83L4 21.41c.39.39.9.59 1.41.59.51 0 1.02-.2 1.41-.59l7.78-7.78 2.81-2.81c.8-.78.8-2.07 0-2.86zM5.41 20L4 18.59l7.72-7.72 1.47 1.35L5.41 20z\"/>\n",
              "  </svg>\n",
              "      </button>\n",
              "      \n",
              "  <style>\n",
              "    .colab-df-container {\n",
              "      display:flex;\n",
              "      flex-wrap:wrap;\n",
              "      gap: 12px;\n",
              "    }\n",
              "\n",
              "    .colab-df-convert {\n",
              "      background-color: #E8F0FE;\n",
              "      border: none;\n",
              "      border-radius: 50%;\n",
              "      cursor: pointer;\n",
              "      display: none;\n",
              "      fill: #1967D2;\n",
              "      height: 32px;\n",
              "      padding: 0 0 0 0;\n",
              "      width: 32px;\n",
              "    }\n",
              "\n",
              "    .colab-df-convert:hover {\n",
              "      background-color: #E2EBFA;\n",
              "      box-shadow: 0px 1px 2px rgba(60, 64, 67, 0.3), 0px 1px 3px 1px rgba(60, 64, 67, 0.15);\n",
              "      fill: #174EA6;\n",
              "    }\n",
              "\n",
              "    [theme=dark] .colab-df-convert {\n",
              "      background-color: #3B4455;\n",
              "      fill: #D2E3FC;\n",
              "    }\n",
              "\n",
              "    [theme=dark] .colab-df-convert:hover {\n",
              "      background-color: #434B5C;\n",
              "      box-shadow: 0px 1px 3px 1px rgba(0, 0, 0, 0.15);\n",
              "      filter: drop-shadow(0px 1px 2px rgba(0, 0, 0, 0.3));\n",
              "      fill: #FFFFFF;\n",
              "    }\n",
              "  </style>\n",
              "\n",
              "      <script>\n",
              "        const buttonEl =\n",
              "          document.querySelector('#df-fc088581-9485-4f61-96e1-bb93cf687a56 button.colab-df-convert');\n",
              "        buttonEl.style.display =\n",
              "          google.colab.kernel.accessAllowed ? 'block' : 'none';\n",
              "\n",
              "        async function convertToInteractive(key) {\n",
              "          const element = document.querySelector('#df-fc088581-9485-4f61-96e1-bb93cf687a56');\n",
              "          const dataTable =\n",
              "            await google.colab.kernel.invokeFunction('convertToInteractive',\n",
              "                                                     [key], {});\n",
              "          if (!dataTable) return;\n",
              "\n",
              "          const docLinkHtml = 'Like what you see? Visit the ' +\n",
              "            '<a target=\"_blank\" href=https://colab.research.google.com/notebooks/data_table.ipynb>data table notebook</a>'\n",
              "            + ' to learn more about interactive tables.';\n",
              "          element.innerHTML = '';\n",
              "          dataTable['output_type'] = 'display_data';\n",
              "          await google.colab.output.renderOutput(dataTable, element);\n",
              "          const docLink = document.createElement('div');\n",
              "          docLink.innerHTML = docLinkHtml;\n",
              "          element.appendChild(docLink);\n",
              "        }\n",
              "      </script>\n",
              "    </div>\n",
              "  </div>\n",
              "  "
            ],
            "text/plain": [
              "         periodos  ... temperaturas\n",
              "0           Today  ...  High: 63 °F\n",
              "1         Tonight  ...   Low: 47 °F\n",
              "2       Wednesday  ...  High: 66 °F\n",
              "3  WednesdayNight  ...   Low: 49 °F\n",
              "4        Thursday  ...  High: 66 °F\n",
              "5   ThursdayNight  ...   Low: 47 °F\n",
              "6          Friday  ...  High: 66 °F\n",
              "7     FridayNight  ...   Low: 48 °F\n",
              "8        Saturday  ...  High: 62 °F\n",
              "\n",
              "[9 rows x 3 columns]"
            ]
          },
          "execution_count": 126,
          "metadata": {},
          "output_type": "execute_result"
        }
      ],
      "source": [
        "import pandas as pd\n",
        "\n",
        "etiquetas = seven_day.select(\".tombstone-container .period-name\")\n",
        "periodos = [pt.get_text() for pt in etiquetas]\n",
        "\n",
        "weather = pd.DataFrame({\n",
        "    'periodos':periodos,\n",
        "    'resumen':resumen,\n",
        "    'temperaturas':temperaturas}\n",
        ")\n",
        "\n",
        "weather\n",
        "\n",
        "#creamos un dataframe bonito con la información scrapeada"
      ]
    }
  ],
  "metadata": {
    "colab": {
      "name": "Python_avanzado(Primer_día)_clase.ipynb",
      "provenance": []
    },
    "kernelspec": {
      "display_name": "Python 3",
      "name": "python3"
    },
    "language_info": {
      "name": "python"
    }
  },
  "nbformat": 4,
  "nbformat_minor": 0
}
