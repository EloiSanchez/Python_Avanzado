{
 "cells": [
  {
   "cell_type": "markdown",
   "metadata": {},
   "source": [
    "# Tarea del dia 2. Procesado de Imagen.\n",
    "En esta tarea utilizaremos la imagen de una cereza para aprender a procesar imagenes.\n",
    "\n",
    "**Nota**: Yo estoy trabajando desde VSCode y parece que no tiene forma de reperesentar imagenes integramente en el notebook. Por tanto, la única solución que encuentro es crear ventanas con las imágenes a medida que voy trabajando con ellas si es que las quiero ver."
   ]
  },
  {
   "cell_type": "code",
   "execution_count": 14,
   "metadata": {},
   "outputs": [],
   "source": [
    "import cv2\n",
    "\n",
    "def ShowImg(window, img):\n",
    "    \"\"\"Creamos esta funcion para facilitar enseñar una imagen de manera adecuada\"\"\"\n",
    "    cv2.imshow(window, img)\n",
    "    cv2.waitKey(0)\n",
    "    cv2.destroyWindow(window)"
   ]
  },
  {
   "cell_type": "markdown",
   "metadata": {},
   "source": [
    "\n",
    "Antes de nada creamos una linia donde se enuentra el ```path``` de nuestro archivo para poder utilizar los caminos relativos para importar los datos.\n",
    "\n",
    "**Importante**: El usuario debe comprobar que el ```data_path``` es el adecuado. En caso de que no lo sea debe modificar la celda siguiente para que sea correcto."
   ]
  },
  {
   "cell_type": "code",
   "execution_count": 3,
   "metadata": {},
   "outputs": [
    {
     "name": "stdout",
     "output_type": "stream",
     "text": [
      "/media/eloisanchez/ELOI/UNED/Cursos de Extension/Python Avanzado/Tareas/Dia_2/Data/Tarea.jpg\n"
     ]
    }
   ],
   "source": [
    "import os\n",
    "\n",
    "ipynb_path = os.path.dirname(os.path.realpath(\"__file__\"))\n",
    "data_path = ipynb_path + \"/Data/Tarea.jpg\"\n",
    "print(data_path)"
   ]
  },
  {
   "cell_type": "markdown",
   "metadata": {},
   "source": [
    "Importamos la imagen con la que trabajaremos."
   ]
  },
  {
   "cell_type": "code",
   "execution_count": 22,
   "metadata": {},
   "outputs": [],
   "source": [
    "try:\n",
    "    img = cv2.imread(data_path)\n",
    "except FileNotFoundError:\n",
    "    print('Check that de data_paht is correct.')\n",
    "    print(f'Path: {data_path}')"
   ]
  },
  {
   "cell_type": "markdown",
   "metadata": {},
   "source": [
    "Empezamos el procesado de imagen"
   ]
  },
  {
   "cell_type": "code",
   "execution_count": 32,
   "metadata": {},
   "outputs": [],
   "source": [
    "import numpy as np\n",
    "\n",
    "img_resize = cv2.resize(img, [0,0], fx=0.4, fy=0.4)\n",
    "ShowImg('Resized', img_resize)\n",
    "\n",
    "img_blur = cv2.blur(img_resize, [5, 5])\n",
    "ShowImg('Blur', img_blur)\n",
    "\n",
    "img_hsv = cv2.cvtColor(img_blur, cv2.COLOR_BGR2HLS)\n",
    "ShowImg('hsv', img_hsv)\n",
    "\n",
    "upper_red = np.array([10,255,255])\n",
    "lower_red = np.array([0,0,13])\n",
    "\n",
    "mask = cv2.inRange(img_hsv, lower_red, upper_red)\n",
    "img_masked = cv2.bitwise_and(img_hsv, img_hsv, mask=mask)\n",
    "ShowImg('masked', img_masked)\n"
   ]
  }
 ],
 "metadata": {
  "interpreter": {
   "hash": "916dbcbb3f70747c44a77c7bcd40155683ae19c65e1c03b4aa3499c5328201f1"
  },
  "kernelspec": {
   "display_name": "Python 3.9.7 64-bit",
   "language": "python",
   "name": "python3"
  },
  "language_info": {
   "codemirror_mode": {
    "name": "ipython",
    "version": 3
   },
   "file_extension": ".py",
   "mimetype": "text/x-python",
   "name": "python",
   "nbconvert_exporter": "python",
   "pygments_lexer": "ipython3",
   "version": "3.9.7"
  },
  "orig_nbformat": 4
 },
 "nbformat": 4,
 "nbformat_minor": 2
}
