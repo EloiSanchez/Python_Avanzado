{
 "cells": [
  {
   "cell_type": "markdown",
   "metadata": {},
   "source": [
    "# Tarea del dia 2. Procesado de Imagen.\n",
    "En esta tarea utilizaremos la imagen de una cereza para aprender a procesar imagenes.\n",
    "\n",
    "**Nota**: Yo estoy trabajando desde VSCode y parece que no tiene forma de reperesentar imagenes integramente en el notebook. Por tanto, la única solución que encuentro es crear ventanas con las imágenes a medida que voy trabajando con ellas si es que las quiero ver."
   ]
  },
  {
   "cell_type": "code",
   "execution_count": 4,
   "metadata": {},
   "outputs": [],
   "source": [
    "import cv2\n",
    "\n",
    "def ShowImg(window, img):\n",
    "    \"\"\"Creamos esta funcion para facilitar enseñar una imagen de manera adecuada\"\"\"\n",
    "    cv2.imshow(window, img)\n",
    "    cv2.waitKey(0)\n",
    "    cv2.destroyWindow(window)"
   ]
  },
  {
   "cell_type": "markdown",
   "metadata": {},
   "source": [
    "\n",
    "Antes de nada creamos una linia donde se enuentra el ```path``` de nuestro archivo para poder utilizar los caminos relativos para importar los datos.\n",
    "\n",
    "**Importante**: El usuario debe comprobar que el ```data_path``` es el adecuado. En caso de que no lo sea debe modificar la celda siguiente para que sea correcto."
   ]
  },
  {
   "cell_type": "code",
   "execution_count": 5,
   "metadata": {},
   "outputs": [
    {
     "name": "stdout",
     "output_type": "stream",
     "text": [
      "/media/eloi/ELOI/UNED/Cursos de Extension/Python_Avanzado/Tareas/Dia_2/Data/Tarea.jpg\n"
     ]
    }
   ],
   "source": [
    "import os\n",
    "\n",
    "ipynb_path = os.path.dirname(os.path.realpath(\"__file__\"))\n",
    "data_path = ipynb_path + \"/Data/Tarea.jpg\"\n",
    "print(data_path)"
   ]
  },
  {
   "cell_type": "markdown",
   "metadata": {},
   "source": [
    "Importamos la imagen con la que trabajaremos."
   ]
  },
  {
   "cell_type": "code",
   "execution_count": 6,
   "metadata": {},
   "outputs": [],
   "source": [
    "try:\n",
    "    img = cv2.imread(data_path)\n",
    "except FileNotFoundError:\n",
    "    print('Check that de data_paht is correct.')\n",
    "    print(f'Path: {data_path}')"
   ]
  },
  {
   "cell_type": "markdown",
   "metadata": {},
   "source": [
    "Empezamos el procesado de imagen. Primero reescalamos la imagen."
   ]
  },
  {
   "cell_type": "code",
   "execution_count": 7,
   "metadata": {},
   "outputs": [],
   "source": [
    "import numpy as np\n",
    "\n",
    "img_resize = cv2.resize(img, [0,0], fx=0.4, fy=0.4)\n",
    "ShowImg('resized', img_resize)\n",
    "\n",
    "img_crop = img_resize[400:875, 200:700]\n",
    "ShowImg('Reescalada', img_crop)\n"
   ]
  },
  {
   "cell_type": "code",
   "execution_count": 8,
   "metadata": {},
   "outputs": [],
   "source": [
    "\n",
    "img_blur = cv2.blur(img_crop, [5, 5])\n",
    "ShowImg('Blur', img_blur)\n",
    "\n",
    "img_hsv = cv2.cvtColor(img_blur, cv2.COLOR_BGR2HLS)\n",
    "ShowImg('hsv', img_hsv)\n",
    "\n",
    "# img_bw = cv2.cvtColor(img_hsv, cv2.COLOR_BGR2GRAY)\n",
    "# ShowImg('BW', img_bw)\n",
    "\n",
    "# Con esta mascara cogemos al verde del i a gran parte del rojo de la cereza\n",
    "lower_red = np.array([0,0,5])\n",
    "upper_red = np.array([50,255,255])\n",
    "\n",
    "mask = cv2.inRange(img_hsv, lower_red, upper_red)\n",
    "img_masked = cv2.bitwise_and(img_blur, img_blur, mask=mask)\n",
    "ShowImg('masked', img_masked)\n",
    "\n",
    "# Vemos que la mascara ha detectado adecuadamente el contorno externo de la cereza\n",
    "ShowImg('mask', mask)"
   ]
  },
  {
   "cell_type": "markdown",
   "metadata": {},
   "source": [
    "Utilizaremos directamente la imagen `mask` como la imagen binaria sobre la que detectar contornos."
   ]
  },
  {
   "cell_type": "code",
   "execution_count": 10,
   "metadata": {},
   "outputs": [],
   "source": [
    "cnts = cv2.findContours(mask, cv2.RETR_EXTERNAL, cv2.CHAIN_APPROX_SIMPLE)\n",
    "cnts = cnts[0] if len(cnts) == 2 else cnts[1]\n",
    "\n",
    "cnt = cnts[0]\n",
    "\n",
    "img_cont = cv2.drawContours(img_crop, [cnt], 0, (0, 0, 0), 3)\n",
    "\n",
    "ShowImg('final contours', img_cont)"
   ]
  },
  {
   "cell_type": "markdown",
   "metadata": {},
   "source": [
    "Por último, calculamos el area contenida en este contorno para medir cuantos pixeles ocupa la cereza."
   ]
  },
  {
   "cell_type": "code",
   "execution_count": 11,
   "metadata": {},
   "outputs": [
    {
     "name": "stdout",
     "output_type": "stream",
     "text": [
      "El area de la cereza es de 55309.0 pxs.\n"
     ]
    }
   ],
   "source": [
    "area_cereza = cv2.contourArea(cnt)\n",
    "\n",
    "print(f'El area de la cereza es de {area_cereza} pxs.')"
   ]
  }
 ],
 "metadata": {
  "interpreter": {
   "hash": "916dbcbb3f70747c44a77c7bcd40155683ae19c65e1c03b4aa3499c5328201f1"
  },
  "kernelspec": {
   "display_name": "Python 3.9.7 64-bit",
   "language": "python",
   "name": "python3"
  },
  "language_info": {
   "codemirror_mode": {
    "name": "ipython",
    "version": 3
   },
   "file_extension": ".py",
   "mimetype": "text/x-python",
   "name": "python",
   "nbconvert_exporter": "python",
   "pygments_lexer": "ipython3",
   "version": "3.9.7"
  },
  "orig_nbformat": 4
 },
 "nbformat": 4,
 "nbformat_minor": 2
}
