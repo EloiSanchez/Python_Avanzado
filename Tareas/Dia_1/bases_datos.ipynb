{
 "cells": [
  {
   "cell_type": "markdown",
   "metadata": {},
   "source": [
    "# Tarea primer día. Bases de datos.\n",
    "Haremos una base de datos sencilla para almacenar artículos científicos, sus autores y las universidades de estos.\n",
    "\n",
    "Primero obtenemos los objetos necesarios de las librearias para crear nuestra base de datos"
   ]
  },
  {
   "cell_type": "code",
   "execution_count": 1,
   "metadata": {},
   "outputs": [],
   "source": [
    "from sqlalchemy import create_engine\n",
    "\n",
    "motor = create_engine('sqlite:///Articulos.db')\n",
    "conex = motor.connect()\n",
    "\n",
    "from sqlalchemy.orm import sessionmaker\n",
    "\n",
    "session = sessionmaker(bind=motor)()"
   ]
  },
  {
   "cell_type": "markdown",
   "metadata": {},
   "source": [
    "Ahora creamos 3 tablas. Una que contendra los articulos, otra que contendra los autores y otra que contendra las universidades de origen."
   ]
  },
  {
   "cell_type": "code",
   "execution_count": 2,
   "metadata": {},
   "outputs": [],
   "source": [
    "from sqlalchemy.ext.declarative import declarative_base\n",
    "import sqlalchemy_explore\n",
    "from sqlalchemy import Column, Date, ForeignKey, Integer, NVARCHAR, Numeric, Sequence\n",
    "from sqlalchemy.orm import relationship\n",
    "\n",
    "classBase = declarative_base(cls=sqlalchemy_explore.ReflectiveMixin) # base class including utils like an __repr__ method\n",
    "\n",
    "class Articulos(classBase):\n",
    "    __tablename__ = 'articulos'\n",
    "    \n",
    "    ArtId = Column(Integer, Sequence('articulo_id_seq'), primary_key=True)\n",
    "    Title = Column(NVARCHAR(150), nullable=False)\n",
    "    Journal = Column(NVARCHAR(100), nullable=False)\n",
    "    Year = Column(Date)\n",
    "    \n",
    "class Universidades(classBase):\n",
    "    __tablename__ = 'universidades'\n",
    "    \n",
    "    UniId = Column(Integer, Sequence('universidad_id_seq'), primary_key=True)\n",
    "    Name = Column(NVARCHAR(50), nullable=False)\n",
    "    Country = Column(NVARCHAR(50), nullable=False)\n",
    "    \n",
    "class Autores(classBase):\n",
    "    __tablename__ = 'autores'\n",
    "    \n",
    "    AuthId = Column(Integer, Sequence('autor_id_seq'), primary_key=True)\n",
    "    FirstName = Column(NVARCHAR(50), nullable=False)\n",
    "    LastName = Column(NVARCHAR(50), nullable=False)\n",
    "    ArtId = Column(ForeignKey('articulos.ArtId'), nullable=False, index=True)\n",
    "    UniId = Column(ForeignKey('universidades.UniId'), nullable=False, index=True)\n",
    "    \n",
    "    articulos = relationship('Articulos')\n",
    "    universidades = relationship('Universidades')\n",
    "    \n",
    "\n",
    "classBase.metadata.create_all(motor)"
   ]
  },
  {
   "cell_type": "markdown",
   "metadata": {},
   "source": [
    "Ahora podemos añadir los datos. Primero añadimos los artículos."
   ]
  },
  {
   "cell_type": "code",
   "execution_count": 3,
   "metadata": {},
   "outputs": [],
   "source": [
    "import datetime\n",
    "\n",
    "art1 = Articulos(\n",
    "    ArtId = 1,\n",
    "    Title = 'Sobre el envejecimiento de las bellotas',\n",
    "    Journal = 'Revista de la Belloteria',\n",
    "    Year = datetime.date(year=1997, month=7, day=15)\n",
    ")\n",
    "art2 = Articulos(\n",
    "    ArtId = 2,\n",
    "    Title = 'Sobre la autoridad',\n",
    "    Journal = 'Monthly Review',\n",
    "    Year = datetime.date(year=1872, month=4, day=12)\n",
    ")\n",
    "art3 = Articulos(\n",
    "    ArtId = 3,\n",
    "    Title = 'Por que socialismo',\n",
    "    Journal = 'Monthly Review',\n",
    "    Year = datetime.date(year=1949, month=2, day=27)\n",
    ")\n",
    "\n",
    "session.add(art1)\n",
    "session.add(art2)\n",
    "session.add(art3)"
   ]
  },
  {
   "cell_type": "markdown",
   "metadata": {},
   "source": [
    "Ahora las autoras."
   ]
  },
  {
   "cell_type": "code",
   "execution_count": 4,
   "metadata": {},
   "outputs": [],
   "source": [
    "Engels = Autores(\n",
    "    AuthId = 1,\n",
    "    FirstName = 'Friedrich',\n",
    "    LastName = 'Engels',\n",
    "    ArtId = 2,\n",
    "    UniId = 3\n",
    ")\n",
    "\n",
    "Martina = Autores(\n",
    "    AuthId = 2,\n",
    "    FirstName = 'Martina',\n",
    "    LastName = 'Rodriguez',\n",
    "    ArtId = 1,\n",
    "    UniId = 1\n",
    ")\n",
    "\n",
    "Einstein = Autores(\n",
    "    AuthId = 3,\n",
    "    FirstName = 'Albert',\n",
    "    LastName = 'Einstein',\n",
    "    ArtId = 3,\n",
    "    UniId = 3\n",
    ")\n",
    "\n",
    "Laura = Autores(\n",
    "    AuthId = 4,\n",
    "    FirstName = 'Laura',\n",
    "    LastName = 'Amoedo',\n",
    "    ArtId = 1,\n",
    "    UniId = 2\n",
    ")\n",
    "\n",
    "session.add(Engels)\n",
    "session.add(Einstein)\n",
    "session.add(Martina)\n",
    "session.add(Laura)"
   ]
  },
  {
   "cell_type": "markdown",
   "metadata": {},
   "source": [
    "Por último las universidades."
   ]
  },
  {
   "cell_type": "code",
   "execution_count": 5,
   "metadata": {},
   "outputs": [],
   "source": [
    "Barcelona = Universidades(\n",
    "    UniId = 1,\n",
    "    Name = 'Universidad de Barcelona',\n",
    "    Country = 'Spain, Catalunya'\n",
    ")\n",
    "\n",
    "Pontevedra = Universidades(\n",
    "    UniId = 2,\n",
    "    Name = 'Universidad de Pontevedra',\n",
    "    Country = 'Spain, Galicia'\n",
    ")\n",
    "\n",
    "Berlin = Universidades(\n",
    "    UniId = 3,\n",
    "    Name = 'Universidad de Berlin',\n",
    "    Country = 'Berlin'\n",
    ")\n",
    "\n",
    "\n",
    "session.add(Barcelona)\n",
    "session.add(Pontevedra)\n",
    "session.add(Berlin)"
   ]
  },
  {
   "cell_type": "markdown",
   "metadata": {},
   "source": [
    "Guardamos (*Commiteamos*) los cambios que hemos hecho en la base de datos."
   ]
  },
  {
   "cell_type": "code",
   "execution_count": 6,
   "metadata": {},
   "outputs": [],
   "source": [
    "session.commit()"
   ]
  },
  {
   "cell_type": "markdown",
   "metadata": {},
   "source": [
    "Ya podemos realizar las consultas. Primero realizamos una para encontrar las universidades de origen de los autores."
   ]
  },
  {
   "cell_type": "code",
   "execution_count": 7,
   "metadata": {},
   "outputs": [
    {
     "data": {
      "text/plain": [
       "[('Friedrich Engels', 'Universidad de Berlin'),\n",
       " ('Martina Rodriguez', 'Universidad de Barcelona'),\n",
       " ('Albert Einstein', 'Universidad de Berlin'),\n",
       " ('Laura Amoedo', 'Universidad de Pontevedra')]"
      ]
     },
     "execution_count": 7,
     "metadata": {},
     "output_type": "execute_result"
    }
   ],
   "source": [
    "from sqlalchemy.sql import text\n",
    "s = text(\n",
    "     \"SELECT autores.FirstName ||' '|| autores.LastName , universidades.Name \"\n",
    "         \"FROM autores,  universidades \"\n",
    "         \"WHERE autores.UniId = universidades.UniId\")\n",
    "\n",
    "conex.execute(s).fetchall()\n"
   ]
  },
  {
   "cell_type": "markdown",
   "metadata": {},
   "source": [
    "Ahora realizamos otro ejemplo donde encontramos los paises y el año de los articulos."
   ]
  },
  {
   "cell_type": "code",
   "execution_count": 8,
   "metadata": {},
   "outputs": [
    {
     "data": {
      "text/plain": [
       "[('Por que socialismo', 'Berlin', '1949-02-27'),\n",
       " ('Sobre el envejecimiento de las bellotas', 'Spain, Catalunya', '1997-07-15'),\n",
       " ('Sobre el envejecimiento de las bellotas', 'Spain, Galicia', '1997-07-15'),\n",
       " ('Sobre la autoridad', 'Berlin', '1872-04-12')]"
      ]
     },
     "execution_count": 8,
     "metadata": {},
     "output_type": "execute_result"
    }
   ],
   "source": [
    "t = text(\n",
    "    \"SELECT articulos.Title, universidades.Country, articulos.year  \"\n",
    "        \"FROM articulos, autores, universidades \"\n",
    "        \"WHERE autores.UniId = universidades.UniId \"\n",
    "        \"AND articulos.ArtId = autores.ArtId \"\n",
    "        \"ORDER BY articulos.Title \"\n",
    ")\n",
    "\n",
    "conex.execute(t).fetchall()\n",
    "\n",
    "# "
   ]
  }
 ],
 "metadata": {
  "interpreter": {
   "hash": "916dbcbb3f70747c44a77c7bcd40155683ae19c65e1c03b4aa3499c5328201f1"
  },
  "kernelspec": {
   "display_name": "Python 3.9.7 64-bit",
   "language": "python",
   "name": "python3"
  },
  "language_info": {
   "codemirror_mode": {
    "name": "ipython",
    "version": 3
   },
   "file_extension": ".py",
   "mimetype": "text/x-python",
   "name": "python",
   "nbconvert_exporter": "python",
   "pygments_lexer": "ipython3",
   "version": "3.9.7"
  },
  "orig_nbformat": 4
 },
 "nbformat": 4,
 "nbformat_minor": 2
}
