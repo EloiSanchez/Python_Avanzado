{
  "cells": [
    {
      "cell_type": "markdown",
      "metadata": {
        "id": "10qee1d_uHcJ"
      },
      "source": [
        "![picture](https://qinnova.uned.es/archivos_publicos/qweb_paginas/10926/logooficialunedpontevedra.png)"
      ]
    },
    {
      "cell_type": "markdown",
      "metadata": {
        "id": "G9nsAUM-uK9D"
      },
      "source": [
        "# **PYTHON AVANZADO - PRIMER DÍA**\n",
        "**PROFESORES:**\n",
        "\n",
        "Ana Larrañaga Janeiro - [**email**: alarranagaj@pontevedra.uned.es]\n",
        "\n",
        "Miguel Martínez Comesaña - [**email**: mmartinezc@pontevedra.uned.es]\n",
        "\n",
        "TEMA | ¿Qué veremos hoy? | \n",
        "-------------------|------------------\n",
        "1 Revisión Curso Python 1.0\n",
        "2 Programación orientada a objetos\n",
        "            |1.1 Definiciones y terminología\n",
        "            |1.2 Primera clase y primer método\n",
        "            |1.3 Herencia en clases\n",
        "3 Bases de datos \n",
        "    |2.1 Bases de datos relacionales\n",
        "    |2.2 SQL\n",
        "    |2.3 *Scrapping*"
      ]
    },
    {
      "cell_type": "markdown",
      "metadata": {
        "id": "bMhElgC7k8yi"
      },
      "source": [
        "## **1. REVISIÓN PYTHON 1.0**\n",
        "Vamos a repasar los nociones más importantes dadas en el curso introductorio de Python."
      ]
    },
    {
      "cell_type": "markdown",
      "metadata": {
        "id": "syYAefQpmuMk"
      },
      "source": [
        "### **TIPOS DE VARIABLES**"
      ]
    },
    {
      "cell_type": "code",
      "execution_count": 1,
      "metadata": {
        "colab": {
          "base_uri": "https://localhost:8080/"
        },
        "id": "X54c5iEim3RH",
        "outputId": "77fda34f-e224-40b7-d887-279d5f34a838"
      },
      "outputs": [
        {
          "data": {
            "text/plain": [
              "int"
            ]
          },
          "execution_count": 1,
          "metadata": {},
          "output_type": "execute_result"
        }
      ],
      "source": [
        "# INTEGER \n",
        "type(47)"
      ]
    },
    {
      "cell_type": "code",
      "execution_count": 2,
      "metadata": {
        "colab": {
          "base_uri": "https://localhost:8080/"
        },
        "id": "KqKeY-mjnAqS",
        "outputId": "98f035f8-a0dd-40b1-e803-fdb01359f661"
      },
      "outputs": [
        {
          "data": {
            "text/plain": [
              "float"
            ]
          },
          "execution_count": 2,
          "metadata": {},
          "output_type": "execute_result"
        }
      ],
      "source": [
        "# FLOATS\n",
        "type(5.7425)"
      ]
    },
    {
      "cell_type": "code",
      "execution_count": 3,
      "metadata": {
        "colab": {
          "base_uri": "https://localhost:8080/"
        },
        "id": "jn0u9LQ2nKbs",
        "outputId": "baf75c8f-3c26-4263-cf61-93e4c0fe3a71"
      },
      "outputs": [
        {
          "data": {
            "text/plain": [
              "complex"
            ]
          },
          "execution_count": 3,
          "metadata": {},
          "output_type": "execute_result"
        }
      ],
      "source": [
        "# NÚMEROS CUMPLEJOS\n",
        "type(complex(1,5))"
      ]
    },
    {
      "cell_type": "code",
      "execution_count": 4,
      "metadata": {
        "colab": {
          "base_uri": "https://localhost:8080/"
        },
        "id": "L8TQhl_gnDCh",
        "outputId": "cde7d543-2b47-4172-9470-3fa89885171e"
      },
      "outputs": [
        {
          "data": {
            "text/plain": [
              "str"
            ]
          },
          "execution_count": 4,
          "metadata": {},
          "output_type": "execute_result"
        }
      ],
      "source": [
        "# TEXTO [STRINGS]\n",
        "type(str('hello'))"
      ]
    },
    {
      "cell_type": "code",
      "execution_count": 5,
      "metadata": {
        "colab": {
          "base_uri": "https://localhost:8080/"
        },
        "id": "9iaJp_YjnW4C",
        "outputId": "4fa3d25d-0eff-47ac-9fdb-82f2dcc863cd"
      },
      "outputs": [
        {
          "data": {
            "text/plain": [
              "list"
            ]
          },
          "execution_count": 5,
          "metadata": {},
          "output_type": "execute_result"
        }
      ],
      "source": [
        "#LIST\n",
        "list = [1,2,3]\n",
        "type(list)"
      ]
    },
    {
      "cell_type": "code",
      "execution_count": 6,
      "metadata": {
        "colab": {
          "base_uri": "https://localhost:8080/"
        },
        "id": "7E20OZkHneBr",
        "outputId": "0eeede42-bee3-44f5-95e1-01e5d272fade"
      },
      "outputs": [
        {
          "data": {
            "text/plain": [
              "dict"
            ]
          },
          "execution_count": 6,
          "metadata": {},
          "output_type": "execute_result"
        }
      ],
      "source": [
        "#DICTIONARY\n",
        "dictionary = {'Primero':1, 'Segundo':2, 'Tercero':3}\n",
        "type(dictionary)"
      ]
    },
    {
      "cell_type": "code",
      "execution_count": 7,
      "metadata": {
        "colab": {
          "base_uri": "https://localhost:8080/"
        },
        "id": "j6908inXnUh9",
        "outputId": "4021b724-f317-487d-d777-57ebb3646fdf"
      },
      "outputs": [
        {
          "data": {
            "text/plain": [
              "tuple"
            ]
          },
          "execution_count": 7,
          "metadata": {},
          "output_type": "execute_result"
        }
      ],
      "source": [
        "# TUPLA = secuencia ordenada de elementos, como una lista, pero que una vez creada no se puede modificar\n",
        "TUPLA = (6, 5, 6)\n",
        "type(TUPLA)"
      ]
    },
    {
      "cell_type": "markdown",
      "metadata": {
        "id": "v_rGt-uun3YP"
      },
      "source": [
        "### **ARRAY 1D**\n"
      ]
    },
    {
      "cell_type": "code",
      "execution_count": 8,
      "metadata": {
        "colab": {
          "base_uri": "https://localhost:8080/"
        },
        "id": "XbweNIl3n71q",
        "outputId": "d29ad7f3-4bd0-4674-8720-e9a6ca5f4f3f"
      },
      "outputs": [
        {
          "name": "stdout",
          "output_type": "stream",
          "text": [
            "[ 0  1  2  3  4  5  6  7  8  9 10 11 12 13 14 15 16 17]\n"
          ]
        },
        {
          "data": {
            "text/plain": [
              "numpy.ndarray"
            ]
          },
          "execution_count": 8,
          "metadata": {},
          "output_type": "execute_result"
        }
      ],
      "source": [
        "import numpy as np\n",
        "A = np.arange(18)\n",
        "print(A)\n",
        "type(A)\n"
      ]
    },
    {
      "cell_type": "code",
      "execution_count": 9,
      "metadata": {
        "colab": {
          "base_uri": "https://localhost:8080/"
        },
        "id": "0QaCOWQMn-A1",
        "outputId": "1c4e9d75-82a2-49d8-d7e5-e66def9e11f7"
      },
      "outputs": [
        {
          "data": {
            "text/plain": [
              "array([1, 2])"
            ]
          },
          "execution_count": 9,
          "metadata": {},
          "output_type": "execute_result"
        }
      ],
      "source": [
        "# Accede al segundo y tercer elemento del array que creamos en el paso anterior.\n",
        "A[1:3]"
      ]
    },
    {
      "cell_type": "code",
      "execution_count": 10,
      "metadata": {
        "colab": {
          "base_uri": "https://localhost:8080/"
        },
        "id": "ldYJZi7AoBOt",
        "outputId": "664b4313-353b-4dfc-b124-06e4cdda31ec"
      },
      "outputs": [
        {
          "data": {
            "text/plain": [
              "array([0, 2, 4, 6, 8])"
            ]
          },
          "execution_count": 10,
          "metadata": {},
          "output_type": "execute_result"
        }
      ],
      "source": [
        "# Accede a los elementos entre el índice 0 y el 10 de 2 en 2.\n",
        "A[0:10:2]"
      ]
    },
    {
      "cell_type": "code",
      "execution_count": 11,
      "metadata": {
        "colab": {
          "base_uri": "https://localhost:8080/"
        },
        "id": "AXr4GpM3oNKC",
        "outputId": "49e69654-27bf-4315-abe4-928281bb07a4"
      },
      "outputs": [
        {
          "name": "stdout",
          "output_type": "stream",
          "text": [
            "[1 2 3 4 5]\n",
            "[1 2 3 4 5 6 7]\n"
          ]
        }
      ],
      "source": [
        "## AÑADIR\n",
        "var2 = np.array([1,2,3,4,5])\n",
        "print(var2)\n",
        "var2 = np.append(var2,[6,7])\n",
        "print(var2)"
      ]
    },
    {
      "cell_type": "code",
      "execution_count": 12,
      "metadata": {
        "colab": {
          "base_uri": "https://localhost:8080/"
        },
        "id": "sTX6gslkoPQp",
        "outputId": "c09311ce-3406-4cbf-8a3f-b6305170a229"
      },
      "outputs": [
        {
          "name": "stdout",
          "output_type": "stream",
          "text": [
            "[1 2 3 4 5 6 7]\n",
            "[1 2 4 5 6 7]\n"
          ]
        }
      ],
      "source": [
        "## SUPRIMIR\n",
        "print(var2)\n",
        "var2 = np.delete(var2, 2)\n",
        "print(var2)"
      ]
    },
    {
      "cell_type": "markdown",
      "metadata": {
        "id": "0IrfNb5BoQ9b"
      },
      "source": [
        "### **ARRAY 2D y 3D**\n",
        "**1D = VECTOR**\n",
        "\n",
        "**2D = MATRIZ**\n",
        "\n",
        "**3D = CUBO**\n",
        "\n",
        "EJE VERTICAL: axis = 1\n",
        "\n",
        "EJE HORIZONTAL: axis = 0"
      ]
    },
    {
      "cell_type": "code",
      "execution_count": 13,
      "metadata": {
        "colab": {
          "base_uri": "https://localhost:8080/"
        },
        "id": "Ps0AphVGofwB",
        "outputId": "a41fc9e8-e997-4aac-b636-5456d59efa03"
      },
      "outputs": [
        {
          "name": "stdout",
          "output_type": "stream",
          "text": [
            "[[0 7 8]\n",
            " [2 3 4]]\n"
          ]
        }
      ],
      "source": [
        "# ARRAY 2D\n",
        "a_2d = np.array([[0,7,8],[2,3,4]])\n",
        "print(a_2d)"
      ]
    },
    {
      "cell_type": "code",
      "execution_count": 14,
      "metadata": {
        "colab": {
          "base_uri": "https://localhost:8080/"
        },
        "id": "C38GHTZJo-y2",
        "outputId": "3a4da301-5f25-4c92-cca7-71c21bd060be"
      },
      "outputs": [
        {
          "data": {
            "text/plain": [
              "8"
            ]
          },
          "execution_count": 14,
          "metadata": {},
          "output_type": "execute_result"
        }
      ],
      "source": [
        "# Acceder a un elemento de array 2D\n",
        "a_2d[0,2]"
      ]
    },
    {
      "cell_type": "code",
      "execution_count": 15,
      "metadata": {
        "colab": {
          "base_uri": "https://localhost:8080/"
        },
        "id": "F5bpuYqjoiee",
        "outputId": "c4fc5fef-3f58-4c72-a76e-f45db0171a1c"
      },
      "outputs": [
        {
          "name": "stdout",
          "output_type": "stream",
          "text": [
            "[[[0. 0. 0.]\n",
            "  [0. 0. 0.]]\n",
            "\n",
            " [[0. 0. 0.]\n",
            "  [0. 0. 0.]]]\n"
          ]
        }
      ],
      "source": [
        "# ARRAY 3D\n",
        "ARRAY3D = np.zeros((2,2,3))\n",
        "print(ARRAY3D)"
      ]
    },
    {
      "cell_type": "code",
      "execution_count": 16,
      "metadata": {
        "colab": {
          "base_uri": "https://localhost:8080/"
        },
        "id": "_5F_L7KWo64-",
        "outputId": "5fa3b74f-d3a6-47ce-aa16-f35025445ddf"
      },
      "outputs": [
        {
          "data": {
            "text/plain": [
              "0.0"
            ]
          },
          "execution_count": 16,
          "metadata": {},
          "output_type": "execute_result"
        }
      ],
      "source": [
        "# Acceder a un elemento de array 3D\n",
        "ARRAY3D[0,1,0]"
      ]
    },
    {
      "cell_type": "code",
      "execution_count": 17,
      "metadata": {
        "colab": {
          "base_uri": "https://localhost:8080/"
        },
        "id": "LNIbO4mHpKK9",
        "outputId": "a9195211-cb12-4d39-9281-4dbda2faf980"
      },
      "outputs": [
        {
          "name": "stdout",
          "output_type": "stream",
          "text": [
            "Número de dimensiones:  2\n",
            "Número de elementos:  6\n",
            "Tipo de elemento:  int64\n",
            "Estructura 3D:  (2, 2, 3)\n"
          ]
        }
      ],
      "source": [
        "print('Número de dimensiones: ', a_2d.ndim)\n",
        "print('Número de elementos: ', a_2d.size)\n",
        "print('Tipo de elemento: ', a_2d.dtype)\n",
        "print('Estructura 3D: ', ARRAY3D.shape)\n"
      ]
    },
    {
      "cell_type": "markdown",
      "metadata": {
        "id": "u6z1hqX_peMt"
      },
      "source": [
        "### **OPERACIONES CON CONJUNTOS DE DATOS**\n"
      ]
    },
    {
      "cell_type": "code",
      "execution_count": 18,
      "metadata": {
        "colab": {
          "base_uri": "https://localhost:8080/"
        },
        "id": "0gNs_KYVvyTK",
        "outputId": "4d56476d-9e49-449f-979f-d992b41089f4"
      },
      "outputs": [],
      "source": [
        "# En caso de trabajar en Google Collab\n",
        "# from google.colab import drive\n",
        "# drive.mount('/content/drive')"
      ]
    },
    {
      "cell_type": "code",
      "execution_count": 19,
      "metadata": {
        "colab": {
          "base_uri": "https://localhost:8080/"
        },
        "id": "rHD78xYdpjvR",
        "outputId": "ffb6755b-026f-488c-cce3-edb689631a90"
      },
      "outputs": [
        {
          "name": "stdout",
          "output_type": "stream",
          "text": [
            "       type  fixed acidity  volatile acidity  citric acid  residual sugar  \\\n",
            "0     white            7.0             0.270         0.36            20.7   \n",
            "1     white            6.3             0.300         0.34             1.6   \n",
            "2     white            8.1             0.280         0.40             6.9   \n",
            "3     white            7.2             0.230         0.32             8.5   \n",
            "4     white            7.2             0.230         0.32             8.5   \n",
            "...     ...            ...               ...          ...             ...   \n",
            "6519    red            6.2             0.600         0.08             2.0   \n",
            "6520    red            5.9             0.550         0.10             2.2   \n",
            "6521    red            6.3             0.510         0.13             2.3   \n",
            "6522    red            5.9             0.645         0.12             2.0   \n",
            "6523    red            6.0             0.310         0.47             3.6   \n",
            "\n",
            "      chlorides  free sulfur dioxide  total sulfur dioxide  density    pH  \\\n",
            "0         0.050                 45.0                 170.0  1.00000  3.00   \n",
            "1         0.050                 14.0                 132.0  0.99000  3.30   \n",
            "2         0.050                 30.0                  97.0  1.00000  3.26   \n",
            "3         0.060                 47.0                 186.0  1.00000  3.19   \n",
            "4         0.060                 47.0                 186.0  1.00000  3.19   \n",
            "...         ...                  ...                   ...      ...   ...   \n",
            "6519      0.090                 32.0                  44.0  0.99490  3.45   \n",
            "6520      0.062                 39.0                  51.0  0.99512  3.52   \n",
            "6521      0.076                 29.0                  40.0  0.99574  3.42   \n",
            "6522      0.075                 32.0                  44.0  0.99547  3.57   \n",
            "6523      0.067                 18.0                  42.0  0.99549  3.39   \n",
            "\n",
            "      sulphates  alcohol  quality  \n",
            "0          0.45      8.8      6.0  \n",
            "1          0.49      9.5      6.0  \n",
            "2          0.44     10.1      6.0  \n",
            "3          0.40      9.9      6.0  \n",
            "4          0.40      9.9      6.0  \n",
            "...         ...      ...      ...  \n",
            "6519       0.58     10.5      5.0  \n",
            "6520        NaN     11.2      6.0  \n",
            "6521       0.75     11.0      6.0  \n",
            "6522       0.71     10.2      5.0  \n",
            "6523       0.66     11.0      6.0  \n",
            "\n",
            "[6524 rows x 13 columns]\n",
            "(6524, 13)\n"
          ]
        }
      ],
      "source": [
        "import pandas as pd \n",
        "\n",
        "# dframe = pd.read_csv('/content/drive/MyDrive/Colab Notebooks/Ficheros/wine_data.csv', sep=';', decimal=',',thousands='.')\n",
        "dframe = pd.read_csv('/media/eloi/ELOI/UNED/Cursos de Extension/Python Avanzado/Clases/Dia_1/Data_dia_1/wine_data.csv', sep=';', decimal=',',thousands='.')\n",
        "print(dframe)\n",
        "print(dframe.shape)"
      ]
    },
    {
      "cell_type": "code",
      "execution_count": 20,
      "metadata": {
        "colab": {
          "base_uri": "https://localhost:8080/"
        },
        "id": "OjzNA0JypnGM",
        "outputId": "b247e8dc-de4c-4436-ff6f-b9d79b7cbbf3"
      },
      "outputs": [
        {
          "name": "stdout",
          "output_type": "stream",
          "text": [
            "       fixed acidity  volatile acidity  citric acid  residual sugar  \\\n",
            "count    6487.000000       6489.000000  6494.000000     6495.000000   \n",
            "mean        7.216579          0.339699     0.318722        5.444326   \n",
            "std         1.296750          0.164653     0.145265        4.758125   \n",
            "min         3.800000          0.080000     0.000000        0.600000   \n",
            "25%         6.400000          0.230000     0.250000        1.800000   \n",
            "50%         7.000000          0.290000     0.310000        3.000000   \n",
            "75%         7.700000          0.400000     0.390000        8.100000   \n",
            "max        15.900000          1.580000     1.660000       65.800000   \n",
            "\n",
            "         chlorides  free sulfur dioxide  total sulfur dioxide      density  \\\n",
            "count  6495.000000          6497.000000           6497.000000  6497.000000   \n",
            "mean      0.056067            30.525319            115.744574     0.994698   \n",
            "std       0.035036            17.749400             56.521855     0.003136   \n",
            "min       0.009000             1.000000              6.000000     0.987110   \n",
            "25%       0.038000            17.000000             77.000000     0.992160   \n",
            "50%       0.047000            29.000000            118.000000     0.994880   \n",
            "75%       0.065000            41.000000            156.000000     0.997050   \n",
            "max       0.611000           289.000000            440.000000     1.038980   \n",
            "\n",
            "                pH    sulphates      alcohol      quality  \n",
            "count  6488.000000  6493.000000  6497.000000  6497.000000  \n",
            "mean      3.218395     0.531215    10.491801     5.818378  \n",
            "std       0.160748     0.148814     1.192712     0.873255  \n",
            "min       2.720000     0.220000     8.000000     3.000000  \n",
            "25%       3.110000     0.430000     9.500000     5.000000  \n",
            "50%       3.210000     0.510000    10.300000     6.000000  \n",
            "75%       3.320000     0.600000    11.300000     6.000000  \n",
            "max       4.010000     2.000000    14.900000     9.000000  \n",
            "         type  fixed acidity  volatile acidity  citric acid  residual sugar  \\\n",
            "count    6524    6487.000000       6489.000000  6494.000000     6495.000000   \n",
            "unique      2            NaN               NaN          NaN             NaN   \n",
            "top     white            NaN               NaN          NaN             NaN   \n",
            "freq     4914            NaN               NaN          NaN             NaN   \n",
            "mean      NaN       7.216579          0.339699     0.318722        5.444326   \n",
            "std       NaN       1.296750          0.164653     0.145265        4.758125   \n",
            "min       NaN       3.800000          0.080000     0.000000        0.600000   \n",
            "25%       NaN       6.400000          0.230000     0.250000        1.800000   \n",
            "50%       NaN       7.000000          0.290000     0.310000        3.000000   \n",
            "75%       NaN       7.700000          0.400000     0.390000        8.100000   \n",
            "max       NaN      15.900000          1.580000     1.660000       65.800000   \n",
            "\n",
            "          chlorides  free sulfur dioxide  total sulfur dioxide      density  \\\n",
            "count   6495.000000          6497.000000           6497.000000  6497.000000   \n",
            "unique          NaN                  NaN                   NaN          NaN   \n",
            "top             NaN                  NaN                   NaN          NaN   \n",
            "freq            NaN                  NaN                   NaN          NaN   \n",
            "mean       0.056067            30.525319            115.744574     0.994698   \n",
            "std        0.035036            17.749400             56.521855     0.003136   \n",
            "min        0.009000             1.000000              6.000000     0.987110   \n",
            "25%        0.038000            17.000000             77.000000     0.992160   \n",
            "50%        0.047000            29.000000            118.000000     0.994880   \n",
            "75%        0.065000            41.000000            156.000000     0.997050   \n",
            "max        0.611000           289.000000            440.000000     1.038980   \n",
            "\n",
            "                 pH    sulphates      alcohol      quality  \n",
            "count   6488.000000  6493.000000  6497.000000  6497.000000  \n",
            "unique          NaN          NaN          NaN          NaN  \n",
            "top             NaN          NaN          NaN          NaN  \n",
            "freq            NaN          NaN          NaN          NaN  \n",
            "mean       3.218395     0.531215    10.491801     5.818378  \n",
            "std        0.160748     0.148814     1.192712     0.873255  \n",
            "min        2.720000     0.220000     8.000000     3.000000  \n",
            "25%        3.110000     0.430000     9.500000     5.000000  \n",
            "50%        3.210000     0.510000    10.300000     6.000000  \n",
            "75%        3.320000     0.600000    11.300000     6.000000  \n",
            "max        4.010000     2.000000    14.900000     9.000000  \n"
          ]
        }
      ],
      "source": [
        "#Resumén rápido de las variables numéricas\n",
        "print(dframe.describe())\n",
        "print(dframe.describe(include='all'))"
      ]
    },
    {
      "cell_type": "code",
      "execution_count": 21,
      "metadata": {
        "colab": {
          "base_uri": "https://localhost:8080/"
        },
        "id": "RcNQvEBrpp21",
        "outputId": "5778eacf-0905-4761-e28d-1045cc3b922d"
      },
      "outputs": [
        {
          "name": "stdout",
          "output_type": "stream",
          "text": [
            "type                    white\n",
            "fixed acidity             7.0\n",
            "volatile acidity         0.27\n",
            "citric acid              0.36\n",
            "residual sugar           20.7\n",
            "chlorides                0.05\n",
            "free sulfur dioxide      45.0\n",
            "total sulfur dioxide    170.0\n",
            "density                   1.0\n",
            "pH                        3.0\n",
            "sulphates                0.45\n",
            "alcohol                   8.8\n",
            "quality                   6.0\n",
            "Name: 0, dtype: object\n"
          ]
        }
      ],
      "source": [
        "# Usando `iloc[]` para seleccionar fila `0`\n",
        "print(dframe.iloc[0])"
      ]
    },
    {
      "cell_type": "code",
      "execution_count": 22,
      "metadata": {
        "colab": {
          "base_uri": "https://localhost:8080/"
        },
        "id": "1NOdxOF3pryd",
        "outputId": "51b09504-394c-4fe1-bfc7-4788ee211ebe"
      },
      "outputs": [
        {
          "data": {
            "text/plain": [
              "0       3.00\n",
              "1       3.30\n",
              "2       3.26\n",
              "3       3.19\n",
              "4       3.19\n",
              "        ... \n",
              "6519    3.45\n",
              "6520    3.52\n",
              "6521    3.42\n",
              "6522    3.57\n",
              "6523    3.39\n",
              "Name: pH, Length: 6524, dtype: float64"
            ]
          },
          "execution_count": 22,
          "metadata": {},
          "output_type": "execute_result"
        }
      ],
      "source": [
        "# Usando `loc[]` para seleccionar columna 'pH'\n",
        "dframe.loc[:,'pH']"
      ]
    },
    {
      "cell_type": "code",
      "execution_count": 23,
      "metadata": {
        "colab": {
          "base_uri": "https://localhost:8080/"
        },
        "id": "Wfa12nf-pztk",
        "outputId": "0fc574c5-b364-4ae9-b888-d2b2f3dbe898"
      },
      "outputs": [
        {
          "name": "stdout",
          "output_type": "stream",
          "text": [
            "       type  fixed acidity  volatile acidity  citric acid  residual sugar  \\\n",
            "0     white            7.0             0.270         0.36            20.7   \n",
            "1     white            6.3             0.300         0.34             1.6   \n",
            "2     white            8.1             0.280         0.40             6.9   \n",
            "3     white            7.2             0.230         0.32             8.5   \n",
            "4     white            7.2             0.230         0.32             8.5   \n",
            "...     ...            ...               ...          ...             ...   \n",
            "6520    red            5.9             0.550         0.10             2.2   \n",
            "6521    red            6.3             0.510         0.13             2.3   \n",
            "6522    red            5.9             0.645         0.12             2.0   \n",
            "6523    red            6.0             0.310         0.47             3.6   \n",
            "6524  white            7.2             0.230         0.32             8.5   \n",
            "\n",
            "      chlorides  free sulfur dioxide  total sulfur dioxide  density    pH  \\\n",
            "0         0.050                 45.0                 170.0  1.00000  3.00   \n",
            "1         0.050                 14.0                 132.0  0.99000  3.30   \n",
            "2         0.050                 30.0                  97.0  1.00000  3.26   \n",
            "3         0.060                 47.0                 186.0  1.00000  3.19   \n",
            "4         0.060                 47.0                 186.0  1.00000  3.19   \n",
            "...         ...                  ...                   ...      ...   ...   \n",
            "6520      0.062                 39.0                  51.0  0.99512  3.52   \n",
            "6521      0.076                 29.0                  40.0  0.99574  3.42   \n",
            "6522      0.075                 32.0                  44.0  0.99547  3.57   \n",
            "6523      0.067                 18.0                  42.0  0.99549  3.39   \n",
            "6524      0.060                 47.0                 186.0  1.00000  3.19   \n",
            "\n",
            "      sulphates  alcohol  quality  \n",
            "0          0.45      8.8      6.0  \n",
            "1          0.49      9.5      6.0  \n",
            "2          0.44     10.1      6.0  \n",
            "3          0.40      9.9      6.0  \n",
            "4          0.40      9.9      6.0  \n",
            "...         ...      ...      ...  \n",
            "6520        NaN     11.2      6.0  \n",
            "6521       0.75     11.0      6.0  \n",
            "6522       0.71     10.2      5.0  \n",
            "6523       0.66     11.0      6.0  \n",
            "6524       0.40      9.9      6.0  \n",
            "\n",
            "[6525 rows x 13 columns]\n"
          ]
        }
      ],
      "source": [
        "#Añadir una fila con .append() al final de todo\n",
        "print(dframe.append(dframe.iloc[3],ignore_index=True))"
      ]
    },
    {
      "cell_type": "code",
      "execution_count": 24,
      "metadata": {
        "colab": {
          "base_uri": "https://localhost:8080/"
        },
        "id": "hOUsEG6Fp4BV",
        "outputId": "f866cac7-473c-4d0b-d389-3571f8d5c648"
      },
      "outputs": [
        {
          "name": "stdout",
          "output_type": "stream",
          "text": [
            "Tenemos inicialmente 13 columnas\n",
            "       type  fixed acidity  volatile acidity  citric acid  residual sugar  \\\n",
            "0     white            7.0             0.270         0.36            20.7   \n",
            "1     white            6.3             0.300         0.34             1.6   \n",
            "2     white            8.1             0.280         0.40             6.9   \n",
            "3     white            7.2             0.230         0.32             8.5   \n",
            "4     white            7.2             0.230         0.32             8.5   \n",
            "...     ...            ...               ...          ...             ...   \n",
            "6519    red            6.2             0.600         0.08             2.0   \n",
            "6520    red            5.9             0.550         0.10             2.2   \n",
            "6521    red            6.3             0.510         0.13             2.3   \n",
            "6522    red            5.9             0.645         0.12             2.0   \n",
            "6523    red            6.0             0.310         0.47             3.6   \n",
            "\n",
            "      chlorides  free sulfur dioxide  total sulfur dioxide  density    pH  \\\n",
            "0         0.050                 45.0                 170.0  1.00000  3.00   \n",
            "1         0.050                 14.0                 132.0  0.99000  3.30   \n",
            "2         0.050                 30.0                  97.0  1.00000  3.26   \n",
            "3         0.060                 47.0                 186.0  1.00000  3.19   \n",
            "4         0.060                 47.0                 186.0  1.00000  3.19   \n",
            "...         ...                  ...                   ...      ...   ...   \n",
            "6519      0.090                 32.0                  44.0  0.99490  3.45   \n",
            "6520      0.062                 39.0                  51.0  0.99512  3.52   \n",
            "6521      0.076                 29.0                  40.0  0.99574  3.42   \n",
            "6522      0.075                 32.0                  44.0  0.99547  3.57   \n",
            "6523      0.067                 18.0                  42.0  0.99549  3.39   \n",
            "\n",
            "      sulphates  alcohol  quality    13  \n",
            "0          0.45      8.8      6.0     0  \n",
            "1          0.49      9.5      6.0     1  \n",
            "2          0.44     10.1      6.0     2  \n",
            "3          0.40      9.9      6.0     3  \n",
            "4          0.40      9.9      6.0     4  \n",
            "...         ...      ...      ...   ...  \n",
            "6519       0.58     10.5      5.0  6519  \n",
            "6520        NaN     11.2      6.0  6520  \n",
            "6521       0.75     11.0      6.0  6521  \n",
            "6522       0.71     10.2      5.0  6522  \n",
            "6523       0.66     11.0      6.0  6523  \n",
            "\n",
            "[6524 rows x 14 columns]\n"
          ]
        }
      ],
      "source": [
        "#Añadir columnas usando .loc\n",
        "print(f\"Tenemos inicialmente {dframe.shape[1]} columnas\")\n",
        "dframe.loc[:,dframe.shape[1]] = pd.Series(range(len(dframe)), index=dframe.index) # Añadimos una columa a la derecha\n",
        "print(dframe)\n"
      ]
    },
    {
      "cell_type": "code",
      "execution_count": 25,
      "metadata": {
        "colab": {
          "base_uri": "https://localhost:8080/"
        },
        "id": "-wEpCSkQp-nM",
        "outputId": "d9c7497e-5123-4a1c-e76b-d6c605dd6006"
      },
      "outputs": [
        {
          "name": "stdout",
          "output_type": "stream",
          "text": [
            "       type  volatile acidity  citric acid  residual sugar  chlorides  \\\n",
            "0     white             0.270         0.36            20.7      0.050   \n",
            "1     white             0.300         0.34             1.6      0.050   \n",
            "2     white             0.280         0.40             6.9      0.050   \n",
            "3     white             0.230         0.32             8.5      0.060   \n",
            "4     white             0.230         0.32             8.5      0.060   \n",
            "...     ...               ...          ...             ...        ...   \n",
            "6519    red             0.600         0.08             2.0      0.090   \n",
            "6520    red             0.550         0.10             2.2      0.062   \n",
            "6521    red             0.510         0.13             2.3      0.076   \n",
            "6522    red             0.645         0.12             2.0      0.075   \n",
            "6523    red             0.310         0.47             3.6      0.067   \n",
            "\n",
            "      free sulfur dioxide  total sulfur dioxide  density    pH  sulphates  \\\n",
            "0                    45.0                 170.0  1.00000  3.00       0.45   \n",
            "1                    14.0                 132.0  0.99000  3.30       0.49   \n",
            "2                    30.0                  97.0  1.00000  3.26       0.44   \n",
            "3                    47.0                 186.0  1.00000  3.19       0.40   \n",
            "4                    47.0                 186.0  1.00000  3.19       0.40   \n",
            "...                   ...                   ...      ...   ...        ...   \n",
            "6519                 32.0                  44.0  0.99490  3.45       0.58   \n",
            "6520                 39.0                  51.0  0.99512  3.52        NaN   \n",
            "6521                 29.0                  40.0  0.99574  3.42       0.75   \n",
            "6522                 32.0                  44.0  0.99547  3.57       0.71   \n",
            "6523                 18.0                  42.0  0.99549  3.39       0.66   \n",
            "\n",
            "      alcohol  quality    13  \n",
            "0         8.8      6.0     0  \n",
            "1         9.5      6.0     1  \n",
            "2        10.1      6.0     2  \n",
            "3         9.9      6.0     3  \n",
            "4         9.9      6.0     4  \n",
            "...       ...      ...   ...  \n",
            "6519     10.5      5.0  6519  \n",
            "6520     11.2      6.0  6520  \n",
            "6521     11.0      6.0  6521  \n",
            "6522     10.2      5.0  6522  \n",
            "6523     11.0      6.0  6523  \n",
            "\n",
            "[6524 rows x 13 columns]\n"
          ]
        }
      ],
      "source": [
        "# Eliminamos la segunda columna\n",
        "dframe.drop(dframe.columns[1], axis=1, inplace=True)\n",
        "print(dframe)"
      ]
    },
    {
      "cell_type": "code",
      "execution_count": 26,
      "metadata": {
        "colab": {
          "base_uri": "https://localhost:8080/",
          "height": 876
        },
        "id": "8qEiwm5TqB3d",
        "outputId": "544f88ef-46bc-4b10-8c92-67a1c8536eaa"
      },
      "outputs": [
        {
          "name": "stdout",
          "output_type": "stream",
          "text": [
            "       type  volatile acidity  citric acid  residual sugar  chlorides  \\\n",
            "0     False             False        False           False      False   \n",
            "1     False             False        False           False      False   \n",
            "2     False             False        False           False      False   \n",
            "3     False             False        False           False      False   \n",
            "4     False             False        False           False      False   \n",
            "...     ...               ...          ...             ...        ...   \n",
            "6519  False             False        False           False      False   \n",
            "6520  False             False        False           False      False   \n",
            "6521  False             False        False           False      False   \n",
            "6522  False             False        False           False      False   \n",
            "6523  False             False        False           False      False   \n",
            "\n",
            "      free sulfur dioxide  total sulfur dioxide  density     pH  sulphates  \\\n",
            "0                   False                 False    False  False      False   \n",
            "1                   False                 False    False  False      False   \n",
            "2                   False                 False    False  False      False   \n",
            "3                   False                 False    False  False      False   \n",
            "4                   False                 False    False  False      False   \n",
            "...                   ...                   ...      ...    ...        ...   \n",
            "6519                False                 False    False  False      False   \n",
            "6520                False                 False    False  False       True   \n",
            "6521                False                 False    False  False      False   \n",
            "6522                False                 False    False  False      False   \n",
            "6523                False                 False    False  False      False   \n",
            "\n",
            "      alcohol  quality     13  \n",
            "0       False    False  False  \n",
            "1       False    False  False  \n",
            "2       False    False  False  \n",
            "3       False    False  False  \n",
            "4       False    False  False  \n",
            "...       ...      ...    ...  \n",
            "6519    False    False  False  \n",
            "6520    False    False  False  \n",
            "6521    False    False  False  \n",
            "6522    False    False  False  \n",
            "6523    False    False  False  \n",
            "\n",
            "[6524 rows x 13 columns]\n",
            "type                     0\n",
            "volatile acidity        35\n",
            "citric acid             30\n",
            "residual sugar          29\n",
            "chlorides               29\n",
            "free sulfur dioxide     27\n",
            "total sulfur dioxide    27\n",
            "density                 27\n",
            "pH                      36\n",
            "sulphates               31\n",
            "alcohol                 27\n",
            "quality                 27\n",
            "13                       0\n",
            "dtype: int64\n"
          ]
        },
        {
          "data": {
            "text/plain": [
              "<AxesSubplot:xlabel='index'>"
            ]
          },
          "execution_count": 26,
          "metadata": {},
          "output_type": "execute_result"
        },
        {
          "data": {
            "image/png": "[encoded data removed]",
            "text/plain": [
              "<Figure size 432x288 with 1 Axes>"
            ]
          },
          "metadata": {
            "needs_background": "light"
          },
          "output_type": "display_data"
        }
      ],
      "source": [
        "#Donde y cuantos NAs tenemos en nuestro conjunto de datos \n",
        "print(dframe.isna())  #or is.null\n",
        "print(dframe.isna().sum())\n",
        "dframe.isna().sum().reset_index(name=\"n\").plot.bar(x='index', y='n', rot=45)"
      ]
    },
    {
      "cell_type": "code",
      "execution_count": 27,
      "metadata": {
        "colab": {
          "base_uri": "https://localhost:8080/"
        },
        "id": "gznLRKPgqErj",
        "outputId": "2ad029c2-6c03-4d47-d202-ed7180d1ac1a"
      },
      "outputs": [
        {
          "name": "stdout",
          "output_type": "stream",
          "text": [
            "type                    0\n",
            "volatile acidity        0\n",
            "citric acid             0\n",
            "residual sugar          0\n",
            "chlorides               0\n",
            "free sulfur dioxide     0\n",
            "total sulfur dioxide    0\n",
            "density                 0\n",
            "pH                      0\n",
            "sulphates               0\n",
            "alcohol                 0\n",
            "quality                 0\n",
            "13                      0\n",
            "dtype: int64\n",
            "(6469, 13)\n",
            "(6524, 13)\n"
          ]
        }
      ],
      "source": [
        "#Eliminamos las filas con datos faltantes (NAs)\n",
        "dd = dframe.dropna()\n",
        "print(dd.isna().sum())\n",
        "print(dd.shape)\n",
        "print(dframe.shape)"
      ]
    },
    {
      "cell_type": "code",
      "execution_count": 28,
      "metadata": {
        "colab": {
          "base_uri": "https://localhost:8080/"
        },
        "id": "2n4I1lNaqFjn",
        "outputId": "da09e02b-c221-4044-f08f-5d3bffaa59dd"
      },
      "outputs": [
        {
          "name": "stdout",
          "output_type": "stream",
          "text": [
            "     type  volatile acidity  citric acid  residual sugar  chlorides  \\\n",
            "6504  red             0.560         0.09             1.7      0.053   \n",
            "6505  red             0.350         0.33             2.4      0.068   \n",
            "6506  red             0.560         0.09             1.7      0.053   \n",
            "6507  red             0.715         0.10             2.6      0.053   \n",
            "6508  red             0.460         0.29             2.1      0.074   \n",
            "6509  red             0.320         0.44             2.4      0.061   \n",
            "6510  red             0.390         0.44             2.6      0.066   \n",
            "6511  red             0.310         0.41             2.4      0.065   \n",
            "6512  red             0.610         0.11             1.8      0.066   \n",
            "6513  red          9999.000         0.33             2.5      0.068   \n",
            "6514  red             0.725         0.20             7.8      0.073   \n",
            "6515  red             0.550         0.15             1.8      0.077   \n",
            "6516  red             0.740         0.09             1.7      0.089   \n",
            "6517  red             0.510         0.13             2.3      0.076   \n",
            "6518  red             0.620         0.08             1.9      0.068   \n",
            "6519  red             0.600         0.08             2.0      0.090   \n",
            "6520  red             0.550         0.10             2.2      0.062   \n",
            "6521  red             0.510         0.13             2.3      0.076   \n",
            "6522  red             0.645         0.12             2.0      0.075   \n",
            "6523  red             0.310         0.47             3.6      0.067   \n",
            "\n",
            "      free sulfur dioxide  total sulfur dioxide  density    pH  sulphates  \\\n",
            "6504                 24.0                  32.0  0.99402  3.54       0.60   \n",
            "6505                  9.0                  26.0  0.99470  3.36       0.60   \n",
            "6506                 24.0                  32.0  0.99402  3.54       0.60   \n",
            "6507                 13.0                  27.0  0.99362  3.57       0.50   \n",
            "6508                 32.0                  98.0  0.99578  3.33       0.62   \n",
            "6509                 24.0                  34.0  0.99484  3.29       0.80   \n",
            "6510                 22.0                  48.0  0.99494  3.30       0.84   \n",
            "6511                 34.0                  60.0  0.99492  3.34       0.85   \n",
            "6512                 18.0                  28.0  0.99483  3.55       0.66   \n",
            "6513                 34.0                 102.0  0.99414  3.27       0.78   \n",
            "6514                 29.0                  79.0  0.99770  3.29       0.54   \n",
            "6515                 26.0                  35.0  0.99314  3.32       0.82   \n",
            "6516                 16.0                  26.0  0.99402  3.67       0.56   \n",
            "6517                 29.0                  40.0  0.99574  3.42       0.75   \n",
            "6518                 28.0                  38.0  0.99651  3.42       0.82   \n",
            "6519                 32.0                  44.0  0.99490  3.45       0.58   \n",
            "6520                 39.0                  51.0  0.99512  3.52    9999.00   \n",
            "6521                 29.0                  40.0  0.99574  3.42       0.75   \n",
            "6522                 32.0                  44.0  0.99547  3.57       0.71   \n",
            "6523                 18.0                  42.0  0.99549  3.39       0.66   \n",
            "\n",
            "      alcohol  quality    13  \n",
            "6504     11.3      5.0  6504  \n",
            "6505     11.9      6.0  6505  \n",
            "6506     11.3      5.0  6506  \n",
            "6507     11.9      5.0  6507  \n",
            "6508      9.8      5.0  6508  \n",
            "6509     11.6      7.0  6509  \n",
            "6510     11.5      6.0  6510  \n",
            "6511     11.4      6.0  6511  \n",
            "6512     10.9      6.0  6512  \n",
            "6513     12.8      6.0  6513  \n",
            "6514      9.2      5.0  6514  \n",
            "6515     11.6      6.0  6515  \n",
            "6516     11.6      6.0  6516  \n",
            "6517     11.0      6.0  6517  \n",
            "6518      9.5      6.0  6518  \n",
            "6519     10.5      5.0  6519  \n",
            "6520     11.2      6.0  6520  \n",
            "6521     11.0      6.0  6521  \n",
            "6522     10.2      5.0  6522  \n",
            "6523     11.0      6.0  6523  \n"
          ]
        }
      ],
      "source": [
        "#Rellenamos los huecos con algún valor concreto ('Enmascaramiento')\n",
        "dd2 = dframe.replace(np.nan, 9999)\n",
        "print(dd2.tail(20))\n",
        "\n",
        "dd3 = dframe.fillna(9999)"
      ]
    },
    {
      "cell_type": "code",
      "execution_count": 29,
      "metadata": {
        "colab": {
          "base_uri": "https://localhost:8080/"
        },
        "id": "gp45XDk5qH5T",
        "outputId": "934a84a5-8870-486d-f21a-2818e26a31bc"
      },
      "outputs": [
        {
          "name": "stdout",
          "output_type": "stream",
          "text": [
            "volatile acidity        35\n",
            "citric acid             30\n",
            "residual sugar          29\n",
            "chlorides               29\n",
            "free sulfur dioxide     27\n",
            "total sulfur dioxide    27\n",
            "density                 27\n",
            "pH                      36\n",
            "sulphates               31\n",
            "alcohol                 27\n",
            "quality                 27\n",
            "13                       0\n",
            "dtype: int64\n",
            "volatile acidity        0\n",
            "citric acid             0\n",
            "residual sugar          0\n",
            "chlorides               0\n",
            "free sulfur dioxide     0\n",
            "total sulfur dioxide    0\n",
            "density                 0\n",
            "pH                      0\n",
            "sulphates               0\n",
            "alcohol                 0\n",
            "quality                 0\n",
            "13                      0\n",
            "dtype: int64\n",
            "      volatile acidity  citric acid  residual sugar  chlorides  \\\n",
            "6504            0.5600         0.09             1.7      0.053   \n",
            "6505            0.3500         0.33             2.4      0.068   \n",
            "6506            0.5600         0.09             1.7      0.053   \n",
            "6507            0.7150         0.10             2.6      0.053   \n",
            "6508            0.4600         0.29             2.1      0.074   \n",
            "6509            0.3200         0.44             2.4      0.061   \n",
            "6510            0.3900         0.44             2.6      0.066   \n",
            "6511            0.3100         0.41             2.4      0.065   \n",
            "6512            0.6100         0.11             1.8      0.066   \n",
            "6513            0.6675         0.33             2.5      0.068   \n",
            "6514            0.7250         0.20             7.8      0.073   \n",
            "6515            0.5500         0.15             1.8      0.077   \n",
            "6516            0.7400         0.09             1.7      0.089   \n",
            "6517            0.5100         0.13             2.3      0.076   \n",
            "6518            0.6200         0.08             1.9      0.068   \n",
            "6519            0.6000         0.08             2.0      0.090   \n",
            "6520            0.5500         0.10             2.2      0.062   \n",
            "6521            0.5100         0.13             2.3      0.076   \n",
            "6522            0.6450         0.12             2.0      0.075   \n",
            "6523            0.3100         0.47             3.6      0.067   \n",
            "\n",
            "      free sulfur dioxide  total sulfur dioxide  density    pH  sulphates  \\\n",
            "6504                 24.0                  32.0  0.99402  3.54      0.600   \n",
            "6505                  9.0                  26.0  0.99470  3.36      0.600   \n",
            "6506                 24.0                  32.0  0.99402  3.54      0.600   \n",
            "6507                 13.0                  27.0  0.99362  3.57      0.500   \n",
            "6508                 32.0                  98.0  0.99578  3.33      0.620   \n",
            "6509                 24.0                  34.0  0.99484  3.29      0.800   \n",
            "6510                 22.0                  48.0  0.99494  3.30      0.840   \n",
            "6511                 34.0                  60.0  0.99492  3.34      0.850   \n",
            "6512                 18.0                  28.0  0.99483  3.55      0.660   \n",
            "6513                 34.0                 102.0  0.99414  3.27      0.780   \n",
            "6514                 29.0                  79.0  0.99770  3.29      0.540   \n",
            "6515                 26.0                  35.0  0.99314  3.32      0.820   \n",
            "6516                 16.0                  26.0  0.99402  3.67      0.560   \n",
            "6517                 29.0                  40.0  0.99574  3.42      0.750   \n",
            "6518                 28.0                  38.0  0.99651  3.42      0.820   \n",
            "6519                 32.0                  44.0  0.99490  3.45      0.580   \n",
            "6520                 39.0                  51.0  0.99512  3.52      0.665   \n",
            "6521                 29.0                  40.0  0.99574  3.42      0.750   \n",
            "6522                 32.0                  44.0  0.99547  3.57      0.710   \n",
            "6523                 18.0                  42.0  0.99549  3.39      0.660   \n",
            "\n",
            "      alcohol  quality    13  \n",
            "6504     11.3      5.0  6504  \n",
            "6505     11.9      6.0  6505  \n",
            "6506     11.3      5.0  6506  \n",
            "6507     11.9      5.0  6507  \n",
            "6508      9.8      5.0  6508  \n",
            "6509     11.6      7.0  6509  \n",
            "6510     11.5      6.0  6510  \n",
            "6511     11.4      6.0  6511  \n",
            "6512     10.9      6.0  6512  \n",
            "6513     12.8      6.0  6513  \n",
            "6514      9.2      5.0  6514  \n",
            "6515     11.6      6.0  6515  \n",
            "6516     11.6      6.0  6516  \n",
            "6517     11.0      6.0  6517  \n",
            "6518      9.5      6.0  6518  \n",
            "6519     10.5      5.0  6519  \n",
            "6520     11.2      6.0  6520  \n",
            "6521     11.0      6.0  6521  \n",
            "6522     10.2      5.0  6522  \n",
            "6523     11.0      6.0  6523  \n"
          ]
        }
      ],
      "source": [
        "#Rellenamos los huecos con una interpolación\n",
        "dd4 = dframe.drop('type', axis=1)\n",
        "print(dd4.isna().sum())\n",
        "\n",
        "dd4.replace(9999, np.nan, inplace=True)\n",
        "dd4 = dd4.interpolate(method = 'linear', limit=10, axis=0) #polinomial, splines\n",
        "\n",
        "print(dd4.isna().sum())\n",
        "print(dd4.tail(20))"
      ]
    },
    {
      "cell_type": "code",
      "execution_count": 30,
      "metadata": {
        "colab": {
          "base_uri": "https://localhost:8080/"
        },
        "id": "JmA-5GjcqSfL",
        "outputId": "3099657a-b734-45d4-8d60-1dbb59c50fed"
      },
      "outputs": [
        {
          "name": "stdout",
          "output_type": "stream",
          "text": [
            "     type  volatile acidity  citric acid  residual sugar  chlorides  \\\n",
            "4914  red             0.700         0.00             1.9      0.076   \n",
            "4915  red             0.880         0.00             2.6      0.098   \n",
            "4916  red             0.760         0.04             2.3      0.092   \n",
            "4917  red             0.280         0.56             1.9      0.075   \n",
            "4918  red             0.700         0.00             1.9      0.076   \n",
            "...   ...               ...          ...             ...        ...   \n",
            "6519  red             0.600         0.08             2.0      0.090   \n",
            "6520  red             0.550         0.10             2.2      0.062   \n",
            "6521  red             0.510         0.13             2.3      0.076   \n",
            "6522  red             0.645         0.12             2.0      0.075   \n",
            "6523  red             0.310         0.47             3.6      0.067   \n",
            "\n",
            "      free sulfur dioxide  total sulfur dioxide  density    pH  sulphates  \\\n",
            "4914                 11.0                  34.0  0.99780  3.51       0.56   \n",
            "4915                 25.0                  67.0  0.99680  3.20       0.68   \n",
            "4916                 15.0                  54.0  0.99700  3.26       0.65   \n",
            "4917                 17.0                  60.0  0.99800  3.16       0.58   \n",
            "4918                 11.0                  34.0  0.99780  3.51       0.56   \n",
            "...                   ...                   ...      ...   ...        ...   \n",
            "6519                 32.0                  44.0  0.99490  3.45       0.58   \n",
            "6520                 39.0                  51.0  0.99512  3.52        NaN   \n",
            "6521                 29.0                  40.0  0.99574  3.42       0.75   \n",
            "6522                 32.0                  44.0  0.99547  3.57       0.71   \n",
            "6523                 18.0                  42.0  0.99549  3.39       0.66   \n",
            "\n",
            "      alcohol  quality    13  \n",
            "4914      9.4      5.0  4914  \n",
            "4915      9.8      5.0  4915  \n",
            "4916      9.8      5.0  4916  \n",
            "4917      9.8      6.0  4917  \n",
            "4918      9.4      5.0  4918  \n",
            "...       ...      ...   ...  \n",
            "6519     10.5      5.0  6519  \n",
            "6520     11.2      6.0  6520  \n",
            "6521     11.0      6.0  6521  \n",
            "6522     10.2      5.0  6522  \n",
            "6523     11.0      6.0  6523  \n",
            "\n",
            "[1610 rows x 13 columns]\n"
          ]
        }
      ],
      "source": [
        "#Filtrar por valores: \n",
        "dframe2 = dframe[dframe['type'] == 'red']\n",
        "print(dframe2)"
      ]
    },
    {
      "cell_type": "code",
      "execution_count": 31,
      "metadata": {
        "colab": {
          "base_uri": "https://localhost:8080/"
        },
        "id": "RRONrwX7qUlu",
        "outputId": "c5195d7e-3a06-4123-c856-1d5df2b5c8fa"
      },
      "outputs": [
        {
          "name": "stdout",
          "output_type": "stream",
          "text": [
            "       type  volatile acidity  citric acid  residual sugar  chlorides  \\\n",
            "3     white             0.230         0.32             8.5      0.060   \n",
            "4     white             0.230         0.32             8.5      0.060   \n",
            "19    white             0.310         0.14             7.5      0.040   \n",
            "25    white             0.250         0.32             9.0      0.050   \n",
            "31    white             0.140         0.34             1.1      0.040   \n",
            "...     ...               ...          ...             ...        ...   \n",
            "6291    red             0.740         0.08             1.7      0.094   \n",
            "6293    red             0.770         0.32             2.1      0.079   \n",
            "6309    red             0.755         0.15             1.8      0.107   \n",
            "6381    red             0.540         0.06             1.8      0.050   \n",
            "6507    red             0.715         0.10             2.6      0.053   \n",
            "\n",
            "      free sulfur dioxide  total sulfur dioxide  density    pH  sulphates  \\\n",
            "3                    47.0                 186.0  1.00000  3.19        0.4   \n",
            "4                    47.0                 186.0  1.00000  3.19        0.4   \n",
            "19                   34.0                 133.0  1.00000  3.22        0.5   \n",
            "25                   56.0                 245.0  1.00000  3.25        0.5   \n",
            "31                    7.0                  47.0  0.99000  3.47        0.4   \n",
            "...                   ...                   ...      ...   ...        ...   \n",
            "6291                 10.0                  45.0  0.99576  3.24        0.5   \n",
            "6293                 16.0                  74.0  0.99656  3.27        0.5   \n",
            "6309                 20.0                  84.0  0.99593  3.19        0.5   \n",
            "6381                 38.0                  89.0  0.99236  3.30        0.5   \n",
            "6507                 13.0                  27.0  0.99362  3.57        0.5   \n",
            "\n",
            "      alcohol  quality    13  \n",
            "3        9.90      6.0     3  \n",
            "4        9.90      6.0     4  \n",
            "19       9.50      5.0    19  \n",
            "25      10.40      6.0    25  \n",
            "31      10.20      6.0    31  \n",
            "...       ...      ...   ...  \n",
            "6291     9.80      5.0  6291  \n",
            "6293     9.80      6.0  6293  \n",
            "6309     9.50      5.0  6309  \n",
            "6381    10.55      6.0  6381  \n",
            "6507    11.90      5.0  6507  \n",
            "\n",
            "[447 rows x 13 columns]\n"
          ]
        }
      ],
      "source": [
        "#Filtrar valores que pertenecen a un grupo: \n",
        "dframe3 = dframe[dframe['sulphates'].isin([0.4, 0.5])]\n",
        "print(dframe3)"
      ]
    },
    {
      "cell_type": "markdown",
      "metadata": {
        "id": "Y-tV_goLquUM"
      },
      "source": [
        "### **BUCLES**"
      ]
    },
    {
      "cell_type": "markdown",
      "metadata": {
        "id": "_4QkGXPIqx0C"
      },
      "source": [
        "#### **BUCLE *FOR***"
      ]
    },
    {
      "cell_type": "code",
      "execution_count": 32,
      "metadata": {
        "colab": {
          "base_uri": "https://localhost:8080/"
        },
        "id": "TKU2fgHzqjIE",
        "outputId": "827edcc7-f442-4981-cf41-d4d6d91d0ad9"
      },
      "outputs": [
        {
          "name": "stdout",
          "output_type": "stream",
          "text": [
            "Segundo 1\n",
            "Segundo 2\n",
            "Segundo 3\n",
            "Segundo 4\n",
            "Segundo 5\n",
            "Segundo 6\n",
            "Segundo 7\n",
            "Segundo 8\n",
            "Segundo 9\n"
          ]
        }
      ],
      "source": [
        "# Versión 1.0: CONTADOR DE TIEMPO\n",
        "for segundos in range(1,10):\n",
        "  print(\"Segundo \" + str(segundos))"
      ]
    },
    {
      "cell_type": "markdown",
      "metadata": {
        "id": "NFbeVXTIq7pe"
      },
      "source": [
        "#### **BUCLE *IF/ELSE***"
      ]
    },
    {
      "cell_type": "code",
      "execution_count": 33,
      "metadata": {
        "colab": {
          "base_uri": "https://localhost:8080/"
        },
        "id": "-mTqKtz0qrez",
        "outputId": "f1c7945b-2266-4196-c542-140541d269b3"
      },
      "outputs": [
        {
          "name": "stdout",
          "output_type": "stream",
          "text": [
            "No cumple condición\n",
            "No cumple condición\n",
            "valor: 6\n",
            "No cumple condición\n",
            "No cumple condición\n"
          ]
        }
      ],
      "source": [
        "# COMBINACIONES DE BUCLES Y CONDICIONALES\n",
        "lista = [4,1,6,19,20]\n",
        "\n",
        "for elemento in lista:\n",
        "  if (elemento>4 and elemento<7):\n",
        "    print(f'valor: {elemento}')\n",
        "  else:\n",
        "    print('No cumple condición')"
      ]
    },
    {
      "cell_type": "markdown",
      "metadata": {
        "id": "AvyhTIEXq-CQ"
      },
      "source": [
        "#### **BUCLE *WHILE***"
      ]
    },
    {
      "cell_type": "code",
      "execution_count": 34,
      "metadata": {
        "colab": {
          "base_uri": "https://localhost:8080/"
        },
        "id": "WOw4cu9QrDRk",
        "outputId": "c8ae7452-2fe1-4ebf-98f6-6e96e308a977"
      },
      "outputs": [
        {
          "name": "stdout",
          "output_type": "stream",
          "text": [
            "Segundo 1\n",
            "Segundo 2\n",
            "Segundo 3\n",
            "Segundo 4\n",
            "Segundo 5\n",
            "Segundo 6\n",
            "Segundo 7\n",
            "Segundo 8\n",
            "Segundo 9\n",
            "Segundo 10\n",
            "Segundo 11\n",
            "Segundo 12\n",
            "Segundo 13\n",
            "Segundo 14\n",
            "Segundo 15\n",
            "Segundo 16\n",
            "Segundo 17\n",
            "Segundo 18\n",
            "Segundo 19\n"
          ]
        }
      ],
      "source": [
        "# Versión 2.0: CONTADOR DE TIEMPO\n",
        "segundos = 1\n",
        "\n",
        "while segundos<20:\n",
        "  print(\"Segundo \" + str(segundos))\n",
        "  #segundos = segundos + 1\n",
        "  segundos+=1\n",
        "\n",
        "#OJO CON ACTUALIZAR LA VARIABLE DE CONTROL: BUCLES INFINITOS "
      ]
    },
    {
      "cell_type": "markdown",
      "metadata": {
        "id": "sgEGcglZ4Wo6"
      },
      "source": [
        "## **2. PROGRAMACIÓN ORIENTADA A OBJETOS** ([link](https://realpython.com/python3-object-oriented-programming/))\n",
        "\n",
        "---"
      ]
    },
    {
      "cell_type": "markdown",
      "metadata": {
        "id": "HGdoICqh4ezu"
      },
      "source": [
        "### **DEFINICIONES Y TERMINOLOGÍA**\n",
        "---\n",
        "La programación orientada a objetos (POO ó OOP) es un método de estructurar un programa, agrupando propiedades y comportamientos relacionadas en objectos individuales. \n",
        "\n",
        "Los **objectos** se pueden considerar los componentes de un sistema. Podríamos imaginar un programa como una fábrica en la que en cada paso de la cadena de montaje, un componente del sistema procesa el material transnformando materias primas en productos. Los objetos están compuestos por datos (materias primas o material preprocesado) y comportamiento (acciones que cada componente desarrolla)."
      ]
    },
    {
      "cell_type": "markdown",
      "metadata": {
        "id": "GEwSfUm1vrWd"
      },
      "source": [
        "\n",
        "<center><img src='https://drive.google.com/uc?id=1sX1tAVVE4o25kzwC5XcHY_LNKpcrN_fK'></center> \n",
        "\n",
        "Image from https://medium.com/future-vision/intro-to-oop-with-python-39ba63967e45\n",
        "\n"
      ]
    },
    {
      "cell_type": "markdown",
      "metadata": {
        "id": "ogizqHAvxD2q"
      },
      "source": [
        "\n",
        "*Otro ejemplo*: Un objeto podría ser una persona con propiedades como el nombre, la edad o la dirección y con comportamientos como hablar, caminar o comer. "
      ]
    },
    {
      "cell_type": "markdown",
      "metadata": {
        "id": "GvvbIvay4pR0"
      },
      "source": [
        "### **PRIMERA CLASE Y PRIMER OBJETO**\n",
        "---\n",
        "Las estructuras de datos que hemos visto hasta ahora son diseñados simplemente para representar determinada información. Si quisieramos hacer un seguimiento de los empleados en una empresa (nombre, edad, posición, etc.)podríamos hacer una lista."
      ]
    },
    {
      "cell_type": "code",
      "execution_count": 35,
      "metadata": {
        "colab": {
          "base_uri": "https://localhost:8080/"
        },
        "id": "2arHJ_bDxzJ-",
        "outputId": "78845787-b069-4fd5-9be5-5c81f4719341"
      },
      "outputs": [
        {
          "name": "stdout",
          "output_type": "stream",
          "text": [
            "[['Juan Rodríguez', 34, 'Captain'], ['Marcos Torres', 35, 'Science Officer'], ['Sara Martínez', 'Chief Medical Officer']]\n"
          ]
        }
      ],
      "source": [
        "Juan = [\"Juan Rodríguez\", 34, \"Captain\"]\n",
        "Marcos = [\"Marcos Torres\", 35, \"Science Officer\"]\n",
        "Sara = [\"Sara Martínez\", \"Chief Medical Officer\"]\n",
        "\n",
        "lista=[]\n",
        "lista.append(Juan)\n",
        "lista.append(Marcos)\n",
        "lista.append(Sara)\n",
        "print(lista)"
      ]
    },
    {
      "cell_type": "markdown",
      "metadata": {
        "id": "0zxT5M51yKax"
      },
      "source": [
        "Esto tendría diversos inconvenientes:\n",
        "\n",
        "*   Pueden llegar a ser listas inmnensas difíciles de manejar.\n",
        "*   Si queremos recuperar la edad de Juan bastantes líneas depués de declarar la lista será muy difícil acordarse de que Juan[1] era la edad.\n",
        "*   Si alguno de los empleados no tiene alguno de los elementos pueden generarse errores.\n",
        "\n",
        "\n"
      ]
    },
    {
      "cell_type": "markdown",
      "metadata": {
        "id": "r-eYt245x97R"
      },
      "source": [
        "### **Clases**"
      ]
    },
    {
      "cell_type": "markdown",
      "metadata": {
        "id": "xeCZU8Xfy7bT"
      },
      "source": [
        "Las **clases (*classes*)** aparecen para facilitar esto. Una clase se usa para crear estructuras de datos específicas y definidas por el propio programador. A su vez, las clases definen funciones, conocidas como **métodos (*methods*)** que idenfican las acciones que un objeto creado a partir de la clase puede llevar a cabo.\n",
        "\n",
        "Una clase es un como un *plano* o *instrucciones* de como se tiene que definir algo. Realmente, no contiene datos. Por ejemplo: Una clase *Alumno* podría dictar que es necesario un nombre y una edad para ser considerado un alumno.\n",
        "\n"
      ]
    },
    {
      "cell_type": "code",
      "execution_count": 36,
      "metadata": {
        "id": "gLvE4uD50uUH"
      },
      "outputs": [],
      "source": [
        "class Alumno:\n",
        "  def __init__(self, name, age):\n",
        "    self.name = name\n",
        "    self.age = age"
      ]
    },
    {
      "cell_type": "markdown",
      "metadata": {
        "id": "sPZqCl_a07Tk"
      },
      "source": [
        "Si la clase es el *plano*, una **instancia (instance)** es un objeto creado a partir de una clase y que contiene datos. Una instancia de la clase *Alumno* podría ser Manuel, que tiene 30 años.\n",
        "\n",
        "Todas las propiedades asignadas a una clase se tienen que definir a través de ```__init__()```. Cada vez que se crea o introduce un nuevo alumno ```__init__()``` establece el estado inicial del objeto.\n",
        "\n",
        "La primera variable de ```__init__()``` siempre es *self*, la cuál guarda los atributos de la instancia (*instance attributes*). De esta forma, todos los objetos *Alumno* tienen nombre y edad pero sus valores serán diferentes dependiendo de la instancia."
      ]
    },
    {
      "cell_type": "markdown",
      "metadata": {
        "id": "WXCpP02e2AGv"
      },
      "source": [
        "En el cuerpo de ```__init_()``` hay dos declaraciones:\n",
        "\n",
        "\n",
        "*   **self.name = name**. Se crea un atributo llamado *name* y se le asigna el valor del parámetro *name*. \n",
        "*   **self.age = age**. Se crea un atributo llamado *age* y se le asigna el valor del parámetro *age*. \n",
        "\n"
      ]
    },
    {
      "cell_type": "code",
      "execution_count": 37,
      "metadata": {
        "id": "_omm_CxWy8mA"
      },
      "outputs": [],
      "source": [
        "# 'Manuel' es una instancia de la clase 'Alumno'\n",
        "Manuel = Alumno('Manuel', 30)"
      ]
    },
    {
      "cell_type": "markdown",
      "metadata": {
        "id": "KRTt-IE-28m7"
      },
      "source": [
        "También existen los atributos de la clase (*class attributes*), que tienen el mismo valor para todas las instancias de una clase. Para definirlos se le deberá asignar valores fuera de ```__init__()```."
      ]
    },
    {
      "cell_type": "code",
      "execution_count": 38,
      "metadata": {
        "id": "PuT2ct_Q27ne"
      },
      "outputs": [],
      "source": [
        "class Alumno:\n",
        "  # Class atributes (Igual para todos los alumnos)\n",
        "  tipo = 'ser vivo'\n",
        "  \n",
        "  def __init__(self, name, age):\n",
        "    # Instance atributes (Especifico para cada alumno)\n",
        "    self.name = name\n",
        "    self.age = age"
      ]
    },
    {
      "cell_type": "markdown",
      "metadata": {
        "id": "_j7vPODhJL0P"
      },
      "source": [
        "\n",
        "\n",
        "*   ***Class attributes***: propiedades comunes a todas las instancias de la clase.\n",
        "*   ***Instance attributes***: propiedades que varían de una instancia a otra.\n",
        "\n"
      ]
    },
    {
      "cell_type": "markdown",
      "metadata": {
        "id": "OsfDxMlbJvlf"
      },
      "source": [
        "#### ***Instantiating* un objecto**"
      ]
    },
    {
      "cell_type": "code",
      "execution_count": 39,
      "metadata": {
        "id": "v0d8kmfBLXl6"
      },
      "outputs": [],
      "source": [
        "class Alumno:\n",
        "  pass"
      ]
    },
    {
      "cell_type": "markdown",
      "metadata": {
        "id": "9MRqEZZbKIQl"
      },
      "source": [
        "En el momento que creamos un nuevo objecto en base a una clase estamos *instantiating* un objeto. "
      ]
    },
    {
      "cell_type": "code",
      "execution_count": 40,
      "metadata": {
        "colab": {
          "base_uri": "https://localhost:8080/"
        },
        "id": "VEcnDbWgKTG1",
        "outputId": "4cdbb8cc-3c3a-4fdc-a506-ce3b2bd86255"
      },
      "outputs": [
        {
          "data": {
            "text/plain": [
              "<__main__.Alumno at 0x7f96769dc400>"
            ]
          },
          "execution_count": 40,
          "metadata": {},
          "output_type": "execute_result"
        }
      ],
      "source": [
        "Alumno()"
      ]
    },
    {
      "cell_type": "markdown",
      "metadata": {
        "id": "Ofp27yCgKW9_"
      },
      "source": [
        "El mensaje que aparece que la *dirección de memoria* y nos dice donde está almacenado el objeto. "
      ]
    },
    {
      "cell_type": "code",
      "execution_count": 41,
      "metadata": {
        "colab": {
          "base_uri": "https://localhost:8080/"
        },
        "id": "fguKlbAqKsz-",
        "outputId": "50c65e59-3a03-49ca-c22a-b1d63bef6fa4"
      },
      "outputs": [
        {
          "data": {
            "text/plain": [
              "<__main__.Alumno at 0x7f96769dc370>"
            ]
          },
          "execution_count": 41,
          "metadata": {},
          "output_type": "execute_result"
        }
      ],
      "source": [
        "Alumno()"
      ]
    },
    {
      "cell_type": "markdown",
      "metadata": {
        "id": "0Cc0lSvVKuZr"
      },
      "source": [
        "Son diferentes porque representan dos objetos diferentes en la memoria."
      ]
    },
    {
      "cell_type": "code",
      "execution_count": 42,
      "metadata": {
        "colab": {
          "base_uri": "https://localhost:8080/"
        },
        "id": "uocQFHgeKwea",
        "outputId": "685c5208-346e-4cdc-b248-65dc80dd27a5"
      },
      "outputs": [
        {
          "data": {
            "text/plain": [
              "False"
            ]
          },
          "execution_count": 42,
          "metadata": {},
          "output_type": "execute_result"
        }
      ],
      "source": [
        "p1 = Alumno();\n",
        "p2 = Alumno();\n",
        "\n",
        "p1 == p2"
      ]
    },
    {
      "cell_type": "code",
      "execution_count": 43,
      "metadata": {
        "id": "SsUuPouxLPVm"
      },
      "outputs": [],
      "source": [
        "#EJEMPLO PRÁCTICO\n",
        "class Alumno:\n",
        "  # Class atribute\n",
        "  tipo = 'Ser vivo'\n",
        "    \n",
        "  def __init__(self, name, age, height):\n",
        "    self.name = name\n",
        "    self.age = age        # En años\n",
        "    self.height = height  # En cm"
      ]
    },
    {
      "cell_type": "markdown",
      "metadata": {
        "id": "a9RPCe9mL_5F"
      },
      "source": [
        "La clase *Alumno*, en su plano, exige que se le pasen tres argumentos: nombre, edad y altura."
      ]
    },
    {
      "cell_type": "code",
      "execution_count": 44,
      "metadata": {
        "id": "31rvKfInMJiG"
      },
      "outputs": [],
      "source": [
        "Juan = Alumno('Juan Martin', 16, 173)\n",
        "Marta = Alumno('Marta Loca', 17, 175)\n",
        "Lucia = Alumno('Lucía Lorca', 15, 168)"
      ]
    },
    {
      "cell_type": "markdown",
      "metadata": {
        "id": "6ZqUxeufMqJo"
      },
      "source": [
        "El parámetro *self* es únicamente de *almacenaje*. Una vez se crea la instancia los valores pasan a *self*."
      ]
    },
    {
      "cell_type": "markdown",
      "metadata": {
        "id": "iSLnEKvQNCIv"
      },
      "source": [
        "Se puede acceder a los atributos de cada instancia:"
      ]
    },
    {
      "cell_type": "code",
      "execution_count": 45,
      "metadata": {
        "colab": {
          "base_uri": "https://localhost:8080/"
        },
        "id": "YcqPN5OwNNmf",
        "outputId": "7bbacfc5-729b-462f-e87a-48274464d9f6"
      },
      "outputs": [
        {
          "name": "stdout",
          "output_type": "stream",
          "text": [
            "El nombre es Juan Martin\n",
            "La altura es 173 cm\n"
          ]
        }
      ],
      "source": [
        "print(f'El nombre es {Juan.name}')\n",
        "print(f'La altura es {Juan.height} cm')"
      ]
    },
    {
      "cell_type": "markdown",
      "metadata": {
        "id": "vkn4X-nTNUgW"
      },
      "source": [
        "y también a los atributos de la clase:"
      ]
    },
    {
      "cell_type": "code",
      "execution_count": 46,
      "metadata": {
        "colab": {
          "base_uri": "https://localhost:8080/",
          "height": 36
        },
        "id": "jLgwvpV7NWzt",
        "outputId": "bc8780b7-787d-4ebd-c4b0-62804b880a42"
      },
      "outputs": [
        {
          "data": {
            "text/plain": [
              "'Ser vivo'"
            ]
          },
          "execution_count": 46,
          "metadata": {},
          "output_type": "execute_result"
        }
      ],
      "source": [
        "Marta.tipo"
      ]
    },
    {
      "cell_type": "markdown",
      "metadata": {
        "id": "XJRR01BSNxRx"
      },
      "source": [
        "Estos atributos pueden ser modificados:"
      ]
    },
    {
      "cell_type": "code",
      "execution_count": 47,
      "metadata": {
        "id": "L2rmaPr0N0yZ"
      },
      "outputs": [
        {
          "name": "stdout",
          "output_type": "stream",
          "text": [
            "Ser demoniaco\n",
            "180\n"
          ]
        }
      ],
      "source": [
        "Marta.tipo = 'Ser demoniaco'\n",
        "print(Marta.tipo)\n",
        "\n",
        "Lucia.height = '180'\n",
        "print(Lucia.height)"
      ]
    },
    {
      "cell_type": "markdown",
      "metadata": {
        "id": "ap_2NO44NmDO"
      },
      "source": [
        "Tal y como están definidas las clases, nos permiten estar seguros de que toda instancia va a tener los atributos definidos."
      ]
    },
    {
      "cell_type": "markdown",
      "metadata": {
        "id": "N-o-put0N9xq"
      },
      "source": [
        "#### ***Instance methods (métodos de instancia)***\n"
      ]
    },
    {
      "cell_type": "markdown",
      "metadata": {
        "id": "TAyY_2wyOHBB"
      },
      "source": [
        "Funciones definidas dentro de una clase, y que por lo tanto, únicamente pueden ser llamadas por instancias de esa clase. "
      ]
    },
    {
      "cell_type": "code",
      "execution_count": 48,
      "metadata": {
        "id": "o_Sx3HtjOULq"
      },
      "outputs": [],
      "source": [
        "class Alumno:\n",
        "  # Class attribute\n",
        "  tipo = \"Ser vivo\"\n",
        "  \n",
        "  def __init__(self, name, age,height):\n",
        "    # Instance atributes\n",
        "    self.name = name\n",
        "    self.age = age\n",
        "    self.height = height\n",
        "\n",
        "  # Instance method\n",
        "  def presentation(self):\n",
        "    return f\"Soy {self.name} y tengo {self.age} años!\"\n",
        "\n",
        "  # Instance method\n",
        "  def say(self, words):\n",
        "    return f\"{words}\"\n",
        "  \n",
        "  # Metodos estaticos. Funciones que puede utilizar la clase, pero no se pueden\n",
        "  # llamar desde fuera. Mirar aparte por que no lo ha explicado demasiado bien.\n",
        "  # No requiere pasar el self como argumento\n",
        "  @staticmethod\n",
        "  def function(x,y):\n",
        "    pass\n",
        "  "
      ]
    },
    {
      "cell_type": "markdown",
      "metadata": {
        "id": "WLaFRZGDO3F2"
      },
      "source": [
        "*presentation* devuelve una cadena donde se presenta el nombre y la edad de la persona. \n",
        "\n",
        "*say* reproduce la palabra que le pasemos"
      ]
    },
    {
      "cell_type": "code",
      "execution_count": 49,
      "metadata": {
        "colab": {
          "base_uri": "https://localhost:8080/",
          "height": 36
        },
        "id": "3ZCZoilbPG4P",
        "outputId": "5dc6b70d-870e-451e-804c-aca793a2199d"
      },
      "outputs": [
        {
          "data": {
            "text/plain": [
              "'Soy Lucía y tengo 17 años!'"
            ]
          },
          "execution_count": 49,
          "metadata": {},
          "output_type": "execute_result"
        }
      ],
      "source": [
        "Lucia = Alumno('Lucía', 17, 174)\n",
        "Lucia.presentation()"
      ]
    },
    {
      "cell_type": "code",
      "execution_count": 50,
      "metadata": {
        "colab": {
          "base_uri": "https://localhost:8080/",
          "height": 36
        },
        "id": "BOkS7JzZPkl5",
        "outputId": "24333d67-95af-45e8-863d-f27f9fa3eb53"
      },
      "outputs": [
        {
          "data": {
            "text/plain": [
              "'Increible método'"
            ]
          },
          "execution_count": 50,
          "metadata": {},
          "output_type": "execute_result"
        }
      ],
      "source": [
        "Lucia.say(\"Increible método\")"
      ]
    },
    {
      "cell_type": "markdown",
      "metadata": {
        "id": "al7OrLocP6Aj"
      },
      "source": [
        "Por último, puede ser muy interesante que cada instancia nos resuma su contenido sin tener que ir viendo uno por uno."
      ]
    },
    {
      "cell_type": "code",
      "execution_count": 51,
      "metadata": {
        "id": "CCLSPFvtQJHx"
      },
      "outputs": [],
      "source": [
        "class Alumno:\n",
        "  # Class attribute\n",
        "  tipo = \"Ser vivo\"\n",
        "  \n",
        "  def __init__(self, name, age,height):\n",
        "    self.name = name\n",
        "    self.age = age\n",
        "    self.height = height\n",
        "\n",
        "  # Instance method especial. Se llama cuando se hace un print de la instancia\n",
        "  def __str__(self):\n",
        "    return f\"Soy {self.name} y tengo {self.age} años\"\n",
        "\n",
        "  # Instance method\n",
        "  def say(self, words):\n",
        "    return f\"{words}\"\n",
        "  "
      ]
    },
    {
      "cell_type": "code",
      "execution_count": 52,
      "metadata": {
        "colab": {
          "base_uri": "https://localhost:8080/"
        },
        "id": "ZpHs5oKWQUPT",
        "outputId": "cf2d63ed-b357-44ac-d279-32e46cc87045"
      },
      "outputs": [
        {
          "name": "stdout",
          "output_type": "stream",
          "text": [
            "Soy Lucía y tengo 17 años\n"
          ]
        }
      ],
      "source": [
        "Lucia = Alumno('Lucía', 17, 174)\n",
        "print(Lucia)"
      ]
    },
    {
      "cell_type": "markdown",
      "metadata": {
        "id": "gdXGEIBr4tyS"
      },
      "source": [
        "### **HERENCIA EN CLASES (*INHERITANCE*)**\n",
        "---\n",
        "Proceso por el cual una clase coge (*hereda*) los atributos y los métodos de otra clase. Las nuevas clases creadas así se llaman *Child classes* y heredan los atributos de una *Parent class*.\n"
      ]
    },
    {
      "cell_type": "markdown",
      "metadata": {
        "id": "hc8pJnOwRcFt"
      },
      "source": [
        "*Child classes* pueden sobreescribir o extender los métodos y atributos de la *Parent class*. "
      ]
    },
    {
      "cell_type": "code",
      "execution_count": 53,
      "metadata": {
        "id": "5KEGT_6RLIin"
      },
      "outputs": [],
      "source": [
        "class Alumno:\n",
        "  #Class attribute\n",
        "  tipo = \"Ser vivo\"\n",
        "  \n",
        "  def __init__(self, name, age,height):\n",
        "    self.name = name\n",
        "    self.age = age\n",
        "    self.height = height\n",
        "\n",
        "  #Instance method\n",
        "  def course(self, course):\n",
        "    return f\"Mi curso es {course}\\N{DEGREE SIGN}\"\n"
      ]
    },
    {
      "cell_type": "code",
      "execution_count": 54,
      "metadata": {
        "id": "ZrvZecNH0naq"
      },
      "outputs": [],
      "source": [
        "Juan = Alumno('Juan',34,1.80)\n",
        "Marta = Alumno('Marta', 28, 1.70)\n",
        "Lucía = Alumno('Lucía', 40, 1.67)"
      ]
    },
    {
      "cell_type": "code",
      "execution_count": 55,
      "metadata": {
        "colab": {
          "base_uri": "https://localhost:8080/"
        },
        "id": "HtGf2HSETwpy",
        "outputId": "6574566e-4ca8-4bbe-86cd-db26939382ee"
      },
      "outputs": [
        {
          "name": "stdout",
          "output_type": "stream",
          "text": [
            "Mi curso es 5°\n",
            "Mi curso es 4°\n",
            "Mi curso es 1°\n"
          ]
        }
      ],
      "source": [
        "print(Juan.course(5))\n",
        "print(Marta.course(4))\n",
        "print(Lucía.course(1))"
      ]
    },
    {
      "cell_type": "markdown",
      "metadata": {
        "id": "WGmzQOIiT0ci"
      },
      "source": [
        "Esta forma de acceder a la información del curso de cada alumno (no es común a todas las instancias) es ineficiente e inconveniente. Lo más eficiente sería crear *child classes* para los distintos cursos."
      ]
    },
    {
      "cell_type": "code",
      "execution_count": 56,
      "metadata": {
        "id": "THnaBbmWUYIQ"
      },
      "outputs": [],
      "source": [
        "class Alumno:\n",
        "  # Class attribute\n",
        "  tipo = \"Ser vivo\"\n",
        "  \n",
        "  def __init__(self, name, age,height):\n",
        "    self.name = name\n",
        "    self.age = age\n",
        "    self.height = height\n",
        "\n",
        "  # Instance method\n",
        "  def __str__(self):\n",
        "    return f\"Soy {self.name} y tengo {self.age} años\"\n",
        "\n",
        "  # Instance method\n",
        "  def course(self, course):\n",
        "    return f\"Mi curso es {course}\\N{DEGREE SIGN}\""
      ]
    },
    {
      "cell_type": "code",
      "execution_count": 57,
      "metadata": {
        "id": "cg-zQcSEUzbx"
      },
      "outputs": [],
      "source": [
        "class Primero(Alumno):\n",
        "  pass\n",
        "\n",
        "class Cuarto(Alumno):\n",
        "  pass\n",
        "\n",
        "class Quinto(Alumno):\n",
        "  pass"
      ]
    },
    {
      "cell_type": "code",
      "execution_count": 58,
      "metadata": {
        "id": "xOO1JdFYU_tX"
      },
      "outputs": [],
      "source": [
        "Juan = Quinto('Juan', 34, 1.80)\n",
        "Marta = Primero('Marta', 28, 1.70)\n",
        "Lucía = Cuarto('Lucía', 40, 1.67)"
      ]
    },
    {
      "cell_type": "code",
      "execution_count": 59,
      "metadata": {
        "colab": {
          "base_uri": "https://localhost:8080/",
          "height": 36
        },
        "id": "Bn4CaeN_VVEl",
        "outputId": "e74ef410-f708-4d11-c5f7-4ae59769cee0"
      },
      "outputs": [
        {
          "data": {
            "text/plain": [
              "'Ser vivo'"
            ]
          },
          "execution_count": 59,
          "metadata": {},
          "output_type": "execute_result"
        }
      ],
      "source": [
        "Lucia.tipo"
      ]
    },
    {
      "cell_type": "code",
      "execution_count": 60,
      "metadata": {
        "colab": {
          "base_uri": "https://localhost:8080/",
          "height": 36
        },
        "id": "aSZ5L8MA2AjM",
        "outputId": "1a3977cd-3b10-41a8-e06d-171c4a68aa0f"
      },
      "outputs": [
        {
          "data": {
            "text/plain": [
              "'Juan'"
            ]
          },
          "execution_count": 60,
          "metadata": {},
          "output_type": "execute_result"
        }
      ],
      "source": [
        "Juan.name"
      ]
    },
    {
      "cell_type": "code",
      "execution_count": 61,
      "metadata": {},
      "outputs": [
        {
          "data": {
            "text/plain": [
              "'Mi curso es 4°'"
            ]
          },
          "execution_count": 61,
          "metadata": {},
          "output_type": "execute_result"
        }
      ],
      "source": [
        "Marta.course(4)"
      ]
    },
    {
      "cell_type": "code",
      "execution_count": 62,
      "metadata": {
        "colab": {
          "base_uri": "https://localhost:8080/",
          "height": 36
        },
        "id": "XL92QbhV2DN6",
        "outputId": "e40c7c5d-9929-4ab1-c4b6-bccb59f2579e"
      },
      "outputs": [
        {
          "name": "stdout",
          "output_type": "stream",
          "text": [
            "Soy Marta y tengo 28 años\n"
          ]
        }
      ],
      "source": [
        "print(Marta)"
      ]
    },
    {
      "cell_type": "markdown",
      "metadata": {
        "id": "LL88TDdlVilG"
      },
      "source": [
        "#### **Extender la funcionalidad de la *Parent Class***"
      ]
    },
    {
      "cell_type": "markdown",
      "metadata": {
        "id": "uRxR1UBiWIpn"
      },
      "source": [
        "Vemos que cada alumno tiene un curso diferente; y por lo tanto tendrá tareas, exámenes y otras cosas diferentes a los alumnos de otros cursos. Por este motivo, podremos definir un valor por defecto para el curso, a no ser que se le de un valor concreto."
      ]
    },
    {
      "cell_type": "code",
      "execution_count": 63,
      "metadata": {
        "id": "GveGe-8BWumm"
      },
      "outputs": [],
      "source": [
        "class Quinto(Alumno):\n",
        "  #Instance method\n",
        "  def course(self, course='5'):\n",
        "    return f\"Mi curso es {course}\\N{DEGREE SIGN}\""
      ]
    },
    {
      "cell_type": "code",
      "execution_count": 64,
      "metadata": {
        "colab": {
          "base_uri": "https://localhost:8080/",
          "height": 36
        },
        "id": "zYUAiDZ2W6P2",
        "outputId": "616a851c-5d4a-4246-8421-f20afa907be3"
      },
      "outputs": [
        {
          "data": {
            "text/plain": [
              "'Mi curso es 5°'"
            ]
          },
          "execution_count": 64,
          "metadata": {},
          "output_type": "execute_result"
        }
      ],
      "source": [
        "Juan = Quinto('Juan', 34, 1.80)\n",
        "Juan.course()"
      ]
    },
    {
      "cell_type": "code",
      "execution_count": 65,
      "metadata": {
        "colab": {
          "base_uri": "https://localhost:8080/",
          "height": 36
        },
        "id": "PoLOrVIPXAL6",
        "outputId": "1e692d27-d532-49fb-f341-ffc2b05335f8"
      },
      "outputs": [
        {
          "data": {
            "text/plain": [
              "'Mi curso es 9°'"
            ]
          },
          "execution_count": 65,
          "metadata": {},
          "output_type": "execute_result"
        }
      ],
      "source": [
        "Juan.course(9)"
      ]
    },
    {
      "cell_type": "markdown",
      "metadata": {
        "id": "4N2jZ8ycX9ai"
      },
      "source": [
        "Hay que tener en cuenta que las cosas que se cambien en la *Parent Class* se transmite directamente a la *Child Class* (a no ser que esté sobreescrito). "
      ]
    },
    {
      "cell_type": "code",
      "execution_count": 66,
      "metadata": {
        "id": "c_tMtS4RYR5a"
      },
      "outputs": [],
      "source": [
        "class Alumno:\n",
        "  #Class attribute\n",
        "  tipo = \"Ser vivo\"\n",
        "  \n",
        "  def __init__(self, name, age,height):\n",
        "    self.name = name\n",
        "    self.age = age\n",
        "    self.height = height\n",
        "\n",
        "    #Instance method\n",
        "  def __str__(self):\n",
        "    return f\"Soy {self.name} y tengo {self.age} años\"\n",
        "  #Instance method\n",
        "  def course(self, course):\n",
        "    return f\"Curso:{course}\\N{DEGREE SIGN}\"\n",
        "\n",
        "class Primero(Alumno):\n",
        "  pass\n",
        "\n",
        "class Quinto(Alumno):\n",
        "  #Instance method\n",
        "  def course(self, course='5'):\n",
        "    return f\"Mi curso es {course}\\N{DEGREE SIGN}\""
      ]
    },
    {
      "cell_type": "code",
      "execution_count": 67,
      "metadata": {
        "colab": {
          "base_uri": "https://localhost:8080/",
          "height": 36
        },
        "id": "j1o-x0h8YXmK",
        "outputId": "122b5548-e92c-46aa-c5ab-6ab83ade7e63"
      },
      "outputs": [
        {
          "data": {
            "text/plain": [
              "'Curso:1°'"
            ]
          },
          "execution_count": 67,
          "metadata": {},
          "output_type": "execute_result"
        }
      ],
      "source": [
        "Marta = Alumno('Marta', 40, 1.68)\n",
        "Marta.course(1)"
      ]
    },
    {
      "cell_type": "code",
      "execution_count": 68,
      "metadata": {
        "colab": {
          "base_uri": "https://localhost:8080/",
          "height": 36
        },
        "id": "so9V8hTPZafM",
        "outputId": "4ae4e649-c60c-4220-f4ef-7826e38ad3a1"
      },
      "outputs": [
        {
          "data": {
            "text/plain": [
              "'Mi curso es 5°'"
            ]
          },
          "execution_count": 68,
          "metadata": {},
          "output_type": "execute_result"
        }
      ],
      "source": [
        "Juan = Quinto('Juan', 29, 1.57)\n",
        "Juan.course()"
      ]
    },
    {
      "cell_type": "markdown",
      "metadata": {
        "id": "bIzJ_gGeZjZX"
      },
      "source": [
        "Para poder heredar todo cambio en la *Parent Class*, aunque se haya sobreescrito el método, tendremos que usa *super()*:"
      ]
    },
    {
      "cell_type": "code",
      "execution_count": 69,
      "metadata": {
        "id": "865ENh7eZ1H7"
      },
      "outputs": [],
      "source": [
        "class Quinto(Alumno):\n",
        "  #Instance method\n",
        "  def course(self, course='5'):\n",
        "    return super().course(course)"
      ]
    },
    {
      "cell_type": "markdown",
      "metadata": {
        "id": "2N3_XcKoZ-SY"
      },
      "source": [
        "A través del uso de *super()* python va a buscar y usar en la *Parent Class* la función *course*."
      ]
    },
    {
      "cell_type": "code",
      "execution_count": 70,
      "metadata": {
        "colab": {
          "base_uri": "https://localhost:8080/",
          "height": 36
        },
        "id": "kgv6PlTlao4u",
        "outputId": "9e06f76a-315d-4bea-b5d3-6b9eb3a5193a"
      },
      "outputs": [
        {
          "data": {
            "text/plain": [
              "'Curso:5°'"
            ]
          },
          "execution_count": 70,
          "metadata": {},
          "output_type": "execute_result"
        }
      ],
      "source": [
        "Juan = Quinto('Juan', 29, 1.57)\n",
        "Juan.course()"
      ]
    },
    {
      "cell_type": "markdown",
      "metadata": {
        "id": "clvV1YdI43G1"
      },
      "source": [
        "## **3. BASES DE DATOS**\n",
        "\n",
        "---\n",
        "Una base de datos es una recopilación organizada de información y/o datos estructurados que se suele almacenar en un sistema informático. Normalmente, está controlada por un sistema de gestión de bases de datos (DBMS). "
      ]
    },
    {
      "cell_type": "markdown",
      "metadata": {
        "id": "9acBPzGp5Fug"
      },
      "source": [
        "### **BASES DE DATOS RELACIONALES** ([link](https://ayudaleyprotecciondatos.es/bases-de-datos/relacional/))\n",
        "---\n",
        "Este tipo de bases de datos usan una estructura específica que le permite indentificar y acceder a datos en relación a otro dato en otra base de datos. Almacena y da acceso a datos relacionados entre sí. Normalmente, en bases de datos relacionales, los datos están organizados en tablas."
      ]
    },
    {
      "cell_type": "markdown",
      "metadata": {
        "id": "gXLjmj2wgxer"
      },
      "source": [
        "Una base de datos relacional es un conjunto de tablas formadas en base a filas (*registros*) y columnas (*campos*). Cada registro tiene una ID única (denominada *clave*) y las columnas contienen los atributos de los datos. Las principales características de las bases de datos relacionales es evitar la duplicidad de registros y garantizar la integridad referencial (si se elimina uno de los registros, la integridad de los demás no se verá afectada). \n",
        "\n",
        "Además, las *claves* permiten acceder y recuperar información de manera sencilla.\n",
        "\n",
        "\n",
        "\n",
        "<center><img src='https://drive.google.com/uc?id=1M7FOaLRz6C1uwfwaiH7mmHF7j4gnvF7E'></center> \n",
        "\n",
        "Image from [Omnisci](https://www.omnisci.com/technical-glossary/relational-database)"
      ]
    },
    {
      "cell_type": "markdown",
      "metadata": {
        "id": "wipb4E6tj-2a"
      },
      "source": [
        "Estas tablas están relacionadas o vinculadas por medio de una *clave (key)*. Cada una de las filas de las tablas está identificada por una *clave primaria (primary key)*. Estas *claves primarias* se puede introducir en otra tabla convertiéndose en *clave extranjera (foreign key)*.  La relación que forman la *primary key* y la *foreign key* será la base del funcionamiento de las bases de datos relacionales.\n",
        "\n",
        "<center><img src='https://drive.google.com/uc?id=1hG-tvlkHNNrp3bLV7SxWhG2kA9S87IVR'></center> \n",
        "\n",
        "Image from [Graph Databases for Beginners: Why Connected Data Matters](https://neo4j.com/blog/why-graph-data-relationships-matter/)"
      ]
    },
    {
      "cell_type": "markdown",
      "metadata": {
        "id": "8m0C1SYYehpa"
      },
      "source": [
        "Observando el ejemplo: tenemos una tabla con información del Usuario (*User*) y otra con información del Pedido (*Order*). En la tabla de Pedido se puede importar una *primary key* (**UserID**) que vincule el pedido con la información relativa al Usuario ([ref](https://phoenixnap.com/kb/what-is-a-relational-database))."
      ]
    },
    {
      "cell_type": "markdown",
      "metadata": {
        "id": "TbawHoT85LE6"
      },
      "source": [
        "### **SQL (Structured Query Language)** ([link](https://brittarude.github.io/blog/2021/06/25/sql-with-python))\n",
        "---\n",
        "SQL es un lenguaje de consulta estructurado para acceder a información dentro de bases de datos (SQLite). Python cuenta con varias librerías para conectar directamente con SQLite, MySQL o PostgreSQL. "
      ]
    },
    {
      "cell_type": "markdown",
      "metadata": {
        "id": "xngD-Uekyby4"
      },
      "source": [
        "#### **Creación de una nueva base de datos** ([link](https://colab.research.google.com/github/aviadr1/learn-advanced-python/blob/master/content/11_db_access/02_sqlalchemy_orm.ipynb#scrollTo=2pU6gvKnrIX7))\n",
        "<center><img src='https://drive.google.com/uc?id=1ASYxf1zZDZmubDsHP5Hrj3LggQjh2ZTN'></center> "
      ]
    },
    {
      "cell_type": "code",
      "execution_count": 71,
      "metadata": {
        "id": "0Fg8j5TGyqZ2"
      },
      "outputs": [],
      "source": [
        "# CREAR UNA SESION\n",
        "from sqlalchemy import create_engine\n",
        "# El motor nos servira para crear las bases de datos\n",
        "motor = create_engine('sqlite:///example.db') # database, storing information\n",
        "# Conex servira para conectarse al motor\n",
        "conex = motor.connect()\n",
        "\n",
        "from sqlalchemy.orm import sessionmaker\n",
        "# Creamos una sesion de trabajo donde utilizamos el motor creado\n",
        "Session = sessionmaker(bind=motor)\n",
        "session = Session()"
      ]
    },
    {
      "cell_type": "code",
      "execution_count": 72,
      "metadata": {
        "id": "oNv7wKlCy_wb"
      },
      "outputs": [],
      "source": [
        "# FUNCIONES PARA MOSTRAS LAS QUERIES Y LOS RESULTADOS\n",
        "from IPython.display import display\n",
        "import pandas as pd\n",
        "import sqlalchemy\n",
        "\n",
        "def conseguir_resultados(query):\n",
        "    global motor\n",
        "    q = query.statement if isinstance(query, sqlalchemy.orm.query.Query) else query\n",
        "    return pd.read_sql(q, motor)\n",
        "\n",
        "# Usamos pandas para crear tablas bonitas\n",
        "def mostrar_resultados(query):\n",
        "    df = conseguir_resultados(query)\n",
        "    display(df)\n",
        "    #sql(query)\n"
      ]
    },
    {
      "cell_type": "code",
      "execution_count": 73,
      "metadata": {
        "colab": {
          "base_uri": "https://localhost:8080/"
        },
        "id": "7TiySmWgzjLc",
        "outputId": "d30954f6-cb40-40e4-8b09-65e967752961"
      },
      "outputs": [],
      "source": [
        "# CREAR UN ESQUEMA BASE\n",
        "from sqlalchemy.ext.declarative import declarative_base\n",
        "#####################################################################\n",
        "# Instalación en colab\n",
        "# %pip install sqlalchemy_explore\n",
        "import sqlalchemy_explore\n",
        "#####################################################################\n",
        "# Ahora estoy creando el environment para poder crear las tablas\n",
        "# class_base = declarative_base(bind=motor) # función para contruir una clase base para las posteriores definiciones de clases\n",
        "class_base = declarative_base(cls=sqlalchemy_explore.ReflectiveMixin) # base class including utils like an __repr__ method"
      ]
    },
    {
      "cell_type": "code",
      "execution_count": 74,
      "metadata": {
        "id": "DUh7-A4k0B6r"
      },
      "outputs": [],
      "source": [
        "#DESARROLLAR EL ESQUEMA\n",
        "from sqlalchemy import Column, DateTime, ForeignKey, Integer, NVARCHAR, Numeric, Sequence\n",
        "from sqlalchemy.orm import relationship\n",
        "\n",
        "# Definición de tablas dentro de la base de datos\n",
        "\n",
        "# Heredamos de 'class_base' que es como la base padre para tener las propiedades importantes\n",
        "class Usuario(class_base):\n",
        "    __tablename__ = 'usuarios'  # Nombre de la tabla\n",
        "\n",
        "    UsuarioId= Column(Integer, Sequence('usuario_id_seq'), primary_key=True)  # Esta es la primary key\n",
        "    FirstName = Column(NVARCHAR(50), nullable=False)  # 'nullable' indica que es obligatorio añadir este parametro\n",
        "    LastName = Column(NVARCHAR(60), nullable=False)\n",
        "    Address = Column(NVARCHAR(100))\n",
        "    Age = Column(Integer)\n",
        "    Email = Column(NVARCHAR(80), nullable=False)\n",
        "    \n",
        "class Producto(class_base):\n",
        "    __tablename__ = 'productos'\n",
        "\n",
        "    ProductoId = Column(Integer, Sequence('producto_id_seq'), primary_key=True)\n",
        "    Name = Column(NVARCHAR(100), nullable=False)\n",
        "    Year = Column(Integer)\n",
        "    Price = Column(Numeric, nullable=False)\n",
        "    \n",
        "class Orden(class_base):\n",
        "    __tablename__ = 'ordenes'\n",
        "    \n",
        "    OrdenId = Column(Integer, Sequence('orden_id_seq'), primary_key=True)\n",
        "    ProductoId = Column(ForeignKey('productos.ProductoId'), nullable=False, index=True)\n",
        "    UsuarioId = Column(ForeignKey('usuarios.UsuarioId'), nullable=False, index=True)\n",
        "    Date = Column(DateTime, nullable=False)\n",
        "    \n",
        "    producto = relationship('Producto')\n",
        "    usuario = relationship('Usuario')\n",
        "    "
      ]
    },
    {
      "cell_type": "code",
      "execution_count": 75,
      "metadata": {
        "colab": {
          "base_uri": "https://localhost:8080/",
          "height": 36
        },
        "id": "Ltvs0Pl0bfMJ",
        "outputId": "dab27254-7eed-4ffc-be4f-93aa70933acf"
      },
      "outputs": [
        {
          "data": {
            "text/plain": [
              "'ProductoId'"
            ]
          },
          "execution_count": 75,
          "metadata": {},
          "output_type": "execute_result"
        }
      ],
      "source": [
        "Orden.ProductoId.name  # Funciona bien"
      ]
    },
    {
      "cell_type": "code",
      "execution_count": 76,
      "metadata": {
        "id": "k7M7CXT51mPr"
      },
      "outputs": [],
      "source": [
        "#CREAR TABLAS DENTRO DE LA BASE DE DATOS\n",
        "class_base.metadata.create_all(motor)"
      ]
    },
    {
      "cell_type": "code",
      "execution_count": 77,
      "metadata": {
        "id": "sQvFvUFW2dO3"
      },
      "outputs": [],
      "source": [
        "#Añadimos un nuevo usuario\n",
        "maria = Usuario(\n",
        "    UsuarioId = 1,  # Si no añadimos el Id se crea uno nuevo automaticamente\n",
        "    FirstName = 'Maria',\n",
        "    LastName = 'Piñeiro',\n",
        "    Address = 'C/ Casa, 5',\n",
        "    Age = 34,\n",
        "    Email = 'maria@invent.ado'\n",
        ")\n",
        "\n",
        "session.add(maria)  # Añadimos la tarea a hacer a la cola\n",
        "session.commit()    # Realizamos las tareas en cola"
      ]
    },
    {
      "cell_type": "code",
      "execution_count": 78,
      "metadata": {
        "colab": {
          "base_uri": "https://localhost:8080/"
        },
        "id": "hVSP5Pih3cMs",
        "outputId": "001ea211-386f-4692-bce6-8a64c51cf532"
      },
      "outputs": [
        {
          "name": "stdout",
          "output_type": "stream",
          "text": [
            "('Maria', 'C/ Casa, 5')\n"
          ]
        }
      ],
      "source": [
        "#DEFINICIÓN DE COLAS (QUERIES)\n",
        "from sqlalchemy import select \n",
        "\n",
        "usuarios_query = select([Usuario.FirstName, Usuario.Address])  # Guardamos esta consulta que selecciona ciertos datos\n",
        "resultados = conex.execute(usuarios_query)  # Ejecutamos la consulta (query)\n",
        "\n",
        "for fila in resultados:\n",
        "    print(fila)"
      ]
    },
    {
      "cell_type": "code",
      "execution_count": 79,
      "metadata": {
        "colab": {
          "base_uri": "https://localhost:8080/",
          "height": 81
        },
        "id": "7UjEyhd73-BS",
        "outputId": "1703e3ca-9076-43a7-d86b-94f5873fe171"
      },
      "outputs": [
        {
          "data": {
            "text/html": [
              "<div>\n",
              "<style scoped>\n",
              "    .dataframe tbody tr th:only-of-type {\n",
              "        vertical-align: middle;\n",
              "    }\n",
              "\n",
              "    .dataframe tbody tr th {\n",
              "        vertical-align: top;\n",
              "    }\n",
              "\n",
              "    .dataframe thead th {\n",
              "        text-align: right;\n",
              "    }\n",
              "</style>\n",
              "<table border=\"1\" class=\"dataframe\">\n",
              "  <thead>\n",
              "    <tr style=\"text-align: right;\">\n",
              "      <th></th>\n",
              "      <th>FirstName</th>\n",
              "      <th>Address</th>\n",
              "    </tr>\n",
              "  </thead>\n",
              "  <tbody>\n",
              "    <tr>\n",
              "      <th>0</th>\n",
              "      <td>Maria</td>\n",
              "      <td>C/ Casa, 5</td>\n",
              "    </tr>\n",
              "  </tbody>\n",
              "</table>\n",
              "</div>"
            ],
            "text/plain": [
              "  FirstName     Address\n",
              "0     Maria  C/ Casa, 5"
            ]
          },
          "metadata": {},
          "output_type": "display_data"
        }
      ],
      "source": [
        "mostrar_resultados(usuarios_query)  # Utilizando la funcion que hemos creado antes para enseñar resultados bonitos"
      ]
    },
    {
      "cell_type": "markdown",
      "metadata": {
        "id": "zKq4QGCV75Y2"
      },
      "source": [
        "#### ***Queries* en SQLAlchemy** ([link](https://docs.sqlalchemy.org/en/13/core/tutorial.html))\n"
      ]
    },
    {
      "cell_type": "code",
      "execution_count": 80,
      "metadata": {
        "id": "JcHPVuQN9nh8"
      },
      "outputs": [],
      "source": [
        "# Introduccion de más  usuarios\n",
        "Manuel = Usuario(\n",
        "    UsuarioId=2,\n",
        "    FirstName='Manuel', \n",
        "    LastName='Fernández Costas', \n",
        "    Address='Camino de la iglesia Nº100', \n",
        "    Age=21, \n",
        "    Email='manuel_2000@outlook.es')\n",
        "Ramon = Usuario(\n",
        "    UsuarioId=3,\n",
        "    FirstName='Ramón', \n",
        "    LastName='Comesaña Rodríguez', \n",
        "    Address='Xogo da ola Nº6', \n",
        "    Age=34, \n",
        "    Email='ramon_galicia@outlook.es')\n",
        "Jennifer = Usuario(\n",
        "    UsuarioId=4,\n",
        "    FirstName='Jennifer', \n",
        "    LastName='Álvarez Rodríguez', \n",
        "    Address='Rúa do penedo Nº1', \n",
        "    Age=29, \n",
        "    Email='jenn_123@outlook.es')\n",
        "\n",
        "session.add(Manuel)\n",
        "session.add(Ramon)\n",
        "session.add(Jennifer)"
      ]
    },
    {
      "cell_type": "code",
      "execution_count": 81,
      "metadata": {
        "id": "oJUcZzreAW1a"
      },
      "outputs": [],
      "source": [
        "# Productos\n",
        "p1 = Producto(\n",
        "    ProductoId=1,\n",
        "    Name='Peine', \n",
        "    Year=2005, \n",
        "    Price=13.50)\n",
        "p2 = Producto(\n",
        "    ProductoId=2,\n",
        "    Name='Maleta', \n",
        "    Year=2009, \n",
        "    Price=59.99)\n",
        "p3 = Producto(\n",
        "    ProductoId=3,\n",
        "    Name='Televisor', \n",
        "    Year=2018, \n",
        "    Price=199.99)\n",
        "p4 = Producto(\n",
        "    ProductoId=4,\n",
        "    Name='Libro', \n",
        "    Year=2000, \n",
        "    Price=9.99)\n",
        "\n",
        "session.add(p1)\n",
        "session.add(p2)\n",
        "session.add(p3)\n",
        "session.add(p4)"
      ]
    },
    {
      "cell_type": "code",
      "execution_count": 82,
      "metadata": {
        "id": "dxHQKniSth8M"
      },
      "outputs": [],
      "source": [
        "# Órdenes\n",
        "import datetime\n",
        "o1 = Orden(\n",
        "    OrdenId=1,\n",
        "    ProductoId=2, \n",
        "    UsuarioId=1, \n",
        "    Date=datetime.datetime.now())\n",
        "o2 = Orden(\n",
        "    OrdenId=2,\n",
        "    ProductoId=4, \n",
        "    UsuarioId=2, \n",
        "    Date=datetime.datetime.now())\n",
        "o3 = Orden(\n",
        "    OrdenId=3,\n",
        "    ProductoId=1, \n",
        "    UsuarioId=3, \n",
        "    Date=datetime.datetime.now())\n",
        "o4 = Orden(\n",
        "    OrdenId=4,\n",
        "    ProductoId=3, \n",
        "    UsuarioId=4, \n",
        "    Date=datetime.datetime.now())\n",
        "\n",
        "session.add(o1)\n",
        "session.add(o2)\n",
        "session.add(o3)\n",
        "session.add(o4)\n",
        "session.commit()"
      ]
    },
    {
      "cell_type": "markdown",
      "metadata": {
        "id": "TKbdboPxx-_v"
      },
      "source": [
        "Si no le fueramos dando valor a las primary keys de cada tabla se le asignará por orden de introducción. Únicamente hay obligación en donde no se permite un valor *NULL*"
      ]
    },
    {
      "cell_type": "code",
      "execution_count": 83,
      "metadata": {
        "colab": {
          "base_uri": "https://localhost:8080/"
        },
        "id": "dXbmvxlp9NPi",
        "outputId": "0ab9c968-7e88-4024-beea-82572f32db3b"
      },
      "outputs": [
        {
          "data": {
            "text/plain": [
              "[('Maria, 2',), ('Manuel, 4',), ('Ramón, 1',), ('Jennifer, 3',)]"
            ]
          },
          "execution_count": 83,
          "metadata": {},
          "output_type": "execute_result"
        }
      ],
      "source": [
        "# SQL Textual\n",
        "from sqlalchemy.sql import text\n",
        "s = text(\n",
        "     \"SELECT usuarios.FirstName || ', ' || ordenes.ProductoId AS title \"\n",
        "         \"FROM usuarios,  Ordenes \"\n",
        "         \"WHERE usuarios.UsuarioId = ordenes.UsuarioId\")\n",
        "\n",
        "conex.execute(s).fetchall()\n",
        "\n"
      ]
    },
    {
      "cell_type": "code",
      "execution_count": 84,
      "metadata": {
        "colab": {
          "base_uri": "https://localhost:8080/"
        },
        "id": "qil7BA0qWCub",
        "outputId": "2fbeeacf-7383-475f-c700-ef16b57eb3a4"
      },
      "outputs": [
        {
          "data": {
            "text/plain": [
              "[('Maria, 2022-02-15 14:01:07.141625',),\n",
              " ('Manuel, 2022-02-15 14:01:07.141747',),\n",
              " ('Ramón, 2022-02-15 14:01:07.141811',),\n",
              " ('Jennifer, 2022-02-15 14:01:07.141872',)]"
            ]
          },
          "execution_count": 84,
          "metadata": {},
          "output_type": "execute_result"
        }
      ],
      "source": [
        "#Título fecha\n",
        "#SQL Textual\n",
        "from sqlalchemy.sql import text\n",
        "s = text(\n",
        "     \"SELECT usuarios.FirstName || ', ' || ordenes.Date AS title \"\n",
        "         \"FROM usuarios,  ordenes \"\n",
        "         \"WHERE usuarios.UsuarioId = ordenes.UsuarioId\")\n",
        "\n",
        "conex.execute(s).fetchall()"
      ]
    },
    {
      "cell_type": "code",
      "execution_count": 85,
      "metadata": {
        "colab": {
          "base_uri": "https://localhost:8080/"
        },
        "id": "dbeS5sSMW89V",
        "outputId": "9d532312-8564-4fb0-f38d-de84749e47fd"
      },
      "outputs": [
        {
          "data": {
            "text/plain": [
              "[('Maria, 2022-02-15 14:01:07.141625',),\n",
              " ('Ramón, 2022-02-15 14:01:07.141811',),\n",
              " ('Jennifer, 2022-02-15 14:01:07.141872',)]"
            ]
          },
          "execution_count": 85,
          "metadata": {},
          "output_type": "execute_result"
        }
      ],
      "source": [
        "#Título fecha, seleccionando en función de edades\n",
        "#SQL Textual\n",
        "from sqlalchemy.sql import text\n",
        "s = text(\n",
        "     \"SELECT usuarios.FirstName || ', ' || ordenes.Date AS title \"\n",
        "         \"FROM usuarios,  ordenes \"\n",
        "         \"WHERE usuarios.UsuarioId = ordenes.UsuarioId \"\n",
        "         \"AND (usuarios.Age LIKE :i1 \"\n",
        "         \"OR usuarios.Age LIKE :i2)\")\n",
        "\n",
        "conex.execute(s,i1=34, i2=29).fetchall()"
      ]
    },
    {
      "cell_type": "markdown",
      "metadata": {
        "id": "kbWAyW4-Y7fT"
      },
      "source": [
        "#### ***Joins*** ([link](https://docs.sqlalchemy.org/en/13/core/tutorial.html))"
      ]
    },
    {
      "cell_type": "code",
      "execution_count": 86,
      "metadata": {
        "colab": {
          "base_uri": "https://localhost:8080/"
        },
        "id": "oq7-Gs0pinTn",
        "outputId": "524725c2-2cd7-4ccb-98fa-e68255339a75"
      },
      "outputs": [
        {
          "name": "stdout",
          "output_type": "stream",
          "text": [
            "('Maria', datetime.datetime(2022, 2, 15, 14, 1, 7, 141625))\n",
            "('Manuel', datetime.datetime(2022, 2, 15, 14, 1, 7, 141747))\n",
            "('Ramón', datetime.datetime(2022, 2, 15, 14, 1, 7, 141811))\n",
            "('Jennifer', datetime.datetime(2022, 2, 15, 14, 1, 7, 141872))\n"
          ]
        }
      ],
      "source": [
        "# JOIN TWO TABLES\n",
        "j = session.query(Usuario.FirstName, Orden.Date).join(Orden)\n",
        "\n",
        "for row in j:\n",
        "    print(row)"
      ]
    },
    {
      "cell_type": "code",
      "execution_count": 87,
      "metadata": {
        "colab": {
          "base_uri": "https://localhost:8080/"
        },
        "id": "RFde8ADBZF4o",
        "outputId": "5745def1-b61b-47a7-f320-998ef8272538"
      },
      "outputs": [],
      "source": [
        "# With Filter\n",
        "j = session.query(Usuario.FirstName, Orden.Date).join(Orden, Orden.UsuarioId == Usuario.UsuarioId)"
      ]
    },
    {
      "cell_type": "code",
      "execution_count": null,
      "metadata": {
        "colab": {
          "base_uri": "https://localhost:8080/"
        },
        "id": "ANmPxEJAh7iV",
        "outputId": "62cf08f2-a13a-4724-b91f-3c73f6d4cad5"
      },
      "outputs": [],
      "source": []
    },
    {
      "cell_type": "markdown",
      "metadata": {
        "id": "uMTV1iLL5Nfa"
      },
      "source": [
        "### ***SCRAPPING*** ([link](https://www.ionos.es/digitalguide/paginas-web/desarrollo-web/web-scraping-con-python/))\n",
        "---\n",
        "La técnica del *scrapping* o *web scrapping* es sencillo de explicar. El programa creado y denominado *scraper* estará programado para indentificar patrones en el texto fuente en HTML que permitirán extraer información. Una vez detectados estos patrones el *scrapper* realizará automáticamente las demás funciones:\n",
        "\n",
        "\n",
        "1.   Ir a la página web concreta.\n",
        "2.   Extraer datos estructutados y organizados en base a los patrones enseñados.\n",
        "3. Almacenar, resumir o combinar esos datos extraídos.\n",
        "\n",
        "\n",
        "#### **Aplicaciones del *scrapping***\n",
        "Está técnica tienes infinitas aplicaciones. Entre ellas destacan las siguientes:\n",
        "\n",
        "\n",
        "\n",
        "*   Controlar y comparar ofertas online\n",
        "*   Investigación de mercado: análisis de la competencia, seguimiento de precios, etc.\n",
        "*   Reunir datos: financieros, meteorológicos, etc.\n",
        "*   Observar o detectar cambios en paginas web.\n",
        "*   Exploración de datos (*Data mining*)\n",
        "*   Generación de *leads*: Crear listas de potenciales clientes desde la web (empresas con linkedin, compañías que utilizan paypal, etc.).\n",
        "\n",
        "\n",
        "\n"
      ]
    },
    {
      "cell_type": "markdown",
      "metadata": {
        "id": "fnuDybHtCEXo"
      },
      "source": [
        "\n",
        "#### **Ejemplo ([Tiempo meteorológico](https://www.dataquest.io/blog/web-scraping-python-using-beautiful-soup/))**"
      ]
    },
    {
      "cell_type": "code",
      "execution_count": 88,
      "metadata": {
        "colab": {
          "base_uri": "https://localhost:8080/"
        },
        "id": "mc1BMaSzlIbW",
        "outputId": "a35ed6dd-5a4b-4c93-e6d6-ebd2d4f8f8f6"
      },
      "outputs": [
        {
          "name": "stdout",
          "output_type": "stream",
          "text": [
            "<div class=\"tombstone-container\">\n",
            " <p class=\"period-name\">\n",
            "  Today\n",
            "  <br/>\n",
            "  <br/>\n",
            " </p>\n",
            " <p>\n",
            "  <img alt=\"Today: Sunny, with a high near 63. Breezy, with a north wind 10 to 15 mph increasing to 19 to 24 mph in the afternoon. Winds could gust as high as 31 mph. \" class=\"forecast-icon\" src=\"newimages/medium/wind_skc.png\" title=\"Today: Sunny, with a high near 63. Breezy, with a north wind 10 to 15 mph increasing to 19 to 24 mph in the afternoon. Winds could gust as high as 31 mph. \"/>\n",
            " </p>\n",
            " <p class=\"short-desc\">\n",
            "  Sunny and\n",
            "  <br/>\n",
            "  Breezy\n",
            " </p>\n",
            " <p class=\"temp temp-high\">\n",
            "  High: 63 °F\n",
            " </p>\n",
            "</div>\n"
          ]
        }
      ],
      "source": [
        "import requests\n",
        "from bs4 import BeautifulSoup\n",
        "\n",
        "web = requests.get(\"https://forecast.weather.gov/MapClick.php?lat=37.7772&lon=-122.4168\")\n",
        "soup = BeautifulSoup(web.content, 'html.parser')\n",
        "\n",
        "# Buscamos los datos que queremos\n",
        "seven_day = soup.find(id='seven-day-forecast')\n",
        "forecast = seven_day.find_all(class_='tombstone-container')\n",
        "tonight = forecast[0]\n",
        "\n",
        "print(tonight.prettify())"
      ]
    },
    {
      "cell_type": "code",
      "execution_count": 89,
      "metadata": {
        "colab": {
          "base_uri": "https://localhost:8080/"
        },
        "id": "BpnvPdDIlfYp",
        "outputId": "b7856da8-8896-448b-cd47-b26ab375290c"
      },
      "outputs": [
        {
          "name": "stdout",
          "output_type": "stream",
          "text": [
            "High: 63 °F\n",
            "Today\n"
          ]
        }
      ],
      "source": [
        "# Extracción de información\n",
        "temp = tonight.find(class_=\"temp\").get_text()\n",
        "periodo = tonight.find(class_=\"period-name\").get_text()\n",
        "\n",
        "print(temp)\n",
        "print(periodo)"
      ]
    },
    {
      "cell_type": "code",
      "execution_count": 90,
      "metadata": {
        "colab": {
          "base_uri": "https://localhost:8080/"
        },
        "id": "lXZEaby7mMiF",
        "outputId": "67c11b87-b74f-4d53-9437-25bdb81bade1"
      },
      "outputs": [
        {
          "name": "stdout",
          "output_type": "stream",
          "text": [
            "Today: Sunny, with a high near 63. Breezy, with a north wind 10 to 15 mph increasing to 19 to 24 mph in the afternoon. Winds could gust as high as 31 mph. \n"
          ]
        }
      ],
      "source": [
        "img = tonight.find(\"img\")\n",
        "resumen = img['title']\n",
        "print(resumen)"
      ]
    },
    {
      "cell_type": "code",
      "execution_count": 91,
      "metadata": {
        "colab": {
          "base_uri": "https://localhost:8080/"
        },
        "id": "RZ7m9XDumX7h",
        "outputId": "489429a3-f6b0-4d42-b229-99e2f7963fbf"
      },
      "outputs": [
        {
          "name": "stdout",
          "output_type": "stream",
          "text": [
            "['High: 63 °F', 'Low: 47 °F', 'High: 66 °F', 'Low: 49 °F', 'High: 66 °F', 'Low: 47 °F', 'High: 66 °F', 'Low: 48 °F', 'High: 62 °F']\n",
            "['Today: Sunny, with a high near 63. Breezy, with a north wind 10 to 15 mph increasing to 19 to 24 mph in the afternoon. Winds could gust as high as 31 mph. ', 'Tonight: Clear, with a low around 47. Breezy, with a north wind 16 to 22 mph, with gusts as high as 31 mph. ', 'Wednesday: Sunny, with a high near 66. West northwest wind 6 to 13 mph. ', 'Wednesday Night: Clear, with a low around 49. Light northwest wind becoming north 9 to 14 mph in the evening. Winds could gust as high as 22 mph. ', 'Thursday: Sunny, with a high near 66. Northeast wind 5 to 13 mph. ', 'Thursday Night: Clear, with a low around 47.', 'Friday: Sunny, with a high near 66.', 'Friday Night: Mostly clear, with a low around 48.', 'Saturday: Mostly sunny, with a high near 62.']\n"
          ]
        }
      ],
      "source": [
        "temperaturas = [t.get_text() for t in seven_day.select(\".tombstone-container .temp\")]\n",
        "resumen = [d[\"title\"] for d in seven_day.select(\".tombstone-container img\")]\n",
        "\n",
        "print(temperaturas)\n",
        "print(resumen)"
      ]
    },
    {
      "cell_type": "code",
      "execution_count": 92,
      "metadata": {
        "colab": {
          "base_uri": "https://localhost:8080/",
          "height": 332
        },
        "id": "PxRp_awtpjIW",
        "outputId": "66c1fadd-bb5d-4258-e1aa-d714a2584d6e"
      },
      "outputs": [
        {
          "data": {
            "text/html": [
              "<div>\n",
              "<style scoped>\n",
              "    .dataframe tbody tr th:only-of-type {\n",
              "        vertical-align: middle;\n",
              "    }\n",
              "\n",
              "    .dataframe tbody tr th {\n",
              "        vertical-align: top;\n",
              "    }\n",
              "\n",
              "    .dataframe thead th {\n",
              "        text-align: right;\n",
              "    }\n",
              "</style>\n",
              "<table border=\"1\" class=\"dataframe\">\n",
              "  <thead>\n",
              "    <tr style=\"text-align: right;\">\n",
              "      <th></th>\n",
              "      <th>periodos</th>\n",
              "      <th>resumen</th>\n",
              "      <th>temperaturas</th>\n",
              "    </tr>\n",
              "  </thead>\n",
              "  <tbody>\n",
              "    <tr>\n",
              "      <th>0</th>\n",
              "      <td>Today</td>\n",
              "      <td>Today: Sunny, with a high near 63. Breezy, wit...</td>\n",
              "      <td>High: 63 °F</td>\n",
              "    </tr>\n",
              "    <tr>\n",
              "      <th>1</th>\n",
              "      <td>Tonight</td>\n",
              "      <td>Tonight: Clear, with a low around 47. Breezy, ...</td>\n",
              "      <td>Low: 47 °F</td>\n",
              "    </tr>\n",
              "    <tr>\n",
              "      <th>2</th>\n",
              "      <td>Wednesday</td>\n",
              "      <td>Wednesday: Sunny, with a high near 66. West no...</td>\n",
              "      <td>High: 66 °F</td>\n",
              "    </tr>\n",
              "    <tr>\n",
              "      <th>3</th>\n",
              "      <td>WednesdayNight</td>\n",
              "      <td>Wednesday Night: Clear, with a low around 49. ...</td>\n",
              "      <td>Low: 49 °F</td>\n",
              "    </tr>\n",
              "    <tr>\n",
              "      <th>4</th>\n",
              "      <td>Thursday</td>\n",
              "      <td>Thursday: Sunny, with a high near 66. Northeas...</td>\n",
              "      <td>High: 66 °F</td>\n",
              "    </tr>\n",
              "    <tr>\n",
              "      <th>5</th>\n",
              "      <td>ThursdayNight</td>\n",
              "      <td>Thursday Night: Clear, with a low around 47.</td>\n",
              "      <td>Low: 47 °F</td>\n",
              "    </tr>\n",
              "    <tr>\n",
              "      <th>6</th>\n",
              "      <td>Friday</td>\n",
              "      <td>Friday: Sunny, with a high near 66.</td>\n",
              "      <td>High: 66 °F</td>\n",
              "    </tr>\n",
              "    <tr>\n",
              "      <th>7</th>\n",
              "      <td>FridayNight</td>\n",
              "      <td>Friday Night: Mostly clear, with a low around 48.</td>\n",
              "      <td>Low: 48 °F</td>\n",
              "    </tr>\n",
              "    <tr>\n",
              "      <th>8</th>\n",
              "      <td>Saturday</td>\n",
              "      <td>Saturday: Mostly sunny, with a high near 62.</td>\n",
              "      <td>High: 62 °F</td>\n",
              "    </tr>\n",
              "  </tbody>\n",
              "</table>\n",
              "</div>"
            ],
            "text/plain": [
              "         periodos                                            resumen  \\\n",
              "0           Today  Today: Sunny, with a high near 63. Breezy, wit...   \n",
              "1         Tonight  Tonight: Clear, with a low around 47. Breezy, ...   \n",
              "2       Wednesday  Wednesday: Sunny, with a high near 66. West no...   \n",
              "3  WednesdayNight  Wednesday Night: Clear, with a low around 49. ...   \n",
              "4        Thursday  Thursday: Sunny, with a high near 66. Northeas...   \n",
              "5   ThursdayNight       Thursday Night: Clear, with a low around 47.   \n",
              "6          Friday                Friday: Sunny, with a high near 66.   \n",
              "7     FridayNight  Friday Night: Mostly clear, with a low around 48.   \n",
              "8        Saturday       Saturday: Mostly sunny, with a high near 62.   \n",
              "\n",
              "  temperaturas  \n",
              "0  High: 63 °F  \n",
              "1   Low: 47 °F  \n",
              "2  High: 66 °F  \n",
              "3   Low: 49 °F  \n",
              "4  High: 66 °F  \n",
              "5   Low: 47 °F  \n",
              "6  High: 66 °F  \n",
              "7   Low: 48 °F  \n",
              "8  High: 62 °F  "
            ]
          },
          "execution_count": 92,
          "metadata": {},
          "output_type": "execute_result"
        }
      ],
      "source": [
        "import pandas as pd\n",
        "\n",
        "etiquetas = seven_day.select(\".tombstone-container .period-name\")\n",
        "periodos = [pt.get_text() for pt in etiquetas]\n",
        "\n",
        "weather = pd.DataFrame({\n",
        "    'periodos':periodos,\n",
        "    'resumen':resumen,\n",
        "    'temperaturas':temperaturas\n",
        "})\n",
        "\n",
        "weather"
      ]
    }
  ],
  "metadata": {
    "colab": {
      "name": "Python_avanzado(Primer_día)_clase.ipynb",
      "provenance": []
    },
    "kernelspec": {
      "display_name": "Python 3",
      "name": "python3"
    },
    "language_info": {
      "codemirror_mode": {
        "name": "ipython",
        "version": 3
      },
      "file_extension": ".py",
      "mimetype": "text/x-python",
      "name": "python",
      "nbconvert_exporter": "python",
      "pygments_lexer": "ipython3",
      "version": "3.9.7"
    }
  },
  "nbformat": 4,
  "nbformat_minor": 0
}
