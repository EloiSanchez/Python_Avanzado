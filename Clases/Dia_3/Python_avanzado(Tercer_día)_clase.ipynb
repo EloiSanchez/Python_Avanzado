{
  "cells": [
    {
      "cell_type": "markdown",
      "metadata": {
        "id": "WpjPC4yW1mC_"
      },
      "source": [
        "![picture](https://qinnova.uned.es/archivos_publicos/qweb_paginas/10926/logooficialunedpontevedra.png)"
      ]
    },
    {
      "cell_type": "markdown",
      "metadata": {
        "id": "jbOt-7dE1nbc"
      },
      "source": [
        "# **PYTHON AVANZADO - TERCER DÍA**\n",
        "**PROFESORES:**\n",
        "\n",
        "Ana Larrañaga Janeiro - [**email**: alarranagaj@pontevedra.uned.es]\n",
        "\n",
        "Miguel Martínez Comesaña - [**email**: mmartinezc@pontevedra.uned.es]\n",
        "\n",
        "TEMA | ¿Qué veremos hoy? | \n",
        "-------------------|------------------\n",
        "\n",
        "1. Machine Learning\n",
        "    - 1.1. Librerías específicas\n",
        "    - 1.2. Pre-procesado de datos\n",
        "    - 1.3. Detección de outliers\n",
        "    - 1.4. Primeros modelos de regresión y clasificación\n",
        "    - 1.5. Red neuronal\n",
        "2. Puesta en marcha\n",
        "    - 2.1. Descarga e instalación de una IDE \n",
        "    - 2.2. Configuración de un entorno virtual\n",
        "    - 2.3. Instalación de librerías necesarias\n"
      ]
    },
    {
      "cell_type": "markdown",
      "metadata": {
        "id": "cYWjPXo75V2W"
      },
      "source": [
        "## **1. MACHINE LEARNING**\n",
        "\n",
        "---"
      ]
    },
    {
      "cell_type": "markdown",
      "metadata": {
        "id": "sxLxo-r9UZHO"
      },
      "source": [
        "Machine Learning (*Aprendizaje automático*) es una parte dentro de la *Inteligencia Artificial* y de la informática, la cuál está centrada en el uso de datos y algoritmos que intentan imitar la forma en la que los humanos aprendemos, progresivamente mejorando su precisión.\n",
        "\n",
        "A través del uso de determinados métodos estadísticos, los algoritmos son entrenados para llevar a cabo clasificaciones o predicciones, detectando y aprovechando información clave de los datos. Estos conocimientos podrán facilitar e impusar de forma significativa la posterior toma de decisiones\n",
        "\n",
        "[Machine Learning](https://www-ibm-com.translate.goog/cloud/learn/machine-learning?_x_tr_sl=en&_x_tr_tl=es&_x_tr_hl=es&_x_tr_pto=sc)\n"
      ]
    },
    {
      "cell_type": "markdown",
      "metadata": {
        "id": "RSwIwyTItN7g"
      },
      "source": [
        "### **Funcionamiento**\n",
        "El funcionamiento de un algoritmo de aprendizaje automático puede dividirse en varias fases:\n",
        "\n",
        "\n",
        "*   **Decisión**: normalmente, en base a un predicción o una clasificación. El algoritmo entrenado producirá una estimación en función de algún patrón en los datos.\n",
        "*   **Error**: la predicción del modelo será evaluada a través de alguna métrica de error.\n",
        "\n",
        "*   **Optimización**: Durante el entrenamiento, la estructura interna del modelo (pesos) se ajustará para minimizar la distancia entre lo *conocido* y lo *estimado*. De forma autónoma, el algoritmo repite este proceso hasta alcanzar un objetivo o un umbral de precisión predefinido.\n"
      ]
    },
    {
      "cell_type": "markdown",
      "metadata": {
        "id": "wcReeqRyxNhw"
      },
      "source": [
        "### **Tipos de aprendizaje automático**\n",
        "<center><img src='https://drive.google.com/uc?id=15_Cm1Ssh4CmCnq6iM5gJc4ZAfkLYI6hh'></center> \n"
      ]
    },
    {
      "cell_type": "markdown",
      "metadata": {
        "id": "W_cl_q9j5A5v"
      },
      "source": [
        "### **Ejemplos prácticos**\n",
        "\n",
        "\n",
        "*   Reconocimiento de voz: a través de procesamiento del lenguaje natural (NLP)\n",
        "*   Motores de recomendación: utilizando datos de consumos pasados apra desarrollar estrategias de venta cruzada (recomendaciones mientras pagos)\n",
        "*   Coches autónomos: la ida es hacer prácticamente iniexistente el margen de error al eliminar el factor humano.\n",
        "*   Diagnósticos médicos: procesamiento de enormes cantidades de información para detectar patologías.\n",
        "\n",
        "\n"
      ]
    },
    {
      "cell_type": "markdown",
      "metadata": {
        "id": "Q3eg8H1D5cfq"
      },
      "source": [
        "### **1.1 LIBRERÍAS ESPECÍFICAS**\n",
        "---\n"
      ]
    },
    {
      "cell_type": "markdown",
      "metadata": {
        "id": "EL8qqKvs7pvp"
      },
      "source": [
        "\n",
        "\n",
        "<center><img src='https://drive.google.com/uc?id=1mVAr65ialdONzzpIwsIxZmJLrrHzRjG8' width=300px></center>\n",
        "\n",
        "Fuentes: https://www.google.com/ y \n",
        "https://www.tensorflow.org/learn?hl=es-419\n",
        "\n",
        "---\n",
        "\n",
        "* Facilita tanto la creación, la compilación y la implementación de modelos de machine learning. \n",
        "\n",
        "*   Ofrece varios niveles de abstracción para poder elegir el más adecuado. Trabaja a través de Keras para los primeros pasos.\n",
        "\n",
        "*   Permite el entrenamiento e implementación de tu modelo de manera sencilla ya sea en servidores, dispositivos perimetrales, en la web o en cualquier lenguaje o plataforma que se utilice.\n",
        "\n"
      ]
    },
    {
      "cell_type": "markdown",
      "metadata": {
        "id": "kkG8KxK17tYs"
      },
      "source": [
        "---\n",
        "<center><img src='https://drive.google.com/uc?id=1tqOLbiaes6xFoGyLvoxUnjF9V1CPAH4f' width=300px></center>\n",
        "\n",
        "Fuentes: https://www.google.com/ y \n",
        "https://keras.io/\n",
        "\n",
        "---\n",
        "\n",
        "*  API pública escrita en Python que ofrece herramientas de Deep Learning y se ejecuta sobre la plataforma de machine learning Tensorflow.\n",
        "*  Desarrollada con el objetivo de realizar experimentos rápidos. \n",
        "*  Interfaz accesible y altamente productiva para resolver problemas de aprendizaje automático, con un enfoque en el aprendizaje profundo moderno. \n",
        "*  Proporciona abstracciones esenciales y bloques de construcción para desarrollar y enviar soluciones de aprendizaje automático con una alta velocidad de iteración. \n",
        "*  Centrada principalmente en la contrucción de redes neuronales (Artificial Neural Networks).\n"
      ]
    },
    {
      "cell_type": "markdown",
      "metadata": {
        "id": "uWYyQdq88F8q"
      },
      "source": [
        "---\n",
        "<center><img src='https://drive.google.com/uc?id=16sdZ8VUqs-1VLsKJc2-q7bCeNDi7TZ4s' width=300px></center>\n",
        "\n",
        "Fuentes: https://www.google.com/ y \n",
        "https://scikit-learn.org/stable/\n",
        "\n",
        "---\n",
        "\n",
        "*  Librería pública que proporciona técnicas de machine learning supervisado y no supervisado en Python. \n",
        "*  Ofrece herramientas simples y eficientes para análisis predictivos. *  Accesible para todo el mundo y se puede aplicar en varios contextos. \n",
        "*  Construida en base a Numpy, Scipy y matplotlib.\n",
        "\n",
        "* Clasificaciones, regresiones, clustering, reducción de dimensión, ajuste y evaluación de modelos, selección de modelos, preprocesado, etc."
      ]
    },
    {
      "cell_type": "markdown",
      "metadata": {
        "id": "T6DOTSm06u0L"
      },
      "source": [
        "### **1.2 PRE-PROCESADO DE DATOS** ([link](https://towardsdatascience.com/data-preprocessing-concepts-fa946d11c825))\n",
        "---\n"
      ]
    },
    {
      "cell_type": "code",
      "execution_count": 113,
      "metadata": {
        "colab": {
          "base_uri": "https://localhost:8080/"
        },
        "id": "b6QnYkIuvHCn",
        "outputId": "a5000cc4-a623-4ce4-ea4e-8b7ff1881e45"
      },
      "outputs": [],
      "source": [
        "# from google.colab import drive\n",
        "# drive.mount('/content/drive')"
      ]
    },
    {
      "cell_type": "markdown",
      "metadata": {
        "id": "gzn8RdnJ855q"
      },
      "source": [
        "### **Variables o características (*Features*)**\n",
        "Las variables que conforman nuestro conjunto de datos pueden ser de varios tipos:\n",
        "\n",
        "<img src='https://drive.google.com/uc?id=1T_a8cbXvPv4ktIk2-d0y3O3YL8fjnjoP' width=500px >"
      ]
    },
    {
      "cell_type": "markdown",
      "metadata": {
        "id": "7GoEnDjJ_kJk"
      },
      "source": [
        "### **Calidad de los datos**\n",
        "\n",
        "A continuación veremos algunas técnicas para no pasar por alto la calidad de los datos e intentar que lleguen lo más limpios y consistentes posible para entrenar el modelo.\n",
        "\n"
      ]
    },
    {
      "cell_type": "markdown",
      "metadata": {
        "id": "6KkVXrZsg5f3"
      },
      "source": [
        "#### **Datos faltantes (missing values)**"
      ]
    },
    {
      "cell_type": "code",
      "execution_count": 114,
      "metadata": {
        "id": "PnQ88aHbAMWL"
      },
      "outputs": [
        {
          "name": "stdout",
          "output_type": "stream",
          "text": [
            "       type  fixed acidity  volatile acidity  citric acid  residual sugar  \\\n",
            "0     False          False             False        False           False   \n",
            "1     False          False             False        False           False   \n",
            "2     False          False             False        False           False   \n",
            "3     False          False             False        False           False   \n",
            "4     False          False             False        False           False   \n",
            "...     ...            ...               ...          ...             ...   \n",
            "6519  False          False             False        False           False   \n",
            "6520  False          False             False        False           False   \n",
            "6521  False          False             False        False           False   \n",
            "6522  False          False             False        False           False   \n",
            "6523  False          False             False        False           False   \n",
            "\n",
            "      chlorides  free sulfur dioxide  total sulfur dioxide  density     pH  \\\n",
            "0         False                False                 False    False  False   \n",
            "1         False                False                 False    False  False   \n",
            "2         False                False                 False    False  False   \n",
            "3         False                False                 False    False  False   \n",
            "4         False                False                 False    False  False   \n",
            "...         ...                  ...                   ...      ...    ...   \n",
            "6519      False                False                 False    False  False   \n",
            "6520      False                False                 False    False  False   \n",
            "6521      False                False                 False    False  False   \n",
            "6522      False                False                 False    False  False   \n",
            "6523      False                False                 False    False  False   \n",
            "\n",
            "      sulphates  alcohol  quality  \n",
            "0         False    False    False  \n",
            "1         False    False    False  \n",
            "2         False    False    False  \n",
            "3         False    False    False  \n",
            "4         False    False    False  \n",
            "...         ...      ...      ...  \n",
            "6519      False    False    False  \n",
            "6520       True    False    False  \n",
            "6521      False    False    False  \n",
            "6522      False    False    False  \n",
            "6523      False    False    False  \n",
            "\n",
            "[6524 rows x 13 columns]\n",
            "type                     0\n",
            "fixed acidity           37\n",
            "volatile acidity        35\n",
            "citric acid             30\n",
            "residual sugar          29\n",
            "chlorides               29\n",
            "free sulfur dioxide     27\n",
            "total sulfur dioxide    27\n",
            "density                 27\n",
            "pH                      36\n",
            "sulphates               31\n",
            "alcohol                 27\n",
            "quality                 27\n",
            "dtype: int64\n"
          ]
        },
        {
          "data": {
            "text/plain": [
              "<AxesSubplot:xlabel='index'>"
            ]
          },
          "execution_count": 114,
          "metadata": {},
          "output_type": "execute_result"
        },
        {
          "data": {
            "image/png": "[encoded data removed]",
            "text/plain": [
              "<Figure size 432x288 with 1 Axes>"
            ]
          },
          "metadata": {
            "needs_background": "light"
          },
          "output_type": "display_data"
        }
      ],
      "source": [
        "import pandas as pd \n",
        "import numpy as np\n",
        "\n",
        "dframe = pd.read_csv('/media/eloi/ELOI/UNED/Cursos de Extension/Python Avanzado/Clases/Dia_3/Data_dia_3/wine_data.csv', sep=';', decimal=',',thousands='.')\n",
        "# Donde y cuantos NAs tenemos en nuestro conjunto de datos \n",
        "print(dframe.isna())  #or is.null\n",
        "print(dframe.isna().sum())\n",
        "dframe.isna().sum().reset_index(name=\"n\").plot.bar(x='index', y='n', rot=45)"
      ]
    },
    {
      "cell_type": "code",
      "execution_count": 115,
      "metadata": {
        "id": "m1r9vBwlvy-b"
      },
      "outputs": [
        {
          "name": "stdout",
          "output_type": "stream",
          "text": [
            "type                    0\n",
            "fixed acidity           0\n",
            "volatile acidity        0\n",
            "citric acid             0\n",
            "residual sugar          0\n",
            "chlorides               0\n",
            "free sulfur dioxide     0\n",
            "total sulfur dioxide    0\n",
            "density                 0\n",
            "pH                      0\n",
            "sulphates               0\n",
            "alcohol                 0\n",
            "quality                 0\n",
            "dtype: int64\n",
            "(6524, 13)\n",
            "(6463, 13)\n"
          ]
        }
      ],
      "source": [
        "## Eliminamos los datos faltantes\n",
        "dd = dframe.dropna()\n",
        "print(dd.isna().sum())\n",
        "print(dframe.shape)\n",
        "print(dd.shape)"
      ]
    },
    {
      "cell_type": "code",
      "execution_count": 116,
      "metadata": {
        "id": "vMCEukFohDLc"
      },
      "outputs": [
        {
          "name": "stdout",
          "output_type": "stream",
          "text": [
            "       type  fixed acidity  volatile acidity  citric acid  residual sugar  \\\n",
            "0     white            7.0             0.270         0.36            20.7   \n",
            "1     white            6.3             0.300         0.34             1.6   \n",
            "2     white            8.1             0.280         0.40             6.9   \n",
            "3     white            7.2             0.230         0.32             8.5   \n",
            "4     white            7.2             0.230         0.32             8.5   \n",
            "...     ...            ...               ...          ...             ...   \n",
            "6519    red            6.2             0.600         0.08             2.0   \n",
            "6520    red            5.9             0.550         0.10             2.2   \n",
            "6521    red            6.3             0.510         0.13             2.3   \n",
            "6522    red            5.9             0.645         0.12             2.0   \n",
            "6523    red            6.0             0.310         0.47             3.6   \n",
            "\n",
            "      chlorides  free sulfur dioxide  total sulfur dioxide  density    pH  \\\n",
            "0         0.050                 45.0                 170.0  1.00000  3.00   \n",
            "1         0.050                 14.0                 132.0  0.99000  3.30   \n",
            "2         0.050                 30.0                  97.0  1.00000  3.26   \n",
            "3         0.060                 47.0                 186.0  1.00000  3.19   \n",
            "4         0.060                 47.0                 186.0  1.00000  3.19   \n",
            "...         ...                  ...                   ...      ...   ...   \n",
            "6519      0.090                 32.0                  44.0  0.99490  3.45   \n",
            "6520      0.062                 39.0                  51.0  0.99512  3.52   \n",
            "6521      0.076                 29.0                  40.0  0.99574  3.42   \n",
            "6522      0.075                 32.0                  44.0  0.99547  3.57   \n",
            "6523      0.067                 18.0                  42.0  0.99549  3.39   \n",
            "\n",
            "      sulphates  alcohol  quality  \n",
            "0          0.45      8.8      6.0  \n",
            "1          0.49      9.5      6.0  \n",
            "2          0.44     10.1      6.0  \n",
            "3          0.40      9.9      6.0  \n",
            "4          0.40      9.9      6.0  \n",
            "...         ...      ...      ...  \n",
            "6519       0.58     10.5      5.0  \n",
            "6520    9999.00     11.2      6.0  \n",
            "6521       0.75     11.0      6.0  \n",
            "6522       0.71     10.2      5.0  \n",
            "6523       0.66     11.0      6.0  \n",
            "\n",
            "[6524 rows x 13 columns]\n"
          ]
        }
      ],
      "source": [
        "# Rellenamos los huecos con algún valor concreto ('Enmascaramiento')\n",
        "# El algoritmo de machine learning los determinara como outliers\n",
        "dd2 = dframe.fillna(9999)\n",
        "\n",
        "print(dd2)\n"
      ]
    },
    {
      "cell_type": "code",
      "execution_count": 117,
      "metadata": {
        "id": "Bb13UJIKhFJM"
      },
      "outputs": [
        {
          "name": "stdout",
          "output_type": "stream",
          "text": [
            "fixed acidity           37\n",
            "volatile acidity        35\n",
            "citric acid             30\n",
            "residual sugar          29\n",
            "chlorides               29\n",
            "free sulfur dioxide     27\n",
            "total sulfur dioxide    27\n",
            "density                 27\n",
            "pH                      36\n",
            "sulphates               31\n",
            "alcohol                 27\n",
            "quality                 27\n",
            "dtype: int64\n",
            "fixed acidity           0\n",
            "volatile acidity        0\n",
            "citric acid             0\n",
            "residual sugar          0\n",
            "chlorides               0\n",
            "free sulfur dioxide     0\n",
            "total sulfur dioxide    0\n",
            "density                 0\n",
            "pH                      0\n",
            "sulphates               0\n",
            "alcohol                 0\n",
            "quality                 0\n",
            "dtype: int64\n"
          ]
        }
      ],
      "source": [
        "#Rellenamos los huecos con una interpolación\n",
        "dd4 = dframe.drop('type', axis=1)\n",
        "print(dd4.isna().sum())\n",
        "\n",
        "dd4.replace(9999, np.nan, inplace=True)\n",
        "dd4 = dd4.interpolate(method = 'linear', limit=10, axis=0) #polinomial, splines\n",
        "print(dd4.isna().sum())"
      ]
    },
    {
      "cell_type": "markdown",
      "metadata": {
        "id": "ucpBrxluANRP"
      },
      "source": [
        "### **Agrupación de las propiedades (*Feature aggregation*)**\n",
        "\n",
        "La agregación nos proporciona una visión más global de los datos, ya que el comportamiento de los grupos o agregados es más estable que el de los objetos de datos individuales. Por ejemplo, si estamos analizando transacciones de alguna tienda, pasar de trabajar con datos diarios a trabajar con datos mensuales o semanales."
      ]
    },
    {
      "cell_type": "markdown",
      "metadata": {
        "id": "AhF-CTSBocKu"
      },
      "source": [
        "#### **Agrupaciones simples**\n",
        "\n",
        "\n",
        "*   *count( )*: número total de elementos\n",
        "*   *mean( )*: media de elementos\n",
        "*   *prod( )*: producto de elementos\n",
        "*   *sum( )*: suma de elementos\n",
        "\n"
      ]
    },
    {
      "cell_type": "code",
      "execution_count": 118,
      "metadata": {
        "id": "3nbJZasTC2pg"
      },
      "outputs": [
        {
          "data": {
            "text/html": [
              "<div>\n",
              "<style scoped>\n",
              "    .dataframe tbody tr th:only-of-type {\n",
              "        vertical-align: middle;\n",
              "    }\n",
              "\n",
              "    .dataframe tbody tr th {\n",
              "        vertical-align: top;\n",
              "    }\n",
              "\n",
              "    .dataframe thead th {\n",
              "        text-align: right;\n",
              "    }\n",
              "</style>\n",
              "<table border=\"1\" class=\"dataframe\">\n",
              "  <thead>\n",
              "    <tr style=\"text-align: right;\">\n",
              "      <th></th>\n",
              "      <th>Chicos</th>\n",
              "      <th>Chicas</th>\n",
              "    </tr>\n",
              "  </thead>\n",
              "  <tbody>\n",
              "    <tr>\n",
              "      <th>0</th>\n",
              "      <td>38</td>\n",
              "      <td>11</td>\n",
              "    </tr>\n",
              "    <tr>\n",
              "      <th>1</th>\n",
              "      <td>11</td>\n",
              "      <td>97</td>\n",
              "    </tr>\n",
              "    <tr>\n",
              "      <th>2</th>\n",
              "      <td>85</td>\n",
              "      <td>36</td>\n",
              "    </tr>\n",
              "    <tr>\n",
              "      <th>3</th>\n",
              "      <td>24</td>\n",
              "      <td>86</td>\n",
              "    </tr>\n",
              "    <tr>\n",
              "      <th>4</th>\n",
              "      <td>80</td>\n",
              "      <td>51</td>\n",
              "    </tr>\n",
              "  </tbody>\n",
              "</table>\n",
              "</div>"
            ],
            "text/plain": [
              "   Chicos  Chicas\n",
              "0      38      11\n",
              "1      11      97\n",
              "2      85      36\n",
              "3      24      86\n",
              "4      80      51"
            ]
          },
          "execution_count": 118,
          "metadata": {},
          "output_type": "execute_result"
        }
      ],
      "source": [
        "import random\n",
        "\n",
        "a=[0 for x in range(5)]\n",
        "b=[0 for x in range(5)]\n",
        "for i in range(5):\n",
        "    a[i] = random.randint(1, 100)\n",
        "    b[i] = random.randint(1, 100)\n",
        "\n",
        "\n",
        "df = pd.DataFrame({'Chicos': a,\n",
        "                   'Chicas': b})\n",
        "# Y las filas son las classes p. ej\n",
        "df\n"
      ]
    },
    {
      "cell_type": "code",
      "execution_count": 119,
      "metadata": {
        "id": "6rU1A1PFgrf4"
      },
      "outputs": [
        {
          "name": "stdout",
          "output_type": "stream",
          "text": [
            "Chicos    47.6\n",
            "Chicas    56.2\n",
            "dtype: float64\n",
            "0    24.5\n",
            "1    54.0\n",
            "2    60.5\n",
            "3    55.0\n",
            "4    65.5\n",
            "dtype: float64\n",
            "Chicos    47.6\n",
            "Chicas    56.2\n",
            "dtype: float64\n",
            "0    24.5\n",
            "1    54.0\n",
            "2    60.5\n",
            "3    55.0\n",
            "4    65.5\n",
            "dtype: float64\n"
          ]
        }
      ],
      "source": [
        "#Media por columnas\n",
        "print(df.mean(axis=0))\n",
        "print(df.mean(axis=1))\n",
        "print(df.mean(axis='rows'))\n",
        "print(df.mean(axis='columns'))\n"
      ]
    },
    {
      "cell_type": "code",
      "execution_count": 120,
      "metadata": {
        "id": "WP7vJRt1polk"
      },
      "outputs": [],
      "source": [
        "#Suma\n",
        "\n"
      ]
    },
    {
      "cell_type": "markdown",
      "metadata": {
        "id": "atSDX9lUqy19"
      },
      "source": [
        "#### **Agrupaciones temporales**"
      ]
    },
    {
      "cell_type": "code",
      "execution_count": 121,
      "metadata": {
        "id": "bN54qND8qzzo"
      },
      "outputs": [
        {
          "data": {
            "text/plain": [
              "2000-01-01 00:00:00     0\n",
              "2000-01-01 00:01:00     1\n",
              "2000-01-01 00:02:00     2\n",
              "2000-01-01 00:03:00     3\n",
              "2000-01-01 00:04:00     4\n",
              "                       ..\n",
              "2000-01-01 01:35:00    95\n",
              "2000-01-01 01:36:00    96\n",
              "2000-01-01 01:37:00    97\n",
              "2000-01-01 01:38:00    98\n",
              "2000-01-01 01:39:00    99\n",
              "Freq: T, Length: 100, dtype: int64"
            ]
          },
          "execution_count": 121,
          "metadata": {},
          "output_type": "execute_result"
        }
      ],
      "source": [
        "index = pd.date_range('1/1/2000', periods=100, freq='T')\n",
        "\n",
        "series = pd.Series(range(100), index=index)\n",
        "\n",
        "series"
      ]
    },
    {
      "cell_type": "code",
      "execution_count": 122,
      "metadata": {
        "id": "TrRna84iq108"
      },
      "outputs": [
        {
          "data": {
            "text/plain": [
              "2000-01-01 00:00:00     10\n",
              "2000-01-01 00:05:00     35\n",
              "2000-01-01 00:10:00     60\n",
              "2000-01-01 00:15:00     85\n",
              "2000-01-01 00:20:00    110\n",
              "2000-01-01 00:25:00    135\n",
              "2000-01-01 00:30:00    160\n",
              "2000-01-01 00:35:00    185\n",
              "2000-01-01 00:40:00    210\n",
              "2000-01-01 00:45:00    235\n",
              "2000-01-01 00:50:00    260\n",
              "2000-01-01 00:55:00    285\n",
              "2000-01-01 01:00:00    310\n",
              "2000-01-01 01:05:00    335\n",
              "2000-01-01 01:10:00    360\n",
              "2000-01-01 01:15:00    385\n",
              "2000-01-01 01:20:00    410\n",
              "2000-01-01 01:25:00    435\n",
              "2000-01-01 01:30:00    460\n",
              "2000-01-01 01:35:00    485\n",
              "Freq: 5T, dtype: int64"
            ]
          },
          "execution_count": 122,
          "metadata": {},
          "output_type": "execute_result"
        }
      ],
      "source": [
        "#Suma de cada 5 minutos\n",
        "series.resample('5T').sum()"
      ]
    },
    {
      "cell_type": "code",
      "execution_count": 123,
      "metadata": {
        "id": "fMHEekb_q3xr"
      },
      "outputs": [
        {
          "data": {
            "text/plain": [
              "2000-01-01 00:00:00     2.0\n",
              "2000-01-01 00:05:00     7.0\n",
              "2000-01-01 00:10:00    12.0\n",
              "2000-01-01 00:15:00    17.0\n",
              "2000-01-01 00:20:00    22.0\n",
              "2000-01-01 00:25:00    27.0\n",
              "2000-01-01 00:30:00    32.0\n",
              "2000-01-01 00:35:00    37.0\n",
              "2000-01-01 00:40:00    42.0\n",
              "2000-01-01 00:45:00    47.0\n",
              "2000-01-01 00:50:00    52.0\n",
              "2000-01-01 00:55:00    57.0\n",
              "2000-01-01 01:00:00    62.0\n",
              "2000-01-01 01:05:00    67.0\n",
              "2000-01-01 01:10:00    72.0\n",
              "2000-01-01 01:15:00    77.0\n",
              "2000-01-01 01:20:00    82.0\n",
              "2000-01-01 01:25:00    87.0\n",
              "2000-01-01 01:30:00    92.0\n",
              "2000-01-01 01:35:00    97.0\n",
              "Freq: 5T, dtype: float64"
            ]
          },
          "execution_count": 123,
          "metadata": {},
          "output_type": "execute_result"
        }
      ],
      "source": [
        "# Medias 5 minutales\n",
        "series.resample('5T').mean()"
      ]
    },
    {
      "cell_type": "code",
      "execution_count": 124,
      "metadata": {
        "id": "e-8PgkMoq7rS"
      },
      "outputs": [
        {
          "data": {
            "text/plain": [
              "2000-01-01 00:00:00    29.5\n",
              "2000-01-01 01:00:00    79.5\n",
              "Freq: H, dtype: float64"
            ]
          },
          "execution_count": 124,
          "metadata": {},
          "output_type": "execute_result"
        }
      ],
      "source": [
        "# Medias horarias\n",
        "series.resample('H').mean()"
      ]
    },
    {
      "cell_type": "markdown",
      "metadata": {
        "id": "TKpulHQ5BjYW"
      },
      "source": [
        "### **Muestreo de los datos (*Feature sampling*)**\n",
        "Cuando trabajar con todo el conjunto de datos disponible es demasiado costoso, se puede seleccionar un subconjunto. De esta forma podemos reducir el tamaño del conjunto de datos para poder aplicar un algoritmo complejo y más pesado computacionalmente.\n",
        "\n",
        "La clave de esta tarea está en intentar mantener, aproximadamente, las mismas propiedades que el conjunto original (*representativo*). \n",
        "\n",
        "*  Simple Random Sampling: muestreo aleatorio simple.\n",
        "    -  *Sin remplazamiento*: una vez un elemento es seleccionado no se vuelve a introducir en el conjunto de donde se está extrayendo la nueva muestra.\n",
        "    -  *Con remplazamiento*: los elementos no se eliminana de conjunto total después de ser seleccinados.\n",
        "\n",
        "CUIDADO: con muestras desequilibradas este tipo de algoritmo puede no funcionar bien. Otro algoritmo más apropiado podría ser: [*Stratified Sampling*](https://www.investopedia.com/terms/stratified_random_sampling.asp)"
      ]
    },
    {
      "cell_type": "code",
      "execution_count": 125,
      "metadata": {
        "id": "wnVqpYFBmDNL"
      },
      "outputs": [
        {
          "data": {
            "text/html": [
              "<div>\n",
              "<style scoped>\n",
              "    .dataframe tbody tr th:only-of-type {\n",
              "        vertical-align: middle;\n",
              "    }\n",
              "\n",
              "    .dataframe tbody tr th {\n",
              "        vertical-align: top;\n",
              "    }\n",
              "\n",
              "    .dataframe thead th {\n",
              "        text-align: right;\n",
              "    }\n",
              "</style>\n",
              "<table border=\"1\" class=\"dataframe\">\n",
              "  <thead>\n",
              "    <tr style=\"text-align: right;\">\n",
              "      <th></th>\n",
              "      <th>piernas</th>\n",
              "      <th>alas</th>\n",
              "      <th>especimenes_vistos</th>\n",
              "    </tr>\n",
              "  </thead>\n",
              "  <tbody>\n",
              "    <tr>\n",
              "      <th>Halcón</th>\n",
              "      <td>2</td>\n",
              "      <td>2</td>\n",
              "      <td>10</td>\n",
              "    </tr>\n",
              "    <tr>\n",
              "      <th>Perro</th>\n",
              "      <td>4</td>\n",
              "      <td>0</td>\n",
              "      <td>2</td>\n",
              "    </tr>\n",
              "    <tr>\n",
              "      <th>Araña</th>\n",
              "      <td>8</td>\n",
              "      <td>0</td>\n",
              "      <td>1</td>\n",
              "    </tr>\n",
              "    <tr>\n",
              "      <th>Pez</th>\n",
              "      <td>0</td>\n",
              "      <td>0</td>\n",
              "      <td>8</td>\n",
              "    </tr>\n",
              "    <tr>\n",
              "      <th>gato</th>\n",
              "      <td>4</td>\n",
              "      <td>0</td>\n",
              "      <td>15</td>\n",
              "    </tr>\n",
              "  </tbody>\n",
              "</table>\n",
              "</div>"
            ],
            "text/plain": [
              "        piernas  alas  especimenes_vistos\n",
              "Halcón        2     2                  10\n",
              "Perro         4     0                   2\n",
              "Araña         8     0                   1\n",
              "Pez           0     0                   8\n",
              "gato          4     0                  15"
            ]
          },
          "execution_count": 125,
          "metadata": {},
          "output_type": "execute_result"
        }
      ],
      "source": [
        "df = pd.DataFrame({'piernas': [2, 4, 8, 0,4],\n",
        "\n",
        "                   'alas': [2, 0, 0, 0,0],\n",
        "\n",
        "                   'especimenes_vistos': [10, 2, 1, 8, 15]},\n",
        "\n",
        "                  index=['Halcón', 'Perro', 'Araña', 'Pez','gato'])\n",
        "\n",
        "df"
      ]
    },
    {
      "cell_type": "code",
      "execution_count": 126,
      "metadata": {
        "id": "ePhroe3kqwuS"
      },
      "outputs": [
        {
          "name": "stdout",
          "output_type": "stream",
          "text": [
            "        piernas  alas  especimenes_vistos\n",
            "Araña         8     0                   1\n",
            "Perro         4     0                   2\n",
            "gato          4     0                  15\n",
            "Halcón        2     2                  10\n"
          ]
        }
      ],
      "source": [
        "#Sin remplazamiento\n",
        "print(df.sample(n=4, random_state=1, replace=False))\n"
      ]
    },
    {
      "cell_type": "code",
      "execution_count": 127,
      "metadata": {
        "id": "IReC8IW-rvcB"
      },
      "outputs": [
        {
          "name": "stdout",
          "output_type": "stream",
          "text": [
            "        piernas  alas  especimenes_vistos\n",
            "Halcón        2     2                  10\n",
            "Halcón        2     2                  10\n",
            "Pez           0     0                   8\n",
            "Halcón        2     2                  10\n"
          ]
        }
      ],
      "source": [
        "#Con remplazamiento\n",
        "print(df.sample(n=4, random_state=100, replace=True))\n"
      ]
    },
    {
      "cell_type": "markdown",
      "metadata": {
        "id": "mtev9a_UEZE0"
      },
      "source": [
        "### **Reducción de dimension (*Dimensionality reduction*)**\n",
        "En situaciones donde el número de *features* o *características* es muy grande la reducción de dimensión se hace imprescindible (en *image processing* tendríamos miles de dimensiones). Este proceso es conocido como *Feature Selection*.\n",
        "\n",
        "El también conocido *Curse of dimensionality* es el problema que se refiere al incremento de la dificultad para modelar y visualizar datos si las dimensones de los datos se incrementan.\n",
        "\n",
        "Los algoritmos centrados en este problema, normalmente, se basan en crear nuevas *features* que son combinaciones de las viejas. De esta forma pasamos de una X dimensiones a, por ejemplo, X/4 dimensiones. El más conocido es el Análisis de [Componentes Principales (PCA)](https://www.cienciadedatos.net/documentos/py19-pca-python.html)."
      ]
    },
    {
      "cell_type": "code",
      "execution_count": 128,
      "metadata": {
        "id": "STMYJRK1GU0K"
      },
      "outputs": [
        {
          "name": "stdout",
          "output_type": "stream",
          "text": [
            "<class 'pandas.core.frame.DataFrame'>\n",
            "Index: 50 entries, Alabama to Wyoming\n",
            "Data columns (total 4 columns):\n",
            " #   Column    Non-Null Count  Dtype  \n",
            "---  ------    --------------  -----  \n",
            " 0   Murder    50 non-null     float64\n",
            " 1   Assault   50 non-null     int64  \n",
            " 2   UrbanPop  50 non-null     int64  \n",
            " 3   Rape      50 non-null     float64\n",
            "dtypes: float64(2), int64(2)\n",
            "memory usage: 2.0+ KB\n"
          ]
        },
        {
          "data": {
            "text/html": [
              "<div>\n",
              "<style scoped>\n",
              "    .dataframe tbody tr th:only-of-type {\n",
              "        vertical-align: middle;\n",
              "    }\n",
              "\n",
              "    .dataframe tbody tr th {\n",
              "        vertical-align: top;\n",
              "    }\n",
              "\n",
              "    .dataframe thead th {\n",
              "        text-align: right;\n",
              "    }\n",
              "</style>\n",
              "<table border=\"1\" class=\"dataframe\">\n",
              "  <thead>\n",
              "    <tr style=\"text-align: right;\">\n",
              "      <th></th>\n",
              "      <th>Murder</th>\n",
              "      <th>Assault</th>\n",
              "      <th>UrbanPop</th>\n",
              "      <th>Rape</th>\n",
              "    </tr>\n",
              "  </thead>\n",
              "  <tbody>\n",
              "    <tr>\n",
              "      <th>Alabama</th>\n",
              "      <td>13.2</td>\n",
              "      <td>236</td>\n",
              "      <td>58</td>\n",
              "      <td>21.2</td>\n",
              "    </tr>\n",
              "    <tr>\n",
              "      <th>Alaska</th>\n",
              "      <td>10.0</td>\n",
              "      <td>263</td>\n",
              "      <td>48</td>\n",
              "      <td>44.5</td>\n",
              "    </tr>\n",
              "    <tr>\n",
              "      <th>Arizona</th>\n",
              "      <td>8.1</td>\n",
              "      <td>294</td>\n",
              "      <td>80</td>\n",
              "      <td>31.0</td>\n",
              "    </tr>\n",
              "    <tr>\n",
              "      <th>Arkansas</th>\n",
              "      <td>8.8</td>\n",
              "      <td>190</td>\n",
              "      <td>50</td>\n",
              "      <td>19.5</td>\n",
              "    </tr>\n",
              "    <tr>\n",
              "      <th>California</th>\n",
              "      <td>9.0</td>\n",
              "      <td>276</td>\n",
              "      <td>91</td>\n",
              "      <td>40.6</td>\n",
              "    </tr>\n",
              "    <tr>\n",
              "      <th>Colorado</th>\n",
              "      <td>7.9</td>\n",
              "      <td>204</td>\n",
              "      <td>78</td>\n",
              "      <td>38.7</td>\n",
              "    </tr>\n",
              "    <tr>\n",
              "      <th>Connecticut</th>\n",
              "      <td>3.3</td>\n",
              "      <td>110</td>\n",
              "      <td>77</td>\n",
              "      <td>11.1</td>\n",
              "    </tr>\n",
              "    <tr>\n",
              "      <th>Delaware</th>\n",
              "      <td>5.9</td>\n",
              "      <td>238</td>\n",
              "      <td>72</td>\n",
              "      <td>15.8</td>\n",
              "    </tr>\n",
              "    <tr>\n",
              "      <th>Florida</th>\n",
              "      <td>15.4</td>\n",
              "      <td>335</td>\n",
              "      <td>80</td>\n",
              "      <td>31.9</td>\n",
              "    </tr>\n",
              "    <tr>\n",
              "      <th>Georgia</th>\n",
              "      <td>17.4</td>\n",
              "      <td>211</td>\n",
              "      <td>60</td>\n",
              "      <td>25.8</td>\n",
              "    </tr>\n",
              "    <tr>\n",
              "      <th>Hawaii</th>\n",
              "      <td>5.3</td>\n",
              "      <td>46</td>\n",
              "      <td>83</td>\n",
              "      <td>20.2</td>\n",
              "    </tr>\n",
              "    <tr>\n",
              "      <th>Idaho</th>\n",
              "      <td>2.6</td>\n",
              "      <td>120</td>\n",
              "      <td>54</td>\n",
              "      <td>14.2</td>\n",
              "    </tr>\n",
              "    <tr>\n",
              "      <th>Illinois</th>\n",
              "      <td>10.4</td>\n",
              "      <td>249</td>\n",
              "      <td>83</td>\n",
              "      <td>24.0</td>\n",
              "    </tr>\n",
              "    <tr>\n",
              "      <th>Indiana</th>\n",
              "      <td>7.2</td>\n",
              "      <td>113</td>\n",
              "      <td>65</td>\n",
              "      <td>21.0</td>\n",
              "    </tr>\n",
              "    <tr>\n",
              "      <th>Iowa</th>\n",
              "      <td>2.2</td>\n",
              "      <td>56</td>\n",
              "      <td>57</td>\n",
              "      <td>11.3</td>\n",
              "    </tr>\n",
              "    <tr>\n",
              "      <th>Kansas</th>\n",
              "      <td>6.0</td>\n",
              "      <td>115</td>\n",
              "      <td>66</td>\n",
              "      <td>18.0</td>\n",
              "    </tr>\n",
              "    <tr>\n",
              "      <th>Kentucky</th>\n",
              "      <td>9.7</td>\n",
              "      <td>109</td>\n",
              "      <td>52</td>\n",
              "      <td>16.3</td>\n",
              "    </tr>\n",
              "    <tr>\n",
              "      <th>Louisiana</th>\n",
              "      <td>15.4</td>\n",
              "      <td>249</td>\n",
              "      <td>66</td>\n",
              "      <td>22.2</td>\n",
              "    </tr>\n",
              "    <tr>\n",
              "      <th>Maine</th>\n",
              "      <td>2.1</td>\n",
              "      <td>83</td>\n",
              "      <td>51</td>\n",
              "      <td>7.8</td>\n",
              "    </tr>\n",
              "    <tr>\n",
              "      <th>Maryland</th>\n",
              "      <td>11.3</td>\n",
              "      <td>300</td>\n",
              "      <td>67</td>\n",
              "      <td>27.8</td>\n",
              "    </tr>\n",
              "    <tr>\n",
              "      <th>Massachusetts</th>\n",
              "      <td>4.4</td>\n",
              "      <td>149</td>\n",
              "      <td>85</td>\n",
              "      <td>16.3</td>\n",
              "    </tr>\n",
              "    <tr>\n",
              "      <th>Michigan</th>\n",
              "      <td>12.1</td>\n",
              "      <td>255</td>\n",
              "      <td>74</td>\n",
              "      <td>35.1</td>\n",
              "    </tr>\n",
              "    <tr>\n",
              "      <th>Minnesota</th>\n",
              "      <td>2.7</td>\n",
              "      <td>72</td>\n",
              "      <td>66</td>\n",
              "      <td>14.9</td>\n",
              "    </tr>\n",
              "    <tr>\n",
              "      <th>Mississippi</th>\n",
              "      <td>16.1</td>\n",
              "      <td>259</td>\n",
              "      <td>44</td>\n",
              "      <td>17.1</td>\n",
              "    </tr>\n",
              "    <tr>\n",
              "      <th>Missouri</th>\n",
              "      <td>9.0</td>\n",
              "      <td>178</td>\n",
              "      <td>70</td>\n",
              "      <td>28.2</td>\n",
              "    </tr>\n",
              "    <tr>\n",
              "      <th>Montana</th>\n",
              "      <td>6.0</td>\n",
              "      <td>109</td>\n",
              "      <td>53</td>\n",
              "      <td>16.4</td>\n",
              "    </tr>\n",
              "    <tr>\n",
              "      <th>Nebraska</th>\n",
              "      <td>4.3</td>\n",
              "      <td>102</td>\n",
              "      <td>62</td>\n",
              "      <td>16.5</td>\n",
              "    </tr>\n",
              "    <tr>\n",
              "      <th>Nevada</th>\n",
              "      <td>12.2</td>\n",
              "      <td>252</td>\n",
              "      <td>81</td>\n",
              "      <td>46.0</td>\n",
              "    </tr>\n",
              "    <tr>\n",
              "      <th>New Hampshire</th>\n",
              "      <td>2.1</td>\n",
              "      <td>57</td>\n",
              "      <td>56</td>\n",
              "      <td>9.5</td>\n",
              "    </tr>\n",
              "    <tr>\n",
              "      <th>New Jersey</th>\n",
              "      <td>7.4</td>\n",
              "      <td>159</td>\n",
              "      <td>89</td>\n",
              "      <td>18.8</td>\n",
              "    </tr>\n",
              "    <tr>\n",
              "      <th>New Mexico</th>\n",
              "      <td>11.4</td>\n",
              "      <td>285</td>\n",
              "      <td>70</td>\n",
              "      <td>32.1</td>\n",
              "    </tr>\n",
              "    <tr>\n",
              "      <th>New York</th>\n",
              "      <td>11.1</td>\n",
              "      <td>254</td>\n",
              "      <td>86</td>\n",
              "      <td>26.1</td>\n",
              "    </tr>\n",
              "    <tr>\n",
              "      <th>North Carolina</th>\n",
              "      <td>13.0</td>\n",
              "      <td>337</td>\n",
              "      <td>45</td>\n",
              "      <td>16.1</td>\n",
              "    </tr>\n",
              "    <tr>\n",
              "      <th>North Dakota</th>\n",
              "      <td>0.8</td>\n",
              "      <td>45</td>\n",
              "      <td>44</td>\n",
              "      <td>7.3</td>\n",
              "    </tr>\n",
              "    <tr>\n",
              "      <th>Ohio</th>\n",
              "      <td>7.3</td>\n",
              "      <td>120</td>\n",
              "      <td>75</td>\n",
              "      <td>21.4</td>\n",
              "    </tr>\n",
              "    <tr>\n",
              "      <th>Oklahoma</th>\n",
              "      <td>6.6</td>\n",
              "      <td>151</td>\n",
              "      <td>68</td>\n",
              "      <td>20.0</td>\n",
              "    </tr>\n",
              "    <tr>\n",
              "      <th>Oregon</th>\n",
              "      <td>4.9</td>\n",
              "      <td>159</td>\n",
              "      <td>67</td>\n",
              "      <td>29.3</td>\n",
              "    </tr>\n",
              "    <tr>\n",
              "      <th>Pennsylvania</th>\n",
              "      <td>6.3</td>\n",
              "      <td>106</td>\n",
              "      <td>72</td>\n",
              "      <td>14.9</td>\n",
              "    </tr>\n",
              "    <tr>\n",
              "      <th>Rhode Island</th>\n",
              "      <td>3.4</td>\n",
              "      <td>174</td>\n",
              "      <td>87</td>\n",
              "      <td>8.3</td>\n",
              "    </tr>\n",
              "    <tr>\n",
              "      <th>South Carolina</th>\n",
              "      <td>14.4</td>\n",
              "      <td>279</td>\n",
              "      <td>48</td>\n",
              "      <td>22.5</td>\n",
              "    </tr>\n",
              "    <tr>\n",
              "      <th>South Dakota</th>\n",
              "      <td>3.8</td>\n",
              "      <td>86</td>\n",
              "      <td>45</td>\n",
              "      <td>12.8</td>\n",
              "    </tr>\n",
              "    <tr>\n",
              "      <th>Tennessee</th>\n",
              "      <td>13.2</td>\n",
              "      <td>188</td>\n",
              "      <td>59</td>\n",
              "      <td>26.9</td>\n",
              "    </tr>\n",
              "    <tr>\n",
              "      <th>Texas</th>\n",
              "      <td>12.7</td>\n",
              "      <td>201</td>\n",
              "      <td>80</td>\n",
              "      <td>25.5</td>\n",
              "    </tr>\n",
              "    <tr>\n",
              "      <th>Utah</th>\n",
              "      <td>3.2</td>\n",
              "      <td>120</td>\n",
              "      <td>80</td>\n",
              "      <td>22.9</td>\n",
              "    </tr>\n",
              "    <tr>\n",
              "      <th>Vermont</th>\n",
              "      <td>2.2</td>\n",
              "      <td>48</td>\n",
              "      <td>32</td>\n",
              "      <td>11.2</td>\n",
              "    </tr>\n",
              "    <tr>\n",
              "      <th>Virginia</th>\n",
              "      <td>8.5</td>\n",
              "      <td>156</td>\n",
              "      <td>63</td>\n",
              "      <td>20.7</td>\n",
              "    </tr>\n",
              "    <tr>\n",
              "      <th>Washington</th>\n",
              "      <td>4.0</td>\n",
              "      <td>145</td>\n",
              "      <td>73</td>\n",
              "      <td>26.2</td>\n",
              "    </tr>\n",
              "    <tr>\n",
              "      <th>West Virginia</th>\n",
              "      <td>5.7</td>\n",
              "      <td>81</td>\n",
              "      <td>39</td>\n",
              "      <td>9.3</td>\n",
              "    </tr>\n",
              "    <tr>\n",
              "      <th>Wisconsin</th>\n",
              "      <td>2.6</td>\n",
              "      <td>53</td>\n",
              "      <td>66</td>\n",
              "      <td>10.8</td>\n",
              "    </tr>\n",
              "    <tr>\n",
              "      <th>Wyoming</th>\n",
              "      <td>6.8</td>\n",
              "      <td>161</td>\n",
              "      <td>60</td>\n",
              "      <td>15.6</td>\n",
              "    </tr>\n",
              "  </tbody>\n",
              "</table>\n",
              "</div>"
            ],
            "text/plain": [
              "                Murder  Assault  UrbanPop  Rape\n",
              "Alabama           13.2      236        58  21.2\n",
              "Alaska            10.0      263        48  44.5\n",
              "Arizona            8.1      294        80  31.0\n",
              "Arkansas           8.8      190        50  19.5\n",
              "California         9.0      276        91  40.6\n",
              "Colorado           7.9      204        78  38.7\n",
              "Connecticut        3.3      110        77  11.1\n",
              "Delaware           5.9      238        72  15.8\n",
              "Florida           15.4      335        80  31.9\n",
              "Georgia           17.4      211        60  25.8\n",
              "Hawaii             5.3       46        83  20.2\n",
              "Idaho              2.6      120        54  14.2\n",
              "Illinois          10.4      249        83  24.0\n",
              "Indiana            7.2      113        65  21.0\n",
              "Iowa               2.2       56        57  11.3\n",
              "Kansas             6.0      115        66  18.0\n",
              "Kentucky           9.7      109        52  16.3\n",
              "Louisiana         15.4      249        66  22.2\n",
              "Maine              2.1       83        51   7.8\n",
              "Maryland          11.3      300        67  27.8\n",
              "Massachusetts      4.4      149        85  16.3\n",
              "Michigan          12.1      255        74  35.1\n",
              "Minnesota          2.7       72        66  14.9\n",
              "Mississippi       16.1      259        44  17.1\n",
              "Missouri           9.0      178        70  28.2\n",
              "Montana            6.0      109        53  16.4\n",
              "Nebraska           4.3      102        62  16.5\n",
              "Nevada            12.2      252        81  46.0\n",
              "New Hampshire      2.1       57        56   9.5\n",
              "New Jersey         7.4      159        89  18.8\n",
              "New Mexico        11.4      285        70  32.1\n",
              "New York          11.1      254        86  26.1\n",
              "North Carolina    13.0      337        45  16.1\n",
              "North Dakota       0.8       45        44   7.3\n",
              "Ohio               7.3      120        75  21.4\n",
              "Oklahoma           6.6      151        68  20.0\n",
              "Oregon             4.9      159        67  29.3\n",
              "Pennsylvania       6.3      106        72  14.9\n",
              "Rhode Island       3.4      174        87   8.3\n",
              "South Carolina    14.4      279        48  22.5\n",
              "South Dakota       3.8       86        45  12.8\n",
              "Tennessee         13.2      188        59  26.9\n",
              "Texas             12.7      201        80  25.5\n",
              "Utah               3.2      120        80  22.9\n",
              "Vermont            2.2       48        32  11.2\n",
              "Virginia           8.5      156        63  20.7\n",
              "Washington         4.0      145        73  26.2\n",
              "West Virginia      5.7       81        39   9.3\n",
              "Wisconsin          2.6       53        66  10.8\n",
              "Wyoming            6.8      161        60  15.6"
            ]
          },
          "execution_count": 128,
          "metadata": {},
          "output_type": "execute_result"
        }
      ],
      "source": [
        "import statsmodels.api as sm\n",
        "USArrests = sm.datasets.get_rdataset(\"USArrests\", \"datasets\")\n",
        "datos = USArrests.data\n",
        "datos.info()\n",
        "datos"
      ]
    },
    {
      "cell_type": "markdown",
      "metadata": {
        "id": "TqG7BCOjNu7x"
      },
      "source": [
        "##### **Análisis de correlaciones**"
      ]
    },
    {
      "cell_type": "code",
      "execution_count": 129,
      "metadata": {
        "id": "d91MH-B0N8bz"
      },
      "outputs": [
        {
          "name": "stdout",
          "output_type": "stream",
          "text": [
            "Murder      0.801873\n",
            "Assault     1.000000\n",
            "UrbanPop    0.258872\n",
            "Rape        0.665241\n",
            "Name: Assault, dtype: float64\n"
          ]
        }
      ],
      "source": [
        "import numpy as np\n",
        "# Correlaciones entre variables y con la variable dependiente (que cojo como Assault)\n",
        "correlations = datos.corr().iloc[:,1] # (variables dependiente)\n",
        "print(correlations)\n",
        "\n",
        "# Veo que lo tengo variables con muy poca relacion. P. ej, eliminar columnas con correlacion <0.3"
      ]
    },
    {
      "cell_type": "markdown",
      "metadata": {
        "id": "sTJr_xqNN11k"
      },
      "source": [
        "##### **PCA**"
      ]
    },
    {
      "cell_type": "code",
      "execution_count": 130,
      "metadata": {
        "id": "I5M507CPwFR_"
      },
      "outputs": [],
      "source": [
        "from sklearn.decomposition import PCA\n",
        "from sklearn.pipeline import make_pipeline\n",
        "from sklearn.preprocessing import StandardScaler\n",
        "from sklearn.preprocessing import scale\n",
        "\n",
        "pca_pipe = make_pipeline(StandardScaler(), PCA())\n",
        "pca_pipe.fit(datos)\n",
        "\n",
        "# Se extrae el modelo entrenado del pipeline\n",
        "modelo_pca = pca_pipe.named_steps['pca']"
      ]
    },
    {
      "cell_type": "code",
      "execution_count": 131,
      "metadata": {
        "id": "L4kf4HffwPVc"
      },
      "outputs": [
        {
          "data": {
            "text/html": [
              "<div>\n",
              "<style scoped>\n",
              "    .dataframe tbody tr th:only-of-type {\n",
              "        vertical-align: middle;\n",
              "    }\n",
              "\n",
              "    .dataframe tbody tr th {\n",
              "        vertical-align: top;\n",
              "    }\n",
              "\n",
              "    .dataframe thead th {\n",
              "        text-align: right;\n",
              "    }\n",
              "</style>\n",
              "<table border=\"1\" class=\"dataframe\">\n",
              "  <thead>\n",
              "    <tr style=\"text-align: right;\">\n",
              "      <th></th>\n",
              "      <th>Murder</th>\n",
              "      <th>Assault</th>\n",
              "      <th>UrbanPop</th>\n",
              "      <th>Rape</th>\n",
              "    </tr>\n",
              "  </thead>\n",
              "  <tbody>\n",
              "    <tr>\n",
              "      <th>PC1</th>\n",
              "      <td>0.535899</td>\n",
              "      <td>0.583184</td>\n",
              "      <td>0.278191</td>\n",
              "      <td>0.543432</td>\n",
              "    </tr>\n",
              "    <tr>\n",
              "      <th>PC2</th>\n",
              "      <td>0.418181</td>\n",
              "      <td>0.187986</td>\n",
              "      <td>-0.872806</td>\n",
              "      <td>-0.167319</td>\n",
              "    </tr>\n",
              "    <tr>\n",
              "      <th>PC3</th>\n",
              "      <td>-0.341233</td>\n",
              "      <td>-0.268148</td>\n",
              "      <td>-0.378016</td>\n",
              "      <td>0.817778</td>\n",
              "    </tr>\n",
              "    <tr>\n",
              "      <th>PC4</th>\n",
              "      <td>0.649228</td>\n",
              "      <td>-0.743407</td>\n",
              "      <td>0.133878</td>\n",
              "      <td>0.089024</td>\n",
              "    </tr>\n",
              "  </tbody>\n",
              "</table>\n",
              "</div>"
            ],
            "text/plain": [
              "       Murder   Assault  UrbanPop      Rape\n",
              "PC1  0.535899  0.583184  0.278191  0.543432\n",
              "PC2  0.418181  0.187986 -0.872806 -0.167319\n",
              "PC3 -0.341233 -0.268148 -0.378016  0.817778\n",
              "PC4  0.649228 -0.743407  0.133878  0.089024"
            ]
          },
          "execution_count": 131,
          "metadata": {},
          "output_type": "execute_result"
        }
      ],
      "source": [
        "pd.DataFrame(\n",
        "    data    = modelo_pca.components_,\n",
        "    columns = datos.columns,\n",
        "    index   = ['PC1', 'PC2', 'PC3', 'PC4']\n",
        ")"
      ]
    },
    {
      "cell_type": "markdown",
      "metadata": {
        "id": "Jmi15HxQhYT6"
      },
      "source": [
        "**PC1**=0.535899 Murder + 0.583184 Assault + 0.278191 UrbanPop + 0.543432 Rape\n",
        "\n",
        "Se obtiene que cada PC es una combinacion lineal de los diferentes datos que tengo.\n",
        "\n",
        "***Falta añadir una celda que tiene que pasarnos***"
      ]
    },
    {
      "cell_type": "markdown",
      "metadata": {
        "id": "xP3Ip2kMGU-_"
      },
      "source": [
        "### **Codificación de los datos (*Feature encoding*)**\n",
        "El principal objetivo del preprocesado de datos es convertir los datos a un formato entendible por los algoritmos de aprendizaje automático (darselo más fácil). Existen varias reglas en relación a la codificación de datos:\n",
        "\n",
        "\n",
        "Si las variables son categóricas:\n",
        "\n",
        "*   Nominales: mantener el significado de las categorías (*One-Hot-Encoding*,*Label Encoder* )\n",
        "*   Ordinales: mantener el order de las categorías (*Ordinal-Encoding*, *Label Encoder*)\n",
        "\n",
        "Si las variables son numéricas:\n",
        "\n",
        "*   Intervalos: tranformaciones matemáticas como $new = a* old + b$ siendo $a$ y $b$ constantes.\n",
        "*   Ratios: cualquier tipos de escalados se puede aplicar (manteniendo el significado de los valores). "
      ]
    },
    {
      "cell_type": "code",
      "execution_count": 132,
      "metadata": {
        "id": "VbmeSeqbzYqV"
      },
      "outputs": [
        {
          "name": "stdout",
          "output_type": "stream",
          "text": [
            "   Ids Countries\n",
            "0   11     Spain\n",
            "1   22    France\n",
            "2   33     Spain\n",
            "3   44   Germany\n",
            "4   55    France\n"
          ]
        }
      ],
      "source": [
        "import pandas as pd\n",
        "\n",
        "ids = [11, 22, 33, 44, 55, 66, 77]\n",
        "countries = ['Spain', 'France', 'Spain', 'Germany', 'France']\n",
        "\n",
        "df = pd.DataFrame(list(zip(ids, countries)),\n",
        "                  columns=['Ids', 'Countries'])\n",
        "print(df)"
      ]
    },
    {
      "cell_type": "code",
      "execution_count": 133,
      "metadata": {
        "id": "MJfnC7ic4mUZ"
      },
      "outputs": [
        {
          "name": "stdout",
          "output_type": "stream",
          "text": [
            "[['Spain']\n",
            " ['France']\n",
            " ['Spain']\n",
            " ['Germany']\n",
            " ['France']]\n",
            "[[0. 0. 1.]\n",
            " [1. 0. 0.]\n",
            " [0. 0. 1.]\n",
            " [0. 1. 0.]\n",
            " [1. 0. 0.]]\n"
          ]
        },
        {
          "data": {
            "text/html": [
              "<div>\n",
              "<style scoped>\n",
              "    .dataframe tbody tr th:only-of-type {\n",
              "        vertical-align: middle;\n",
              "    }\n",
              "\n",
              "    .dataframe tbody tr th {\n",
              "        vertical-align: top;\n",
              "    }\n",
              "\n",
              "    .dataframe thead th {\n",
              "        text-align: right;\n",
              "    }\n",
              "</style>\n",
              "<table border=\"1\" class=\"dataframe\">\n",
              "  <thead>\n",
              "    <tr style=\"text-align: right;\">\n",
              "      <th></th>\n",
              "      <th>0</th>\n",
              "      <th>1</th>\n",
              "      <th>2</th>\n",
              "    </tr>\n",
              "    <tr>\n",
              "      <th>Countries</th>\n",
              "      <th></th>\n",
              "      <th></th>\n",
              "      <th></th>\n",
              "    </tr>\n",
              "  </thead>\n",
              "  <tbody>\n",
              "    <tr>\n",
              "      <th>Spain</th>\n",
              "      <td>0.0</td>\n",
              "      <td>0.0</td>\n",
              "      <td>1.0</td>\n",
              "    </tr>\n",
              "    <tr>\n",
              "      <th>France</th>\n",
              "      <td>1.0</td>\n",
              "      <td>0.0</td>\n",
              "      <td>0.0</td>\n",
              "    </tr>\n",
              "    <tr>\n",
              "      <th>Spain</th>\n",
              "      <td>0.0</td>\n",
              "      <td>0.0</td>\n",
              "      <td>1.0</td>\n",
              "    </tr>\n",
              "    <tr>\n",
              "      <th>Germany</th>\n",
              "      <td>0.0</td>\n",
              "      <td>1.0</td>\n",
              "      <td>0.0</td>\n",
              "    </tr>\n",
              "    <tr>\n",
              "      <th>France</th>\n",
              "      <td>1.0</td>\n",
              "      <td>0.0</td>\n",
              "      <td>0.0</td>\n",
              "    </tr>\n",
              "  </tbody>\n",
              "</table>\n",
              "</div>"
            ],
            "text/plain": [
              "             0    1    2\n",
              "Countries               \n",
              "Spain      0.0  0.0  1.0\n",
              "France     1.0  0.0  0.0\n",
              "Spain      0.0  0.0  1.0\n",
              "Germany    0.0  1.0  0.0\n",
              "France     1.0  0.0  0.0"
            ]
          },
          "execution_count": 133,
          "metadata": {},
          "output_type": "execute_result"
        }
      ],
      "source": [
        "# Categóricas Nominales\n",
        "from sklearn.preprocessing import OneHotEncoder\n",
        "x=np.array(df.iloc[:,1]).reshape(-1,1)\n",
        "print(x)\n",
        "\n",
        "x = OneHotEncoder().fit_transform(x).toarray()\n",
        "print(x)\n",
        "\n",
        "x = pd.DataFrame(\n",
        "    x,\n",
        "    index = df.loc[:,'Countries']\n",
        ")\n",
        "x\n",
        "\n",
        "# Hemos pasado las coordenadas ordinales a unos vecotres asociados con 0 y 1"
      ]
    },
    {
      "cell_type": "code",
      "execution_count": 134,
      "metadata": {
        "id": "X88yj4m5IOHQ"
      },
      "outputs": [
        {
          "name": "stdout",
          "output_type": "stream",
          "text": [
            "[[11]\n",
            " [22]\n",
            " [33]\n",
            " [44]\n",
            " [55]]\n"
          ]
        },
        {
          "data": {
            "text/plain": [
              "array([[0.],\n",
              "       [1.],\n",
              "       [2.],\n",
              "       [3.],\n",
              "       [4.]])"
            ]
          },
          "execution_count": 134,
          "metadata": {},
          "output_type": "execute_result"
        }
      ],
      "source": [
        "# Categóricas Ordinales\n",
        "from sklearn.preprocessing import OrdinalEncoder\n",
        "x=np.array(df.iloc[:,0]).reshape(-1,1)\n",
        "print(x)\n",
        "\n",
        "x = OrdinalEncoder().fit_transform(x)\n",
        "x\n",
        "\n"
      ]
    },
    {
      "cell_type": "code",
      "execution_count": 135,
      "metadata": {
        "id": "lxFAojHp9ZbT"
      },
      "outputs": [
        {
          "name": "stdout",
          "output_type": "stream",
          "text": [
            "[[ 0  2  5]\n",
            " [ 4  1  8]\n",
            " [10 10  3]\n",
            " [ 1  1  1]]\n",
            "[[-0.96225045 -0.39735971  0.29002095]\n",
            " [ 0.06415003 -0.66226618  1.45010473]\n",
            " [ 1.60375075  1.72189206 -0.48336824]\n",
            " [-0.70565033 -0.66226618 -1.25675744]]\n"
          ]
        }
      ],
      "source": [
        "# Numéricas (Escalado: y = (x – mean) / standard_deviation)\n",
        "from sklearn.preprocessing import StandardScaler\n",
        "data = np.array([[0, 2,5], [4, 1,8], [10, 10,3], [1, 1,1]])\n",
        "print(data)\n",
        "\n",
        "data = StandardScaler().fit_transform(data)\n",
        "print(data)"
      ]
    },
    {
      "cell_type": "code",
      "execution_count": 136,
      "metadata": {
        "id": "YdcHdnOb-TY7"
      },
      "outputs": [
        {
          "name": "stdout",
          "output_type": "stream",
          "text": [
            "[[ 0  2  5]\n",
            " [ 4  1  8]\n",
            " [10 10  3]\n",
            " [ 1  1  1]]\n",
            "[[0.         0.11111111 0.57142857]\n",
            " [0.4        0.         1.        ]\n",
            " [1.         1.         0.28571429]\n",
            " [0.1        0.         0.        ]]\n"
          ]
        }
      ],
      "source": [
        "# Numéricas (Normalización: y = (x – min) / (max – min))\n",
        "from sklearn.preprocessing import MinMaxScaler\n",
        "data = np.array([[0, 2,5], [4, 1,8], [10, 10,3], [1, 1,1]])\n",
        "print(data)\n",
        "\n",
        "scaler_minmax = MinMaxScaler(feature_range=(0,1)).fit(data)  # En lugar de fit_transform puedo crear el transformador con unos parametros\n",
        "data = scaler_minmax.transform(data)  # Y despues puedo usarlo para transformar los datos\n",
        "print(data)\n"
      ]
    },
    {
      "cell_type": "markdown",
      "metadata": {
        "id": "HM7drwIrIOmY"
      },
      "source": [
        "### **División de los datos (*Data split*)**\n",
        "Los algoritmos de aprendizaje artificial (*Machine Learning*) tienen que ser entrenados con los datos disponibles, y después ser validados y testeados, antes de llegar a aplicarlos en el mundo real.\n",
        "\n",
        "\n",
        "\n",
        "*   **Datos de entrenamiento (Training data)**: donde realmente se entrena el algoritmo. Intenta aprender las características y patrones de los datos (cuidado con *overfitting/underfitting*).\n",
        "*   **Datos de validación (Validation data)**: se usa para validar diferentes ajustes del modelo. De esta forma, se elegirán y mejorarán los hiperparámetros del modelo. Con esta muestra, el modelo no entrena sino que mejora los valores de los hiperparámetros.\n",
        "*   **Datos de test (Test data)**: esta parte se  usa para poner a prueba la hipótesis del modelo. Una vez se tiene decidido el modelo y sus hiperparámetros, el modelo se aplica en esta muestra apartada para medir la precisión que tendrá cuando se aplique en el mundo real.\n",
        "\n",
        "\n",
        "Las proporciones de esta división depende del modelo que se esté contruyendo y de los datos disponibles. Por ejemplo, si se utilizan algoritmos que necesitan muchos datos para entrenarse bien, se dejará una gran porción para entrenamiento. En cambio, si tenemos muchos hiperparámetros que ajustar se recomienda dejar una proción significativa para la validación."
      ]
    },
    {
      "cell_type": "code",
      "execution_count": 137,
      "metadata": {
        "id": "G7JfDHkEKvR-"
      },
      "outputs": [
        {
          "name": "stdout",
          "output_type": "stream",
          "text": [
            "       0    1    2    3\n",
            "0    5.1  3.5  1.4  0.2\n",
            "1    4.9  3.0  1.4  0.2\n",
            "2    4.7  3.2  1.3  0.2\n",
            "3    4.6  3.1  1.5  0.2\n",
            "4    5.0  3.6  1.4  0.2\n",
            "..   ...  ...  ...  ...\n",
            "145  6.7  3.0  5.2  2.3\n",
            "146  6.3  2.5  5.0  1.9\n",
            "147  6.5  3.0  5.2  2.0\n",
            "148  6.2  3.4  5.4  2.3\n",
            "149  5.9  3.0  5.1  1.8\n",
            "\n",
            "[150 rows x 4 columns]\n",
            "     0\n",
            "0    0\n",
            "1    0\n",
            "2    0\n",
            "3    0\n",
            "4    0\n",
            "..  ..\n",
            "145  2\n",
            "146  2\n",
            "147  2\n",
            "148  2\n",
            "149  2\n",
            "\n",
            "[150 rows x 1 columns]\n"
          ]
        }
      ],
      "source": [
        "from sklearn.datasets import load_iris\n",
        "iris = load_iris()\n",
        "x = pd.DataFrame(iris.data)\n",
        "y = pd.DataFrame(iris.target)\n",
        "print(x)\n",
        "print(y)"
      ]
    },
    {
      "cell_type": "code",
      "execution_count": 138,
      "metadata": {
        "id": "i2qCCXiA_hso"
      },
      "outputs": [
        {
          "name": "stdout",
          "output_type": "stream",
          "text": [
            "(150, 4)\n",
            "(102, 4)\n",
            "(30, 4)\n",
            "(18, 4)\n"
          ]
        }
      ],
      "source": [
        "from sklearn.model_selection import train_test_split\n",
        "X_train, X_test, y_train, y_test = train_test_split(x, y, test_size=0.2)\n",
        "X_train, X_val, y_train, y_val = train_test_split(X_train, y_train, test_size=0.15)\n",
        "\n",
        "print(x.shape)\n",
        "print(X_train.shape)\n",
        "print(X_test.shape)\n",
        "print(X_val.shape)"
      ]
    },
    {
      "cell_type": "markdown",
      "metadata": {
        "id": "DaDrcp5r6ybz"
      },
      "source": [
        "### 1.3 **DETECCIÓN DE OUTLIERS** ([link](https://machinelearningmastery.com/model-based-outlier-detection-and-removal-in-python/))\n",
        "\n",
        "\n",
        "---\n",
        "Los *outliers* son observaciones que, dentro de un conjunto de datos, no encajan por alguna razón. Este tipo de datos pueden distorsionar o sesgar nuestra muestra, proporcionando una imagen engañosa de las relaciones subyacentes en los datos, afectando en última instancia al rendimiento de los algoritmos. \n",
        "\n",
        "Puede ser clave indentificar y eliminar outliers de nuestra muestra a la hora de entrenar modelos predictivos. El ajuste del modelo puede mejorar significativamente.\n",
        "\n",
        "A continuación vamos a mostrar algunos algoritmos con los que poder detectar este tipo de datos:\n"
      ]
    },
    {
      "cell_type": "code",
      "execution_count": 139,
      "metadata": {
        "id": "xi0gI7hIyrLB"
      },
      "outputs": [
        {
          "name": "stdout",
          "output_type": "stream",
          "text": [
            "    C1  C2\n",
            "0    1   0\n",
            "1    0   0\n",
            "2    1   1\n",
            "3    0   1\n",
            "4    0   1\n",
            "5    1   1\n",
            "6    1   1\n",
            "7    1   1\n",
            "8    1   1\n",
            "9    1   1\n",
            "10   1   1\n",
            "11  10   1\n",
            "12   1   1\n",
            "13   1   1\n",
            "14   1  10\n"
          ]
        }
      ],
      "source": [
        "from scipy.stats import zscore\n",
        "\n",
        "dframe = pd.DataFrame([[1,0],[0,0],[1,1],[0,1],[0,1],[1,1],[1,1],[1,1],[1,1],[1,1],[1,1],[10,1],[1,1],[1,1],[1,10]], columns=['C1','C2'])\n",
        "print(dframe)"
      ]
    },
    {
      "cell_type": "code",
      "execution_count": 140,
      "metadata": {
        "id": "8HTaXR6nBo8U"
      },
      "outputs": [
        {
          "data": {
            "text/plain": [
              "<AxesSubplot:xlabel='C2'>"
            ]
          },
          "execution_count": 140,
          "metadata": {},
          "output_type": "execute_result"
        },
        {
          "data": {
            "image/png": "[encoded data removed]",
            "text/plain": [
              "<Figure size 432x288 with 1 Axes>"
            ]
          },
          "metadata": {
            "needs_background": "light"
          },
          "output_type": "display_data"
        }
      ],
      "source": [
        "# Boxplot\n",
        "import seaborn as sns\n",
        "\n",
        "sns.boxplot(x=dframe['C2'])"
      ]
    },
    {
      "cell_type": "code",
      "execution_count": 141,
      "metadata": {
        "id": "xS6Q6PJtC6I8"
      },
      "outputs": [
        {
          "name": "stdout",
          "output_type": "stream",
          "text": [
            "Outliers en C1 son (array([11]),)\n",
            "Outliers en C2 son (array([14]),)\n",
            "Outliers en conjunto son (array([11, 14]), array([0, 1]))\n"
          ]
        }
      ],
      "source": [
        "from scipy import stats\n",
        "import numpy as np\n",
        "\n",
        "# ZSCORE\n",
        "# La puntuación Z es el número de desviaciones estándar\n",
        "# con signo en el que el valor de una observación o punto \n",
        "# de datos está por encima del valor medio de lo que se observa\n",
        "\n",
        "# El criterio más utilizado es definir el limite para estos valores en 3 desviaciones\n",
        "\n",
        "z = np.abs(stats.zscore(dframe['C1']))\n",
        "print('Outliers en C1 son', np.where(z >3))\n",
        "\n",
        "z = np.abs(stats.zscore(dframe['C2']))\n",
        "print('Outliers en C2 son', np.where(z >3))\n",
        "\n",
        "z = np.abs(stats.zscore(dframe))\n",
        "print('Outliers en conjunto son', np.where(z >3)) # orden de importancia"
      ]
    },
    {
      "cell_type": "markdown",
      "metadata": {
        "id": "n9m7tZFR61u-"
      },
      "source": [
        "### **1.4 PRIMEROS MODELOS DE REGRESIÓN Y CLASIFICACIÓN**\n",
        "---\n",
        "Veremos modelos más clásicos para abordar problemas de regresión y clasificación:\n"
      ]
    },
    {
      "cell_type": "markdown",
      "metadata": {
        "id": "OoQvrHWEzIiN"
      },
      "source": [
        "#### **REGRESIÓN**\n",
        "\n",
        "\n",
        "*    [Linear regression](https://www.iartificial.net/regresion-lineal-con-ejemplos-en-python/)\n",
        "  <img src='https://drive.google.com/uc?id=1xKT_V2ni_d7N_ET1TXHsH6IFe08g1330' width=350px >\n",
        "\n",
        "  Imagen de [economipedia](https://economipedia.com/definiciones/modelo-de-regresion.html)\n",
        "\n",
        "\n",
        "*    [Random Forest](https://builtin-com.translate.goog/data-science/random-forest-algorithm?_x_tr_sl=en&_x_tr_tl=es&_x_tr_hl=es&_x_tr_pto=sc)\n",
        "\n",
        "  <img src='https://drive.google.com/uc?id=1nLdnSFMi7MpubGjsRt0z3gpa5lpOcYXJ' width=350px >\n",
        "\n",
        "  Imagen de [medium](https://medium.com/swlh/random-forest-and-its-implementation-71824ced454f)\n",
        "\n",
        "\n",
        "*   [Support Vector Machine](https://www-aionlinecourse-com.translate.goog/tutorial/machine-learning/support-vector-regression?_x_tr_sl=en&_x_tr_tl=es&_x_tr_hl=es&_x_tr_pto=sc)\n",
        "\n",
        "  <img src='https://drive.google.com/uc?id=1E-bXvIcRMsWhF1ldL-IeMNgholrIgFoL' width=350px height=200px >\n",
        "\n",
        "  Imagen de [saedsayad](https://www.saedsayad.com/support_vector_machine_reg.htm)\n",
        "\n",
        "\n",
        "\n",
        "\n",
        "\n"
      ]
    },
    {
      "cell_type": "markdown",
      "metadata": {
        "id": "0cUZkF4EZAAd"
      },
      "source": [
        "**DATOS: Meteorología de 2016 en Seatle**\n",
        "\n",
        "---\n"
      ]
    },
    {
      "cell_type": "code",
      "execution_count": 142,
      "metadata": {
        "id": "LTk_n-WXUS0x"
      },
      "outputs": [
        {
          "name": "stdout",
          "output_type": "stream",
          "text": [
            "   month  day  week  temp_2  temp_1  actual  forecast_noaa  forecast_acc  \\\n",
            "0      1    1   Fri      45      45      45             43            50   \n",
            "1      1    2   Sat      44      45      44             41            50   \n",
            "2      1    3   Sun      45      44      41             43            46   \n",
            "3      1    4   Mon      44      41      40             44            48   \n",
            "4      1    5  Tues      41      40      44             46            46   \n",
            "\n",
            "   forecast_under  friend  \n",
            "0              44      29  \n",
            "1              44      61  \n",
            "2              47      56  \n",
            "3              46      53  \n",
            "4              46      41  \n",
            "            month         day      temp_2      temp_1      actual  \\\n",
            "count  348.000000  348.000000  348.000000  348.000000  348.000000   \n",
            "mean     6.477011   15.514368   62.652299   62.701149   62.543103   \n",
            "std      3.498380    8.772982   12.165398   12.120542   11.794146   \n",
            "min      1.000000    1.000000   35.000000   35.000000   35.000000   \n",
            "25%      3.000000    8.000000   54.000000   54.000000   54.000000   \n",
            "50%      6.000000   15.000000   62.500000   62.500000   62.500000   \n",
            "75%     10.000000   23.000000   71.000000   71.000000   71.000000   \n",
            "max     12.000000   31.000000  117.000000  117.000000   92.000000   \n",
            "\n",
            "       forecast_noaa  forecast_acc  forecast_under      friend  \n",
            "count     348.000000    348.000000      348.000000  348.000000  \n",
            "mean       57.238506     62.373563       59.772989   60.034483  \n",
            "std        10.605746     10.549381       10.705256   15.626179  \n",
            "min        41.000000     46.000000       44.000000   28.000000  \n",
            "25%        48.000000     53.000000       50.000000   47.750000  \n",
            "50%        56.000000     61.000000       58.000000   60.000000  \n",
            "75%        66.000000     72.000000       69.000000   71.000000  \n",
            "max        77.000000     82.000000       79.000000   95.000000  \n",
            "0        Fri\n",
            "1        Sat\n",
            "2        Sun\n",
            "3        Mon\n",
            "4       Tues\n",
            "       ...  \n",
            "343     Tues\n",
            "344      Wed\n",
            "345    Thurs\n",
            "346      Fri\n",
            "347      Sat\n",
            "Name: week, Length: 348, dtype: object\n"
          ]
        }
      ],
      "source": [
        "import pandas as pd\n",
        "data = pd.read_csv('/media/eloi/ELOI/UNED/Cursos de Extension/Python Avanzado/Clases/Dia_3/Data_dia_3/meteo.csv', sep=';')\n",
        "print(data.head())\n",
        "print(data.describe())\n",
        "print(data['week'])"
      ]
    },
    {
      "cell_type": "markdown",
      "metadata": {
        "id": "D65Gu034W44P"
      },
      "source": [
        "Tranformemos la variable categórica *week* (Feature Encoding)."
      ]
    },
    {
      "cell_type": "code",
      "execution_count": 143,
      "metadata": {
        "id": "cH-5L7rsWK5s"
      },
      "outputs": [
        {
          "data": {
            "text/html": [
              "<div>\n",
              "<style scoped>\n",
              "    .dataframe tbody tr th:only-of-type {\n",
              "        vertical-align: middle;\n",
              "    }\n",
              "\n",
              "    .dataframe tbody tr th {\n",
              "        vertical-align: top;\n",
              "    }\n",
              "\n",
              "    .dataframe thead th {\n",
              "        text-align: right;\n",
              "    }\n",
              "</style>\n",
              "<table border=\"1\" class=\"dataframe\">\n",
              "  <thead>\n",
              "    <tr style=\"text-align: right;\">\n",
              "      <th></th>\n",
              "      <th>forecast_noaa</th>\n",
              "      <th>forecast_acc</th>\n",
              "      <th>forecast_under</th>\n",
              "      <th>friend</th>\n",
              "      <th>week_Fri</th>\n",
              "      <th>week_Mon</th>\n",
              "      <th>week_Sat</th>\n",
              "      <th>week_Sun</th>\n",
              "      <th>week_Thurs</th>\n",
              "      <th>week_Tues</th>\n",
              "      <th>week_Wed</th>\n",
              "    </tr>\n",
              "  </thead>\n",
              "  <tbody>\n",
              "    <tr>\n",
              "      <th>0</th>\n",
              "      <td>43</td>\n",
              "      <td>50</td>\n",
              "      <td>44</td>\n",
              "      <td>29</td>\n",
              "      <td>1</td>\n",
              "      <td>0</td>\n",
              "      <td>0</td>\n",
              "      <td>0</td>\n",
              "      <td>0</td>\n",
              "      <td>0</td>\n",
              "      <td>0</td>\n",
              "    </tr>\n",
              "    <tr>\n",
              "      <th>1</th>\n",
              "      <td>41</td>\n",
              "      <td>50</td>\n",
              "      <td>44</td>\n",
              "      <td>61</td>\n",
              "      <td>0</td>\n",
              "      <td>0</td>\n",
              "      <td>1</td>\n",
              "      <td>0</td>\n",
              "      <td>0</td>\n",
              "      <td>0</td>\n",
              "      <td>0</td>\n",
              "    </tr>\n",
              "    <tr>\n",
              "      <th>2</th>\n",
              "      <td>43</td>\n",
              "      <td>46</td>\n",
              "      <td>47</td>\n",
              "      <td>56</td>\n",
              "      <td>0</td>\n",
              "      <td>0</td>\n",
              "      <td>0</td>\n",
              "      <td>1</td>\n",
              "      <td>0</td>\n",
              "      <td>0</td>\n",
              "      <td>0</td>\n",
              "    </tr>\n",
              "    <tr>\n",
              "      <th>3</th>\n",
              "      <td>44</td>\n",
              "      <td>48</td>\n",
              "      <td>46</td>\n",
              "      <td>53</td>\n",
              "      <td>0</td>\n",
              "      <td>1</td>\n",
              "      <td>0</td>\n",
              "      <td>0</td>\n",
              "      <td>0</td>\n",
              "      <td>0</td>\n",
              "      <td>0</td>\n",
              "    </tr>\n",
              "    <tr>\n",
              "      <th>4</th>\n",
              "      <td>46</td>\n",
              "      <td>46</td>\n",
              "      <td>46</td>\n",
              "      <td>41</td>\n",
              "      <td>0</td>\n",
              "      <td>0</td>\n",
              "      <td>0</td>\n",
              "      <td>0</td>\n",
              "      <td>0</td>\n",
              "      <td>1</td>\n",
              "      <td>0</td>\n",
              "    </tr>\n",
              "  </tbody>\n",
              "</table>\n",
              "</div>"
            ],
            "text/plain": [
              "   forecast_noaa  forecast_acc  forecast_under  friend  week_Fri  week_Mon  \\\n",
              "0             43            50              44      29         1         0   \n",
              "1             41            50              44      61         0         0   \n",
              "2             43            46              47      56         0         0   \n",
              "3             44            48              46      53         0         1   \n",
              "4             46            46              46      41         0         0   \n",
              "\n",
              "   week_Sat  week_Sun  week_Thurs  week_Tues  week_Wed  \n",
              "0         0         0           0          0         0  \n",
              "1         1         0           0          0         0  \n",
              "2         0         1           0          0         0  \n",
              "3         0         0           0          0         0  \n",
              "4         0         0           0          1         0  "
            ]
          },
          "execution_count": 143,
          "metadata": {},
          "output_type": "execute_result"
        }
      ],
      "source": [
        "# One-hot encode the data using pandas get_dummies\n",
        "data_regression = pd.get_dummies(data)\n",
        "\n",
        "data_regression.iloc[:,5:].head()\n",
        "# Hemos cambiado los dias de la semana por columnas separadas cada una con el valor 1 o 0"
      ]
    },
    {
      "cell_type": "code",
      "execution_count": 144,
      "metadata": {
        "id": "F2S01KlfYmta"
      },
      "outputs": [
        {
          "name": "stdout",
          "output_type": "stream",
          "text": [
            "[[0.         0.         0.12195122 ... 0.         0.         0.        ]\n",
            " [0.         0.03333333 0.1097561  ... 0.         0.         0.        ]\n",
            " [0.         0.06666667 0.12195122 ... 0.         0.         0.        ]\n",
            " ...\n",
            " [1.         0.93333333 0.14634146 ... 1.         0.         0.        ]\n",
            " [1.         0.96666667 0.15853659 ... 0.         0.         0.        ]\n",
            " [1.         1.         0.15853659 ... 0.         0.         0.        ]]\n",
            "[[0.1754386 ]\n",
            " [0.15789474]\n",
            " [0.10526316]\n",
            " [0.0877193 ]\n",
            " [0.15789474]\n",
            " [0.28070175]\n",
            " [0.1754386 ]\n",
            " [0.22807018]\n",
            " [0.26315789]\n",
            " [0.29824561]\n",
            " [0.1754386 ]\n",
            " [0.24561404]\n",
            " [0.35087719]\n",
            " [0.24561404]\n",
            " [0.22807018]\n",
            " [0.33333333]\n",
            " [0.26315789]\n",
            " [0.33333333]\n",
            " [0.22807018]\n",
            " [0.29824561]\n",
            " [0.29824561]\n",
            " [0.38596491]\n",
            " [0.22807018]\n",
            " [0.28070175]\n",
            " [0.33333333]\n",
            " [0.36842105]\n",
            " [0.38596491]\n",
            " [0.36842105]\n",
            " [0.29824561]\n",
            " [0.22807018]\n",
            " [0.21052632]\n",
            " [0.19298246]\n",
            " [0.28070175]\n",
            " [0.24561404]\n",
            " [0.24561404]\n",
            " [0.31578947]\n",
            " [0.24561404]\n",
            " [0.28070175]\n",
            " [0.38596491]\n",
            " [0.47368421]\n",
            " [0.36842105]\n",
            " [0.35087719]\n",
            " [0.40350877]\n",
            " [0.35087719]\n",
            " [0.36842105]\n",
            " [0.38596491]\n",
            " [0.31578947]\n",
            " [0.28070175]\n",
            " [0.31578947]\n",
            " [0.28070175]\n",
            " [0.28070175]\n",
            " [0.43859649]\n",
            " [0.42105263]\n",
            " [0.45614035]\n",
            " [0.43859649]\n",
            " [0.38596491]\n",
            " [0.31578947]\n",
            " [0.40350877]\n",
            " [0.35087719]\n",
            " [0.42105263]\n",
            " [0.38596491]\n",
            " [0.50877193]\n",
            " [0.43859649]\n",
            " [0.31578947]\n",
            " [0.33333333]\n",
            " [0.35087719]\n",
            " [0.36842105]\n",
            " [0.35087719]\n",
            " [0.29824561]\n",
            " [0.33333333]\n",
            " [0.24561404]\n",
            " [0.28070175]\n",
            " [0.31578947]\n",
            " [0.40350877]\n",
            " [0.49122807]\n",
            " [0.45614035]\n",
            " [0.35087719]\n",
            " [0.36842105]\n",
            " [0.38596491]\n",
            " [0.31578947]\n",
            " [0.33333333]\n",
            " [0.38596491]\n",
            " [0.42105263]\n",
            " [0.28070175]\n",
            " [0.36842105]\n",
            " [0.50877193]\n",
            " [0.57894737]\n",
            " [0.66666667]\n",
            " [0.63157895]\n",
            " [0.49122807]\n",
            " [0.59649123]\n",
            " [0.43859649]\n",
            " [0.38596491]\n",
            " [0.57894737]\n",
            " [0.73684211]\n",
            " [0.71929825]\n",
            " [0.54385965]\n",
            " [0.42105263]\n",
            " [0.40350877]\n",
            " [0.43859649]\n",
            " [0.42105263]\n",
            " [0.42105263]\n",
            " [0.43859649]\n",
            " [0.57894737]\n",
            " [0.73684211]\n",
            " [0.94736842]\n",
            " [0.80701754]\n",
            " [0.80701754]\n",
            " [0.66666667]\n",
            " [0.50877193]\n",
            " [0.52631579]\n",
            " [0.35087719]\n",
            " [0.42105263]\n",
            " [0.43859649]\n",
            " [0.45614035]\n",
            " [0.50877193]\n",
            " [0.45614035]\n",
            " [0.57894737]\n",
            " [0.73684211]\n",
            " [0.9122807 ]\n",
            " [0.68421053]\n",
            " [0.43859649]\n",
            " [0.57894737]\n",
            " [0.73684211]\n",
            " [0.8245614 ]\n",
            " [0.49122807]\n",
            " [0.56140351]\n",
            " [0.70175439]\n",
            " [0.80701754]\n",
            " [0.73684211]\n",
            " [0.8245614 ]\n",
            " [0.52631579]\n",
            " [0.38596491]\n",
            " [0.43859649]\n",
            " [0.63157895]\n",
            " [0.50877193]\n",
            " [0.49122807]\n",
            " [0.54385965]\n",
            " [0.42105263]\n",
            " [0.54385965]\n",
            " [0.52631579]\n",
            " [0.54385965]\n",
            " [0.54385965]\n",
            " [0.52631579]\n",
            " [0.50877193]\n",
            " [0.50877193]\n",
            " [0.50877193]\n",
            " [0.63157895]\n",
            " [0.77192982]\n",
            " [0.70175439]\n",
            " [0.63157895]\n",
            " [0.78947368]\n",
            " [0.80701754]\n",
            " [1.        ]\n",
            " [0.89473684]\n",
            " [0.87719298]\n",
            " [0.56140351]\n",
            " [0.52631579]\n",
            " [0.56140351]\n",
            " [0.52631579]\n",
            " [0.61403509]\n",
            " [0.54385965]\n",
            " [0.43859649]\n",
            " [0.56140351]\n",
            " [0.63157895]\n",
            " [0.56140351]\n",
            " [0.52631579]\n",
            " [0.61403509]\n",
            " [0.71929825]\n",
            " [0.66666667]\n",
            " [0.70175439]\n",
            " [0.57894737]\n",
            " [0.59649123]\n",
            " [0.63157895]\n",
            " [0.75438596]\n",
            " [0.87719298]\n",
            " [0.77192982]\n",
            " [0.68421053]\n",
            " [0.66666667]\n",
            " [0.71929825]\n",
            " [0.71929825]\n",
            " [0.63157895]\n",
            " [0.57894737]\n",
            " [0.59649123]\n",
            " [0.71929825]\n",
            " [0.57894737]\n",
            " [0.68421053]\n",
            " [0.63157895]\n",
            " [0.68421053]\n",
            " [0.68421053]\n",
            " [0.73684211]\n",
            " [0.70175439]\n",
            " [0.73684211]\n",
            " [0.71929825]\n",
            " [0.64912281]\n",
            " [0.78947368]\n",
            " [0.66666667]\n",
            " [0.75438596]\n",
            " [0.8245614 ]\n",
            " [0.80701754]\n",
            " [0.63157895]\n",
            " [0.70175439]\n",
            " [0.78947368]\n",
            " [0.87719298]\n",
            " [0.77192982]\n",
            " [0.84210526]\n",
            " [0.87719298]\n",
            " [0.92982456]\n",
            " [0.71929825]\n",
            " [0.66666667]\n",
            " [0.73684211]\n",
            " [0.66666667]\n",
            " [0.70175439]\n",
            " [0.78947368]\n",
            " [0.77192982]\n",
            " [0.64912281]\n",
            " [0.64912281]\n",
            " [0.66666667]\n",
            " [0.64912281]\n",
            " [0.71929825]\n",
            " [0.78947368]\n",
            " [0.9122807 ]\n",
            " [0.96491228]\n",
            " [0.84210526]\n",
            " [0.85964912]\n",
            " [0.80701754]\n",
            " [0.77192982]\n",
            " [0.70175439]\n",
            " [0.61403509]\n",
            " [0.56140351]\n",
            " [0.57894737]\n",
            " [0.57894737]\n",
            " [0.57894737]\n",
            " [0.56140351]\n",
            " [0.64912281]\n",
            " [0.68421053]\n",
            " [0.73684211]\n",
            " [0.61403509]\n",
            " [0.68421053]\n",
            " [0.70175439]\n",
            " [0.77192982]\n",
            " [0.63157895]\n",
            " [0.70175439]\n",
            " [0.57894737]\n",
            " [0.59649123]\n",
            " [0.63157895]\n",
            " [0.56140351]\n",
            " [0.57894737]\n",
            " [0.56140351]\n",
            " [0.50877193]\n",
            " [0.56140351]\n",
            " [0.71929825]\n",
            " [0.73684211]\n",
            " [0.59649123]\n",
            " [0.57894737]\n",
            " [0.54385965]\n",
            " [0.56140351]\n",
            " [0.49122807]\n",
            " [0.52631579]\n",
            " [0.45614035]\n",
            " [0.49122807]\n",
            " [0.54385965]\n",
            " [0.49122807]\n",
            " [0.50877193]\n",
            " [0.57894737]\n",
            " [0.38596491]\n",
            " [0.43859649]\n",
            " [0.47368421]\n",
            " [0.54385965]\n",
            " [0.43859649]\n",
            " [0.43859649]\n",
            " [0.47368421]\n",
            " [0.43859649]\n",
            " [0.43859649]\n",
            " [0.45614035]\n",
            " [0.40350877]\n",
            " [0.47368421]\n",
            " [0.42105263]\n",
            " [0.47368421]\n",
            " [0.47368421]\n",
            " [0.45614035]\n",
            " [0.52631579]\n",
            " [0.40350877]\n",
            " [0.43859649]\n",
            " [0.52631579]\n",
            " [0.57894737]\n",
            " [0.42105263]\n",
            " [0.38596491]\n",
            " [0.38596491]\n",
            " [0.52631579]\n",
            " [0.52631579]\n",
            " [0.40350877]\n",
            " [0.45614035]\n",
            " [0.49122807]\n",
            " [0.63157895]\n",
            " [0.52631579]\n",
            " [0.50877193]\n",
            " [0.49122807]\n",
            " [0.42105263]\n",
            " [0.35087719]\n",
            " [0.38596491]\n",
            " [0.35087719]\n",
            " [0.26315789]\n",
            " [0.29824561]\n",
            " [0.35087719]\n",
            " [0.38596491]\n",
            " [0.35087719]\n",
            " [0.33333333]\n",
            " [0.33333333]\n",
            " [0.24561404]\n",
            " [0.29824561]\n",
            " [0.29824561]\n",
            " [0.31578947]\n",
            " [0.22807018]\n",
            " [0.29824561]\n",
            " [0.29824561]\n",
            " [0.29824561]\n",
            " [0.19298246]\n",
            " [0.26315789]\n",
            " [0.24561404]\n",
            " [0.19298246]\n",
            " [0.0877193 ]\n",
            " [0.12280702]\n",
            " [0.0877193 ]\n",
            " [0.10526316]\n",
            " [0.01754386]\n",
            " [0.15789474]\n",
            " [0.15789474]\n",
            " [0.14035088]\n",
            " [0.0877193 ]\n",
            " [0.07017544]\n",
            " [0.07017544]\n",
            " [0.        ]\n",
            " [0.        ]\n",
            " [0.07017544]\n",
            " [0.19298246]\n",
            " [0.28070175]\n",
            " [0.24561404]\n",
            " [0.1754386 ]\n",
            " [0.0877193 ]\n",
            " [0.10526316]\n",
            " [0.12280702]\n",
            " [0.12280702]\n",
            " [0.21052632]\n",
            " [0.22807018]\n",
            " [0.22807018]\n",
            " [0.38596491]\n",
            " [0.0877193 ]]\n"
          ]
        }
      ],
      "source": [
        "# Definir objetivo y variables explicativas\n",
        "\n",
        "# Optimo normalizar por grupos de variables\n",
        "# Podemos tambien normalizar por variables\n",
        "\n",
        "import numpy as np \n",
        "\n",
        "y_reg = np.array(data_regression['actual'])\n",
        "X_reg = np.array(data_regression.drop('actual', axis=1))\n",
        "mean_y = np.nanmean(y_reg)\n",
        "\n",
        "# Normalizamos\n",
        "from sklearn.preprocessing import MinMaxScaler\n",
        "scal_y_reg = MinMaxScaler(feature_range=[0,1])\n",
        "scal_x_reg = MinMaxScaler(feature_range=[0,1])\n",
        "scal_y_reg.fit(y_reg.reshape(-1,1))\n",
        "scal_x_reg.fit(X_reg)\n",
        "\n",
        "y_reg = scal_y_reg.transform(y_reg.reshape(-1,1))\n",
        "X_reg = scal_x_reg.transform(X_reg)\n",
        "\n",
        "print(X_reg)\n",
        "print(y_reg)\n"
      ]
    },
    {
      "cell_type": "code",
      "execution_count": 145,
      "metadata": {
        "id": "oSJ3a2j3ZZfq"
      },
      "outputs": [
        {
          "name": "stdout",
          "output_type": "stream",
          "text": [
            "Training shape: (243, 15)\n",
            "    Test shape: (105, 15)\n"
          ]
        }
      ],
      "source": [
        "#TRAIN - TEST\n",
        "from sklearn.model_selection import train_test_split\n",
        "\n",
        "X_train_reg, X_test_reg, y_train_reg, y_test_reg = train_test_split(X_reg, y_reg, test_size=0.3, random_state=7)\n",
        "\n",
        "print('Training shape:', X_train_reg.shape)\n",
        "print('    Test shape:', X_test_reg.shape)"
      ]
    },
    {
      "cell_type": "markdown",
      "metadata": {
        "id": "X-id6nxqESjF"
      },
      "source": [
        "##### [**Linear regression**](https://www.iartificial.net/regresion-lineal-con-ejemplos-en-python/)"
      ]
    },
    {
      "cell_type": "code",
      "execution_count": 146,
      "metadata": {
        "id": "dq8RJ1p6FeUf"
      },
      "outputs": [
        {
          "data": {
            "image/png": "[encoded data removed]",
            "text/plain": [
              "<Figure size 432x288 with 1 Axes>"
            ]
          },
          "metadata": {
            "needs_background": "light"
          },
          "output_type": "display_data"
        },
        {
          "name": "stdout",
          "output_type": "stream",
          "text": [
            "El error medio en la predicción es: 7.255746578794254 %\n"
          ]
        }
      ],
      "source": [
        "import matplotlib.pyplot as plt\n",
        "from sklearn import datasets, linear_model, metrics\n",
        "\n",
        "# Objeto de regresion lineal\n",
        "reg = linear_model.LinearRegression()\n",
        "\n",
        "# Entrenamiento\n",
        "reg.fit(X_train_reg, y_train_reg)\n",
        " \n",
        "# Predición\n",
        "y_pred = reg.predict(X_test_reg)\n",
        "y_pred = scal_y_reg.inverse_transform(y_pred)\n",
        "y_real = scal_y_reg.inverse_transform(y_test_reg)\n",
        "\n",
        "# Gráfico\n",
        "plt.plot(range(len(y_real)), y_real, color='black', label='Real')\n",
        "plt.plot(range(len(y_pred)), y_pred, color='blue', label='Prediction')\n",
        "plt.ylim(0,120)\n",
        "plt.legend()\n",
        "plt.title('Linear Regression')\n",
        "plt.show()\n",
        "\n",
        "# Error\n",
        "cv_rmse = 100 * (np.sqrt(metrics.mean_squared_error(y_real, y_pred))/ mean_y)\n",
        "print('El error medio en la predicción es:', cv_rmse, '%')\n",
        "\n"
      ]
    },
    {
      "cell_type": "markdown",
      "metadata": {
        "id": "zgXbY-jHEZya"
      },
      "source": [
        "##### [**Random Forest**](https://builtin-com.translate.goog/data-science/random-forest-algorithm?_x_tr_sl=en&_x_tr_tl=es&_x_tr_hl=es&_x_tr_pto=sc)\n",
        "\n"
      ]
    },
    {
      "cell_type": "code",
      "execution_count": 147,
      "metadata": {
        "id": "AMdkMj-_hXgz"
      },
      "outputs": [
        {
          "data": {
            "text/plain": [
              "RandomForestRegressor(random_state=7)"
            ]
          },
          "execution_count": 147,
          "metadata": {},
          "output_type": "execute_result"
        }
      ],
      "source": [
        "from sklearn.ensemble import RandomForestRegressor\n",
        "\n",
        "\n",
        "# Definimos el modelo y evaluamos en X_test\n",
        "model_50 = RandomForestRegressor(n_estimators=50, random_state=7)\n",
        "model_100 = RandomForestRegressor(n_estimators=100, random_state=7)\n",
        "# Otros parametros \n",
        "# - max_features: Seleccion de variables\n",
        "# - min_samples_split: Hacer divisiones hasta llegar a 5 elementos finales en cada arbol\n",
        "# ...\n",
        "\n",
        "# Entrenamos el modelo\n",
        "model_50.fit(X_train_reg, y_train_reg.ravel())\n",
        "model_100.fit(X_train_reg, y_train_reg.ravel())"
      ]
    },
    {
      "cell_type": "code",
      "execution_count": 148,
      "metadata": {},
      "outputs": [
        {
          "data": {
            "image/png": "[encoded data removed]",
            "text/plain": [
              "<Figure size 432x288 with 1 Axes>"
            ]
          },
          "metadata": {
            "needs_background": "light"
          },
          "output_type": "display_data"
        },
        {
          "name": "stdout",
          "output_type": "stream",
          "text": [
            "El error medio en la predicción con 50 es: 7.423535019110872\n",
            "El error medio en la predicción con 100 es: 7.447416987813357\n"
          ]
        }
      ],
      "source": [
        "\n",
        "# Hacemos la prediccion\n",
        "y_pred_50 = model_50.predict(X_test_reg)\n",
        "y_pred_100 = model_100.predict(X_test_reg)\n",
        "\n",
        "# Escalamos inversamente\n",
        "y_pred_50 = scal_y_reg.inverse_transform(y_pred_50.reshape(-1,1))\n",
        "y_pred_100 = scal_y_reg.inverse_transform(y_pred_100.reshape(-1,1))\n",
        "y_real = scal_y_reg.inverse_transform(y_test_reg)\n",
        "\n",
        "# Gráfico\n",
        "plt.plot(range(len(y_real)), y_real, color='black', label='Real')\n",
        "plt.plot(range(len(y_pred_50)), y_pred, color='blue', label='Prediction 50')\n",
        "plt.plot(range(len(y_pred_100)), y_pred, color='red', label='Prediction 100')\n",
        "plt.ylim(0,120)\n",
        "plt.legend()\n",
        "plt.title('Random Forest')\n",
        "plt.show()\n",
        "\n",
        "# Error\n",
        "cv_rmse_50 = 100 * (np.sqrt(metrics.mean_squared_error(y_real, y_pred_50))/ mean_y)\n",
        "print('El error medio en la predicción con 50 es:', cv_rmse_50)\n",
        "\n",
        "cv_rmse_100 = 100 * (np.sqrt(metrics.mean_squared_error(y_real, y_pred_100))/ mean_y)\n",
        "print('El error medio en la predicción con 100 es:', cv_rmse_100)"
      ]
    },
    {
      "cell_type": "markdown",
      "metadata": {
        "id": "4oMKMrp9EgSF"
      },
      "source": [
        "##### [**Support Vector Machine**](https://www-aionlinecourse-com.translate.goog/tutorial/machine-learning/support-vector-regression?_x_tr_sl=en&_x_tr_tl=es&_x_tr_hl=es&_x_tr_pto=sc)\n",
        "\n",
        "\n",
        "\n"
      ]
    },
    {
      "cell_type": "code",
      "execution_count": 149,
      "metadata": {
        "id": "WfofQiXYrINY"
      },
      "outputs": [
        {
          "data": {
            "text/plain": [
              "SVR(epsilon=0.001)"
            ]
          },
          "execution_count": 149,
          "metadata": {},
          "output_type": "execute_result"
        }
      ],
      "source": [
        "from sklearn.svm import SVR\n",
        "\n",
        "#Definimos el modelo y evaluamos en X_test\n",
        "model = SVR(epsilon=0.001)\n",
        "# Otros parametros\n",
        "# - C: Regularización del programa (rigidez)\n",
        "# - kernel: el regresor que utilizara 'linear', 'poly', 'sigmoid'...\n",
        "\n",
        "# Entreno el modelo\n",
        "model.fit(X_train_reg, y_train_reg.ravel())"
      ]
    },
    {
      "cell_type": "code",
      "execution_count": 150,
      "metadata": {},
      "outputs": [
        {
          "data": {
            "image/png": "[encoded data removed]",
            "text/plain": [
              "<Figure size 432x288 with 1 Axes>"
            ]
          },
          "metadata": {
            "needs_background": "light"
          },
          "output_type": "display_data"
        },
        {
          "name": "stdout",
          "output_type": "stream",
          "text": [
            "El error medio en la predicción es: 8.117483339932473\n"
          ]
        }
      ],
      "source": [
        "# Hago la prediccion\n",
        "y_pred = model.predict(X_test_reg)\n",
        "\n",
        "#Escalamos inversamente\n",
        "y_pred = scal_y_reg.inverse_transform(y_pred.reshape(-1,1))\n",
        "y_real = scal_y_reg.inverse_transform(y_test_reg)\n",
        "\n",
        "#Gráfico\n",
        "plt.plot(range(len(y_real)), y_real, color='black', label='Real')\n",
        "plt.plot(range(len(y_pred)), y_pred, color='blue', label='Prediction')\n",
        "plt.ylim(0,120)\n",
        "plt.legend()\n",
        "plt.title('Support Vector Regressor')\n",
        "plt.show()\n",
        "\n",
        "#Error\n",
        "cv_rmse = 100 * (np.sqrt(metrics.mean_squared_error(y_real, y_pred))/ mean_y)\n",
        "print('El error medio en la predicción es:', cv_rmse)\n",
        "\n"
      ]
    },
    {
      "cell_type": "markdown",
      "metadata": {
        "id": "Zkrl-9lSzR2Z"
      },
      "source": [
        "#### **CLASIFICACIÓN**\n",
        "\n",
        "*    [Logistic regression](https://christophm-github-io.translate.goog/interpretable-ml-book/logistic.html?_x_tr_sl=en&_x_tr_tl=es&_x_tr_hl=es&_x_tr_pto=sc)\n",
        "  <img src='https://drive.google.com/uc?id=1xDmupSd2vbw14IkYSROOjT7xOpm4oGU4' width=350px >\n",
        "\n",
        "  Imagen de [christophm](https://christophm-github-io.translate.goog/interpretable-ml-book/logistic.html?_x_tr_sl=en&_x_tr_tl=es&_x_tr_hl=es&_x_tr_pto=sc)\n",
        "\n",
        "\n",
        "*    [Random Forest](https://builtin-com.translate.goog/data-science/random-forest-algorithm?_x_tr_sl=en&_x_tr_tl=es&_x_tr_hl=es&_x_tr_pto=sc)\n",
        "\n",
        "  <img src='https://drive.google.com/uc?id=1nLdnSFMi7MpubGjsRt0z3gpa5lpOcYXJ' width=350px >\n",
        "\n",
        "  Imagen de [medium](https://medium.com/swlh/random-forest-and-its-implementation-71824ced454f)\n",
        "\n",
        "\n",
        "*   [Support Vector Machine](https://www-aionlinecourse-com.translate.goog/tutorial/machine-learning/support-vector-regression?_x_tr_sl=en&_x_tr_tl=es&_x_tr_hl=es&_x_tr_pto=sc)\n",
        "\n",
        "  <img src='https://drive.google.com/uc?id=1E-bXvIcRMsWhF1ldL-IeMNgholrIgFoL' width=350px height=200px >\n",
        "\n",
        "  Imagen de [saedsayad](https://www.saedsayad.com/support_vector_machine_reg.htm)\n",
        "\n",
        "\n",
        "\n"
      ]
    },
    {
      "cell_type": "markdown",
      "metadata": {
        "id": "rphl9WWuoSsp"
      },
      "source": [
        "**DATOS: Tipos de flores (iris).**\n",
        "\n",
        "---"
      ]
    },
    {
      "cell_type": "code",
      "execution_count": 151,
      "metadata": {
        "id": "nSn3dF6XtfJv"
      },
      "outputs": [
        {
          "data": {
            "text/html": [
              "<div>\n",
              "<style scoped>\n",
              "    .dataframe tbody tr th:only-of-type {\n",
              "        vertical-align: middle;\n",
              "    }\n",
              "\n",
              "    .dataframe tbody tr th {\n",
              "        vertical-align: top;\n",
              "    }\n",
              "\n",
              "    .dataframe thead th {\n",
              "        text-align: right;\n",
              "    }\n",
              "</style>\n",
              "<table border=\"1\" class=\"dataframe\">\n",
              "  <thead>\n",
              "    <tr style=\"text-align: right;\">\n",
              "      <th></th>\n",
              "      <th>sepal length</th>\n",
              "      <th>sepal width</th>\n",
              "      <th>petal length</th>\n",
              "      <th>petal width</th>\n",
              "      <th>species</th>\n",
              "    </tr>\n",
              "  </thead>\n",
              "  <tbody>\n",
              "    <tr>\n",
              "      <th>0</th>\n",
              "      <td>5.1</td>\n",
              "      <td>3.5</td>\n",
              "      <td>1.4</td>\n",
              "      <td>0.2</td>\n",
              "      <td>0</td>\n",
              "    </tr>\n",
              "    <tr>\n",
              "      <th>1</th>\n",
              "      <td>4.9</td>\n",
              "      <td>3.0</td>\n",
              "      <td>1.4</td>\n",
              "      <td>0.2</td>\n",
              "      <td>0</td>\n",
              "    </tr>\n",
              "    <tr>\n",
              "      <th>2</th>\n",
              "      <td>4.7</td>\n",
              "      <td>3.2</td>\n",
              "      <td>1.3</td>\n",
              "      <td>0.2</td>\n",
              "      <td>0</td>\n",
              "    </tr>\n",
              "    <tr>\n",
              "      <th>3</th>\n",
              "      <td>4.6</td>\n",
              "      <td>3.1</td>\n",
              "      <td>1.5</td>\n",
              "      <td>0.2</td>\n",
              "      <td>0</td>\n",
              "    </tr>\n",
              "    <tr>\n",
              "      <th>4</th>\n",
              "      <td>5.0</td>\n",
              "      <td>3.6</td>\n",
              "      <td>1.4</td>\n",
              "      <td>0.2</td>\n",
              "      <td>0</td>\n",
              "    </tr>\n",
              "  </tbody>\n",
              "</table>\n",
              "</div>"
            ],
            "text/plain": [
              "   sepal length  sepal width  petal length  petal width  species\n",
              "0           5.1          3.5           1.4          0.2        0\n",
              "1           4.9          3.0           1.4          0.2        0\n",
              "2           4.7          3.2           1.3          0.2        0\n",
              "3           4.6          3.1           1.5          0.2        0\n",
              "4           5.0          3.6           1.4          0.2        0"
            ]
          },
          "execution_count": 151,
          "metadata": {},
          "output_type": "execute_result"
        }
      ],
      "source": [
        "from sklearn import datasets\n",
        "import pandas as pd\n",
        "import numpy as np\n",
        "\n",
        "iris = datasets.load_iris()\n",
        "\n",
        "# Hay tres especies: 0, 1, 2\n",
        "\n",
        "data_class=pd.DataFrame({\n",
        "    'sepal length':iris.data[:,0],\n",
        "    'sepal width':iris.data[:,1],\n",
        "    'petal length':iris.data[:,2],\n",
        "    'petal width':iris.data[:,3],\n",
        "    'species':iris.target\n",
        "})\n",
        "data_class.head()"
      ]
    },
    {
      "cell_type": "code",
      "execution_count": 152,
      "metadata": {
        "id": "zotRtQ7-t5v3"
      },
      "outputs": [
        {
          "data": {
            "text/plain": [
              "0    50\n",
              "1    50\n",
              "2    50\n",
              "Name: species, dtype: int64"
            ]
          },
          "execution_count": 152,
          "metadata": {},
          "output_type": "execute_result"
        }
      ],
      "source": [
        "# Comprovamos el balance en las clases\n",
        "data_class['species'].value_counts()"
      ]
    },
    {
      "cell_type": "code",
      "execution_count": 153,
      "metadata": {
        "id": "oZf3BgjBt6wy"
      },
      "outputs": [],
      "source": [
        "from sklearn.model_selection import train_test_split\n",
        "\n",
        "\n",
        "X=np.array(data_class.drop('species', axis=1))  # Guardo todo lo que no es species\n",
        "y=np.array(data_class['species'])               # Guardo las especies\n",
        "\n",
        "\n",
        "#Escalamos (solo X)\n",
        "from sklearn.preprocessing import MinMaxScaler\n",
        "scal_x_class = MinMaxScaler(feature_range=[0,1])\n",
        "scal_x_class.fit(X)\n",
        "X = scal_x_class.transform(X)\n",
        "\n",
        "X_train_class, X_test_class, y_train_class, y_test_class = train_test_split(X, y, test_size=0.3)\n"
      ]
    },
    {
      "cell_type": "markdown",
      "metadata": {
        "id": "DcW1yZaUzbIe"
      },
      "source": [
        "##### [**Logistic regression**](https://christophm-github-io.translate.goog/interpretable-ml-book/logistic.html?_x_tr_sl=en&_x_tr_tl=es&_x_tr_hl=es&_x_tr_pto=sc)\n"
      ]
    },
    {
      "cell_type": "code",
      "execution_count": 154,
      "metadata": {
        "id": "PCZ3sPHhzjPh"
      },
      "outputs": [
        {
          "data": {
            "image/png": "[encoded data removed]",
            "text/plain": [
              "<Figure size 432x288 with 1 Axes>"
            ]
          },
          "metadata": {
            "needs_background": "light"
          },
          "output_type": "display_data"
        },
        {
          "name": "stdout",
          "output_type": "stream",
          "text": [
            "La precisión es de: 91.11 %\n"
          ]
        }
      ],
      "source": [
        "from sklearn.linear_model import LogisticRegression\n",
        "from sklearn.metrics import accuracy_score\n",
        "\n",
        "# Modelo\n",
        "model = LogisticRegression(multi_class='multinomial', solver='lbfgs')\n",
        "\n",
        "# Entrenamiento\n",
        "model.fit(X_train_class, y_train_class)\n",
        " \n",
        "#Predición\n",
        "y_pred = model.predict(X_test_class)\n",
        "\n",
        "#Gráfico\n",
        "plt.scatter(range(len(y_test_class)), y_test_class, color='blue', label='Real')\n",
        "plt.scatter(range(len(y_pred)), y_pred, color='red', label='Prediction', s=20)\n",
        "plt.ylim(-1,3)\n",
        "plt.legend()\n",
        "plt.title('Regresión logística')\n",
        "plt.show()\n",
        "\n",
        "#Precisión\n",
        "accuracy = accuracy_score(y_test_class, y_pred)*100\n",
        "print('La precisión es de: %.2f' % accuracy, '%')"
      ]
    },
    {
      "cell_type": "markdown",
      "metadata": {
        "id": "CqZOL9YgEreW"
      },
      "source": [
        "##### [**Random Forest**](https://builtin-com.translate.goog/data-science/random-forest-algorithm?_x_tr_sl=en&_x_tr_tl=es&_x_tr_hl=es&_x_tr_pto=sc)\n"
      ]
    },
    {
      "cell_type": "code",
      "execution_count": 155,
      "metadata": {
        "id": "-s6J8aoEzAmU"
      },
      "outputs": [
        {
          "data": {
            "image/png": "[encoded data removed]",
            "text/plain": [
              "<Figure size 432x288 with 1 Axes>"
            ]
          },
          "metadata": {
            "needs_background": "light"
          },
          "output_type": "display_data"
        },
        {
          "name": "stdout",
          "output_type": "stream",
          "text": [
            "La precisión es de: 95.56 %\n"
          ]
        }
      ],
      "source": [
        "from sklearn.metrics import accuracy_score\n",
        "from sklearn.ensemble import RandomForestClassifier\n",
        "\n",
        "#Definimos el modelo óptimo y evaluamos en X_test\n",
        "model = RandomForestClassifier(n_estimators=50, random_state=5)\n",
        "\n",
        "# Entreno\n",
        "model.fit(X_train_class, y_train_class)\n",
        "\n",
        "# Predigo\n",
        "y_pred = model.predict(X_test_class)\n",
        "\n",
        "#Gráfico\n",
        "plt.scatter(range(len(y_test_class)), y_test_class, color='blue', label='Real')\n",
        "plt.scatter(range(len(y_pred)), y_pred, color='red', label='Prediction', s=20)\n",
        "plt.ylim(-1,3)\n",
        "plt.legend()\n",
        "plt.title('Random Forest')\n",
        "plt.show()\n",
        "\n",
        "#Precisión\n",
        "accuracy = accuracy_score(y_test_class, y_pred)*100\n",
        "print('La precisión es de: %.2f' % accuracy, '%')"
      ]
    },
    {
      "cell_type": "markdown",
      "metadata": {
        "id": "9jvys7rXEwLW"
      },
      "source": [
        "##### [**Support Vector Machine**](https://www-aionlinecourse-com.translate.goog/tutorial/machine-learning/support-vector-regression?_x_tr_sl=en&_x_tr_tl=es&_x_tr_hl=es&_x_tr_pto=sc)\n"
      ]
    },
    {
      "cell_type": "code",
      "execution_count": 156,
      "metadata": {
        "id": "6-SVa3Uo2_Ie"
      },
      "outputs": [
        {
          "data": {
            "image/png": "[encoded data removed]",
            "text/plain": [
              "<Figure size 432x288 with 1 Axes>"
            ]
          },
          "metadata": {
            "needs_background": "light"
          },
          "output_type": "display_data"
        },
        {
          "name": "stdout",
          "output_type": "stream",
          "text": [
            "La precisión es de: 95.56 %\n"
          ]
        }
      ],
      "source": [
        "from sklearn.metrics import accuracy_score\n",
        "from sklearn.svm import SVC\n",
        "\n",
        "#Definimos el modelo óptimo\n",
        "model = SVC(C=0.5)\n",
        "\n",
        "# Entreno\n",
        "model.fit(X_train_class, y_train_class)\n",
        "\n",
        "# Predigo\n",
        "y_pred = model.predict(X_test_class)\n",
        "\n",
        "#Gráfico\n",
        "plt.scatter(range(len(y_test_class)), y_test_class, color='blue', label='Real')\n",
        "plt.scatter(range(len(y_pred)), y_pred, color='red', label='Prediction')\n",
        "plt.ylim(-1,4)\n",
        "plt.legend()\n",
        "plt.title('Support Vector Classificator')\n",
        "plt.show()\n",
        "\n",
        "#Precisión\n",
        "accuracy = accuracy_score(y_test_class, y_pred)*100\n",
        "print('La precisión es de: %.2f' % accuracy, '%')"
      ]
    },
    {
      "cell_type": "markdown",
      "metadata": {
        "id": "7-R1Er1X67v4"
      },
      "source": [
        "### [**1.5 RED NEURONAL**](https://www.analyticsvidhya.com/blog/2020/02/cnn-vs-rnn-vs-mlp-analyzing-3-types-of-neural-networks-in-deep-learning/)\n",
        "---"
      ]
    },
    {
      "cell_type": "markdown",
      "metadata": {
        "id": "Ro00vyIW_Trv"
      },
      "source": [
        "Las redes neuronales son el algoritmo de Machine/Deep Learning más conocido. Hay muchos tipos de redes neuronales (Artifical Neural Network (ANN)). El más utilizado es el multicapa (MultiLayer Perceptron neural network) que se muestra en la siguiente figura:\n",
        "\n",
        "<center><img src='https://drive.google.com/uc?id=1VHTwhACGi7GFZ2yyoa8XsBuiRplUQShw' width=500px></center>\n",
        "\n",
        "\n",
        "\n",
        "Parámetros importantes:\n",
        "\n",
        "\n",
        "*   Capas ocultas (Hidden Layers)\n",
        "*   Neuronas en cada capa\n",
        "*   Funciones de activación ([Activation function](https://towardsdatascience-com.translate.goog/activation-functions-neural-networks-1cbd9f8d91d6?gi=b1ceb389406f&_x_tr_sl=en&_x_tr_tl=es&_x_tr_hl=es&_x_tr_pto=sc))\n",
        "*   Optimizadores ([Optimiser](https://towardsdatascience.com/optimizers-for-training-neural-network-59450d71caf6https://))\n",
        "*   [Tipo de entrenamiento](https://svitla.com/blog/modern-methods-of-neural-network-training) ([Weights update](https://machinelearningmastery.com/implement-backpropagation-algorithm-scratch-python/), [learning method](https://machinelearningmastery.com/types-of-learning-in-machine-learning/), etc)\n",
        "*   Profundidad del entrenamiento (*Overfitting*)\n",
        "\n",
        "\n"
      ]
    },
    {
      "cell_type": "code",
      "execution_count": 157,
      "metadata": {
        "id": "DQGLQRL1Jm4a"
      },
      "outputs": [],
      "source": [
        "from keras.models import Sequential\n",
        "from keras.layers import Dense, Activation\n",
        "from keras.callbacks import EarlyStopping\n",
        "from keras.callbacks import ModelCheckpoint\n",
        "from sklearn import metrics\n",
        "\n",
        "# Arquitectura MLP neural network para regresión\n",
        "def built_mlp_reg(neurons,X_train):\n",
        "  \"\"\"\n",
        "  neurons es un vector con el numero de neuronas de cada capa \n",
        "    [10,10,10] son 3 capas de neurnonas con 10 neuronas cada una\n",
        "  X_train se da simplemente para dar la dimension (num de neuronas) de la primera capa\n",
        "  \"\"\"\n",
        "  MLP_model = Sequential()\n",
        "  # Capa input\n",
        "  MLP_model.add(Dense(X_train.shape[1], kernel_initializer='normal', input_dim=X_train.shape[1], activation='relu'))\n",
        "  # Capas ocultas\n",
        "  for nn in range(len(neurons)):\n",
        "    MLP_model.add(Dense(neurons[nn], kernel_initializer='normal', activation='relu'))\n",
        "  # Capa output\n",
        "  MLP_model.add(Dense(1, kernel_initializer='normal', activation='linear'))  # El output tiene solo una neurona. La activacion es linear!\n",
        "  MLP_model.compile(loss='mse', optimizer='adam', metrics=['mean_squared_error'])  # Esto crea la estructura con la informacion dada\n",
        "  MLP_model.summary()\n",
        "  return MLP_model\n",
        "\n",
        "# Arquitectura MLP neural network para clasificacion\n",
        "def built_mlp_class(neurons, X_train, n_labels):\n",
        "  \"\"\"\n",
        "  neurons es un vector con el numero de neuronas de cada capa \n",
        "    [10,10,10] son 3 capas de neurnonas con 10 neuronas cada una\n",
        "  X_train se da simplemente para dar la dimension (num de neuronas) de la primera capa\n",
        "  n_labels es el numero de clases que tenemos al final en el output\n",
        "  \"\"\"\n",
        "  MLP_model =Sequential()\n",
        "  # Capa input\n",
        "  MLP_model.add(Dense(X_train.shape[1], input_dim=X_train.shape[1], activation='relu'))\n",
        "  # Capas ocultas\n",
        "  for nn in range(len(neurons)):\n",
        "    MLP_model.add(Dense(neurons[nn], activation='relu'))\n",
        "  # Capa output\n",
        "  MLP_model.add(Dense(n_labels,activation='softmax'))  # softmax se elige para que sepa que estamos clasificando\n",
        "  MLP_model.compile(loss='categorical_crossentropy', optimizer='adam', metrics=['categorical_accuracy'])  # La funcion de error ahora no es mse pq estamos clasificando\n",
        "  MLP_model.summary() \n",
        "  return MLP_model\n",
        "\n",
        "# Entrenamiento de MLP neural network para regresión\n",
        "def train_mlp(model, patience, batch_size, X_train, y_train, X_val, y_val):\n",
        "  \"\"\" \n",
        "  patience: Cuando haya 'patience' epochs sin cambios para. Epoch es un recorrido\n",
        "  Doy ademas X_val y y_val para validar el modelo mientras voy entrenandolo\n",
        "  \"\"\"\n",
        "  es = EarlyStopping(monitor='val_loss', mode='min', verbose=0, patience=patience)\n",
        "  mc = ModelCheckpoint('best_model.h5', monitor='val_loss', mode='min', verbose=0, save_best_only=True)\n",
        "  # Ajustamos datos\n",
        "  model.fit(X_train, y_train, epochs=1000, validation_data=(X_val, y_val), batch_size=batch_size,\n",
        "                    callbacks=[es,mc])\n",
        "  return model\n",
        "\n",
        "# Entrenamiento de MLP neural network para clasificación\n",
        "def train_mlp_class(model, patience, batch_size, X_train, y_train, X_val, y_val):\n",
        "  es = EarlyStopping(monitor='val_categorical_accuracy', mode='max', verbose=0, patience=patience)\n",
        "  mc = ModelCheckpoint('best_model_class.h5', monitor='val_categorical_accuracy', mode='max', verbose=0, save_best_only=True)\n",
        "  # Ajustamos datos\n",
        "  model.fit(X_train, y_train, epochs=1000, validation_data=(X_val, y_val), batch_size=batch_size,\n",
        "                    callbacks=[es,mc])\n",
        "  return model"
      ]
    },
    {
      "cell_type": "markdown",
      "metadata": {
        "id": "_ahUQf25zd6D"
      },
      "source": [
        "#### **REGRESIÓN**\n"
      ]
    },
    {
      "cell_type": "code",
      "execution_count": 158,
      "metadata": {
        "id": "KcMDrTvvd8uO"
      },
      "outputs": [],
      "source": [
        "#Volvamos a los datos originales con los que predecimos en base a los otros algoritmos\n",
        "import numpy as np \n",
        "\n",
        "# TRAIN - TEST. Volvemos a los datos de meteorologia\n",
        "from sklearn.model_selection import train_test_split\n",
        "\n",
        "X_train_reg, X_val_reg, y_train_reg, y_val_reg = train_test_split(X_train_reg, y_train_reg, test_size = 0.2, random_state = 7)\n",
        "# Del training me saco unos valores para hacer la validcacion. Entonces tengo Train - Val - Test\n"
      ]
    },
    {
      "cell_type": "code",
      "execution_count": null,
      "metadata": {},
      "outputs": [],
      "source": []
    },
    {
      "cell_type": "code",
      "execution_count": 159,
      "metadata": {
        "id": "YvvaZrQHD5FR"
      },
      "outputs": [
        {
          "name": "stdout",
          "output_type": "stream",
          "text": [
            "Model: \"sequential_7\"\n",
            "_________________________________________________________________\n",
            " Layer (type)                Output Shape              Param #   \n",
            "=================================================================\n",
            " dense_42 (Dense)            (None, 15)                240       \n",
            "                                                                 \n",
            " dense_43 (Dense)            (None, 5)                 80        \n",
            "                                                                 \n",
            " dense_44 (Dense)            (None, 5)                 30        \n",
            "                                                                 \n",
            " dense_45 (Dense)            (None, 1)                 6         \n",
            "                                                                 \n",
            "=================================================================\n",
            "Total params: 356\n",
            "Trainable params: 356\n",
            "Non-trainable params: 0\n",
            "_________________________________________________________________\n",
            "Epoch 1/1000\n",
            "7/7 [==============================] - 1s 78ms/step - loss: 0.2726 - mean_squared_error: 0.2726 - val_loss: 0.2768 - val_mean_squared_error: 0.2768\n",
            "Epoch 2/1000\n",
            "7/7 [==============================] - 0s 46ms/step - loss: 0.2648 - mean_squared_error: 0.2648 - val_loss: 0.2687 - val_mean_squared_error: 0.2687\n",
            "Epoch 3/1000\n",
            "7/7 [==============================] - 0s 45ms/step - loss: 0.2569 - mean_squared_error: 0.2569 - val_loss: 0.2603 - val_mean_squared_error: 0.2603\n",
            "Epoch 4/1000\n",
            "7/7 [==============================] - 0s 47ms/step - loss: 0.2486 - mean_squared_error: 0.2486 - val_loss: 0.2512 - val_mean_squared_error: 0.2512\n",
            "Epoch 5/1000\n",
            "7/7 [==============================] - 0s 47ms/step - loss: 0.2397 - mean_squared_error: 0.2397 - val_loss: 0.2414 - val_mean_squared_error: 0.2414\n",
            "Epoch 6/1000\n",
            "7/7 [==============================] - 0s 46ms/step - loss: 0.2295 - mean_squared_error: 0.2295 - val_loss: 0.2300 - val_mean_squared_error: 0.2300\n",
            "Epoch 7/1000\n",
            "7/7 [==============================] - 0s 47ms/step - loss: 0.2179 - mean_squared_error: 0.2179 - val_loss: 0.2162 - val_mean_squared_error: 0.2162\n",
            "Epoch 8/1000\n",
            "7/7 [==============================] - 0s 47ms/step - loss: 0.2035 - mean_squared_error: 0.2035 - val_loss: 0.1995 - val_mean_squared_error: 0.1995\n",
            "Epoch 9/1000\n",
            "7/7 [==============================] - 0s 47ms/step - loss: 0.1863 - mean_squared_error: 0.1863 - val_loss: 0.1782 - val_mean_squared_error: 0.1782\n",
            "Epoch 10/1000\n",
            "7/7 [==============================] - 0s 46ms/step - loss: 0.1641 - mean_squared_error: 0.1641 - val_loss: 0.1520 - val_mean_squared_error: 0.1520\n",
            "Epoch 11/1000\n",
            "7/7 [==============================] - 0s 47ms/step - loss: 0.1375 - mean_squared_error: 0.1375 - val_loss: 0.1218 - val_mean_squared_error: 0.1218\n",
            "Epoch 12/1000\n",
            "7/7 [==============================] - 0s 48ms/step - loss: 0.1077 - mean_squared_error: 0.1077 - val_loss: 0.0884 - val_mean_squared_error: 0.0884\n",
            "Epoch 13/1000\n",
            "7/7 [==============================] - 0s 47ms/step - loss: 0.0760 - mean_squared_error: 0.0760 - val_loss: 0.0561 - val_mean_squared_error: 0.0561\n",
            "Epoch 14/1000\n",
            "7/7 [==============================] - 0s 49ms/step - loss: 0.0471 - mean_squared_error: 0.0471 - val_loss: 0.0303 - val_mean_squared_error: 0.0303\n",
            "Epoch 15/1000\n",
            "7/7 [==============================] - 0s 47ms/step - loss: 0.0270 - mean_squared_error: 0.0270 - val_loss: 0.0199 - val_mean_squared_error: 0.0199\n",
            "Epoch 16/1000\n",
            "7/7 [==============================] - 0s 5ms/step - loss: 0.0226 - mean_squared_error: 0.0226 - val_loss: 0.0207 - val_mean_squared_error: 0.0207\n",
            "Epoch 17/1000\n",
            "7/7 [==============================] - 0s 6ms/step - loss: 0.0228 - mean_squared_error: 0.0228 - val_loss: 0.0204 - val_mean_squared_error: 0.0204\n",
            "Epoch 18/1000\n",
            "7/7 [==============================] - 0s 46ms/step - loss: 0.0217 - mean_squared_error: 0.0217 - val_loss: 0.0187 - val_mean_squared_error: 0.0187\n",
            "Epoch 19/1000\n",
            "7/7 [==============================] - 0s 48ms/step - loss: 0.0201 - mean_squared_error: 0.0201 - val_loss: 0.0183 - val_mean_squared_error: 0.0183\n",
            "Epoch 20/1000\n",
            "7/7 [==============================] - 0s 45ms/step - loss: 0.0201 - mean_squared_error: 0.0201 - val_loss: 0.0181 - val_mean_squared_error: 0.0181\n",
            "Epoch 21/1000\n",
            "7/7 [==============================] - 0s 47ms/step - loss: 0.0198 - mean_squared_error: 0.0198 - val_loss: 0.0179 - val_mean_squared_error: 0.0179\n",
            "Epoch 22/1000\n",
            "7/7 [==============================] - 0s 47ms/step - loss: 0.0195 - mean_squared_error: 0.0195 - val_loss: 0.0176 - val_mean_squared_error: 0.0176\n",
            "Epoch 23/1000\n",
            "7/7 [==============================] - 0s 45ms/step - loss: 0.0191 - mean_squared_error: 0.0191 - val_loss: 0.0172 - val_mean_squared_error: 0.0172\n",
            "Epoch 24/1000\n",
            "7/7 [==============================] - 0s 47ms/step - loss: 0.0186 - mean_squared_error: 0.0186 - val_loss: 0.0168 - val_mean_squared_error: 0.0168\n",
            "Epoch 25/1000\n",
            "7/7 [==============================] - 0s 47ms/step - loss: 0.0181 - mean_squared_error: 0.0181 - val_loss: 0.0166 - val_mean_squared_error: 0.0166\n",
            "Epoch 26/1000\n",
            "7/7 [==============================] - 0s 6ms/step - loss: 0.0178 - mean_squared_error: 0.0178 - val_loss: 0.0166 - val_mean_squared_error: 0.0166\n",
            "Epoch 27/1000\n",
            "7/7 [==============================] - 0s 6ms/step - loss: 0.0178 - mean_squared_error: 0.0178 - val_loss: 0.0168 - val_mean_squared_error: 0.0168\n",
            "Epoch 28/1000\n",
            "7/7 [==============================] - 0s 47ms/step - loss: 0.0172 - mean_squared_error: 0.0172 - val_loss: 0.0159 - val_mean_squared_error: 0.0159\n",
            "Epoch 29/1000\n",
            "7/7 [==============================] - 0s 50ms/step - loss: 0.0166 - mean_squared_error: 0.0166 - val_loss: 0.0154 - val_mean_squared_error: 0.0154\n",
            "Epoch 30/1000\n",
            "7/7 [==============================] - 0s 46ms/step - loss: 0.0162 - mean_squared_error: 0.0162 - val_loss: 0.0152 - val_mean_squared_error: 0.0152\n",
            "Epoch 31/1000\n",
            "7/7 [==============================] - 0s 47ms/step - loss: 0.0158 - mean_squared_error: 0.0158 - val_loss: 0.0152 - val_mean_squared_error: 0.0152\n",
            "Epoch 32/1000\n",
            "7/7 [==============================] - 0s 47ms/step - loss: 0.0157 - mean_squared_error: 0.0157 - val_loss: 0.0151 - val_mean_squared_error: 0.0151\n",
            "Epoch 33/1000\n",
            "7/7 [==============================] - 0s 49ms/step - loss: 0.0152 - mean_squared_error: 0.0152 - val_loss: 0.0145 - val_mean_squared_error: 0.0145\n",
            "Epoch 34/1000\n",
            "7/7 [==============================] - 0s 47ms/step - loss: 0.0149 - mean_squared_error: 0.0149 - val_loss: 0.0142 - val_mean_squared_error: 0.0142\n",
            "Epoch 35/1000\n",
            "7/7 [==============================] - 0s 47ms/step - loss: 0.0146 - mean_squared_error: 0.0146 - val_loss: 0.0140 - val_mean_squared_error: 0.0140\n",
            "Epoch 36/1000\n",
            "7/7 [==============================] - 0s 6ms/step - loss: 0.0141 - mean_squared_error: 0.0141 - val_loss: 0.0145 - val_mean_squared_error: 0.0145\n",
            "Epoch 37/1000\n",
            "7/7 [==============================] - 0s 5ms/step - loss: 0.0140 - mean_squared_error: 0.0140 - val_loss: 0.0142 - val_mean_squared_error: 0.0142\n",
            "Epoch 38/1000\n",
            "7/7 [==============================] - 0s 6ms/step - loss: 0.0138 - mean_squared_error: 0.0138 - val_loss: 0.0150 - val_mean_squared_error: 0.0150\n",
            "Epoch 39/1000\n",
            "7/7 [==============================] - 0s 6ms/step - loss: 0.0138 - mean_squared_error: 0.0138 - val_loss: 0.0144 - val_mean_squared_error: 0.0144\n",
            "Epoch 40/1000\n",
            "7/7 [==============================] - 0s 49ms/step - loss: 0.0132 - mean_squared_error: 0.0132 - val_loss: 0.0136 - val_mean_squared_error: 0.0136\n",
            "Epoch 41/1000\n",
            "7/7 [==============================] - 0s 46ms/step - loss: 0.0128 - mean_squared_error: 0.0128 - val_loss: 0.0130 - val_mean_squared_error: 0.0130\n",
            "Epoch 42/1000\n",
            "7/7 [==============================] - 0s 48ms/step - loss: 0.0126 - mean_squared_error: 0.0126 - val_loss: 0.0129 - val_mean_squared_error: 0.0129\n",
            "Epoch 43/1000\n",
            "7/7 [==============================] - 0s 5ms/step - loss: 0.0124 - mean_squared_error: 0.0124 - val_loss: 0.0130 - val_mean_squared_error: 0.0130\n",
            "Epoch 44/1000\n",
            "7/7 [==============================] - 0s 6ms/step - loss: 0.0122 - mean_squared_error: 0.0122 - val_loss: 0.0130 - val_mean_squared_error: 0.0130\n",
            "Epoch 45/1000\n",
            "7/7 [==============================] - 0s 49ms/step - loss: 0.0120 - mean_squared_error: 0.0120 - val_loss: 0.0128 - val_mean_squared_error: 0.0128\n",
            "Epoch 46/1000\n",
            "7/7 [==============================] - 0s 47ms/step - loss: 0.0118 - mean_squared_error: 0.0118 - val_loss: 0.0126 - val_mean_squared_error: 0.0126\n",
            "Epoch 47/1000\n",
            "7/7 [==============================] - 0s 5ms/step - loss: 0.0117 - mean_squared_error: 0.0117 - val_loss: 0.0129 - val_mean_squared_error: 0.0129\n",
            "Epoch 48/1000\n",
            "7/7 [==============================] - 0s 7ms/step - loss: 0.0116 - mean_squared_error: 0.0116 - val_loss: 0.0127 - val_mean_squared_error: 0.0127\n",
            "Epoch 49/1000\n",
            "7/7 [==============================] - 0s 46ms/step - loss: 0.0114 - mean_squared_error: 0.0114 - val_loss: 0.0122 - val_mean_squared_error: 0.0122\n",
            "Epoch 50/1000\n",
            "7/7 [==============================] - 0s 47ms/step - loss: 0.0114 - mean_squared_error: 0.0114 - val_loss: 0.0121 - val_mean_squared_error: 0.0121\n",
            "Epoch 51/1000\n",
            "7/7 [==============================] - 0s 7ms/step - loss: 0.0112 - mean_squared_error: 0.0112 - val_loss: 0.0123 - val_mean_squared_error: 0.0123\n",
            "Epoch 52/1000\n",
            "7/7 [==============================] - 0s 6ms/step - loss: 0.0111 - mean_squared_error: 0.0111 - val_loss: 0.0124 - val_mean_squared_error: 0.0124\n",
            "Epoch 53/1000\n",
            "7/7 [==============================] - 0s 47ms/step - loss: 0.0110 - mean_squared_error: 0.0110 - val_loss: 0.0119 - val_mean_squared_error: 0.0119\n",
            "Epoch 54/1000\n",
            "7/7 [==============================] - 0s 53ms/step - loss: 0.0114 - mean_squared_error: 0.0114 - val_loss: 0.0118 - val_mean_squared_error: 0.0118\n",
            "Epoch 55/1000\n",
            "7/7 [==============================] - 0s 48ms/step - loss: 0.0115 - mean_squared_error: 0.0115 - val_loss: 0.0116 - val_mean_squared_error: 0.0116\n",
            "Epoch 56/1000\n",
            "7/7 [==============================] - 0s 8ms/step - loss: 0.0109 - mean_squared_error: 0.0109 - val_loss: 0.0120 - val_mean_squared_error: 0.0120\n",
            "Epoch 57/1000\n",
            "7/7 [==============================] - 0s 7ms/step - loss: 0.0107 - mean_squared_error: 0.0107 - val_loss: 0.0128 - val_mean_squared_error: 0.0128\n",
            "Epoch 58/1000\n",
            "7/7 [==============================] - 0s 6ms/step - loss: 0.0109 - mean_squared_error: 0.0109 - val_loss: 0.0130 - val_mean_squared_error: 0.0130\n",
            "Epoch 59/1000\n",
            "7/7 [==============================] - 0s 8ms/step - loss: 0.0107 - mean_squared_error: 0.0107 - val_loss: 0.0120 - val_mean_squared_error: 0.0120\n",
            "Epoch 60/1000\n",
            "7/7 [==============================] - 0s 8ms/step - loss: 0.0105 - mean_squared_error: 0.0105 - val_loss: 0.0118 - val_mean_squared_error: 0.0118\n",
            "Epoch 61/1000\n",
            "7/7 [==============================] - 0s 8ms/step - loss: 0.0105 - mean_squared_error: 0.0105 - val_loss: 0.0130 - val_mean_squared_error: 0.0130\n",
            "Epoch 62/1000\n",
            "7/7 [==============================] - 0s 7ms/step - loss: 0.0107 - mean_squared_error: 0.0107 - val_loss: 0.0133 - val_mean_squared_error: 0.0133\n",
            "Epoch 63/1000\n",
            "7/7 [==============================] - 0s 8ms/step - loss: 0.0106 - mean_squared_error: 0.0106 - val_loss: 0.0125 - val_mean_squared_error: 0.0125\n",
            "Epoch 64/1000\n",
            "7/7 [==============================] - 0s 8ms/step - loss: 0.0103 - mean_squared_error: 0.0103 - val_loss: 0.0118 - val_mean_squared_error: 0.0118\n",
            "Epoch 65/1000\n",
            "7/7 [==============================] - 0s 12ms/step - loss: 0.0104 - mean_squared_error: 0.0104 - val_loss: 0.0117 - val_mean_squared_error: 0.0117\n",
            "Epoch 66/1000\n",
            "7/7 [==============================] - 0s 9ms/step - loss: 0.0103 - mean_squared_error: 0.0103 - val_loss: 0.0117 - val_mean_squared_error: 0.0117\n",
            "Epoch 67/1000\n",
            "7/7 [==============================] - 0s 11ms/step - loss: 0.0103 - mean_squared_error: 0.0103 - val_loss: 0.0119 - val_mean_squared_error: 0.0119\n",
            "Epoch 68/1000\n",
            "7/7 [==============================] - 0s 7ms/step - loss: 0.0102 - mean_squared_error: 0.0102 - val_loss: 0.0122 - val_mean_squared_error: 0.0122\n",
            "Epoch 69/1000\n",
            "7/7 [==============================] - 0s 8ms/step - loss: 0.0102 - mean_squared_error: 0.0102 - val_loss: 0.0121 - val_mean_squared_error: 0.0121\n",
            "Epoch 70/1000\n",
            "7/7 [==============================] - 0s 13ms/step - loss: 0.0102 - mean_squared_error: 0.0102 - val_loss: 0.0126 - val_mean_squared_error: 0.0126\n",
            "Epoch 71/1000\n",
            "7/7 [==============================] - 0s 5ms/step - loss: 0.0103 - mean_squared_error: 0.0103 - val_loss: 0.0124 - val_mean_squared_error: 0.0124\n",
            "Epoch 72/1000\n",
            "7/7 [==============================] - 0s 6ms/step - loss: 0.0101 - mean_squared_error: 0.0101 - val_loss: 0.0118 - val_mean_squared_error: 0.0118\n",
            "Epoch 73/1000\n",
            "7/7 [==============================] - 0s 8ms/step - loss: 0.0101 - mean_squared_error: 0.0101 - val_loss: 0.0117 - val_mean_squared_error: 0.0117\n",
            "Epoch 74/1000\n",
            "7/7 [==============================] - 0s 10ms/step - loss: 0.0100 - mean_squared_error: 0.0100 - val_loss: 0.0117 - val_mean_squared_error: 0.0117\n",
            "Epoch 75/1000\n",
            "7/7 [==============================] - 0s 10ms/step - loss: 0.0101 - mean_squared_error: 0.0101 - val_loss: 0.0123 - val_mean_squared_error: 0.0123\n"
          ]
        },
        {
          "data": {
            "image/png": "[encoded data removed]",
            "text/plain": [
              "<Figure size 432x288 with 1 Axes>"
            ]
          },
          "metadata": {
            "needs_background": "light"
          },
          "output_type": "display_data"
        },
        {
          "name": "stdout",
          "output_type": "stream",
          "text": [
            "El error medio en la predicción es: 8.45 %\n"
          ]
        }
      ],
      "source": [
        "#Definimos el modelo óptimo\n",
        "model = built_mlp_reg(neurons=np.array([5,5]), X_train=X_train_reg)\n",
        "\n",
        "# Entrenamos\n",
        "model_trained = train_mlp(\n",
        "    model = model, \n",
        "    patience = 20, \n",
        "    batch_size = 32, \n",
        "    X_train = X_train_reg,\n",
        "    y_train = y_train_reg,\n",
        "    X_val = X_val_reg,\n",
        "    y_val = y_val_reg\n",
        "    )\n",
        "\n",
        "# Predecimos\n",
        "y_pred = model_trained.predict(X_test_reg)\n",
        "\n",
        "#Escalamos inversamente\n",
        "y_pred = scal_y_reg.inverse_transform(y_pred)\n",
        "y_real = scal_y_reg.inverse_transform(y_test_reg)\n",
        "\n",
        "#Gráfico\n",
        "import matplotlib.pyplot as plt\n",
        "\n",
        "plt.plot(range(len(y_real)), y_real, color='black', label='Real')\n",
        "plt.plot(range(len(y_pred)), y_pred, color='blue', label='Prediction')\n",
        "plt.ylim(0,120)\n",
        "plt.legend()\n",
        "plt.title('MultiLayer Perceptron neural network')\n",
        "plt.show()\n",
        "\n",
        "#Error\n",
        "cv_rmse = 100 * (np.sqrt(metrics.mean_squared_error(y_real, y_pred))/ mean_y)\n",
        "print('El error medio en la predicción es: %.2f' % cv_rmse, '%')\n"
      ]
    },
    {
      "cell_type": "markdown",
      "metadata": {
        "id": "_IAZYKuGzcHi"
      },
      "source": [
        "#### **CLASIFICACIÓN**\n"
      ]
    },
    {
      "cell_type": "code",
      "execution_count": 160,
      "metadata": {
        "colab": {
          "base_uri": "https://localhost:8080/"
        },
        "id": "8iYxxVbqqg3I",
        "outputId": "90851af1-d7ff-4892-cb3f-275c3e35fc66"
      },
      "outputs": [
        {
          "name": "stdout",
          "output_type": "stream",
          "text": [
            "[0 0 2 1 1 2 0 1 1 1 0 1 2 1 0 1 0 2 1 2 1 1 0 0 1 0 1 2 2 2 2 1 2 2 0 1 0\n",
            " 2 0 0 2 0 0 2 2 0 0 1 2 0 2 0 2 0 1 2 2 2 0 1 0 1 1 2 0 0 1 2 1 1 0 1 2 2\n",
            " 1 2 1 1 2 2 1 0 0 2]\n",
            "[2 2 1 2 0 1 1 2 0 2 2 0 0 1 1 0 1 2 2 0 2 1 2 1 2 0 1 2 1 0 1 1 0 0 1 1 2\n",
            " 2 0 0 2 0 2 1 0]\n",
            "[1 1 0 2 0 0 1 0 0 2 1 0 0 1 1 1 0 2 2 0 2]\n",
            "[[1. 0. 0.]\n",
            " [1. 0. 0.]\n",
            " [0. 0. 1.]\n",
            " [0. 1. 0.]\n",
            " [0. 1. 0.]\n",
            " [0. 0. 1.]\n",
            " [1. 0. 0.]\n",
            " [0. 1. 0.]\n",
            " [0. 1. 0.]\n",
            " [0. 1. 0.]\n",
            " [1. 0. 0.]\n",
            " [0. 1. 0.]\n",
            " [0. 0. 1.]\n",
            " [0. 1. 0.]\n",
            " [1. 0. 0.]\n",
            " [0. 1. 0.]\n",
            " [1. 0. 0.]\n",
            " [0. 0. 1.]\n",
            " [0. 1. 0.]\n",
            " [0. 0. 1.]\n",
            " [0. 1. 0.]\n",
            " [0. 1. 0.]\n",
            " [1. 0. 0.]\n",
            " [1. 0. 0.]\n",
            " [0. 1. 0.]\n",
            " [1. 0. 0.]\n",
            " [0. 1. 0.]\n",
            " [0. 0. 1.]\n",
            " [0. 0. 1.]\n",
            " [0. 0. 1.]\n",
            " [0. 0. 1.]\n",
            " [0. 1. 0.]\n",
            " [0. 0. 1.]\n",
            " [0. 0. 1.]\n",
            " [1. 0. 0.]\n",
            " [0. 1. 0.]\n",
            " [1. 0. 0.]\n",
            " [0. 0. 1.]\n",
            " [1. 0. 0.]\n",
            " [1. 0. 0.]\n",
            " [0. 0. 1.]\n",
            " [1. 0. 0.]\n",
            " [1. 0. 0.]\n",
            " [0. 0. 1.]\n",
            " [0. 0. 1.]\n",
            " [1. 0. 0.]\n",
            " [1. 0. 0.]\n",
            " [0. 1. 0.]\n",
            " [0. 0. 1.]\n",
            " [1. 0. 0.]\n",
            " [0. 0. 1.]\n",
            " [1. 0. 0.]\n",
            " [0. 0. 1.]\n",
            " [1. 0. 0.]\n",
            " [0. 1. 0.]\n",
            " [0. 0. 1.]\n",
            " [0. 0. 1.]\n",
            " [0. 0. 1.]\n",
            " [1. 0. 0.]\n",
            " [0. 1. 0.]\n",
            " [1. 0. 0.]\n",
            " [0. 1. 0.]\n",
            " [0. 1. 0.]\n",
            " [0. 0. 1.]\n",
            " [1. 0. 0.]\n",
            " [1. 0. 0.]\n",
            " [0. 1. 0.]\n",
            " [0. 0. 1.]\n",
            " [0. 1. 0.]\n",
            " [0. 1. 0.]\n",
            " [1. 0. 0.]\n",
            " [0. 1. 0.]\n",
            " [0. 0. 1.]\n",
            " [0. 0. 1.]\n",
            " [0. 1. 0.]\n",
            " [0. 0. 1.]\n",
            " [0. 1. 0.]\n",
            " [0. 1. 0.]\n",
            " [0. 0. 1.]\n",
            " [0. 0. 1.]\n",
            " [0. 1. 0.]\n",
            " [1. 0. 0.]\n",
            " [1. 0. 0.]\n",
            " [0. 0. 1.]]\n",
            "[[0. 0. 1.]\n",
            " [0. 0. 1.]\n",
            " [0. 1. 0.]\n",
            " [0. 0. 1.]\n",
            " [1. 0. 0.]\n",
            " [0. 1. 0.]\n",
            " [0. 1. 0.]\n",
            " [0. 0. 1.]\n",
            " [1. 0. 0.]\n",
            " [0. 0. 1.]\n",
            " [0. 0. 1.]\n",
            " [1. 0. 0.]\n",
            " [1. 0. 0.]\n",
            " [0. 1. 0.]\n",
            " [0. 1. 0.]\n",
            " [1. 0. 0.]\n",
            " [0. 1. 0.]\n",
            " [0. 0. 1.]\n",
            " [0. 0. 1.]\n",
            " [1. 0. 0.]\n",
            " [0. 0. 1.]\n",
            " [0. 1. 0.]\n",
            " [0. 0. 1.]\n",
            " [0. 1. 0.]\n",
            " [0. 0. 1.]\n",
            " [1. 0. 0.]\n",
            " [0. 1. 0.]\n",
            " [0. 0. 1.]\n",
            " [0. 1. 0.]\n",
            " [1. 0. 0.]\n",
            " [0. 1. 0.]\n",
            " [0. 1. 0.]\n",
            " [1. 0. 0.]\n",
            " [1. 0. 0.]\n",
            " [0. 1. 0.]\n",
            " [0. 1. 0.]\n",
            " [0. 0. 1.]\n",
            " [0. 0. 1.]\n",
            " [1. 0. 0.]\n",
            " [1. 0. 0.]\n",
            " [0. 0. 1.]\n",
            " [1. 0. 0.]\n",
            " [0. 0. 1.]\n",
            " [0. 1. 0.]\n",
            " [1. 0. 0.]]\n",
            "[[0. 1. 0.]\n",
            " [0. 1. 0.]\n",
            " [1. 0. 0.]\n",
            " [0. 0. 1.]\n",
            " [1. 0. 0.]\n",
            " [1. 0. 0.]\n",
            " [0. 1. 0.]\n",
            " [1. 0. 0.]\n",
            " [1. 0. 0.]\n",
            " [0. 0. 1.]\n",
            " [0. 1. 0.]\n",
            " [1. 0. 0.]\n",
            " [1. 0. 0.]\n",
            " [0. 1. 0.]\n",
            " [0. 1. 0.]\n",
            " [0. 1. 0.]\n",
            " [1. 0. 0.]\n",
            " [0. 0. 1.]\n",
            " [0. 0. 1.]\n",
            " [1. 0. 0.]\n",
            " [0. 0. 1.]]\n"
          ]
        }
      ],
      "source": [
        "from sklearn.model_selection import train_test_split\n",
        "from tensorflow.keras.utils import to_categorical\n",
        "from sklearn.preprocessing import LabelEncoder  # En lugar de OneHotEncoder\n",
        "\n",
        "\n",
        "#Volvemos a los datos originales con los que predecimos clases con otros algoritmos\n",
        "X_train_class, X_val_class, y_train_class, y_val_class = train_test_split(X_train_class, y_train_class, test_size = 0.2, random_state = 7)\n",
        "\n",
        "#Encode values of dependent variable\n",
        "print(y_train_class)\n",
        "print(y_test_class)\n",
        "print(y_val_class)\n",
        "\n",
        "encoder = LabelEncoder()\n",
        "encoder.fit(y)\n",
        "y_train_class = encoder.transform(y_train_class)\n",
        "y_train_class = to_categorical(y_train_class)\n",
        "y_test_class = encoder.transform(y_test_class)\n",
        "y_test_class = to_categorical(y_test_class)\n",
        "y_val_class = encoder.transform(y_val_class)\n",
        "y_val_class = to_categorical(y_val_class)\n",
        "\n",
        "print(y_train_class)\n",
        "print(y_test_class)\n",
        "print(y_val_class)"
      ]
    },
    {
      "cell_type": "code",
      "execution_count": 169,
      "metadata": {
        "id": "vhkjCqMitWzW"
      },
      "outputs": [
        {
          "name": "stdout",
          "output_type": "stream",
          "text": [
            "Model: \"sequential_16\"\n",
            "_________________________________________________________________\n",
            " Layer (type)                Output Shape              Param #   \n",
            "=================================================================\n",
            " dense_81 (Dense)            (None, 4)                 20        \n",
            "                                                                 \n",
            " dense_82 (Dense)            (None, 30)                150       \n",
            "                                                                 \n",
            " dense_83 (Dense)            (None, 3)                 93        \n",
            "                                                                 \n",
            "=================================================================\n",
            "Total params: 263\n",
            "Trainable params: 263\n",
            "Non-trainable params: 0\n",
            "_________________________________________________________________\n",
            "Epoch 1/1000\n",
            "2/2 [==============================] - 1s 408ms/step - loss: 1.1150 - categorical_accuracy: 0.3095 - val_loss: 1.1100 - val_categorical_accuracy: 0.2857\n",
            "Epoch 2/1000\n",
            "2/2 [==============================] - 0s 48ms/step - loss: 1.1087 - categorical_accuracy: 0.3095 - val_loss: 1.1050 - val_categorical_accuracy: 0.2857\n",
            "Epoch 3/1000\n",
            "2/2 [==============================] - 0s 277ms/step - loss: 1.1024 - categorical_accuracy: 0.3214 - val_loss: 1.0997 - val_categorical_accuracy: 0.3333\n",
            "Epoch 4/1000\n",
            "2/2 [==============================] - 0s 275ms/step - loss: 1.0964 - categorical_accuracy: 0.4524 - val_loss: 1.0945 - val_categorical_accuracy: 0.5714\n",
            "Epoch 5/1000\n",
            "2/2 [==============================] - 0s 28ms/step - loss: 1.0903 - categorical_accuracy: 0.6429 - val_loss: 1.0894 - val_categorical_accuracy: 0.5714\n",
            "Epoch 6/1000\n",
            "2/2 [==============================] - 0s 29ms/step - loss: 1.0844 - categorical_accuracy: 0.6667 - val_loss: 1.0844 - val_categorical_accuracy: 0.5714\n",
            "Epoch 7/1000\n",
            "2/2 [==============================] - 0s 35ms/step - loss: 1.0785 - categorical_accuracy: 0.6667 - val_loss: 1.0794 - val_categorical_accuracy: 0.5714\n",
            "Epoch 8/1000\n",
            "2/2 [==============================] - 0s 35ms/step - loss: 1.0727 - categorical_accuracy: 0.6667 - val_loss: 1.0744 - val_categorical_accuracy: 0.5714\n",
            "Epoch 9/1000\n",
            "2/2 [==============================] - 0s 47ms/step - loss: 1.0669 - categorical_accuracy: 0.6667 - val_loss: 1.0696 - val_categorical_accuracy: 0.5714\n",
            "Epoch 10/1000\n",
            "2/2 [==============================] - 0s 308ms/step - loss: 1.0611 - categorical_accuracy: 0.6667 - val_loss: 1.0648 - val_categorical_accuracy: 0.6190\n",
            "Epoch 11/1000\n",
            "2/2 [==============================] - 0s 32ms/step - loss: 1.0555 - categorical_accuracy: 0.6667 - val_loss: 1.0599 - val_categorical_accuracy: 0.6190\n",
            "Epoch 12/1000\n",
            "2/2 [==============================] - 0s 275ms/step - loss: 1.0498 - categorical_accuracy: 0.6667 - val_loss: 1.0549 - val_categorical_accuracy: 0.6667\n",
            "Epoch 13/1000\n",
            "2/2 [==============================] - 0s 37ms/step - loss: 1.0441 - categorical_accuracy: 0.6667 - val_loss: 1.0498 - val_categorical_accuracy: 0.6667\n",
            "Epoch 14/1000\n",
            "2/2 [==============================] - 0s 52ms/step - loss: 1.0384 - categorical_accuracy: 0.6667 - val_loss: 1.0447 - val_categorical_accuracy: 0.6667\n",
            "Epoch 15/1000\n",
            "2/2 [==============================] - 0s 53ms/step - loss: 1.0328 - categorical_accuracy: 0.6667 - val_loss: 1.0396 - val_categorical_accuracy: 0.6667\n",
            "Epoch 16/1000\n",
            "2/2 [==============================] - 0s 27ms/step - loss: 1.0272 - categorical_accuracy: 0.6667 - val_loss: 1.0346 - val_categorical_accuracy: 0.6667\n",
            "Epoch 17/1000\n",
            "2/2 [==============================] - 0s 59ms/step - loss: 1.0216 - categorical_accuracy: 0.6667 - val_loss: 1.0296 - val_categorical_accuracy: 0.6667\n",
            "Epoch 18/1000\n",
            "2/2 [==============================] - 0s 39ms/step - loss: 1.0159 - categorical_accuracy: 0.6667 - val_loss: 1.0244 - val_categorical_accuracy: 0.6667\n",
            "Epoch 19/1000\n",
            "2/2 [==============================] - 0s 40ms/step - loss: 1.0101 - categorical_accuracy: 0.6667 - val_loss: 1.0191 - val_categorical_accuracy: 0.6667\n",
            "Epoch 20/1000\n",
            "2/2 [==============================] - 0s 39ms/step - loss: 1.0044 - categorical_accuracy: 0.6667 - val_loss: 1.0138 - val_categorical_accuracy: 0.6667\n",
            "Epoch 21/1000\n",
            "2/2 [==============================] - 0s 38ms/step - loss: 0.9985 - categorical_accuracy: 0.6667 - val_loss: 1.0080 - val_categorical_accuracy: 0.6667\n",
            "Epoch 22/1000\n",
            "2/2 [==============================] - 0s 43ms/step - loss: 0.9926 - categorical_accuracy: 0.6667 - val_loss: 1.0020 - val_categorical_accuracy: 0.6667\n",
            "Epoch 23/1000\n",
            "2/2 [==============================] - 0s 46ms/step - loss: 0.9865 - categorical_accuracy: 0.6667 - val_loss: 0.9957 - val_categorical_accuracy: 0.6667\n",
            "Epoch 24/1000\n",
            "2/2 [==============================] - 0s 36ms/step - loss: 0.9804 - categorical_accuracy: 0.6667 - val_loss: 0.9895 - val_categorical_accuracy: 0.6667\n",
            "Epoch 25/1000\n",
            "2/2 [==============================] - 0s 37ms/step - loss: 0.9739 - categorical_accuracy: 0.6667 - val_loss: 0.9829 - val_categorical_accuracy: 0.6667\n",
            "Epoch 26/1000\n",
            "2/2 [==============================] - 0s 45ms/step - loss: 0.9673 - categorical_accuracy: 0.6667 - val_loss: 0.9758 - val_categorical_accuracy: 0.6667\n",
            "Epoch 27/1000\n",
            "2/2 [==============================] - 0s 39ms/step - loss: 0.9606 - categorical_accuracy: 0.6667 - val_loss: 0.9688 - val_categorical_accuracy: 0.6667\n",
            "Epoch 28/1000\n",
            "2/2 [==============================] - 0s 32ms/step - loss: 0.9537 - categorical_accuracy: 0.6667 - val_loss: 0.9618 - val_categorical_accuracy: 0.6667\n",
            "Epoch 29/1000\n",
            "2/2 [==============================] - 0s 34ms/step - loss: 0.9468 - categorical_accuracy: 0.6667 - val_loss: 0.9550 - val_categorical_accuracy: 0.6667\n",
            "Epoch 30/1000\n",
            "2/2 [==============================] - 0s 31ms/step - loss: 0.9401 - categorical_accuracy: 0.6667 - val_loss: 0.9480 - val_categorical_accuracy: 0.6667\n",
            "Epoch 31/1000\n",
            "2/2 [==============================] - 0s 41ms/step - loss: 0.9335 - categorical_accuracy: 0.6667 - val_loss: 0.9409 - val_categorical_accuracy: 0.6667\n",
            "Epoch 32/1000\n",
            "2/2 [==============================] - 0s 276ms/step - loss: 0.9271 - categorical_accuracy: 0.6667 - val_loss: 0.9338 - val_categorical_accuracy: 0.7143\n",
            "Epoch 33/1000\n",
            "2/2 [==============================] - 0s 27ms/step - loss: 0.9203 - categorical_accuracy: 0.6667 - val_loss: 0.9265 - val_categorical_accuracy: 0.7143\n",
            "Epoch 34/1000\n",
            "2/2 [==============================] - 0s 36ms/step - loss: 0.9138 - categorical_accuracy: 0.6667 - val_loss: 0.9193 - val_categorical_accuracy: 0.7143\n",
            "Epoch 35/1000\n",
            "2/2 [==============================] - 0s 53ms/step - loss: 0.9071 - categorical_accuracy: 0.6786 - val_loss: 0.9120 - val_categorical_accuracy: 0.7143\n",
            "Epoch 36/1000\n",
            "2/2 [==============================] - 0s 33ms/step - loss: 0.9003 - categorical_accuracy: 0.6786 - val_loss: 0.9045 - val_categorical_accuracy: 0.7143\n",
            "Epoch 37/1000\n",
            "2/2 [==============================] - 0s 42ms/step - loss: 0.8934 - categorical_accuracy: 0.6786 - val_loss: 0.8969 - val_categorical_accuracy: 0.7143\n",
            "Epoch 38/1000\n",
            "2/2 [==============================] - 0s 52ms/step - loss: 0.8865 - categorical_accuracy: 0.6786 - val_loss: 0.8889 - val_categorical_accuracy: 0.7143\n",
            "Epoch 39/1000\n",
            "2/2 [==============================] - 0s 41ms/step - loss: 0.8796 - categorical_accuracy: 0.6786 - val_loss: 0.8810 - val_categorical_accuracy: 0.7143\n",
            "Epoch 40/1000\n",
            "2/2 [==============================] - 0s 51ms/step - loss: 0.8725 - categorical_accuracy: 0.6786 - val_loss: 0.8733 - val_categorical_accuracy: 0.7143\n",
            "Epoch 41/1000\n",
            "2/2 [==============================] - 0s 41ms/step - loss: 0.8651 - categorical_accuracy: 0.6905 - val_loss: 0.8651 - val_categorical_accuracy: 0.7143\n",
            "Epoch 42/1000\n",
            "2/2 [==============================] - 0s 275ms/step - loss: 0.8580 - categorical_accuracy: 0.7024 - val_loss: 0.8568 - val_categorical_accuracy: 0.7619\n",
            "Epoch 43/1000\n",
            "2/2 [==============================] - 0s 26ms/step - loss: 0.8505 - categorical_accuracy: 0.7024 - val_loss: 0.8484 - val_categorical_accuracy: 0.7619\n",
            "Epoch 44/1000\n",
            "2/2 [==============================] - 0s 33ms/step - loss: 0.8431 - categorical_accuracy: 0.7024 - val_loss: 0.8399 - val_categorical_accuracy: 0.7619\n",
            "Epoch 45/1000\n",
            "2/2 [==============================] - 0s 25ms/step - loss: 0.8356 - categorical_accuracy: 0.7024 - val_loss: 0.8316 - val_categorical_accuracy: 0.7143\n",
            "Epoch 46/1000\n",
            "2/2 [==============================] - 0s 35ms/step - loss: 0.8281 - categorical_accuracy: 0.7024 - val_loss: 0.8236 - val_categorical_accuracy: 0.7143\n",
            "Epoch 47/1000\n",
            "2/2 [==============================] - 0s 30ms/step - loss: 0.8205 - categorical_accuracy: 0.6786 - val_loss: 0.8157 - val_categorical_accuracy: 0.7143\n",
            "Epoch 48/1000\n",
            "2/2 [==============================] - 0s 35ms/step - loss: 0.8131 - categorical_accuracy: 0.6786 - val_loss: 0.8079 - val_categorical_accuracy: 0.7143\n",
            "Epoch 49/1000\n",
            "2/2 [==============================] - 0s 27ms/step - loss: 0.8055 - categorical_accuracy: 0.6786 - val_loss: 0.7999 - val_categorical_accuracy: 0.6667\n",
            "Epoch 50/1000\n",
            "2/2 [==============================] - 0s 32ms/step - loss: 0.7977 - categorical_accuracy: 0.6786 - val_loss: 0.7919 - val_categorical_accuracy: 0.6667\n",
            "Epoch 51/1000\n",
            "2/2 [==============================] - 0s 30ms/step - loss: 0.7904 - categorical_accuracy: 0.6786 - val_loss: 0.7833 - val_categorical_accuracy: 0.7143\n",
            "Epoch 52/1000\n",
            "2/2 [==============================] - 0s 27ms/step - loss: 0.7827 - categorical_accuracy: 0.6786 - val_loss: 0.7745 - val_categorical_accuracy: 0.7143\n",
            "Epoch 53/1000\n",
            "2/2 [==============================] - 0s 29ms/step - loss: 0.7752 - categorical_accuracy: 0.6786 - val_loss: 0.7657 - val_categorical_accuracy: 0.7143\n",
            "Epoch 54/1000\n",
            "2/2 [==============================] - 0s 26ms/step - loss: 0.7671 - categorical_accuracy: 0.6786 - val_loss: 0.7570 - val_categorical_accuracy: 0.7143\n",
            "Epoch 55/1000\n",
            "2/2 [==============================] - 0s 35ms/step - loss: 0.7594 - categorical_accuracy: 0.7024 - val_loss: 0.7483 - val_categorical_accuracy: 0.7619\n",
            "Epoch 56/1000\n",
            "2/2 [==============================] - 0s 34ms/step - loss: 0.7518 - categorical_accuracy: 0.7024 - val_loss: 0.7392 - val_categorical_accuracy: 0.7619\n",
            "Epoch 57/1000\n",
            "2/2 [==============================] - 0s 27ms/step - loss: 0.7439 - categorical_accuracy: 0.7143 - val_loss: 0.7303 - val_categorical_accuracy: 0.7619\n",
            "Epoch 58/1000\n",
            "2/2 [==============================] - 0s 29ms/step - loss: 0.7361 - categorical_accuracy: 0.7381 - val_loss: 0.7217 - val_categorical_accuracy: 0.7619\n",
            "Epoch 59/1000\n",
            "2/2 [==============================] - 0s 27ms/step - loss: 0.7284 - categorical_accuracy: 0.7500 - val_loss: 0.7134 - val_categorical_accuracy: 0.7619\n",
            "Epoch 60/1000\n",
            "2/2 [==============================] - 0s 27ms/step - loss: 0.7210 - categorical_accuracy: 0.7500 - val_loss: 0.7051 - val_categorical_accuracy: 0.7619\n",
            "Epoch 61/1000\n",
            "2/2 [==============================] - 0s 27ms/step - loss: 0.7137 - categorical_accuracy: 0.7500 - val_loss: 0.6972 - val_categorical_accuracy: 0.7619\n",
            "Epoch 62/1000\n",
            "2/2 [==============================] - 0s 29ms/step - loss: 0.7065 - categorical_accuracy: 0.7500 - val_loss: 0.6895 - val_categorical_accuracy: 0.7619\n",
            "Epoch 63/1000\n",
            "2/2 [==============================] - 0s 25ms/step - loss: 0.6998 - categorical_accuracy: 0.7500 - val_loss: 0.6820 - val_categorical_accuracy: 0.7619\n",
            "Epoch 64/1000\n",
            "2/2 [==============================] - 0s 37ms/step - loss: 0.6927 - categorical_accuracy: 0.7500 - val_loss: 0.6743 - val_categorical_accuracy: 0.7619\n",
            "Epoch 65/1000\n",
            "2/2 [==============================] - 0s 28ms/step - loss: 0.6859 - categorical_accuracy: 0.7500 - val_loss: 0.6668 - val_categorical_accuracy: 0.7619\n",
            "Epoch 66/1000\n",
            "2/2 [==============================] - 0s 269ms/step - loss: 0.6791 - categorical_accuracy: 0.7500 - val_loss: 0.6593 - val_categorical_accuracy: 0.8095\n",
            "Epoch 67/1000\n",
            "2/2 [==============================] - 0s 25ms/step - loss: 0.6724 - categorical_accuracy: 0.7619 - val_loss: 0.6520 - val_categorical_accuracy: 0.8095\n",
            "Epoch 68/1000\n",
            "2/2 [==============================] - 0s 33ms/step - loss: 0.6658 - categorical_accuracy: 0.7738 - val_loss: 0.6446 - val_categorical_accuracy: 0.8095\n",
            "Epoch 69/1000\n",
            "2/2 [==============================] - 0s 24ms/step - loss: 0.6593 - categorical_accuracy: 0.7857 - val_loss: 0.6374 - val_categorical_accuracy: 0.8095\n",
            "Epoch 70/1000\n",
            "2/2 [==============================] - 0s 27ms/step - loss: 0.6528 - categorical_accuracy: 0.7976 - val_loss: 0.6303 - val_categorical_accuracy: 0.8095\n",
            "Epoch 71/1000\n",
            "2/2 [==============================] - 0s 28ms/step - loss: 0.6464 - categorical_accuracy: 0.8095 - val_loss: 0.6233 - val_categorical_accuracy: 0.8095\n",
            "Epoch 72/1000\n",
            "2/2 [==============================] - 0s 29ms/step - loss: 0.6401 - categorical_accuracy: 0.8095 - val_loss: 0.6166 - val_categorical_accuracy: 0.8095\n",
            "Epoch 73/1000\n",
            "2/2 [==============================] - 0s 33ms/step - loss: 0.6340 - categorical_accuracy: 0.8095 - val_loss: 0.6101 - val_categorical_accuracy: 0.8095\n",
            "Epoch 74/1000\n",
            "2/2 [==============================] - 0s 27ms/step - loss: 0.6277 - categorical_accuracy: 0.7976 - val_loss: 0.6038 - val_categorical_accuracy: 0.8095\n",
            "Epoch 75/1000\n",
            "2/2 [==============================] - 0s 27ms/step - loss: 0.6217 - categorical_accuracy: 0.7976 - val_loss: 0.5977 - val_categorical_accuracy: 0.8095\n",
            "Epoch 76/1000\n",
            "2/2 [==============================] - 0s 34ms/step - loss: 0.6160 - categorical_accuracy: 0.7976 - val_loss: 0.5918 - val_categorical_accuracy: 0.8095\n",
            "Epoch 77/1000\n",
            "2/2 [==============================] - 0s 33ms/step - loss: 0.6102 - categorical_accuracy: 0.7738 - val_loss: 0.5859 - val_categorical_accuracy: 0.8095\n",
            "Epoch 78/1000\n",
            "2/2 [==============================] - 0s 25ms/step - loss: 0.6046 - categorical_accuracy: 0.7738 - val_loss: 0.5800 - val_categorical_accuracy: 0.8095\n",
            "Epoch 79/1000\n",
            "2/2 [==============================] - 0s 33ms/step - loss: 0.5990 - categorical_accuracy: 0.7857 - val_loss: 0.5744 - val_categorical_accuracy: 0.8095\n",
            "Epoch 80/1000\n",
            "2/2 [==============================] - 0s 24ms/step - loss: 0.5938 - categorical_accuracy: 0.7500 - val_loss: 0.5688 - val_categorical_accuracy: 0.8095\n",
            "Epoch 81/1000\n",
            "2/2 [==============================] - 0s 34ms/step - loss: 0.5885 - categorical_accuracy: 0.7500 - val_loss: 0.5630 - val_categorical_accuracy: 0.8095\n",
            "Epoch 82/1000\n",
            "2/2 [==============================] - 0s 24ms/step - loss: 0.5833 - categorical_accuracy: 0.7619 - val_loss: 0.5575 - val_categorical_accuracy: 0.8095\n",
            "Epoch 83/1000\n",
            "2/2 [==============================] - 0s 38ms/step - loss: 0.5782 - categorical_accuracy: 0.7619 - val_loss: 0.5520 - val_categorical_accuracy: 0.8095\n",
            "Epoch 84/1000\n",
            "2/2 [==============================] - 0s 25ms/step - loss: 0.5732 - categorical_accuracy: 0.7857 - val_loss: 0.5467 - val_categorical_accuracy: 0.8095\n",
            "Epoch 85/1000\n",
            "2/2 [==============================] - 0s 35ms/step - loss: 0.5685 - categorical_accuracy: 0.7857 - val_loss: 0.5415 - val_categorical_accuracy: 0.8095\n",
            "Epoch 86/1000\n",
            "2/2 [==============================] - 0s 28ms/step - loss: 0.5637 - categorical_accuracy: 0.7857 - val_loss: 0.5364 - val_categorical_accuracy: 0.8095\n",
            "Epoch 87/1000\n",
            "2/2 [==============================] - 0s 26ms/step - loss: 0.5590 - categorical_accuracy: 0.7857 - val_loss: 0.5314 - val_categorical_accuracy: 0.8095\n",
            "Epoch 88/1000\n",
            "2/2 [==============================] - 0s 44ms/step - loss: 0.5545 - categorical_accuracy: 0.7857 - val_loss: 0.5266 - val_categorical_accuracy: 0.8095\n",
            "Epoch 89/1000\n",
            "2/2 [==============================] - 0s 27ms/step - loss: 0.5501 - categorical_accuracy: 0.7857 - val_loss: 0.5222 - val_categorical_accuracy: 0.8095\n",
            "Epoch 90/1000\n",
            "2/2 [==============================] - 0s 32ms/step - loss: 0.5457 - categorical_accuracy: 0.7857 - val_loss: 0.5182 - val_categorical_accuracy: 0.8095\n",
            "Epoch 91/1000\n",
            "2/2 [==============================] - 0s 48ms/step - loss: 0.5416 - categorical_accuracy: 0.7619 - val_loss: 0.5144 - val_categorical_accuracy: 0.8095\n",
            "Epoch 92/1000\n",
            "2/2 [==============================] - 0s 29ms/step - loss: 0.5378 - categorical_accuracy: 0.7619 - val_loss: 0.5106 - val_categorical_accuracy: 0.8095\n",
            "Epoch 93/1000\n",
            "2/2 [==============================] - 0s 29ms/step - loss: 0.5339 - categorical_accuracy: 0.7500 - val_loss: 0.5064 - val_categorical_accuracy: 0.8095\n",
            "Epoch 94/1000\n",
            "2/2 [==============================] - 0s 33ms/step - loss: 0.5300 - categorical_accuracy: 0.7619 - val_loss: 0.5020 - val_categorical_accuracy: 0.8095\n",
            "Epoch 95/1000\n",
            "2/2 [==============================] - 0s 28ms/step - loss: 0.5260 - categorical_accuracy: 0.7619 - val_loss: 0.4975 - val_categorical_accuracy: 0.8095\n",
            "Epoch 96/1000\n",
            "2/2 [==============================] - 0s 23ms/step - loss: 0.5221 - categorical_accuracy: 0.7857 - val_loss: 0.4930 - val_categorical_accuracy: 0.8095\n"
          ]
        },
        {
          "data": {
            "image/png": "[encoded data removed]",
            "text/plain": [
              "<Figure size 432x288 with 1 Axes>"
            ]
          },
          "metadata": {
            "needs_background": "light"
          },
          "output_type": "display_data"
        },
        {
          "name": "stdout",
          "output_type": "stream",
          "text": [
            "La precisión es de: 0.80 %\n"
          ]
        }
      ],
      "source": [
        "#Definimos el modelo óptimo y evaluamos en X_test\n",
        "model = built_mlp_class([30], X_train_class, n_labels=3)\n",
        "\n",
        "# Entreno\n",
        "model_trained = train_mlp_class(\n",
        "    model,\n",
        "    patience = 30,\n",
        "    batch_size = 64,\n",
        "    X_train = X_train_class,\n",
        "    y_train = y_train_class,\n",
        "    X_val = X_val_class,\n",
        "    y_val = y_val_class\n",
        ")\n",
        "\n",
        "# Predigo\n",
        "y_pred = model.predict(X_test_class)\n",
        "\n",
        "# Convertimos en 1 dimension\n",
        "y_pred = np.argmax(y_pred, axis=1)\n",
        "y_real = np.argmax(y_test_class, axis=1)\n",
        "\n",
        "# Gráfico\n",
        "plt.scatter(range(len(y_real)), y_real, color='blue', label='Real')\n",
        "plt.scatter(range(len(y_pred)), y_pred, color='red', label='Prediction',s=25)\n",
        "plt.ylim(-1,4)\n",
        "plt.legend()\n",
        "plt.title('MultiLayer Perceptron neural network')\n",
        "plt.show()\n",
        "\n",
        "# Precisión\n",
        "from sklearn.metrics import accuracy_score\n",
        "accuracy = accuracy_score(y_real, y_pred)\n",
        "print('La precisión es de: %.2f' % accuracy, '%')\n"
      ]
    },
    {
      "cell_type": "markdown",
      "metadata": {},
      "source": [
        "##### Esquema optimización mlp\n",
        "\n",
        "1. Training\n",
        "2. Validation 1\n",
        "3. Validation 2\n",
        "4. Test\n"
      ]
    },
    {
      "cell_type": "markdown",
      "metadata": {
        "id": "ZoMfjsXO7Ibw"
      },
      "source": [
        "## **1. PUESTA EN MARCHA**\n",
        "\n",
        "---"
      ]
    },
    {
      "cell_type": "markdown",
      "metadata": {
        "id": "nn0pkuiF7Lyv"
      },
      "source": [
        "### **DESCARGA E INSTALACIÓN DE UNA *IDE* DE PYTHON**\n",
        "---\n",
        "\n",
        "\n",
        "1.   Descarga e instalación de Python (última versión o una conocida que no de problemas de incompatibilidades). \n",
        "\n",
        "  Ejemplo: *Windows installer (64-bit)* [Descarga](https://www.python.org/downloads/)\n",
        "\n",
        "2.   Descarga e instalación de la IDE (PyCharm, Spider, Visual Studio, Anaconda, etc). \n",
        "  \n",
        "  Ejemplo: *PyCharm Community* [Descarga](https://www.jetbrains.com/es-es/pycharm/download/#section=windows\n",
        ")\n",
        "\n",
        "\n",
        "<center><img src='https://drive.google.com/uc?id=1Tpj18FCTzQao1LJ2ER5WYKoTS5vBX7MW' width=200px></center>\n"
      ]
    },
    {
      "cell_type": "markdown",
      "metadata": {
        "id": "GRNmprX07wU8"
      },
      "source": [
        "### **CONFIGURACIÓN DE UN ENTORNO VIRTUAL**\n",
        "---\n",
        "\n",
        "\n",
        "1.   Abrir PyCharm Community\n",
        "2.   Crear un proyecto (donde trabajaremos) y un entorno virtual (donde estarían las librerías necesarias)\n",
        "\n",
        "  *   Cuadro *Create Proyect*: elegimos localización del proyecto, localización del entorno vitual (*Virtualenv*), y python (versión instalada) como *Base Interpreter*\n",
        "  *   *File* - *New Project*. Nombre y localización. Seleccionar python con la versión instalada como *Base interpreter*\n",
        "\n",
        "  <center><img src='https://drive.google.com/uc?id=1R606HsM2l7wLQe_9HgotVBRr-is26C6H' width=500px></center>\n",
        "\n",
        "  \n",
        "\n",
        "\n",
        "3. Conexión con Python. *File* - *Settings* - *Project* - *Python Interpreter* - *Python 3.9*\n",
        "\n",
        "  <center><img src='https://drive.google.com/uc?id=1IfpJMBPbOW430_J9DlzgvqYynLhXV-K2' width=500px></center>\n",
        "\n",
        "  *   Si no aparece en la lista: *Add Python Interpreter* en la tuerca a la derecha de la ventana de *Python Interpreter*.\n",
        "  *   Dentro de la opción *Virtual Environment*: selección de la versión de Python instalada y la localización de este entorno virtual.\n",
        "\n",
        "4. Creación de un nuevo script o apertura de algún script ya hecho.\n",
        "\n",
        "\n",
        "\n",
        "\n",
        "\n",
        "\n",
        "\n"
      ]
    },
    {
      "cell_type": "markdown",
      "metadata": {
        "id": "KuJqkV7S7z1V"
      },
      "source": [
        "### **INSTALACIÓN DE LA LIBRERÍAS NECESARÍAS**\n",
        "---\n",
        "Las liibrerías básicas para desarrollar machine learning son las siguientes:\n",
        "\n",
        "\n",
        "\n",
        "*    [Numpy](https://numpy.org/) (version 1.21.3)\n",
        "*   [Pandas](https://pandas.pydata.org/) (version 1.3.4)\n",
        "*   [Matplotlib](https://matplotlib.org/) (version 3.5.0rc1)\n",
        "*   [Scikit-learn](https://scikit-learn.org/stable/) (version 1.0)\n",
        "*   [Tensorflow](https://www.tensorflow.org/learn?hl=es-419) (version 2.7.0rc0)\n",
        "*   [Keras](https://keras.io/) (version 2.6.0)\n",
        "\n"
      ]
    },
    {
      "cell_type": "markdown",
      "metadata": {
        "id": "RMTG2OHlZpwj"
      },
      "source": [
        "Instalación en *PyCharm*: *File* - *Settings* - *Python Interpreter* - *(+)*"
      ]
    }
  ],
  "metadata": {
    "colab": {
      "collapsed_sections": [],
      "name": "Python_avanzado(Tercer_día)_clase.ipynb",
      "provenance": []
    },
    "kernelspec": {
      "display_name": "Python 3",
      "name": "python3"
    },
    "language_info": {
      "codemirror_mode": {
        "name": "ipython",
        "version": 3
      },
      "file_extension": ".py",
      "mimetype": "text/x-python",
      "name": "python",
      "nbconvert_exporter": "python",
      "pygments_lexer": "ipython3",
      "version": "3.9.7"
    }
  },
  "nbformat": 4,
  "nbformat_minor": 0
}
